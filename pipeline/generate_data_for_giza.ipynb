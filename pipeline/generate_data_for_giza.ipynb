{
 "cells": [
  {
   "cell_type": "code",
   "execution_count": 20,
   "metadata": {},
   "outputs": [],
   "source": [
    "import pandas as pd\n",
    "import re\n",
    "from tqdm.notebook import tqdm as tq"
   ]
  },
  {
   "cell_type": "code",
   "execution_count": 21,
   "metadata": {},
   "outputs": [],
   "source": [
    "import sys\n",
    "sys.path.append('../')\n",
    "from util import util"
   ]
  },
  {
   "cell_type": "code",
   "execution_count": 22,
   "metadata": {},
   "outputs": [
    {
     "name": "stdout",
     "output_type": "stream",
     "text": [
      "CPU times: user 8.03 s, sys: 129 ms, total: 8.16 s\n",
      "Wall time: 8.19 s\n"
     ]
    },
    {
     "data": {
      "text/html": [
       "<div>\n",
       "<style scoped>\n",
       "    .dataframe tbody tr th:only-of-type {\n",
       "        vertical-align: middle;\n",
       "    }\n",
       "\n",
       "    .dataframe tbody tr th {\n",
       "        vertical-align: top;\n",
       "    }\n",
       "\n",
       "    .dataframe thead th {\n",
       "        text-align: right;\n",
       "    }\n",
       "</style>\n",
       "<table border=\"1\" class=\"dataframe\">\n",
       "  <thead>\n",
       "    <tr style=\"text-align: right;\">\n",
       "      <th></th>\n",
       "      <th>name</th>\n",
       "      <th>titles</th>\n",
       "      <th>en</th>\n",
       "      <th>de</th>\n",
       "    </tr>\n",
       "  </thead>\n",
       "  <tbody>\n",
       "    <tr>\n",
       "      <th>0</th>\n",
       "      <td>EP03703859NWB1.xml</td>\n",
       "      <td>de\\tMODULARER LEISTUNGSWANDLER MIT FLÜSSIGGEKÜ...</td>\n",
       "      <td>A modular power converter comprising : a therm...</td>\n",
       "      <td>Modularer_Leistungswandler , der Folgendes umf...</td>\n",
       "    </tr>\n",
       "    <tr>\n",
       "      <th>1</th>\n",
       "      <td>EP03703859NWB1.xml</td>\n",
       "      <td>de\\tMODULARER LEISTUNGSWANDLER MIT FLÜSSIGGEKÜ...</td>\n",
       "      <td>The modular_power_converter of claim NUM , whe...</td>\n",
       "      <td>Modularer_Leistungswandler nach Anspruch NUM ,...</td>\n",
       "    </tr>\n",
       "    <tr>\n",
       "      <th>2</th>\n",
       "      <td>EP03703859NWB1.xml</td>\n",
       "      <td>de\\tMODULARER LEISTUNGSWANDLER MIT FLÜSSIGGEKÜ...</td>\n",
       "      <td>The modular_power_converter of claim NUM , whe...</td>\n",
       "      <td>Modularer_Leistungswandler nach Anspruch NUM ,...</td>\n",
       "    </tr>\n",
       "    <tr>\n",
       "      <th>3</th>\n",
       "      <td>EP03703859NWB1.xml</td>\n",
       "      <td>de\\tMODULARER LEISTUNGSWANDLER MIT FLÜSSIGGEKÜ...</td>\n",
       "      <td>The modular_power_converter of claim NUM , whe...</td>\n",
       "      <td>Modularer_Leistungswandler nach Anspruch NUM ,...</td>\n",
       "    </tr>\n",
       "    <tr>\n",
       "      <th>4</th>\n",
       "      <td>EP03703859NWB1.xml</td>\n",
       "      <td>de\\tMODULARER LEISTUNGSWANDLER MIT FLÜSSIGGEKÜ...</td>\n",
       "      <td>The modular_power_converter of claim NUM , whe...</td>\n",
       "      <td>Modularer_Leistungswandler nach Anspruch NUM ,...</td>\n",
       "    </tr>\n",
       "    <tr>\n",
       "      <th>...</th>\n",
       "      <td>...</td>\n",
       "      <td>...</td>\n",
       "      <td>...</td>\n",
       "      <td>...</td>\n",
       "    </tr>\n",
       "    <tr>\n",
       "      <th>365019</th>\n",
       "      <td>EP15713208NWB1.xml</td>\n",
       "      <td>de\\tVERFAHREN UND SYSTEME ZUM BESCHLEUNIGTEN H...</td>\n",
       "      <td>A motor vehicle NUM such that it comprises at ...</td>\n",
       "      <td>Kraftfahrzeug , das mindestens einen Computer ...</td>\n",
       "    </tr>\n",
       "    <tr>\n",
       "      <th>365020</th>\n",
       "      <td>EP15713208NWB1.xml</td>\n",
       "      <td>de\\tVERFAHREN UND SYSTEME ZUM BESCHLEUNIGTEN H...</td>\n",
       "      <td>A system for the downloading of data comprisin...</td>\n",
       "      <td>System zum Herunterladen von Daten , das ein H...</td>\n",
       "    </tr>\n",
       "    <tr>\n",
       "      <th>365021</th>\n",
       "      <td>EP16181157NWB1.xml</td>\n",
       "      <td>de\\tFAHRZEUG\\ten\\tVEHICLE\\tfr\\tVÉHICULE\\t</td>\n",
       "      <td>A vehicle NUM comprising a power_reception_dev...</td>\n",
       "      <td>Fahrzeug NUM mit einem Leistungsempfangsgerät ...</td>\n",
       "    </tr>\n",
       "    <tr>\n",
       "      <th>365022</th>\n",
       "      <td>EP16181157NWB1.xml</td>\n",
       "      <td>de\\tFAHRZEUG\\ten\\tVEHICLE\\tfr\\tVÉHICULE\\t</td>\n",
       "      <td>The vehicle NUM according to any one of claims...</td>\n",
       "      <td>Fahrzeug NUM nach einem der Ansprüche NUM bis ...</td>\n",
       "    </tr>\n",
       "    <tr>\n",
       "      <th>365023</th>\n",
       "      <td>EP17000010NWB1.xml</td>\n",
       "      <td>de\\tSTREULICHTBLENDE EINES BILDERFASSUNGSGERÄT...</td>\n",
       "      <td>Lens hood NUM of an image_recording_device arr...</td>\n",
       "      <td>Streulichtblende NUM eines auf der Rückseite e...</td>\n",
       "    </tr>\n",
       "  </tbody>\n",
       "</table>\n",
       "<p>365024 rows × 4 columns</p>\n",
       "</div>"
      ],
      "text/plain": [
       "                      name                                             titles  \\\n",
       "0       EP03703859NWB1.xml  de\\tMODULARER LEISTUNGSWANDLER MIT FLÜSSIGGEKÜ...   \n",
       "1       EP03703859NWB1.xml  de\\tMODULARER LEISTUNGSWANDLER MIT FLÜSSIGGEKÜ...   \n",
       "2       EP03703859NWB1.xml  de\\tMODULARER LEISTUNGSWANDLER MIT FLÜSSIGGEKÜ...   \n",
       "3       EP03703859NWB1.xml  de\\tMODULARER LEISTUNGSWANDLER MIT FLÜSSIGGEKÜ...   \n",
       "4       EP03703859NWB1.xml  de\\tMODULARER LEISTUNGSWANDLER MIT FLÜSSIGGEKÜ...   \n",
       "...                    ...                                                ...   \n",
       "365019  EP15713208NWB1.xml  de\\tVERFAHREN UND SYSTEME ZUM BESCHLEUNIGTEN H...   \n",
       "365020  EP15713208NWB1.xml  de\\tVERFAHREN UND SYSTEME ZUM BESCHLEUNIGTEN H...   \n",
       "365021  EP16181157NWB1.xml          de\\tFAHRZEUG\\ten\\tVEHICLE\\tfr\\tVÉHICULE\\t   \n",
       "365022  EP16181157NWB1.xml          de\\tFAHRZEUG\\ten\\tVEHICLE\\tfr\\tVÉHICULE\\t   \n",
       "365023  EP17000010NWB1.xml  de\\tSTREULICHTBLENDE EINES BILDERFASSUNGSGERÄT...   \n",
       "\n",
       "                                                       en  \\\n",
       "0       A modular power converter comprising : a therm...   \n",
       "1       The modular_power_converter of claim NUM , whe...   \n",
       "2       The modular_power_converter of claim NUM , whe...   \n",
       "3       The modular_power_converter of claim NUM , whe...   \n",
       "4       The modular_power_converter of claim NUM , whe...   \n",
       "...                                                   ...   \n",
       "365019  A motor vehicle NUM such that it comprises at ...   \n",
       "365020  A system for the downloading of data comprisin...   \n",
       "365021  A vehicle NUM comprising a power_reception_dev...   \n",
       "365022  The vehicle NUM according to any one of claims...   \n",
       "365023  Lens hood NUM of an image_recording_device arr...   \n",
       "\n",
       "                                                       de  \n",
       "0       Modularer_Leistungswandler , der Folgendes umf...  \n",
       "1       Modularer_Leistungswandler nach Anspruch NUM ,...  \n",
       "2       Modularer_Leistungswandler nach Anspruch NUM ,...  \n",
       "3       Modularer_Leistungswandler nach Anspruch NUM ,...  \n",
       "4       Modularer_Leistungswandler nach Anspruch NUM ,...  \n",
       "...                                                   ...  \n",
       "365019  Kraftfahrzeug , das mindestens einen Computer ...  \n",
       "365020  System zum Herunterladen von Daten , das ein H...  \n",
       "365021  Fahrzeug NUM mit einem Leistungsempfangsgerät ...  \n",
       "365022  Fahrzeug NUM nach einem der Ansprüche NUM bis ...  \n",
       "365023  Streulichtblende NUM eines auf der Rückseite e...  \n",
       "\n",
       "[365024 rows x 4 columns]"
      ]
     },
     "execution_count": 22,
     "metadata": {},
     "output_type": "execute_result"
    }
   ],
   "source": [
    "%%time\n",
    "epo_df = util.decompress_pickle('../../data/epo_corpus_all_years/pre_proc/epo_10_20_df_w_ncs')\n",
    "epo_df"
   ]
  },
  {
   "cell_type": "code",
   "execution_count": 23,
   "metadata": {},
   "outputs": [
    {
     "data": {
      "text/plain": [
       "'A modular power converter comprising : a thermal_support NUM for a circuit , the support comprising a substrate having fluid_inlet NUM and outlet ports NUM and a circulation_path NUM coupled between the inlet and outlet ports , the inlet and outlet ports being configured to transmit a coolant for circulation through the circulation_path ; an interface_plate NUM configured to support a power_electronics_circuit NUM , the interface_plate being configured for mounting to the support adjacent to the coolant circulation_path for extraction of heat from the interface_plate during operation ; and a power_electronics_circuit configured for power_conversion supported on the interface_plate ; and a driver_circuit NUM for applying the drive_signals to the power_electronics_circuit , the driver_circuit being secured to and cooled by the thermal_support ; wherein the support at least partially defines an electrical_reference_plane , a mechanical_support , and a thermal_extraction_path for the power_electronics_circuit . '"
      ]
     },
     "execution_count": 23,
     "metadata": {},
     "output_type": "execute_result"
    }
   ],
   "source": [
    "epo_df.en[0]"
   ]
  },
  {
   "cell_type": "code",
   "execution_count": 13,
   "metadata": {},
   "outputs": [],
   "source": [
    "import string\n",
    "import re\n",
    "string.punctuation\n",
    "import nltk\n",
    "from nltk.corpus import stopwords"
   ]
  },
  {
   "cell_type": "code",
   "execution_count": 14,
   "metadata": {},
   "outputs": [],
   "source": [
    "stop_words = set(stopwords.words('english'))\n",
    "stop_words_de = set(stopwords.words('german'))\n",
    "punct = list(string.punctuation)"
   ]
  },
  {
   "cell_type": "code",
   "execution_count": 15,
   "metadata": {},
   "outputs": [],
   "source": [
    "def get_tokens_nltk(text, lang='en', lemmatize=False):\n",
    "    '''\n",
    "    this function tokenizes and returns the unique tokens\n",
    "    '''\n",
    "    tokens = nltk.word_tokenize(text.lower())\n",
    "    \n",
    "    if lang == 'en':\n",
    "        stop_words_xx = stop_words\n",
    "    elif lang == 'de':\n",
    "        stop_words_xx = stop_words_de\n",
    "    \n",
    "    pre_proc_tokens = []\n",
    "    for token in tokens:\n",
    "        punct_found = False\n",
    "        if token.isdigit() or token in stop_words_xx:\n",
    "            continue\n",
    "        \n",
    "        if lemmatize:\n",
    "            if lang == 'en': \n",
    "                lemma = lemmatizer_en.lemmatize(token)\n",
    "            else:\n",
    "                lemma = lemmatizer_de.stem(token)\n",
    "            if lemma in pre_proc_tokens:\n",
    "                continue\n",
    "            pre_proc_tokens.append(lemma)\n",
    "        else:\n",
    "            if token in pre_proc_tokens:\n",
    "                continue\n",
    "            pre_proc_tokens.append(token)\n",
    "            \n",
    "    return pre_proc_tokens"
   ]
  },
  {
   "cell_type": "code",
   "execution_count": 16,
   "metadata": {},
   "outputs": [],
   "source": [
    "def pre_process(text, lang):\n",
    "    tokens = get_tokens_nltk(text, lang)\n",
    "    return ' '.join(tokens)"
   ]
  },
  {
   "cell_type": "code",
   "execution_count": 24,
   "metadata": {},
   "outputs": [
    {
     "data": {
      "application/vnd.jupyter.widget-view+json": {
       "model_id": "0ad8448d1fb54e4d8e73dab8e37085bf",
       "version_major": 2,
       "version_minor": 0
      },
      "text/plain": [
       "HBox(children=(FloatProgress(value=0.0, max=365024.0), HTML(value='')))"
      ]
     },
     "metadata": {},
     "output_type": "display_data"
    },
    {
     "name": "stdout",
     "output_type": "stream",
     "text": [
      "\n"
     ]
    }
   ],
   "source": [
    "epo_en = open('epo_en.txt', 'w')\n",
    "epo_de = open('epo_de.txt', 'w')\n",
    "\n",
    "for en, de in zip(tq(epo_df.en),\n",
    "                  epo_df.de):\n",
    "    # en = pre_process(en, lang='en')\n",
    "    # de = pre_process(de, lang='de')    \n",
    "    epo_en.write(en.lower()+'\\n')\n",
    "    epo_de.write(de.lower()+'\\n')\n",
    "\n",
    "epo_en.close()\n",
    "epo_de.close()"
   ]
  },
  {
   "cell_type": "code",
   "execution_count": null,
   "metadata": {},
   "outputs": [],
   "source": []
  }
 ],
 "metadata": {
  "kernelspec": {
   "display_name": "Python 3",
   "language": "python",
   "name": "python3"
  },
  "language_info": {
   "codemirror_mode": {
    "name": "ipython",
    "version": 3
   },
   "file_extension": ".py",
   "mimetype": "text/x-python",
   "name": "python",
   "nbconvert_exporter": "python",
   "pygments_lexer": "ipython3",
   "version": "3.8.10"
  }
 },
 "nbformat": 4,
 "nbformat_minor": 4
}
