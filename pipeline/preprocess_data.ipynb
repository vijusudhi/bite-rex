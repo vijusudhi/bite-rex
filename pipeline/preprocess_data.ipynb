{
 "cells": [
  {
   "cell_type": "code",
   "execution_count": 1,
   "metadata": {},
   "outputs": [],
   "source": [
    "import pandas as pd\n",
    "import pickle\n",
    "import re\n",
    "import string\n",
    "from compound_split import doc_split\n",
    "\n",
    "from tqdm.notebook import tqdm as tq"
   ]
  },
  {
   "cell_type": "code",
   "execution_count": 2,
   "metadata": {},
   "outputs": [
    {
     "data": {
      "text/plain": [
       "['epo_2013_b60_df.gzip',\n",
       " 'epo_2015_b60_df.gzip',\n",
       " 'epo_2019_b60_df.gzip',\n",
       " 'Spell Error Dataset.txt',\n",
       " 'Noun chunks gen',\n",
       " 'epo_2018_b60_df.gzip',\n",
       " 'epo_2010_b60_df.gzip',\n",
       " 'epo_2012_b60_df.gzip',\n",
       " 'epo_2020_b60_df.gzip',\n",
       " 'epo_2011_b60_df.gzip',\n",
       " 'epo_2014_b60_df.gzip',\n",
       " 'epo_2016_b60_df.gzip',\n",
       " 'epo_2017_b60_df.gzip']"
      ]
     },
     "execution_count": 2,
     "metadata": {},
     "output_type": "execute_result"
    }
   ],
   "source": [
    "import os\n",
    "path = '../../data/epo_corpus_all_years/'\n",
    "for x in os.walk(path):\n",
    "    _, _, files = x\n",
    "    break\n",
    "\n",
    "files"
   ]
  },
  {
   "cell_type": "code",
   "execution_count": 3,
   "metadata": {},
   "outputs": [],
   "source": [
    "# get the B60 patent dataframes of all years\n",
    "epo_20xx = []\n",
    "for file in files:\n",
    "    if 'gzip' in file:\n",
    "        epo_20xx.append(pd.read_pickle('%s/%s'%(path, file), compression='gzip'))"
   ]
  },
  {
   "cell_type": "code",
   "execution_count": 4,
   "metadata": {},
   "outputs": [
    {
     "data": {
      "text/plain": [
       "11"
      ]
     },
     "execution_count": 4,
     "metadata": {},
     "output_type": "execute_result"
    }
   ],
   "source": [
    "len(epo_20xx)"
   ]
  },
  {
   "cell_type": "code",
   "execution_count": 5,
   "metadata": {},
   "outputs": [
    {
     "data": {
      "text/plain": [
       "'!\"#$%&\\'()*+,-./:;<=>?@[\\\\]^_`{|}~'"
      ]
     },
     "execution_count": 5,
     "metadata": {},
     "output_type": "execute_result"
    }
   ],
   "source": [
    "string.punctuation"
   ]
  },
  {
   "cell_type": "code",
   "execution_count": 6,
   "metadata": {},
   "outputs": [],
   "source": [
    "import spacy\n",
    "from spacy.matcher import Matcher\n",
    "nlp_en = spacy.load(\"en_core_web_lg\")\n",
    "nlp_de = spacy.load(\"de_core_news_lg\")"
   ]
  },
  {
   "cell_type": "code",
   "execution_count": 237,
   "metadata": {},
   "outputs": [],
   "source": [
    "def pre_process_claim(claim, lang):\n",
    "    # add space between punctuation and the word\n",
    "    # ,wherein --> , wherein\n",
    "    # claim = re.sub(r'([,;./:])([a-zA-Z])', r' \\2', claim)\n",
    "    # claim = re.sub(r'([a-zA-Z])([,;./:])', r'\\1 \\2', claim)\n",
    "\n",
    "    # remove punctuations except for :;\n",
    "    claim = re.sub(r'[!\"#$%&\\()*+/<=>?@\\[\\\\\\\\\\]^_`{|}~]', '', claim)\n",
    "    \n",
    "    c_s = claim.split(' ')\n",
    "    \n",
    "    if lang == 'en':\n",
    "        # replace claims references to [CLAIMS]\n",
    "        # claims 1 to 2 --> [CLAIMS]\n",
    "        # claim = re.sub(r'[c|C]laims\\s\\d{1,}\\s[a-z]{1,}\\s\\d{1,}', '', claim)\n",
    "        # # claim 1 to 2 --> [CLAIMS]\n",
    "        # claim = re.sub(r'[c|C]laim\\s\\d{1,}\\s[a-z]{1,}\\s\\d{1,}', '', claim)\n",
    "        # # claim 1 --> [CLAIMS]\n",
    "        # claim = re.sub(r'[c|C]laim\\s\\d{1,}', '', claim)\n",
    "        # claim = re.sub(r'andan', 'and an', claim)\n",
    "        # claim = re.sub(r'[0-9]{1,}', 'NUM', claim)\n",
    "        for s in c_s:\n",
    "            if s in incorrect_words_en.keys():\n",
    "                # print(s)\n",
    "                claim = re.sub(s, incorrect_words_en[s], claim)\n",
    "\n",
    "    elif lang == 'de':\n",
    "        # replace claims references to [CLAIMS]\n",
    "        # claims 1 to 2 --> [CLAIMS]\n",
    "        # claim = re.sub(r'Anspr[u|ü]ch[e|en]{0,}\\s\\d{1,}\\s[a-z]{1,}\\s\\d{1,}', '', claim)\n",
    "        # # claim 1 to 2 --> [CLAIMS]\n",
    "        # # i = re.sub(r'Ansprüche\\s\\d{1,}\\s[a-z]{1,}\\s\\d{1,}', r'[CLAIMS]', i)\n",
    "        # # i = re.sub(r'Ansprüchen\\s\\d{1,}\\s[a-z]{1,}\\s\\d{1,}', r'[CLAIMS]', i)\n",
    "        # # claim 1 --> [CLAIMS]\n",
    "        # claim = re.sub(r'Anspruch\\s\\d{1,}', '', claim)\n",
    "        \n",
    "        # split compound German words\n",
    "        # claim = doc_split.doc_split(claim)\n",
    "        # claim = re.sub('·', ' ', claim)\n",
    "        \n",
    "        for s in c_s:\n",
    "            if s in incorrect_words_de.keys():\n",
    "                # print(s)\n",
    "                claim = re.sub(s, incorrect_words_de[s], claim)        \n",
    "    \n",
    "    # replace groups of numbers with NUM\n",
    "    # eg. 100, 200 --> NUM\n",
    "    claim = re.sub(r'([0-9]{1,},{1,}\\s{0,})+[0-9]{1,}', 'NUM ', claim)\n",
    "    claim = re.sub(r'([a-zA-Z\\']{0,}[0-9]{1,}[,;:]{1,}\\s{0,})+[a-zA-Z\\']{0,}[0-9]{1,}', 'NUM ', claim)\n",
    "    # replace single number to NUM\n",
    "    # eg. 1 --> NUM\n",
    "    claim = re.sub(r'[0-9]{1,}', 'NUM', claim)        \n",
    "    \n",
    "    # replace contents within parantheses as [ABBRV]\n",
    "    claim = re.sub(r'\\(.+?\\)', '', claim)\n",
    "    \n",
    "    # replace newline characters with space\n",
    "    claim = re.sub(r'\\n', ' ', claim)\n",
    "    \n",
    "    # replace punctuations with space\n",
    "    # claim = re.sub(r'(\\w)([!\"#$%&\\'()*+,-./:;<=>?@\\[\\\\\\\\\\]^_`{|}~])(\\w)', '\\1 \\3', claim)\n",
    "    \n",
    "    claim = re.sub(r'([!\"#$%&\\'()*+,-./:;<=>?@\\[\\\\\\\\\\]^_`{|}~])', r' \\1 ', claim)\n",
    "    \n",
    "    # claim = re.sub(r'([!\"#$%&\\'()*+,-./:;<=>?@\\[\\\\\\\\\\]^`{|}~])', ' ', claim)\n",
    "    claim = re.sub(r'([a-zA-Z])-\\s', r'\\1 -', claim)\n",
    "    claim = re.sub(r'[^a-zA-Z][-\\']', r' ', claim)\n",
    "    \n",
    "    claim = re.sub(r'\\(([a-zA-Z\\s]{0,}NUM[a-zA-Z\\s]{0,})+\\)', 'NUM', claim)\n",
    "    \n",
    "    # replace double spaces with single space\n",
    "    claim = re.sub(r'\\s{1,}', ' ', claim)    \n",
    "    \n",
    "    return claim"
   ]
  },
  {
   "cell_type": "code",
   "execution_count": 238,
   "metadata": {},
   "outputs": [
    {
     "data": {
      "text/plain": [
       "'A cleaning apparatus (1) for a vehicle lamp comprising:\\na nozzle portion (4) having a jet nozzle (16) for jetting a cleaning liquid;a nozzle cover (6) for covering the nozzle portion (4) from a front side;a piston (3) connected to the nozzle portion (4) and integrally movable with the nozzle portion (4) and the nozzle cover (6) in a movement direction;a cylinder (2) movably supporting the piston (3);a bracket (22) that includes an arm portion (24) located in abutment with or in proximity with a rear surface of the nozzle cover (6), and regulates an inclination of the nozzle cover (6) with respect to the movement direction; anda holder (5) provided between the nozzle cover (6) and the nozzle portion (4) for connecting the nozzle cover (6) and the nozzle portion (4) and integrally movable with the piston (3) in the movement direction;characterized bya leg portion (23) that is provided in the bracket (22) and regulates an inclination of the holder (5) with respect to the movement direction.'"
      ]
     },
     "execution_count": 238,
     "metadata": {},
     "output_type": "execute_result"
    }
   ],
   "source": [
    "claim = epo_20xx[0].en_claims[189][0]\n",
    "claim"
   ]
  },
  {
   "cell_type": "code",
   "execution_count": 239,
   "metadata": {},
   "outputs": [
    {
     "data": {
      "text/plain": [
       "'A cleaning apparatus NUM for a vehicle lamp comprising : a nozzle portion NUM having a jet nozzle NUM for jetting a cleaning liquid ; a nozzle cover NUM for covering the nozzle portion NUM from a front side ; a piston NUM connected to the nozzle portion NUM and integrally movable with the nozzle portion NUM and the nozzle cover NUM in a movement direction ; a cylinder NUM movably supporting the piston NUM ; a bracket NUM that includes an arm portion NUM located in abutment with or in proximity with a rear surface of the nozzle cover NUM , and regulates an inclination of the nozzle cover NUM with respect to the movement direction ; and a holder NUM provided between the nozzle cover NUM and the nozzle portion NUM for connecting the nozzle cover NUM and the nozzle portion NUM and integrally movable with the piston NUM in the movement direction ; characterized by a leg portion NUM that is provided in the bracket NUM and regulates an inclination of the holder NUM with respect to the movement direction . '"
      ]
     },
     "execution_count": 239,
     "metadata": {},
     "output_type": "execute_result"
    }
   ],
   "source": [
    "pre = pre_process_claim(claim, lang='en')\n",
    "pre"
   ]
  },
  {
   "cell_type": "code",
   "execution_count": 227,
   "metadata": {},
   "outputs": [
    {
     "name": "stdout",
     "output_type": "stream",
     "text": [
      "comp_ tire tread\n",
      "comp_ first set\n",
      "comp_ second set\n"
     ]
    },
    {
     "data": {
      "text/plain": [
       "'A tire_tread comprising a structure NUM , the structure NUM comprising a radially extending pedestal NUM , a first_set of voids NUM extending radially through the pedestal NUM , a second_set of voids NUM extending radially through the pedestal NUM and a radially extending void ring NUM circumscribing the pedestal NUM , characterized in that'"
      ]
     },
     "execution_count": 227,
     "metadata": {},
     "output_type": "execute_result"
    }
   ],
   "source": [
    "find_and_replace_ncs(pre, lang='en')"
   ]
  },
  {
   "cell_type": "code",
   "execution_count": 70,
   "metadata": {},
   "outputs": [],
   "source": [
    "import sys\n",
    "sys.path.append('../')\n",
    "from util import corpus, tokenize, util, alignment, word2vec, retrieval"
   ]
  },
  {
   "cell_type": "code",
   "execution_count": 71,
   "metadata": {
    "tags": []
   },
   "outputs": [],
   "source": [
    "def add_space_between_words(key, word):\n",
    "    # correct words starting with key word and no space\n",
    "    corr_word = ''\n",
    "    if re.search(r'^%s'%key, word):\n",
    "        if '-' in word:\n",
    "            corr_word = ''\n",
    "            pass\n",
    "        elif not wn.synsets(word):\n",
    "            corr_word = re.sub(r'^%s'%key, '%s '%key, word)\n",
    "            # print(word, '-->', corr_word)\n",
    "    return corr_word"
   ]
  },
  {
   "cell_type": "code",
   "execution_count": 72,
   "metadata": {},
   "outputs": [
    {
     "data": {
      "text/plain": [
       "'\\nund, \\nwohingegen,\\nwherein,\\nworin,\\ndass -- not sure,\\nvon,\\ncharacterized,\\ngekennzeichnet,\\nder\\n'"
      ]
     },
     "execution_count": 72,
     "metadata": {},
     "output_type": "execute_result"
    }
   ],
   "source": [
    "'''\n",
    "and, \n",
    "whereas,\n",
    "wherein,\n",
    "least,\n",
    "that,\n",
    "by,\n",
    "particular,\n",
    "there,\n",
    "characterized,\n",
    "\n",
    "'''\n",
    "\n",
    "'''\n",
    "und, \n",
    "wohingegen,\n",
    "wherein,\n",
    "worin,\n",
    "dass -- not sure,\n",
    "von,\n",
    "characterized,\n",
    "gekennzeichnet,\n",
    "der\n",
    "'''"
   ]
  },
  {
   "cell_type": "code",
   "execution_count": 73,
   "metadata": {},
   "outputs": [],
   "source": [
    "EN_CORR_KEYS = [\\\n",
    "                'and', \n",
    "                'whereas',\n",
    "                'wherein',\n",
    "                'least',\n",
    "                'that',\n",
    "                'by',\n",
    "                'particular',\n",
    "                'there',\n",
    "                'characterized',\n",
    "               ]\n",
    "\n",
    "DE_CORR_KEYS = [\\\n",
    "                'und', \n",
    "                'wohingegen',\n",
    "                'wherein',\n",
    "                'worin',\n",
    "                'dass',\n",
    "                'von',\n",
    "                'characterized',\n",
    "                'gekennzeichnet',\n",
    "                'der'\n",
    "               ]\n"
   ]
  },
  {
   "cell_type": "code",
   "execution_count": 74,
   "metadata": {},
   "outputs": [
    {
     "data": {
      "application/vnd.jupyter.widget-view+json": {
       "model_id": "eac4f78c70e34547bf970a28b0fdeddd",
       "version_major": 2,
       "version_minor": 0
      },
      "text/plain": [
       "HBox(children=(FloatProgress(value=0.0, max=97354.0), HTML(value='')))"
      ]
     },
     "metadata": {},
     "output_type": "display_data"
    },
    {
     "name": "stdout",
     "output_type": "stream",
     "text": [
      "\n"
     ]
    }
   ],
   "source": [
    "incorrect_words_en = {}\n",
    "for word in tq(epo_corpus.vocab_en):\n",
    "    for key in EN_CORR_KEYS:\n",
    "        corr_word = add_space_between_words(key, word)\n",
    "        if corr_word != '':\n",
    "            # print(corr_word)\n",
    "            incorrect_words_en[word] = corr_word"
   ]
  },
  {
   "cell_type": "code",
   "execution_count": 75,
   "metadata": {},
   "outputs": [
    {
     "data": {
      "application/vnd.jupyter.widget-view+json": {
       "model_id": "2b01e941ad07440782d3bf48dae35045",
       "version_major": 2,
       "version_minor": 0
      },
      "text/plain": [
       "HBox(children=(FloatProgress(value=0.0, max=392292.0), HTML(value='')))"
      ]
     },
     "metadata": {},
     "output_type": "display_data"
    },
    {
     "name": "stdout",
     "output_type": "stream",
     "text": [
      "\n"
     ]
    }
   ],
   "source": [
    "incorrect_words_de = {}\n",
    "for word in tq(epo_corpus.vocab_de):\n",
    "    for key in DE_CORR_KEYS:\n",
    "        corr_word = add_space_between_words(key, word)\n",
    "        if corr_word != '':\n",
    "            incorrect_words_de[word] = corr_word"
   ]
  },
  {
   "cell_type": "code",
   "execution_count": 76,
   "metadata": {},
   "outputs": [
    {
     "data": {
      "text/plain": [
       "(7739,\n",
       " ['androlling',\n",
       "  'andrear',\n",
       "  'that18a',\n",
       "  'thatend',\n",
       "  'thatpfcappl',\n",
       "  'thatfb1',\n",
       "  'byeach',\n",
       "  'thatreceive',\n",
       "  'thatincision',\n",
       "  'thategoegoegoegoegoegoegoegoego'])"
      ]
     },
     "execution_count": 76,
     "metadata": {},
     "output_type": "execute_result"
    }
   ],
   "source": [
    "len(incorrect_words_en), list(incorrect_words_en.keys())[:10]"
   ]
  },
  {
   "cell_type": "code",
   "execution_count": 77,
   "metadata": {},
   "outputs": [
    {
     "data": {
      "text/plain": [
       "(6653,\n",
       " ['dassθvv',\n",
       "  'undherausführen',\n",
       "  'dererzeugen',\n",
       "  'undlernen',\n",
       "  'dassupc\\u2062h\\u2062arg\\u2062em11pd\\u2062ec\\u2062h\\u2062arg\\u2062em11pa\\u2062c\\u2062h\\u2062a\\u2062tm14preventem14plocalconsmgtpc\\u2062h\\u2062arg\\u2062em11pd\\u2062e\\u2062c\\u2062h\\u2062arg\\u2062em11pachatm14preventem14plocalconsm8',\n",
       "  'unde2',\n",
       "  'undkopplungsabschnitte',\n",
       "  'dassimaximax',\n",
       "  'undeingriffssteuerungsmittel',\n",
       "  'undthermoformen'])"
      ]
     },
     "execution_count": 77,
     "metadata": {},
     "output_type": "execute_result"
    }
   ],
   "source": [
    "len(incorrect_words_de), list(incorrect_words_de.keys())[:10]"
   ]
  },
  {
   "cell_type": "markdown",
   "metadata": {
    "tags": []
   },
   "source": [
    "## Find noun chunks"
   ]
  },
  {
   "cell_type": "code",
   "execution_count": 343,
   "metadata": {},
   "outputs": [],
   "source": [
    "WORDS_TO_OMIT = ['NUM', 'claim', 'Claim', \n",
    "                'anspr', 'Anspr']\n",
    "def find_and_replace_ncs(claim, lang):    \n",
    "    nlp = nlp_en if lang=='en' else nlp_de\n",
    "    doc = nlp(claim)\n",
    "    for nc in doc.noun_chunks:\n",
    "        comp_ = []\n",
    "        for token in nc:\n",
    "            if token.pos_ not in ['DET', 'ADV', 'NUM', 'CCONJ'] and \\\n",
    "               token.dep_ not in ['poss'] and \\\n",
    "               token.text not in ['said', 'more', 'following', 'comprising'] and \\\n",
    "               not token.is_punct:\n",
    "                comp_.append(token.text)\n",
    "        comp_ = ' '.join(comp_)\n",
    "        comp_ = re.sub(r'(\\s\\s)+', '', comp_)\n",
    "        if comp_:\n",
    "            if len(comp_.split(' ')) > 1:\n",
    "                omit_flag = False\n",
    "                for word in WORDS_TO_OMIT:\n",
    "                    if word in comp_:\n",
    "                        omit_flag = True\n",
    "                        break\n",
    "                if not omit_flag:\n",
    "                    # rep = re.sub('-', '', comp_)\n",
    "                    rep = re.sub(r'\\s{1,}', '_', comp_)\n",
    "                    # print('comp_', comp_)\n",
    "                    claim = re.sub(comp_, rep, claim)\n",
    "    return claim"
   ]
  },
  {
   "cell_type": "markdown",
   "metadata": {},
   "source": [
    "## Pre-process claims"
   ]
  },
  {
   "cell_type": "code",
   "execution_count": 331,
   "metadata": {},
   "outputs": [],
   "source": [
    "def preprocess_claims(epo_df):\n",
    "    pre_claims = []\n",
    "    for name, ipcrs, titles, en_claims, de_claims in zip(tq(epo_df.name),\n",
    "                                                         epo_df.ipcrs,\n",
    "                                                         epo_df.titles,\n",
    "                                                         epo_df.en_claims,\n",
    "                                                         epo_df.de_claims):\n",
    "        en_claims_proc = []\n",
    "        de_claims_proc = []\n",
    "        \n",
    "        for en, de in zip(en_claims, de_claims):\n",
    "            if len(en.split(' ')) <= 13:\n",
    "                continue\n",
    "\n",
    "            # ---- EN ---- #\n",
    "            # to pre process the claim\n",
    "            pre = pre_process_claim(en, lang='en')\n",
    "            # to add underscores to noun chunks\n",
    "            pre = find_and_replace_ncs(pre, lang='en')\n",
    "            # finally, append the claim\n",
    "            en_claims_proc.append(pre)\n",
    "            \n",
    "            # ---- DE ---- #\n",
    "            # to pre process the claim\n",
    "            pre = pre_process_claim(de, lang='de')\n",
    "            # to add underscores to noun chunks\n",
    "            pre = find_and_replace_ncs(pre, lang='de')\n",
    "            # finally, append the claim\n",
    "            de_claims_proc.append(pre)\n",
    "\n",
    "        details = {\n",
    "            'name': name,\n",
    "            'iprcs': ipcrs,\n",
    "            'titles': titles,\n",
    "            'en_claims': en_claims_proc,\n",
    "            'de_claims': de_claims_proc\n",
    "        }\n",
    "        pre_claims.append(details)\n",
    "    return pre_claims"
   ]
  },
  {
   "cell_type": "code",
   "execution_count": 332,
   "metadata": {},
   "outputs": [
    {
     "data": {
      "text/html": [
       "<div>\n",
       "<style scoped>\n",
       "    .dataframe tbody tr th:only-of-type {\n",
       "        vertical-align: middle;\n",
       "    }\n",
       "\n",
       "    .dataframe tbody tr th {\n",
       "        vertical-align: top;\n",
       "    }\n",
       "\n",
       "    .dataframe thead th {\n",
       "        text-align: right;\n",
       "    }\n",
       "</style>\n",
       "<table border=\"1\" class=\"dataframe\">\n",
       "  <thead>\n",
       "    <tr style=\"text-align: right;\">\n",
       "      <th></th>\n",
       "      <th>name</th>\n",
       "      <th>ipcrs</th>\n",
       "      <th>titles</th>\n",
       "      <th>en_claims</th>\n",
       "      <th>de_claims</th>\n",
       "      <th>fr_claims</th>\n",
       "    </tr>\n",
       "  </thead>\n",
       "  <tbody>\n",
       "    <tr>\n",
       "      <th>0</th>\n",
       "      <td>EP03703859NWB1.xml</td>\n",
       "      <td>[B60L 11/12 20060101AFI20121031BHEP, B60L 11/1...</td>\n",
       "      <td>de\\tMODULARER LEISTUNGSWANDLER MIT FLÜSSIGGEKÜ...</td>\n",
       "      <td>[A modular power converter comprising:\\na ther...</td>\n",
       "      <td>[Modularer Leistungswandler, der Folgendes umf...</td>\n",
       "      <td>[Convertisseur électrique modulaire comprenant...</td>\n",
       "    </tr>\n",
       "    <tr>\n",
       "      <th>1</th>\n",
       "      <td>EP04021666NWB1.xml</td>\n",
       "      <td>[F16H 61/12 20100101AFI20121030BHEP, B60W 50/0...</td>\n",
       "      <td>de\\tVerfahren zur Steuerung eines Kraftfahrzeu...</td>\n",
       "      <td>[Method for controlling a motor vehicle drive ...</td>\n",
       "      <td>[Verfahren zur Steuerung eines Kraftfahrzeug-A...</td>\n",
       "      <td>[Procédé de commande d'un système de traction ...</td>\n",
       "    </tr>\n",
       "    <tr>\n",
       "      <th>2</th>\n",
       "      <td>EP03798697NWB1.xml</td>\n",
       "      <td>[B29C 44/06 20060101AFI20121002BHEP, B60R 13/0...</td>\n",
       "      <td>de\\tVERBESSERTE FAHRZEUGBODENBELÄGE UND VERFAH...</td>\n",
       "      <td>[A method of producing a vehicle interior floo...</td>\n",
       "      <td>[Verfahren zum Herstellen einer Innenbodenabde...</td>\n",
       "      <td>[Procédé de production d'un revêtement de plan...</td>\n",
       "    </tr>\n",
       "    <tr>\n",
       "      <th>3</th>\n",
       "      <td>EP03815372NWB1.xml</td>\n",
       "      <td>[B60J 5/06 20060101AFI20040810BHEP, B60J 5/04 ...</td>\n",
       "      <td>de\\tSCHWENKSCHIEBETÜR FÜR FAHRZEUGE\\ten\\tPIVOT...</td>\n",
       "      <td>[Plug door for vehicles, in particular for rai...</td>\n",
       "      <td>[Schwenkschiebetür für Fahrzeuge, insbesondere...</td>\n",
       "      <td>[Porte louvoyante coulissante pour des véhicul...</td>\n",
       "    </tr>\n",
       "    <tr>\n",
       "      <th>4</th>\n",
       "      <td>EP05017320NWB1.xml</td>\n",
       "      <td>[B60Q 3/04 20060101AFI20051116BHEP, B60K 37/00...</td>\n",
       "      <td>de\\tKfz-Innenbeleuchtungsstruktur\\ten\\tVehicle...</td>\n",
       "      <td>[A vehicle interior illumination structure com...</td>\n",
       "      <td>[Fahrzeuginnenraum-Beleuchtungsstruktur, welch...</td>\n",
       "      <td>[Structure d'éclairage intérieur de véhicule c...</td>\n",
       "    </tr>\n",
       "    <tr>\n",
       "      <th>...</th>\n",
       "      <td>...</td>\n",
       "      <td>...</td>\n",
       "      <td>...</td>\n",
       "      <td>...</td>\n",
       "      <td>...</td>\n",
       "      <td>...</td>\n",
       "    </tr>\n",
       "    <tr>\n",
       "      <th>995</th>\n",
       "      <td>EP08791706NWB1.xml</td>\n",
       "      <td>[B60C 1/00 20060101AFI20121016BHEP, C08L 23/22...</td>\n",
       "      <td>de\\tLuftreifen mit Schutzschicht\\ten\\tPneumati...</td>\n",
       "      <td>[A pneumatic tire using a thermoplastic elasto...</td>\n",
       "      <td>[Luftreifen unter Verwendung eines thermoplast...</td>\n",
       "      <td>[Bandage pneumatique utilisant un élastomère t...</td>\n",
       "    </tr>\n",
       "    <tr>\n",
       "      <th>996</th>\n",
       "      <td>EP08792532NWB1.xml</td>\n",
       "      <td>[B60W 10/00 20060101AFI20090325BHEP, B60K 6/22...</td>\n",
       "      <td>de\\tHYBRIDFAHRZEUG\\ten\\tHYBRID VEHICLE\\tfr\\tVÉ...</td>\n",
       "      <td>[A hybrid vehicle running by consuming a first...</td>\n",
       "      <td>[Hybridfahrzeug, das unter Verwendung einer er...</td>\n",
       "      <td>[Véhicule hybride se déplaçant en consommant u...</td>\n",
       "    </tr>\n",
       "    <tr>\n",
       "      <th>997</th>\n",
       "      <td>EP08794110NWB1.xml</td>\n",
       "      <td>[B60T 1/08 20060101AFI20120919BHEP, B60W 10/18...</td>\n",
       "      <td>de\\tBREMSSYSTEM UND FAHRZEUG MIT EINEM BREMSSY...</td>\n",
       "      <td>[A vehicle (10) having a powertrain and brake ...</td>\n",
       "      <td>[Fahrzeug (10) mit einem Antriebsstrang und ei...</td>\n",
       "      <td>[Véhicule (10) ayant une transmission et un sy...</td>\n",
       "    </tr>\n",
       "    <tr>\n",
       "      <th>998</th>\n",
       "      <td>EP08801238NWB1.xml</td>\n",
       "      <td>[B64C 25/36 20060101AFI20120926BHEP, F16C 19/5...</td>\n",
       "      <td>de\\tRADLAGERUNG EINES FLUGZEUGFAHRWERKS\\ten\\tW...</td>\n",
       "      <td>[Wheel bearing (1) of an aircraft landing gear...</td>\n",
       "      <td>[Radlagerung (1) eines Flugzeugfahrwerks,dadur...</td>\n",
       "      <td>[Système de palier de roue (1) d'un train d'at...</td>\n",
       "    </tr>\n",
       "    <tr>\n",
       "      <th>999</th>\n",
       "      <td>EP08802291NWB1.xml</td>\n",
       "      <td>[B60K 35/00 20060101AFI20090407BHEP, B60K 37/0...</td>\n",
       "      <td>de\\tANZEIGEEINRICHTUNG, INSBESONDERE FÜR EIN K...</td>\n",
       "      <td>[A display device (10) for a vehicle, in parti...</td>\n",
       "      <td>[Anzeigeeinrichtung (10) für ein Fahrzeug, ins...</td>\n",
       "      <td>[Dispositif d'affichage (10) pour un véhicule,...</td>\n",
       "    </tr>\n",
       "  </tbody>\n",
       "</table>\n",
       "<p>1000 rows × 6 columns</p>\n",
       "</div>"
      ],
      "text/plain": [
       "                   name                                              ipcrs  \\\n",
       "0    EP03703859NWB1.xml  [B60L 11/12 20060101AFI20121031BHEP, B60L 11/1...   \n",
       "1    EP04021666NWB1.xml  [F16H 61/12 20100101AFI20121030BHEP, B60W 50/0...   \n",
       "2    EP03798697NWB1.xml  [B29C 44/06 20060101AFI20121002BHEP, B60R 13/0...   \n",
       "3    EP03815372NWB1.xml  [B60J 5/06 20060101AFI20040810BHEP, B60J 5/04 ...   \n",
       "4    EP05017320NWB1.xml  [B60Q 3/04 20060101AFI20051116BHEP, B60K 37/00...   \n",
       "..                  ...                                                ...   \n",
       "995  EP08791706NWB1.xml  [B60C 1/00 20060101AFI20121016BHEP, C08L 23/22...   \n",
       "996  EP08792532NWB1.xml  [B60W 10/00 20060101AFI20090325BHEP, B60K 6/22...   \n",
       "997  EP08794110NWB1.xml  [B60T 1/08 20060101AFI20120919BHEP, B60W 10/18...   \n",
       "998  EP08801238NWB1.xml  [B64C 25/36 20060101AFI20120926BHEP, F16C 19/5...   \n",
       "999  EP08802291NWB1.xml  [B60K 35/00 20060101AFI20090407BHEP, B60K 37/0...   \n",
       "\n",
       "                                                titles  \\\n",
       "0    de\\tMODULARER LEISTUNGSWANDLER MIT FLÜSSIGGEKÜ...   \n",
       "1    de\\tVerfahren zur Steuerung eines Kraftfahrzeu...   \n",
       "2    de\\tVERBESSERTE FAHRZEUGBODENBELÄGE UND VERFAH...   \n",
       "3    de\\tSCHWENKSCHIEBETÜR FÜR FAHRZEUGE\\ten\\tPIVOT...   \n",
       "4    de\\tKfz-Innenbeleuchtungsstruktur\\ten\\tVehicle...   \n",
       "..                                                 ...   \n",
       "995  de\\tLuftreifen mit Schutzschicht\\ten\\tPneumati...   \n",
       "996  de\\tHYBRIDFAHRZEUG\\ten\\tHYBRID VEHICLE\\tfr\\tVÉ...   \n",
       "997  de\\tBREMSSYSTEM UND FAHRZEUG MIT EINEM BREMSSY...   \n",
       "998  de\\tRADLAGERUNG EINES FLUGZEUGFAHRWERKS\\ten\\tW...   \n",
       "999  de\\tANZEIGEEINRICHTUNG, INSBESONDERE FÜR EIN K...   \n",
       "\n",
       "                                             en_claims  \\\n",
       "0    [A modular power converter comprising:\\na ther...   \n",
       "1    [Method for controlling a motor vehicle drive ...   \n",
       "2    [A method of producing a vehicle interior floo...   \n",
       "3    [Plug door for vehicles, in particular for rai...   \n",
       "4    [A vehicle interior illumination structure com...   \n",
       "..                                                 ...   \n",
       "995  [A pneumatic tire using a thermoplastic elasto...   \n",
       "996  [A hybrid vehicle running by consuming a first...   \n",
       "997  [A vehicle (10) having a powertrain and brake ...   \n",
       "998  [Wheel bearing (1) of an aircraft landing gear...   \n",
       "999  [A display device (10) for a vehicle, in parti...   \n",
       "\n",
       "                                             de_claims  \\\n",
       "0    [Modularer Leistungswandler, der Folgendes umf...   \n",
       "1    [Verfahren zur Steuerung eines Kraftfahrzeug-A...   \n",
       "2    [Verfahren zum Herstellen einer Innenbodenabde...   \n",
       "3    [Schwenkschiebetür für Fahrzeuge, insbesondere...   \n",
       "4    [Fahrzeuginnenraum-Beleuchtungsstruktur, welch...   \n",
       "..                                                 ...   \n",
       "995  [Luftreifen unter Verwendung eines thermoplast...   \n",
       "996  [Hybridfahrzeug, das unter Verwendung einer er...   \n",
       "997  [Fahrzeug (10) mit einem Antriebsstrang und ei...   \n",
       "998  [Radlagerung (1) eines Flugzeugfahrwerks,dadur...   \n",
       "999  [Anzeigeeinrichtung (10) für ein Fahrzeug, ins...   \n",
       "\n",
       "                                             fr_claims  \n",
       "0    [Convertisseur électrique modulaire comprenant...  \n",
       "1    [Procédé de commande d'un système de traction ...  \n",
       "2    [Procédé de production d'un revêtement de plan...  \n",
       "3    [Porte louvoyante coulissante pour des véhicul...  \n",
       "4    [Structure d'éclairage intérieur de véhicule c...  \n",
       "..                                                 ...  \n",
       "995  [Bandage pneumatique utilisant un élastomère t...  \n",
       "996  [Véhicule hybride se déplaçant en consommant u...  \n",
       "997  [Véhicule (10) ayant une transmission et un sy...  \n",
       "998  [Système de palier de roue (1) d'un train d'at...  \n",
       "999  [Dispositif d'affichage (10) pour un véhicule,...  \n",
       "\n",
       "[1000 rows x 6 columns]"
      ]
     },
     "execution_count": 332,
     "metadata": {},
     "output_type": "execute_result"
    }
   ],
   "source": [
    "df_ = epo_20xx[0][:1000]\n",
    "df_"
   ]
  },
  {
   "cell_type": "code",
   "execution_count": 333,
   "metadata": {},
   "outputs": [
    {
     "data": {
      "application/vnd.jupyter.widget-view+json": {
       "model_id": "acd2a7759bc54d51bbec8e418b123537",
       "version_major": 2,
       "version_minor": 0
      },
      "text/plain": [
       "HBox(children=(FloatProgress(value=0.0, max=1000.0), HTML(value='')))"
      ]
     },
     "metadata": {},
     "output_type": "display_data"
    },
    {
     "name": "stdout",
     "output_type": "stream",
     "text": [
      "\n"
     ]
    },
    {
     "data": {
      "text/html": [
       "<div>\n",
       "<style scoped>\n",
       "    .dataframe tbody tr th:only-of-type {\n",
       "        vertical-align: middle;\n",
       "    }\n",
       "\n",
       "    .dataframe tbody tr th {\n",
       "        vertical-align: top;\n",
       "    }\n",
       "\n",
       "    .dataframe thead th {\n",
       "        text-align: right;\n",
       "    }\n",
       "</style>\n",
       "<table border=\"1\" class=\"dataframe\">\n",
       "  <thead>\n",
       "    <tr style=\"text-align: right;\">\n",
       "      <th></th>\n",
       "      <th>name</th>\n",
       "      <th>iprcs</th>\n",
       "      <th>titles</th>\n",
       "      <th>en_claims</th>\n",
       "      <th>de_claims</th>\n",
       "    </tr>\n",
       "  </thead>\n",
       "  <tbody>\n",
       "    <tr>\n",
       "      <th>0</th>\n",
       "      <td>EP03703859NWB1.xml</td>\n",
       "      <td>[B60L 11/12 20060101AFI20121031BHEP, B60L 11/1...</td>\n",
       "      <td>de\\tMODULARER LEISTUNGSWANDLER MIT FLÜSSIGGEKÜ...</td>\n",
       "      <td>[A modular power converter comprising : a ther...</td>\n",
       "      <td>[Modularer_Leistungswandler , der Folgendes um...</td>\n",
       "    </tr>\n",
       "    <tr>\n",
       "      <th>1</th>\n",
       "      <td>EP04021666NWB1.xml</td>\n",
       "      <td>[F16H 61/12 20100101AFI20121030BHEP, B60W 50/0...</td>\n",
       "      <td>de\\tVerfahren zur Steuerung eines Kraftfahrzeu...</td>\n",
       "      <td>[Method for controlling a motor_vehicle_drive_...</td>\n",
       "      <td>[Verfahren zur Steuerung eines Kraftfahrzeug A...</td>\n",
       "    </tr>\n",
       "    <tr>\n",
       "      <th>2</th>\n",
       "      <td>EP03798697NWB1.xml</td>\n",
       "      <td>[B29C 44/06 20060101AFI20121002BHEP, B60R 13/0...</td>\n",
       "      <td>de\\tVERBESSERTE FAHRZEUGBODENBELÄGE UND VERFAH...</td>\n",
       "      <td>[A method of producing a vehicle_interior_floo...</td>\n",
       "      <td>[Verfahren zum Herstellen einer Innenbodenabde...</td>\n",
       "    </tr>\n",
       "    <tr>\n",
       "      <th>3</th>\n",
       "      <td>EP03815372NWB1.xml</td>\n",
       "      <td>[B60J 5/06 20060101AFI20040810BHEP, B60J 5/04 ...</td>\n",
       "      <td>de\\tSCHWENKSCHIEBETÜR FÜR FAHRZEUGE\\ten\\tPIVOT...</td>\n",
       "      <td>[Plug door for vehicles , in particular for ra...</td>\n",
       "      <td>[Schwenkschiebetür für Fahrzeuge , insbesonder...</td>\n",
       "    </tr>\n",
       "    <tr>\n",
       "      <th>4</th>\n",
       "      <td>EP05017320NWB1.xml</td>\n",
       "      <td>[B60Q 3/04 20060101AFI20051116BHEP, B60K 37/00...</td>\n",
       "      <td>de\\tKfz-Innenbeleuchtungsstruktur\\ten\\tVehicle...</td>\n",
       "      <td>[A vehicle_interior_illumination_structure_com...</td>\n",
       "      <td>[Fahrzeuginnenraum Beleuchtungsstruktur , welc...</td>\n",
       "    </tr>\n",
       "    <tr>\n",
       "      <th>...</th>\n",
       "      <td>...</td>\n",
       "      <td>...</td>\n",
       "      <td>...</td>\n",
       "      <td>...</td>\n",
       "      <td>...</td>\n",
       "    </tr>\n",
       "    <tr>\n",
       "      <th>995</th>\n",
       "      <td>EP08791706NWB1.xml</td>\n",
       "      <td>[B60C 1/00 20060101AFI20121016BHEP, C08L 23/22...</td>\n",
       "      <td>de\\tLuftreifen mit Schutzschicht\\ten\\tPneumati...</td>\n",
       "      <td>[A pneumatic_tire using a thermoplastic_elasto...</td>\n",
       "      <td>[Luftreifen unter Verwendung eines thermoplast...</td>\n",
       "    </tr>\n",
       "    <tr>\n",
       "      <th>996</th>\n",
       "      <td>EP08792532NWB1.xml</td>\n",
       "      <td>[B60W 10/00 20060101AFI20090325BHEP, B60K 6/22...</td>\n",
       "      <td>de\\tHYBRIDFAHRZEUG\\ten\\tHYBRID VEHICLE\\tfr\\tVÉ...</td>\n",
       "      <td>[A hybrid vehicle running by consuming a first...</td>\n",
       "      <td>[Hybridfahrzeug , das unter Verwendung einer e...</td>\n",
       "    </tr>\n",
       "    <tr>\n",
       "      <th>997</th>\n",
       "      <td>EP08794110NWB1.xml</td>\n",
       "      <td>[B60T 1/08 20060101AFI20120919BHEP, B60W 10/18...</td>\n",
       "      <td>de\\tBREMSSYSTEM UND FAHRZEUG MIT EINEM BREMSSY...</td>\n",
       "      <td>[A vehicle NUM having a powertrain and brake s...</td>\n",
       "      <td>[Fahrzeug NUM mit einem Antriebsstrang und ein...</td>\n",
       "    </tr>\n",
       "    <tr>\n",
       "      <th>998</th>\n",
       "      <td>EP08801238NWB1.xml</td>\n",
       "      <td>[B64C 25/36 20060101AFI20120926BHEP, F16C 19/5...</td>\n",
       "      <td>de\\tRADLAGERUNG EINES FLUGZEUGFAHRWERKS\\ten\\tW...</td>\n",
       "      <td>[]</td>\n",
       "      <td>[]</td>\n",
       "    </tr>\n",
       "    <tr>\n",
       "      <th>999</th>\n",
       "      <td>EP08802291NWB1.xml</td>\n",
       "      <td>[B60K 35/00 20060101AFI20090407BHEP, B60K 37/0...</td>\n",
       "      <td>de\\tANZEIGEEINRICHTUNG, INSBESONDERE FÜR EIN K...</td>\n",
       "      <td>[A display_device NUM for a vehicle , in parti...</td>\n",
       "      <td>[Anzeigeeinrichtung NUM für ein Fahrzeug , ins...</td>\n",
       "    </tr>\n",
       "  </tbody>\n",
       "</table>\n",
       "<p>1000 rows × 5 columns</p>\n",
       "</div>"
      ],
      "text/plain": [
       "                   name                                              iprcs  \\\n",
       "0    EP03703859NWB1.xml  [B60L 11/12 20060101AFI20121031BHEP, B60L 11/1...   \n",
       "1    EP04021666NWB1.xml  [F16H 61/12 20100101AFI20121030BHEP, B60W 50/0...   \n",
       "2    EP03798697NWB1.xml  [B29C 44/06 20060101AFI20121002BHEP, B60R 13/0...   \n",
       "3    EP03815372NWB1.xml  [B60J 5/06 20060101AFI20040810BHEP, B60J 5/04 ...   \n",
       "4    EP05017320NWB1.xml  [B60Q 3/04 20060101AFI20051116BHEP, B60K 37/00...   \n",
       "..                  ...                                                ...   \n",
       "995  EP08791706NWB1.xml  [B60C 1/00 20060101AFI20121016BHEP, C08L 23/22...   \n",
       "996  EP08792532NWB1.xml  [B60W 10/00 20060101AFI20090325BHEP, B60K 6/22...   \n",
       "997  EP08794110NWB1.xml  [B60T 1/08 20060101AFI20120919BHEP, B60W 10/18...   \n",
       "998  EP08801238NWB1.xml  [B64C 25/36 20060101AFI20120926BHEP, F16C 19/5...   \n",
       "999  EP08802291NWB1.xml  [B60K 35/00 20060101AFI20090407BHEP, B60K 37/0...   \n",
       "\n",
       "                                                titles  \\\n",
       "0    de\\tMODULARER LEISTUNGSWANDLER MIT FLÜSSIGGEKÜ...   \n",
       "1    de\\tVerfahren zur Steuerung eines Kraftfahrzeu...   \n",
       "2    de\\tVERBESSERTE FAHRZEUGBODENBELÄGE UND VERFAH...   \n",
       "3    de\\tSCHWENKSCHIEBETÜR FÜR FAHRZEUGE\\ten\\tPIVOT...   \n",
       "4    de\\tKfz-Innenbeleuchtungsstruktur\\ten\\tVehicle...   \n",
       "..                                                 ...   \n",
       "995  de\\tLuftreifen mit Schutzschicht\\ten\\tPneumati...   \n",
       "996  de\\tHYBRIDFAHRZEUG\\ten\\tHYBRID VEHICLE\\tfr\\tVÉ...   \n",
       "997  de\\tBREMSSYSTEM UND FAHRZEUG MIT EINEM BREMSSY...   \n",
       "998  de\\tRADLAGERUNG EINES FLUGZEUGFAHRWERKS\\ten\\tW...   \n",
       "999  de\\tANZEIGEEINRICHTUNG, INSBESONDERE FÜR EIN K...   \n",
       "\n",
       "                                             en_claims  \\\n",
       "0    [A modular power converter comprising : a ther...   \n",
       "1    [Method for controlling a motor_vehicle_drive_...   \n",
       "2    [A method of producing a vehicle_interior_floo...   \n",
       "3    [Plug door for vehicles , in particular for ra...   \n",
       "4    [A vehicle_interior_illumination_structure_com...   \n",
       "..                                                 ...   \n",
       "995  [A pneumatic_tire using a thermoplastic_elasto...   \n",
       "996  [A hybrid vehicle running by consuming a first...   \n",
       "997  [A vehicle NUM having a powertrain and brake s...   \n",
       "998                                                 []   \n",
       "999  [A display_device NUM for a vehicle , in parti...   \n",
       "\n",
       "                                             de_claims  \n",
       "0    [Modularer_Leistungswandler , der Folgendes um...  \n",
       "1    [Verfahren zur Steuerung eines Kraftfahrzeug A...  \n",
       "2    [Verfahren zum Herstellen einer Innenbodenabde...  \n",
       "3    [Schwenkschiebetür für Fahrzeuge , insbesonder...  \n",
       "4    [Fahrzeuginnenraum Beleuchtungsstruktur , welc...  \n",
       "..                                                 ...  \n",
       "995  [Luftreifen unter Verwendung eines thermoplast...  \n",
       "996  [Hybridfahrzeug , das unter Verwendung einer e...  \n",
       "997  [Fahrzeug NUM mit einem Antriebsstrang und ein...  \n",
       "998                                                 []  \n",
       "999  [Anzeigeeinrichtung NUM für ein Fahrzeug , ins...  \n",
       "\n",
       "[1000 rows x 5 columns]"
      ]
     },
     "execution_count": 333,
     "metadata": {},
     "output_type": "execute_result"
    }
   ],
   "source": [
    "epo_10_20_proc = []\n",
    "epo_10_20_proc.extend(preprocess_claims(df_))\n",
    "\n",
    "epo_10_20_proc_df = pd.DataFrame(epo_10_20_proc)\n",
    "epo_10_20_proc_df"
   ]
  },
  {
   "cell_type": "code",
   "execution_count": 344,
   "metadata": {},
   "outputs": [
    {
     "data": {
      "application/vnd.jupyter.widget-view+json": {
       "model_id": "da55a6db529f4d06852f7a1e1822bdbb",
       "version_major": 2,
       "version_minor": 0
      },
      "text/plain": [
       "HBox(children=(FloatProgress(value=0.0, max=11.0), HTML(value='')))"
      ]
     },
     "metadata": {},
     "output_type": "display_data"
    },
    {
     "data": {
      "application/vnd.jupyter.widget-view+json": {
       "model_id": "a0f5c71ad68040b5b9f8614408bd0778",
       "version_major": 2,
       "version_minor": 0
      },
      "text/plain": [
       "HBox(children=(FloatProgress(value=0.0, max=3860.0), HTML(value='')))"
      ]
     },
     "metadata": {},
     "output_type": "display_data"
    },
    {
     "name": "stdout",
     "output_type": "stream",
     "text": [
      "\n"
     ]
    },
    {
     "data": {
      "application/vnd.jupyter.widget-view+json": {
       "model_id": "07a1a44ee73448ca9e124c42c401932e",
       "version_major": 2,
       "version_minor": 0
      },
      "text/plain": [
       "HBox(children=(FloatProgress(value=0.0, max=3280.0), HTML(value='')))"
      ]
     },
     "metadata": {},
     "output_type": "display_data"
    },
    {
     "name": "stdout",
     "output_type": "stream",
     "text": [
      "\n"
     ]
    },
    {
     "data": {
      "application/vnd.jupyter.widget-view+json": {
       "model_id": "d65dee4f2748442aa21be9856f0238b2",
       "version_major": 2,
       "version_minor": 0
      },
      "text/plain": [
       "HBox(children=(FloatProgress(value=0.0, max=7332.0), HTML(value='')))"
      ]
     },
     "metadata": {},
     "output_type": "display_data"
    },
    {
     "name": "stdout",
     "output_type": "stream",
     "text": [
      "\n"
     ]
    },
    {
     "data": {
      "application/vnd.jupyter.widget-view+json": {
       "model_id": "1e0b020d6ebd493e9499f8c40c17531e",
       "version_major": 2,
       "version_minor": 0
      },
      "text/plain": [
       "HBox(children=(FloatProgress(value=0.0, max=6667.0), HTML(value='')))"
      ]
     },
     "metadata": {},
     "output_type": "display_data"
    },
    {
     "name": "stdout",
     "output_type": "stream",
     "text": [
      "\n"
     ]
    },
    {
     "data": {
      "application/vnd.jupyter.widget-view+json": {
       "model_id": "4c6ff1dac50d42539acf10484517feef",
       "version_major": 2,
       "version_minor": 0
      },
      "text/plain": [
       "HBox(children=(FloatProgress(value=0.0, max=3627.0), HTML(value='')))"
      ]
     },
     "metadata": {},
     "output_type": "display_data"
    },
    {
     "name": "stdout",
     "output_type": "stream",
     "text": [
      "\n"
     ]
    },
    {
     "data": {
      "application/vnd.jupyter.widget-view+json": {
       "model_id": "e879f939fd5348cb91e7e4e58d9d8408",
       "version_major": 2,
       "version_minor": 0
      },
      "text/plain": [
       "HBox(children=(FloatProgress(value=0.0, max=3819.0), HTML(value='')))"
      ]
     },
     "metadata": {},
     "output_type": "display_data"
    },
    {
     "name": "stdout",
     "output_type": "stream",
     "text": [
      "\n"
     ]
    },
    {
     "data": {
      "application/vnd.jupyter.widget-view+json": {
       "model_id": "40ca03f06173402f986d159e79f59516",
       "version_major": 2,
       "version_minor": 0
      },
      "text/plain": [
       "HBox(children=(FloatProgress(value=0.0, max=7314.0), HTML(value='')))"
      ]
     },
     "metadata": {},
     "output_type": "display_data"
    },
    {
     "name": "stdout",
     "output_type": "stream",
     "text": [
      "\n"
     ]
    },
    {
     "data": {
      "application/vnd.jupyter.widget-view+json": {
       "model_id": "c4ea73b19bcc4c73aee4b5482e5d9e3f",
       "version_major": 2,
       "version_minor": 0
      },
      "text/plain": [
       "HBox(children=(FloatProgress(value=0.0, max=3682.0), HTML(value='')))"
      ]
     },
     "metadata": {},
     "output_type": "display_data"
    },
    {
     "name": "stdout",
     "output_type": "stream",
     "text": [
      "\n"
     ]
    },
    {
     "data": {
      "application/vnd.jupyter.widget-view+json": {
       "model_id": "1f715b5658f6453891075b931609b336",
       "version_major": 2,
       "version_minor": 0
      },
      "text/plain": [
       "HBox(children=(FloatProgress(value=0.0, max=3255.0), HTML(value='')))"
      ]
     },
     "metadata": {},
     "output_type": "display_data"
    },
    {
     "name": "stdout",
     "output_type": "stream",
     "text": [
      "\n"
     ]
    },
    {
     "data": {
      "application/vnd.jupyter.widget-view+json": {
       "model_id": "d96d0ea807ae421e8c8b6352b5f82ae6",
       "version_major": 2,
       "version_minor": 0
      },
      "text/plain": [
       "HBox(children=(FloatProgress(value=0.0, max=4703.0), HTML(value='')))"
      ]
     },
     "metadata": {},
     "output_type": "display_data"
    },
    {
     "name": "stdout",
     "output_type": "stream",
     "text": [
      "\n"
     ]
    },
    {
     "data": {
      "application/vnd.jupyter.widget-view+json": {
       "model_id": "34183469513542608d4a84de214dc6da",
       "version_major": 2,
       "version_minor": 0
      },
      "text/plain": [
       "HBox(children=(FloatProgress(value=0.0, max=5132.0), HTML(value='')))"
      ]
     },
     "metadata": {},
     "output_type": "display_data"
    },
    {
     "name": "stdout",
     "output_type": "stream",
     "text": [
      "\n",
      "\n"
     ]
    },
    {
     "data": {
      "text/html": [
       "<div>\n",
       "<style scoped>\n",
       "    .dataframe tbody tr th:only-of-type {\n",
       "        vertical-align: middle;\n",
       "    }\n",
       "\n",
       "    .dataframe tbody tr th {\n",
       "        vertical-align: top;\n",
       "    }\n",
       "\n",
       "    .dataframe thead th {\n",
       "        text-align: right;\n",
       "    }\n",
       "</style>\n",
       "<table border=\"1\" class=\"dataframe\">\n",
       "  <thead>\n",
       "    <tr style=\"text-align: right;\">\n",
       "      <th></th>\n",
       "      <th>name</th>\n",
       "      <th>iprcs</th>\n",
       "      <th>titles</th>\n",
       "      <th>en_claims</th>\n",
       "      <th>de_claims</th>\n",
       "    </tr>\n",
       "  </thead>\n",
       "  <tbody>\n",
       "    <tr>\n",
       "      <th>0</th>\n",
       "      <td>EP03703859NWB1.xml</td>\n",
       "      <td>[B60L 11/12 20060101AFI20121031BHEP, B60L 11/1...</td>\n",
       "      <td>de\\tMODULARER LEISTUNGSWANDLER MIT FLÜSSIGGEKÜ...</td>\n",
       "      <td>[A modular power converter comprising : a ther...</td>\n",
       "      <td>[Modularer_Leistungswandler , der Folgendes um...</td>\n",
       "    </tr>\n",
       "    <tr>\n",
       "      <th>1</th>\n",
       "      <td>EP04021666NWB1.xml</td>\n",
       "      <td>[F16H 61/12 20100101AFI20121030BHEP, B60W 50/0...</td>\n",
       "      <td>de\\tVerfahren zur Steuerung eines Kraftfahrzeu...</td>\n",
       "      <td>[Method for controlling a motor_vehicle_drive_...</td>\n",
       "      <td>[Verfahren zur Steuerung eines Kraftfahrzeug A...</td>\n",
       "    </tr>\n",
       "    <tr>\n",
       "      <th>2</th>\n",
       "      <td>EP03798697NWB1.xml</td>\n",
       "      <td>[B29C 44/06 20060101AFI20121002BHEP, B60R 13/0...</td>\n",
       "      <td>de\\tVERBESSERTE FAHRZEUGBODENBELÄGE UND VERFAH...</td>\n",
       "      <td>[A method of producing a vehicle_interior_floo...</td>\n",
       "      <td>[Verfahren zum Herstellen einer Innenbodenabde...</td>\n",
       "    </tr>\n",
       "    <tr>\n",
       "      <th>3</th>\n",
       "      <td>EP03815372NWB1.xml</td>\n",
       "      <td>[B60J 5/06 20060101AFI20040810BHEP, B60J 5/04 ...</td>\n",
       "      <td>de\\tSCHWENKSCHIEBETÜR FÜR FAHRZEUGE\\ten\\tPIVOT...</td>\n",
       "      <td>[Plug door for vehicles , in particular for ra...</td>\n",
       "      <td>[Schwenkschiebetür für Fahrzeuge , insbesonder...</td>\n",
       "    </tr>\n",
       "    <tr>\n",
       "      <th>4</th>\n",
       "      <td>EP05017320NWB1.xml</td>\n",
       "      <td>[B60Q 3/04 20060101AFI20051116BHEP, B60K 37/00...</td>\n",
       "      <td>de\\tKfz-Innenbeleuchtungsstruktur\\ten\\tVehicle...</td>\n",
       "      <td>[A vehicle_interior_illumination_structure com...</td>\n",
       "      <td>[Fahrzeuginnenraum Beleuchtungsstruktur , welc...</td>\n",
       "    </tr>\n",
       "    <tr>\n",
       "      <th>...</th>\n",
       "      <td>...</td>\n",
       "      <td>...</td>\n",
       "      <td>...</td>\n",
       "      <td>...</td>\n",
       "      <td>...</td>\n",
       "    </tr>\n",
       "    <tr>\n",
       "      <th>52666</th>\n",
       "      <td>EP16161642NWB1.xml</td>\n",
       "      <td>[H02J 7/00 20060101AFI20160802BHEP, B60L 11/18...</td>\n",
       "      <td>de\\tLADESTATION FÜR AUTONOM NAVIGIERENDES NUTZ...</td>\n",
       "      <td>[A charging station NUM for charging a battery...</td>\n",
       "      <td>[Ladestation NUM zum Laden einer Batterie NUM ...</td>\n",
       "    </tr>\n",
       "    <tr>\n",
       "      <th>52667</th>\n",
       "      <td>EP16162926NWB1.xml</td>\n",
       "      <td>[B60N 2/00 20060101AFI20160601BHEP, A47D 7/03 ...</td>\n",
       "      <td>de\\tTIEFENVERSTELLBARE WIEGE\\ten\\tDEPTH-ADJUST...</td>\n",
       "      <td>[An adjustable depth bassinet NUM , comprising...</td>\n",
       "      <td>[Ein in der Tiefe verstellbarer Korbwagen NUM ...</td>\n",
       "    </tr>\n",
       "    <tr>\n",
       "      <th>52668</th>\n",
       "      <td>EP15713208NWB1.xml</td>\n",
       "      <td>[H04L 29/08 20060101AFI20150923BHEP, G06F 9/44...</td>\n",
       "      <td>de\\tVERFAHREN UND SYSTEME ZUM BESCHLEUNIGTEN H...</td>\n",
       "      <td>[A method for the downloading of data to at le...</td>\n",
       "      <td>[Verfahren zum Herunterladen von Daten auf min...</td>\n",
       "    </tr>\n",
       "    <tr>\n",
       "      <th>52669</th>\n",
       "      <td>EP16181157NWB1.xml</td>\n",
       "      <td>[B60L 11/18 20060101AFI20170628BHEP, H01F 38/1...</td>\n",
       "      <td>de\\tFAHRZEUG\\ten\\tVEHICLE\\tfr\\tVÉHICULE\\t</td>\n",
       "      <td>[A vehicle NUM comprising a power_reception_de...</td>\n",
       "      <td>[Fahrzeug NUM mit einem Leistungsempfangsgerät...</td>\n",
       "    </tr>\n",
       "    <tr>\n",
       "      <th>52670</th>\n",
       "      <td>EP17000010NWB1.xml</td>\n",
       "      <td>[H05B 3/00 20060101AFI20170725BHEP, H05B 3/14 ...</td>\n",
       "      <td>de\\tSTREULICHTBLENDE EINES BILDERFASSUNGSGERÄT...</td>\n",
       "      <td>[Lens hood NUM of an image_recording_device ar...</td>\n",
       "      <td>[Streulichtblende NUM eines auf der Rückseite ...</td>\n",
       "    </tr>\n",
       "  </tbody>\n",
       "</table>\n",
       "<p>52671 rows × 5 columns</p>\n",
       "</div>"
      ],
      "text/plain": [
       "                     name                                              iprcs  \\\n",
       "0      EP03703859NWB1.xml  [B60L 11/12 20060101AFI20121031BHEP, B60L 11/1...   \n",
       "1      EP04021666NWB1.xml  [F16H 61/12 20100101AFI20121030BHEP, B60W 50/0...   \n",
       "2      EP03798697NWB1.xml  [B29C 44/06 20060101AFI20121002BHEP, B60R 13/0...   \n",
       "3      EP03815372NWB1.xml  [B60J 5/06 20060101AFI20040810BHEP, B60J 5/04 ...   \n",
       "4      EP05017320NWB1.xml  [B60Q 3/04 20060101AFI20051116BHEP, B60K 37/00...   \n",
       "...                   ...                                                ...   \n",
       "52666  EP16161642NWB1.xml  [H02J 7/00 20060101AFI20160802BHEP, B60L 11/18...   \n",
       "52667  EP16162926NWB1.xml  [B60N 2/00 20060101AFI20160601BHEP, A47D 7/03 ...   \n",
       "52668  EP15713208NWB1.xml  [H04L 29/08 20060101AFI20150923BHEP, G06F 9/44...   \n",
       "52669  EP16181157NWB1.xml  [B60L 11/18 20060101AFI20170628BHEP, H01F 38/1...   \n",
       "52670  EP17000010NWB1.xml  [H05B 3/00 20060101AFI20170725BHEP, H05B 3/14 ...   \n",
       "\n",
       "                                                  titles  \\\n",
       "0      de\\tMODULARER LEISTUNGSWANDLER MIT FLÜSSIGGEKÜ...   \n",
       "1      de\\tVerfahren zur Steuerung eines Kraftfahrzeu...   \n",
       "2      de\\tVERBESSERTE FAHRZEUGBODENBELÄGE UND VERFAH...   \n",
       "3      de\\tSCHWENKSCHIEBETÜR FÜR FAHRZEUGE\\ten\\tPIVOT...   \n",
       "4      de\\tKfz-Innenbeleuchtungsstruktur\\ten\\tVehicle...   \n",
       "...                                                  ...   \n",
       "52666  de\\tLADESTATION FÜR AUTONOM NAVIGIERENDES NUTZ...   \n",
       "52667  de\\tTIEFENVERSTELLBARE WIEGE\\ten\\tDEPTH-ADJUST...   \n",
       "52668  de\\tVERFAHREN UND SYSTEME ZUM BESCHLEUNIGTEN H...   \n",
       "52669          de\\tFAHRZEUG\\ten\\tVEHICLE\\tfr\\tVÉHICULE\\t   \n",
       "52670  de\\tSTREULICHTBLENDE EINES BILDERFASSUNGSGERÄT...   \n",
       "\n",
       "                                               en_claims  \\\n",
       "0      [A modular power converter comprising : a ther...   \n",
       "1      [Method for controlling a motor_vehicle_drive_...   \n",
       "2      [A method of producing a vehicle_interior_floo...   \n",
       "3      [Plug door for vehicles , in particular for ra...   \n",
       "4      [A vehicle_interior_illumination_structure com...   \n",
       "...                                                  ...   \n",
       "52666  [A charging station NUM for charging a battery...   \n",
       "52667  [An adjustable depth bassinet NUM , comprising...   \n",
       "52668  [A method for the downloading of data to at le...   \n",
       "52669  [A vehicle NUM comprising a power_reception_de...   \n",
       "52670  [Lens hood NUM of an image_recording_device ar...   \n",
       "\n",
       "                                               de_claims  \n",
       "0      [Modularer_Leistungswandler , der Folgendes um...  \n",
       "1      [Verfahren zur Steuerung eines Kraftfahrzeug A...  \n",
       "2      [Verfahren zum Herstellen einer Innenbodenabde...  \n",
       "3      [Schwenkschiebetür für Fahrzeuge , insbesonder...  \n",
       "4      [Fahrzeuginnenraum Beleuchtungsstruktur , welc...  \n",
       "...                                                  ...  \n",
       "52666  [Ladestation NUM zum Laden einer Batterie NUM ...  \n",
       "52667  [Ein in der Tiefe verstellbarer Korbwagen NUM ...  \n",
       "52668  [Verfahren zum Herunterladen von Daten auf min...  \n",
       "52669  [Fahrzeug NUM mit einem Leistungsempfangsgerät...  \n",
       "52670  [Streulichtblende NUM eines auf der Rückseite ...  \n",
       "\n",
       "[52671 rows x 5 columns]"
      ]
     },
     "execution_count": 344,
     "metadata": {},
     "output_type": "execute_result"
    }
   ],
   "source": [
    "epo_10_20_proc = []\n",
    "for df in tq(epo_20xx):  \n",
    "    epo_10_20_proc.extend(preprocess_claims(df))\n",
    "\n",
    "epo_10_20_proc_df = pd.DataFrame(epo_10_20_proc)\n",
    "epo_10_20_proc_df"
   ]
  },
  {
   "cell_type": "code",
   "execution_count": 334,
   "metadata": {},
   "outputs": [
    {
     "data": {
      "application/vnd.jupyter.widget-view+json": {
       "model_id": "7792ddcdb532486bafb1519b3bccdc77",
       "version_major": 2,
       "version_minor": 0
      },
      "text/plain": [
       "HBox(children=(FloatProgress(value=0.0, max=1000.0), HTML(value='')))"
      ]
     },
     "metadata": {},
     "output_type": "display_data"
    },
    {
     "name": "stdout",
     "output_type": "stream",
     "text": [
      "\n"
     ]
    }
   ],
   "source": [
    "words = []\n",
    "for claims in tq(epo_10_20_proc_df.en_claims):\n",
    "    for claim in claims:\n",
    "        split = claim.split(' ')\n",
    "        for i in split:\n",
    "            words.append(i)\n",
    "words = list(set(words))    "
   ]
  },
  {
   "cell_type": "code",
   "execution_count": 335,
   "metadata": {},
   "outputs": [
    {
     "data": {
      "text/plain": [
       "['Blank for a motor vehicle registration plate made from a metal sheet (14), the metal sheet (14) being partially reinforced by at least one multiple-ply region, characterized in that',\n",
       " 'Blank according to Claim 1, characterized in that',\n",
       " 'Blank according to Claim 1 or 2, characterized in that',\n",
       " 'Blank according to Claim 1, characterized in that',\n",
       " 'Blank according to Claim 1, characterized in that',\n",
       " 'Motor vehicle registration plate with a metal sheet (14) and, if appropriate, with a reflex film (15) arranged on a front side (16) of the metal sheet (14), characterized by',\n",
       " 'Method for producing a motor vehicle registration plate, in particular a blank for a motor vehicle registration plate, a cut-to-size piece being formed from a metal sheet (14), and the cut-to-size piece being provided, if appropriate, with a marginal embossing (10) and/or holes (17), characterized in that',\n",
       " 'Method according to Claim 7, characterized in that',\n",
       " 'Method according to Claim 7 or 8, characterized in that',\n",
       " 'Method according to Claim 8, characterized in that']"
      ]
     },
     "execution_count": 335,
     "metadata": {},
     "output_type": "execute_result"
    }
   ],
   "source": [
    "ind = 50\n",
    "epo_20xx[0].en_claims[ind]"
   ]
  },
  {
   "cell_type": "code",
   "execution_count": 336,
   "metadata": {},
   "outputs": [
    {
     "data": {
      "text/plain": [
       "['Blank for a motor_vehicle_registration_plate made from a metal_sheet NUM , the metal_sheet NUM being partially reinforced by at least one multiple_ply_region , characterized in that',\n",
       " 'Motor_vehicle_registration_plate with a metal_sheet NUM and , if appropriate , with a reflex_film NUM arranged on a front side NUM of the metal_sheet NUM , characterized by',\n",
       " 'Method for producing a motor_vehicle_registration_plate , in particular a blank for a motor_vehicle_registration_plate , a cut_to_size_piece being formed from a metal sheet NUM , and the cut_to_size_piece being provided , if appropriate , with a marginal embossing NUM and or holes NUM , characterized in that']"
      ]
     },
     "execution_count": 336,
     "metadata": {},
     "output_type": "execute_result"
    }
   ],
   "source": [
    "epo_10_20_proc_df.en_claims[ind]"
   ]
  },
  {
   "cell_type": "code",
   "execution_count": 337,
   "metadata": {},
   "outputs": [
    {
     "data": {
      "text/plain": [
       "['Rohling für ein Kraftfahrzeugkennzeichen aus einem Blech NUM , wobei das Blech NUM durch mindestens einen mehrlagigen_Bereich teilweise verstärkt ist , dadurch gekennzeichnet , dass',\n",
       " 'Kraftfahrzeugkennzeichen mit einem Blech NUM und gegebenenfalls einer auf einer Vorderseite NUM des Blechs NUM angeordneten Reflexfolie NUM , gekennzeichnet durch',\n",
       " 'Verfahren zur Herstellung eines Kraftfahrzeugkennzeichens , insbesondere eines Rohlings für ein Kraftfahrzeugkennzeichen , wobei aus einem Blech NUM ein Zuschnitt gebildet wird und der Zuschnitt gegebenenfalls mit einer Randprägung NUM und oder Löchern NUM versehen wird , dadurch gekennzeichnet , dass']"
      ]
     },
     "execution_count": 337,
     "metadata": {},
     "output_type": "execute_result"
    }
   ],
   "source": [
    "epo_10_20_proc_df.de_claims[ind]"
   ]
  },
  {
   "cell_type": "code",
   "execution_count": 225,
   "metadata": {},
   "outputs": [
    {
     "data": {
      "application/vnd.jupyter.widget-view+json": {
       "model_id": "68152586fc6d42c997f567e9b2a3a748",
       "version_major": 2,
       "version_minor": 0
      },
      "text/plain": [
       "HBox(children=(FloatProgress(value=0.0, max=74156.0), HTML(value='')))"
      ]
     },
     "metadata": {},
     "output_type": "display_data"
    },
    {
     "name": "stdout",
     "output_type": "stream",
     "text": [
      "\n"
     ]
    },
    {
     "data": {
      "application/vnd.jupyter.widget-view+json": {
       "model_id": "a4aebbdabaf04456a39f9157f6f5d155",
       "version_major": 2,
       "version_minor": 0
      },
      "text/plain": [
       "HBox(children=(FloatProgress(value=0.0, max=53632.0), HTML(value='')))"
      ]
     },
     "metadata": {},
     "output_type": "display_data"
    },
    {
     "name": "stdout",
     "output_type": "stream",
     "text": [
      "\n"
     ]
    }
   ],
   "source": [
    "# re_en_ncs = []\n",
    "# for nc in tq(en_ncs):\n",
    "#     nc = re.sub('-', '', nc)\n",
    "#     nc = re.sub('\\s{1,}', '_', nc)\n",
    "#     re_en_ncs.append(nc)\n",
    "#     \n",
    "# re_de_ncs = []\n",
    "# for nc in tq(de_ncs):\n",
    "#     nc = re.sub('-', '', nc)\n",
    "#     nc = re.sub('\\s{1,}', '_', nc)\n",
    "#     re_de_ncs.append(nc)"
   ]
  },
  {
   "cell_type": "code",
   "execution_count": null,
   "metadata": {},
   "outputs": [],
   "source": [
    "# epo_18_20 = []\n",
    "# for e, d in zip(tq(rep_en_claims), rep_de_claims):             \n",
    "#     epo_18_20.append(\n",
    "#         {\n",
    "#             'en': e,\n",
    "#             'de': d\n",
    "#         }\n",
    "#     )\n",
    "# epo_18_20_df = pd.DataFrame(epo_18_20)\n",
    "# epo_18_20_df"
   ]
  },
  {
   "cell_type": "code",
   "execution_count": 345,
   "metadata": {},
   "outputs": [
    {
     "data": {
      "text/html": [
       "<div>\n",
       "<style scoped>\n",
       "    .dataframe tbody tr th:only-of-type {\n",
       "        vertical-align: middle;\n",
       "    }\n",
       "\n",
       "    .dataframe tbody tr th {\n",
       "        vertical-align: top;\n",
       "    }\n",
       "\n",
       "    .dataframe thead th {\n",
       "        text-align: right;\n",
       "    }\n",
       "</style>\n",
       "<table border=\"1\" class=\"dataframe\">\n",
       "  <thead>\n",
       "    <tr style=\"text-align: right;\">\n",
       "      <th></th>\n",
       "      <th>name</th>\n",
       "      <th>titles</th>\n",
       "      <th>en</th>\n",
       "      <th>de</th>\n",
       "    </tr>\n",
       "  </thead>\n",
       "  <tbody>\n",
       "    <tr>\n",
       "      <th>0</th>\n",
       "      <td>EP03703859NWB1.xml</td>\n",
       "      <td>de\\tMODULARER LEISTUNGSWANDLER MIT FLÜSSIGGEKÜ...</td>\n",
       "      <td>A modular power converter comprising : a therm...</td>\n",
       "      <td>Modularer_Leistungswandler , der Folgendes umf...</td>\n",
       "    </tr>\n",
       "    <tr>\n",
       "      <th>1</th>\n",
       "      <td>EP03703859NWB1.xml</td>\n",
       "      <td>de\\tMODULARER LEISTUNGSWANDLER MIT FLÜSSIGGEKÜ...</td>\n",
       "      <td>The modular_power_converter of claim NUM , whe...</td>\n",
       "      <td>Modularer_Leistungswandler nach Anspruch NUM ,...</td>\n",
       "    </tr>\n",
       "    <tr>\n",
       "      <th>2</th>\n",
       "      <td>EP03703859NWB1.xml</td>\n",
       "      <td>de\\tMODULARER LEISTUNGSWANDLER MIT FLÜSSIGGEKÜ...</td>\n",
       "      <td>The modular_power_converter of claim NUM , whe...</td>\n",
       "      <td>Modularer_Leistungswandler nach Anspruch NUM ,...</td>\n",
       "    </tr>\n",
       "    <tr>\n",
       "      <th>3</th>\n",
       "      <td>EP03703859NWB1.xml</td>\n",
       "      <td>de\\tMODULARER LEISTUNGSWANDLER MIT FLÜSSIGGEKÜ...</td>\n",
       "      <td>The modular_power_converter of claim NUM , whe...</td>\n",
       "      <td>Modularer_Leistungswandler nach Anspruch NUM ,...</td>\n",
       "    </tr>\n",
       "    <tr>\n",
       "      <th>4</th>\n",
       "      <td>EP03703859NWB1.xml</td>\n",
       "      <td>de\\tMODULARER LEISTUNGSWANDLER MIT FLÜSSIGGEKÜ...</td>\n",
       "      <td>The modular_power_converter of claim NUM , whe...</td>\n",
       "      <td>Modularer_Leistungswandler nach Anspruch NUM ,...</td>\n",
       "    </tr>\n",
       "    <tr>\n",
       "      <th>...</th>\n",
       "      <td>...</td>\n",
       "      <td>...</td>\n",
       "      <td>...</td>\n",
       "      <td>...</td>\n",
       "    </tr>\n",
       "    <tr>\n",
       "      <th>365019</th>\n",
       "      <td>EP15713208NWB1.xml</td>\n",
       "      <td>de\\tVERFAHREN UND SYSTEME ZUM BESCHLEUNIGTEN H...</td>\n",
       "      <td>A motor vehicle NUM such that it comprises at ...</td>\n",
       "      <td>Kraftfahrzeug , das mindestens einen Computer ...</td>\n",
       "    </tr>\n",
       "    <tr>\n",
       "      <th>365020</th>\n",
       "      <td>EP15713208NWB1.xml</td>\n",
       "      <td>de\\tVERFAHREN UND SYSTEME ZUM BESCHLEUNIGTEN H...</td>\n",
       "      <td>A system for the downloading of data comprisin...</td>\n",
       "      <td>System zum Herunterladen von Daten , das ein H...</td>\n",
       "    </tr>\n",
       "    <tr>\n",
       "      <th>365021</th>\n",
       "      <td>EP16181157NWB1.xml</td>\n",
       "      <td>de\\tFAHRZEUG\\ten\\tVEHICLE\\tfr\\tVÉHICULE\\t</td>\n",
       "      <td>A vehicle NUM comprising a power_reception_dev...</td>\n",
       "      <td>Fahrzeug NUM mit einem Leistungsempfangsgerät ...</td>\n",
       "    </tr>\n",
       "    <tr>\n",
       "      <th>365022</th>\n",
       "      <td>EP16181157NWB1.xml</td>\n",
       "      <td>de\\tFAHRZEUG\\ten\\tVEHICLE\\tfr\\tVÉHICULE\\t</td>\n",
       "      <td>The vehicle NUM according to any one of claims...</td>\n",
       "      <td>Fahrzeug NUM nach einem der Ansprüche NUM bis ...</td>\n",
       "    </tr>\n",
       "    <tr>\n",
       "      <th>365023</th>\n",
       "      <td>EP17000010NWB1.xml</td>\n",
       "      <td>de\\tSTREULICHTBLENDE EINES BILDERFASSUNGSGERÄT...</td>\n",
       "      <td>Lens hood NUM of an image_recording_device arr...</td>\n",
       "      <td>Streulichtblende NUM eines auf der Rückseite e...</td>\n",
       "    </tr>\n",
       "  </tbody>\n",
       "</table>\n",
       "<p>365024 rows × 4 columns</p>\n",
       "</div>"
      ],
      "text/plain": [
       "                      name                                             titles  \\\n",
       "0       EP03703859NWB1.xml  de\\tMODULARER LEISTUNGSWANDLER MIT FLÜSSIGGEKÜ...   \n",
       "1       EP03703859NWB1.xml  de\\tMODULARER LEISTUNGSWANDLER MIT FLÜSSIGGEKÜ...   \n",
       "2       EP03703859NWB1.xml  de\\tMODULARER LEISTUNGSWANDLER MIT FLÜSSIGGEKÜ...   \n",
       "3       EP03703859NWB1.xml  de\\tMODULARER LEISTUNGSWANDLER MIT FLÜSSIGGEKÜ...   \n",
       "4       EP03703859NWB1.xml  de\\tMODULARER LEISTUNGSWANDLER MIT FLÜSSIGGEKÜ...   \n",
       "...                    ...                                                ...   \n",
       "365019  EP15713208NWB1.xml  de\\tVERFAHREN UND SYSTEME ZUM BESCHLEUNIGTEN H...   \n",
       "365020  EP15713208NWB1.xml  de\\tVERFAHREN UND SYSTEME ZUM BESCHLEUNIGTEN H...   \n",
       "365021  EP16181157NWB1.xml          de\\tFAHRZEUG\\ten\\tVEHICLE\\tfr\\tVÉHICULE\\t   \n",
       "365022  EP16181157NWB1.xml          de\\tFAHRZEUG\\ten\\tVEHICLE\\tfr\\tVÉHICULE\\t   \n",
       "365023  EP17000010NWB1.xml  de\\tSTREULICHTBLENDE EINES BILDERFASSUNGSGERÄT...   \n",
       "\n",
       "                                                       en  \\\n",
       "0       A modular power converter comprising : a therm...   \n",
       "1       The modular_power_converter of claim NUM , whe...   \n",
       "2       The modular_power_converter of claim NUM , whe...   \n",
       "3       The modular_power_converter of claim NUM , whe...   \n",
       "4       The modular_power_converter of claim NUM , whe...   \n",
       "...                                                   ...   \n",
       "365019  A motor vehicle NUM such that it comprises at ...   \n",
       "365020  A system for the downloading of data comprisin...   \n",
       "365021  A vehicle NUM comprising a power_reception_dev...   \n",
       "365022  The vehicle NUM according to any one of claims...   \n",
       "365023  Lens hood NUM of an image_recording_device arr...   \n",
       "\n",
       "                                                       de  \n",
       "0       Modularer_Leistungswandler , der Folgendes umf...  \n",
       "1       Modularer_Leistungswandler nach Anspruch NUM ,...  \n",
       "2       Modularer_Leistungswandler nach Anspruch NUM ,...  \n",
       "3       Modularer_Leistungswandler nach Anspruch NUM ,...  \n",
       "4       Modularer_Leistungswandler nach Anspruch NUM ,...  \n",
       "...                                                   ...  \n",
       "365019  Kraftfahrzeug , das mindestens einen Computer ...  \n",
       "365020  System zum Herunterladen von Daten , das ein H...  \n",
       "365021  Fahrzeug NUM mit einem Leistungsempfangsgerät ...  \n",
       "365022  Fahrzeug NUM nach einem der Ansprüche NUM bis ...  \n",
       "365023  Streulichtblende NUM eines auf der Rückseite e...  \n",
       "\n",
       "[365024 rows x 4 columns]"
      ]
     },
     "execution_count": 345,
     "metadata": {},
     "output_type": "execute_result"
    }
   ],
   "source": [
    "epo_10_20 = []\n",
    "for name, titles, en, de in zip(epo_10_20_proc_df.name,\n",
    "                                epo_10_20_proc_df.titles,\n",
    "                                epo_10_20_proc_df.en_claims,\n",
    "                                epo_10_20_proc_df.de_claims):\n",
    "    for e, d in zip(en, de):\n",
    "        epo_10_20.append(\n",
    "            {\n",
    "                'name': name,\n",
    "                'titles': titles,\n",
    "                'en': e,\n",
    "                'de': d\n",
    "            }\n",
    "        )\n",
    "epo_10_20_df = pd.DataFrame(epo_10_20)\n",
    "epo_10_20_df"
   ]
  },
  {
   "cell_type": "code",
   "execution_count": null,
   "metadata": {},
   "outputs": [],
   "source": [
    "# %%time\n",
    "# epo_18_20_df.to_pickle('../../data/word2vec/epo/epo_18_20_df_wo_ncs.gzip', compression='gzip')"
   ]
  },
  {
   "cell_type": "code",
   "execution_count": 347,
   "metadata": {},
   "outputs": [],
   "source": [
    "import sys\n",
    "sys.path.append('../')\n",
    "from util import util"
   ]
  },
  {
   "cell_type": "code",
   "execution_count": 348,
   "metadata": {},
   "outputs": [
    {
     "name": "stdout",
     "output_type": "stream",
     "text": [
      "CPU times: user 25.2 s, sys: 132 ms, total: 25.3 s\n",
      "Wall time: 25.4 s\n"
     ]
    }
   ],
   "source": [
    "%%time\n",
    "util.compress_pickle('%s/pre_proc/epo_10_20_df_w_ncs'%path, epo_10_20_df)"
   ]
  },
  {
   "cell_type": "markdown",
   "metadata": {},
   "source": [
    "## Stop word removal and tokenization"
   ]
  },
  {
   "cell_type": "code",
   "execution_count": 19,
   "metadata": {},
   "outputs": [],
   "source": [
    "import nltk\n",
    "from nltk.corpus import stopwords\n",
    "\n",
    "import string\n",
    "\n",
    "from tqdm import tqdm as tq"
   ]
  },
  {
   "cell_type": "code",
   "execution_count": 20,
   "metadata": {},
   "outputs": [],
   "source": [
    "stop_words = set(stopwords.words('english'))\n",
    "stop_words_de = set(stopwords.words('german'))\n",
    "punct = list(string.punctuation)"
   ]
  },
  {
   "cell_type": "code",
   "execution_count": 21,
   "metadata": {},
   "outputs": [],
   "source": [
    "from nltk.stem import WordNetLemmatizer\n",
    "lemmatizer_en = WordNetLemmatizer()\n",
    "\n",
    "from nltk.stem.cistem import Cistem\n",
    "lemmatizer_de = Cistem()"
   ]
  },
  {
   "cell_type": "code",
   "execution_count": 22,
   "metadata": {},
   "outputs": [],
   "source": [
    "def get_tokens_nltk(text, lang='en', lemmatize=False):\n",
    "    '''\n",
    "    this function tokenizes and returns the unique tokens\n",
    "    '''\n",
    "    tokens = nltk.word_tokenize(text.lower())\n",
    "    \n",
    "    # assign the stopwords corresponding to the language\n",
    "    if lang == 'en':\n",
    "        stop_words_xx = stop_words\n",
    "    elif lang == 'de':\n",
    "        stop_words_xx = stop_words_de\n",
    "    \n",
    "    pre_proc_tokens = []\n",
    "    for token in tokens:\n",
    "        # check if the token is a digit or a stop word or a punctuation\n",
    "        # eg: 1, is, und, '', etc.\n",
    "        if token.isdigit() or token in stop_words_xx or token in punct:\n",
    "            continue\n",
    "            \n",
    "        punct_found = False\n",
    "        # check if there is a punctuation within the token\n",
    "        # eg: vehic'le can be ignored\n",
    "        for p in punct:\n",
    "            if p in token:\n",
    "                punct_found = True\n",
    "                break\n",
    "        if punct_found:\n",
    "            continue\n",
    "        \n",
    "        # check if the token is a special token (in case of EPO claims)\n",
    "        if token in ['[ABBRV]' , '[CLAIMS]']:\n",
    "            continue\n",
    "        \n",
    "        if lemmatize:\n",
    "            if lang == 'en': \n",
    "                lemma = lemmatizer_en.lemmatize(token)\n",
    "            else:\n",
    "                lemma = lemmatizer_de.stem(token)\n",
    "            if lemma in pre_proc_tokens:\n",
    "                continue\n",
    "            pre_proc_tokens.append(lemma)\n",
    "        else:\n",
    "            if token in pre_proc_tokens:\n",
    "                continue\n",
    "            pre_proc_tokens.append(token)\n",
    "            \n",
    "    return pre_proc_tokens"
   ]
  },
  {
   "cell_type": "code",
   "execution_count": 198,
   "metadata": {},
   "outputs": [],
   "source": [
    "corpus = epo_18_20_proc_df.en_claims.to_list()\n",
    "corpus_de = epo_18_20_proc_df.de_claims.to_list()"
   ]
  },
  {
   "cell_type": "code",
   "execution_count": 199,
   "metadata": {},
   "outputs": [
    {
     "name": "stderr",
     "output_type": "stream",
     "text": [
      "                                                                                                                       \r"
     ]
    },
    {
     "name": "stdout",
     "output_type": "stream",
     "text": [
      "\n",
      "Length 30146\n",
      "\n",
      "Length all_tokens 217865\n"
     ]
    }
   ],
   "source": [
    "vocab = []\n",
    "all_tokens = []\n",
    "for _ in tq(corpus):\n",
    "    for text in _:\n",
    "        # print(text)\n",
    "        tokens = get_tokens_nltk(text, 'en', lemmatize=False)\n",
    "        # print(tokens)\n",
    "        vocab.extend(tokens)\n",
    "        all_tokens.append(tokens)\n",
    "vocab = list(set(vocab))\n",
    "# print(vocab, end=' ')\n",
    "print('\\nLength', len(vocab))\n",
    "print('\\nLength all_tokens', len(all_tokens))"
   ]
  },
  {
   "cell_type": "code",
   "execution_count": 200,
   "metadata": {},
   "outputs": [
    {
     "name": "stderr",
     "output_type": "stream",
     "text": [
      "                                                                                                                       \r"
     ]
    },
    {
     "name": "stdout",
     "output_type": "stream",
     "text": [
      "\n",
      "Length 172302\n",
      "\n",
      "Length all_tokens_de 217867\n"
     ]
    }
   ],
   "source": [
    "vocab_de = []\n",
    "all_tokens_de = []\n",
    "for _ in tq(corpus_de):\n",
    "    for text in _:\n",
    "        tokens = get_tokens_nltk(text, 'de', lemmatize=False)\n",
    "        vocab_de.extend(tokens)\n",
    "        all_tokens_de.append(tokens)\n",
    "vocab_de = list(set(vocab_de))\n",
    "# print(vocab_de, end=' ')\n",
    "print('\\nLength', len(vocab_de))\n",
    "print('\\nLength all_tokens_de', len(all_tokens_de))"
   ]
  },
  {
   "cell_type": "code",
   "execution_count": 208,
   "metadata": {},
   "outputs": [],
   "source": [
    "# Save vocab and all_tokens \n",
    "file = open('epo_vocab_en.pkl', 'wb')\n",
    "pickle.dump(vocab, file)\n",
    "file.close()\n",
    "\n",
    "file = open('epo_all_tokens_en.pkl', 'wb')\n",
    "pickle.dump(all_tokens, file)9\n",
    "file.close()\n",
    "\n",
    "\n",
    "file = open('epo_vocab_de.pkl', 'wb')\n",
    "pickle.dump(vocab_de, file)\n",
    "file.close()\n",
    "\n",
    "file = open('epo_all_tokens_de.pkl', 'wb')\n",
    "pickle.dump(all_tokens_de, file)\n",
    "file.close()"
   ]
  },
  {
   "cell_type": "code",
   "execution_count": 209,
   "metadata": {},
   "outputs": [],
   "source": [
    "# Load vocab and all_tokens \n",
    "file = open('epo_vocab_en.pkl', 'rb')\n",
    "vocab = pickle.load(file)\n",
    "file.close()\n",
    "\n",
    "file = open('epo_all_tokens_en.pkl', 'rb')\n",
    "all_tokens = pickle.load(file)\n",
    "file.close()\n",
    "\n",
    "\n",
    "file = open('epo_vocab_de.pkl', 'rb')\n",
    "vocab_de = pickle.load(file)\n",
    "file.close()\n",
    "\n",
    "file = open('epo_all_tokens_de.pkl', 'rb')\n",
    "all_tokens_de = pickle.load(file)\n",
    "file.close()"
   ]
  },
  {
   "cell_type": "code",
   "execution_count": 210,
   "metadata": {},
   "outputs": [
    {
     "name": "stdout",
     "output_type": "stream",
     "text": [
      "Vocab EN Length 30146\n",
      "Vocab DE Length 172302\n",
      "All tokens EN Length 217865\n",
      "All tokens DE Length 217867\n"
     ]
    }
   ],
   "source": [
    "print('Vocab EN Length', len(vocab))\n",
    "print('Vocab DE Length', len(vocab_de))\n",
    "print('All tokens EN Length', len(all_tokens))\n",
    "print('All tokens DE Length', len(all_tokens_de))"
   ]
  }
 ],
 "metadata": {
  "kernelspec": {
   "display_name": "Python 3",
   "language": "python",
   "name": "python3"
  },
  "language_info": {
   "codemirror_mode": {
    "name": "ipython",
    "version": 3
   },
   "file_extension": ".py",
   "mimetype": "text/x-python",
   "name": "python",
   "nbconvert_exporter": "python",
   "pygments_lexer": "ipython3",
   "version": "3.8.10"
  }
 },
 "nbformat": 4,
 "nbformat_minor": 4
}
