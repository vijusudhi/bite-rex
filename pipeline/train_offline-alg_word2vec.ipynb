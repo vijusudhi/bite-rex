{
 "cells": [
  {
   "cell_type": "markdown",
   "metadata": {
    "tags": []
   },
   "source": [
    "## Individual run"
   ]
  },
  {
   "cell_type": "code",
   "execution_count": 1,
   "metadata": {},
   "outputs": [],
   "source": [
    "import pickle"
   ]
  },
  {
   "cell_type": "code",
   "execution_count": 2,
   "metadata": {},
   "outputs": [
    {
     "name": "stderr",
     "output_type": "stream",
     "text": [
      "[nltk_data] Downloading package stopwords to /home/sudhi/nltk_data...\n",
      "[nltk_data]   Package stopwords is already up-to-date!\n",
      "[nltk_data] Downloading package punkt to /home/sudhi/nltk_data...\n",
      "[nltk_data]   Package punkt is already up-to-date!\n"
     ]
    }
   ],
   "source": [
    "import sys\n",
    "sys.path.append('../')\n",
    "from util import corpus, tokenize, util, alignment, word2vec, retrieval"
   ]
  },
  {
   "cell_type": "code",
   "execution_count": null,
   "metadata": {
    "scrolled": true
   },
   "outputs": [],
   "source": [
    "# df = util.decompress_pickle('../../data/word2vec/epo/corpus/epo_18_20_df_phrasal')\n",
    "df = util.decompress_pickle('../../data/epo_corpus_all_years/pre_proc/epo_10_20_df_w_ncs')\n",
    "df"
   ]
  },
  {
   "cell_type": "code",
   "execution_count": 4,
   "metadata": {},
   "outputs": [
    {
     "data": {
      "text/plain": [
       "'A modular power converter comprising : a thermal_support NUM for a circuit , the support comprising a substrate having fluid_inlet NUM and outlet ports NUM and a circulation_path NUM coupled between the inlet and outlet ports , the inlet and outlet ports being configured to transmit a coolant for circulation through the circulation_path ; an interface_plate NUM configured to support a power_electronics_circuit NUM , the interface_plate being configured for mounting to the support adjacent to the coolant circulation_path for extraction of heat from the interface_plate during operation ; and a power_electronics_circuit configured for power_conversion supported on the interface_plate ; and a driver_circuit NUM for applying the drive_signals to the power_electronics_circuit , the driver_circuit being secured to and cooled by the thermal_support ; wherein the support at least partially defines an electrical_reference_plane , a mechanical_support , and a thermal_extraction_path for the power_electronics_circuit . '"
      ]
     },
     "execution_count": 4,
     "metadata": {},
     "output_type": "execute_result"
    }
   ],
   "source": [
    "df.en[0]"
   ]
  },
  {
   "cell_type": "code",
   "execution_count": 5,
   "metadata": {},
   "outputs": [
    {
     "name": "stderr",
     "output_type": "stream",
     "text": [
      "19:39:27: Loading vocab\n",
      "19:39:28: Loading tokens\n",
      "19:39:37: Artefacts in the path: ../../data/word2vec/epo/\n",
      "19:39:37: Sentences\n",
      "\tLang\tSize\n",
      "\tEN\t365024\n",
      "\tDE\t365024\n",
      "19:39:37: Vocab\n",
      "\tLang\tSize\n",
      "\tEN\t380934\n",
      "\tDE\t552476\n"
     ]
    }
   ],
   "source": [
    "epo_corpus = corpus.Corpus(name='epo', \n",
    "                           doc=df,\n",
    "                           tokenize_corpus=True,\n",
    "                           load_vocab=True,\n",
    "                           load_tokens=True)"
   ]
  },
  {
   "cell_type": "code",
   "execution_count": 6,
   "metadata": {},
   "outputs": [
    {
     "name": "stderr",
     "output_type": "stream",
     "text": [
      "19:39:38: Fetching alignment dictionary from path ../../data/word2vec/epo/\n"
     ]
    }
   ],
   "source": [
    "algn_dic = alignment.AlignmentDic(name='epo',\n",
    "                                 corpus=epo_corpus,\n",
    "                                 rerun=True)"
   ]
  },
  {
   "cell_type": "code",
   "execution_count": 7,
   "metadata": {},
   "outputs": [
    {
     "name": "stderr",
     "output_type": "stream",
     "text": [
      "19:39:40: Loading translation dictionary from path: ../../data/word2vec/epo/alg/transidx\n"
     ]
    }
   ],
   "source": [
    "algn_dic.load_trans_dic()"
   ]
  },
  {
   "cell_type": "code",
   "execution_count": 10,
   "metadata": {},
   "outputs": [
    {
     "data": {
      "text/plain": [
       "190460"
      ]
     },
     "execution_count": 10,
     "metadata": {},
     "output_type": "execute_result"
    }
   ],
   "source": [
    "len(algn_dic.idx2transidx.keys())"
   ]
  },
  {
   "cell_type": "code",
   "execution_count": 44,
   "metadata": {},
   "outputs": [
    {
     "data": {
      "text/plain": [
       "(190460, 933410)"
      ]
     },
     "execution_count": 44,
     "metadata": {},
     "output_type": "execute_result"
    }
   ],
   "source": [
    "len(algn_dic.idx2transidx), len(epo_corpus.idx2word)"
   ]
  },
  {
   "cell_type": "code",
   "execution_count": 8,
   "metadata": {},
   "outputs": [
    {
     "data": {
      "text/plain": [
       "'fahrzeug'"
      ]
     },
     "execution_count": 8,
     "metadata": {},
     "output_type": "execute_result"
    }
   ],
   "source": [
    "epo_corpus.idx2word[algn_dic.idx2transidx[epo_corpus.word2idx['vehicle']]]"
   ]
  },
  {
   "cell_type": "code",
   "execution_count": 33,
   "metadata": {},
   "outputs": [
    {
     "data": {
      "text/plain": [
       "<module 'util.word2vec' from '../util/word2vec.py'>"
      ]
     },
     "execution_count": 33,
     "metadata": {},
     "output_type": "execute_result"
    }
   ],
   "source": [
    "from imp import reload\n",
    "reload(word2vec)"
   ]
  },
  {
   "cell_type": "code",
   "execution_count": 34,
   "metadata": {},
   "outputs": [
    {
     "name": "stderr",
     "output_type": "stream",
     "text": [
      "21:01:31: Fetching contents from path ../../data/word2vec/epo/\n"
     ]
    }
   ],
   "source": [
    "w2v = word2vec.Word2Vec(name='epo', \n",
    "                        corpus=epo_corpus,\n",
    "                        algn_dic=algn_dic,\n",
    "                        rerun_data=True,\n",
    "                        rerun_train=True,\n",
    "                        remove_underscores=True\n",
    "                       )\n",
    "\n",
    "\n",
    "# w2v = word2vec.Word2Vec(name='epo', \n",
    "#                         corpus=epo_corpus,\n",
    "#                         algn_dic=algn_dic,\n",
    "#                         rerun_data=False,\n",
    "#                         rerun_train=False,\n",
    "#                        )"
   ]
  },
  {
   "cell_type": "code",
   "execution_count": 35,
   "metadata": {},
   "outputs": [
    {
     "name": "stderr",
     "output_type": "stream",
     "text": [
      "21:01:33: Generating train data\n"
     ]
    },
    {
     "data": {
      "application/vnd.jupyter.widget-view+json": {
       "model_id": "9858c531bff2468bbe3f1b834be821fe",
       "version_major": 2,
       "version_minor": 0
      },
      "text/plain": [
       "HBox(children=(FloatProgress(value=0.0, max=365024.0), HTML(value='')))"
      ]
     },
     "metadata": {},
     "output_type": "display_data"
    },
    {
     "name": "stdout",
     "output_type": "stream",
     "text": [
      "\n"
     ]
    },
    {
     "data": {
      "application/vnd.jupyter.widget-view+json": {
       "model_id": "2a1ace5ed46b4318b0134ecb02fb86fa",
       "version_major": 2,
       "version_minor": 0
      },
      "text/plain": [
       "HBox(children=(FloatProgress(value=0.0, max=365024.0), HTML(value='')))"
      ]
     },
     "metadata": {},
     "output_type": "display_data"
    },
    {
     "name": "stdout",
     "output_type": "stream",
     "text": [
      "\n"
     ]
    },
    {
     "name": "stderr",
     "output_type": "stream",
     "text": [
      "21:02:40: Saved train data to path: ../../data/word2vec/epo/train/aligned_sentences\n"
     ]
    }
   ],
   "source": [
    "w2v.generate_train_data()"
   ]
  },
  {
   "cell_type": "code",
   "execution_count": 23,
   "metadata": {},
   "outputs": [
    {
     "name": "stderr",
     "output_type": "stream",
     "text": [
      "20:08:30: Loading train data from path: ../../data/word2vec/epo/train/aligned_sentences\n"
     ]
    }
   ],
   "source": [
    "w2v.load_train_data()"
   ]
  },
  {
   "cell_type": "code",
   "execution_count": 24,
   "metadata": {},
   "outputs": [
    {
     "data": {
      "text/plain": [
       "2980261"
      ]
     },
     "execution_count": 24,
     "metadata": {},
     "output_type": "execute_result"
    }
   ],
   "source": [
    "len(w2v.aligned_sentences)"
   ]
  },
  {
   "cell_type": "code",
   "execution_count": 36,
   "metadata": {},
   "outputs": [
    {
     "data": {
      "text/plain": [
       "3136108"
      ]
     },
     "execution_count": 36,
     "metadata": {},
     "output_type": "execute_result"
    }
   ],
   "source": [
    "len(w2v.aligned_sentences)"
   ]
  },
  {
   "cell_type": "code",
   "execution_count": 37,
   "metadata": {},
   "outputs": [
    {
     "data": {
      "application/vnd.jupyter.widget-view+json": {
       "model_id": "6e5de65540e6422da43d0fb94952bbd0",
       "version_major": 2,
       "version_minor": 0
      },
      "text/plain": [
       "HBox(children=(FloatProgress(value=0.0, max=3136108.0), HTML(value='')))"
      ]
     },
     "metadata": {},
     "output_type": "display_data"
    },
    {
     "name": "stdout",
     "output_type": "stream",
     "text": [
      "\n"
     ]
    }
   ],
   "source": [
    "from tqdm.notebook import tqdm as tq\n",
    "\n",
    "wo_ncs_sent = []\n",
    "for sent in tq(w2v.aligned_sentences):\n",
    "    wo_ncs = []\n",
    "    for token in sent:\n",
    "        s = token.split('_')\n",
    "        for _ in s:\n",
    "            wo_ncs.append(_)\n",
    "    wo_ncs_sent.append(wo_ncs)\n",
    "# print(wo_ncs_sent)"
   ]
  },
  {
   "cell_type": "code",
   "execution_count": 38,
   "metadata": {},
   "outputs": [
    {
     "data": {
      "text/plain": [
       "3136108"
      ]
     },
     "execution_count": 38,
     "metadata": {},
     "output_type": "execute_result"
    }
   ],
   "source": [
    "len(wo_ncs_sent)"
   ]
  },
  {
   "cell_type": "code",
   "execution_count": 39,
   "metadata": {},
   "outputs": [
    {
     "data": {
      "text/plain": [
       "6272216"
      ]
     },
     "execution_count": 39,
     "metadata": {},
     "output_type": "execute_result"
    }
   ],
   "source": [
    "train_sent = wo_ncs_sent + w2v.aligned_sentences\n",
    "len(train_sent)"
   ]
  },
  {
   "cell_type": "code",
   "execution_count": null,
   "metadata": {},
   "outputs": [],
   "source": [
    "w2v.train_model(vector_size=300, window=5, min_count=1)"
   ]
  },
  {
   "cell_type": "code",
   "execution_count": 41,
   "metadata": {},
   "outputs": [
    {
     "name": "stderr",
     "output_type": "stream",
     "text": [
      "21:43:13: Building Word2Vec vocab\n"
     ]
    }
   ],
   "source": [
    "w2v.build_wv_vocab()"
   ]
  },
  {
   "cell_type": "code",
   "execution_count": 42,
   "metadata": {},
   "outputs": [
    {
     "data": {
      "text/plain": [
       "339588"
      ]
     },
     "execution_count": 42,
     "metadata": {},
     "output_type": "execute_result"
    }
   ],
   "source": [
    "len(w2v.wv_vocab)"
   ]
  },
  {
   "cell_type": "markdown",
   "metadata": {
    "tags": []
   },
   "source": [
    "## Projection"
   ]
  },
  {
   "cell_type": "code",
   "execution_count": 19,
   "metadata": {},
   "outputs": [],
   "source": [
    "from util import projection"
   ]
  },
  {
   "cell_type": "code",
   "execution_count": 20,
   "metadata": {},
   "outputs": [
    {
     "data": {
      "application/vnd.jupyter.widget-view+json": {
       "model_id": "d705301ae9d643e5a30fcf1209daac50",
       "version_major": 2,
       "version_minor": 0
      },
      "text/plain": [
       "HBox(children=(FloatProgress(value=0.0, max=306606.0), HTML(value='')))"
      ]
     },
     "metadata": {},
     "output_type": "display_data"
    },
    {
     "name": "stdout",
     "output_type": "stream",
     "text": [
      "\n",
      "Vectors saved at: vectors_epo.tsv\n",
      "Words saved at: words_epo.tsv\n"
     ]
    }
   ],
   "source": [
    "projection.generate_tsv_files(w2v)"
   ]
  }
 ],
 "metadata": {
  "kernelspec": {
   "display_name": "Python 3",
   "language": "python",
   "name": "python3"
  },
  "language_info": {
   "codemirror_mode": {
    "name": "ipython",
    "version": 3
   },
   "file_extension": ".py",
   "mimetype": "text/x-python",
   "name": "python",
   "nbconvert_exporter": "python",
   "pygments_lexer": "ipython3",
   "version": "3.8.10"
  }
 },
 "nbformat": 4,
 "nbformat_minor": 4
}
