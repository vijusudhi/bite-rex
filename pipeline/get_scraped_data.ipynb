{
 "cells": [
  {
   "cell_type": "code",
   "execution_count": 1,
   "id": "b52583b7-8b3b-43f9-adc7-1f0cbfb7671a",
   "metadata": {},
   "outputs": [],
   "source": [
    "import json"
   ]
  },
  {
   "cell_type": "code",
   "execution_count": 2,
   "id": "12fc5720-50e4-4d6c-94a6-5a0c4879c011",
   "metadata": {},
   "outputs": [],
   "source": [
    "path = '../../code/crawl/crawl_auto'"
   ]
  },
  {
   "cell_type": "code",
   "execution_count": 3,
   "id": "3f33bd98-366a-4ac5-b91d-c13a6709474c",
   "metadata": {},
   "outputs": [
    {
     "data": {
      "text/plain": [
       "['audi_mediacenter_de.json',\n",
       " 'nissan.json',\n",
       " 'renault.json',\n",
       " 'scrapy.cfg',\n",
       " 'audi_mediacenter.json',\n",
       " 'toyota.json',\n",
       " 'vda.json',\n",
       " 'steps.txt',\n",
       " 'ford.json',\n",
       " 'bmwgroup.json',\n",
       " 'peugeot.json',\n",
       " 'media_daimler.json',\n",
       " 'vda_en.json',\n",
       " 'zf.json',\n",
       " 'media_daimler_de.json',\n",
       " 'conti_href.json',\n",
       " 'bmwgroup_en.json',\n",
       " 'conti.json',\n",
       " 'bosch.json',\n",
       " 'daimler.json',\n",
       " 'auto_news.json',\n",
       " 'audi.json',\n",
       " 'log.csv',\n",
       " 'renaultgroup.json']"
      ]
     },
     "execution_count": 3,
     "metadata": {},
     "output_type": "execute_result"
    }
   ],
   "source": [
    "import os\n",
    "for x in os.walk(path):\n",
    "    _, _, files = x\n",
    "    break\n",
    "files"
   ]
  },
  {
   "cell_type": "code",
   "execution_count": 4,
   "id": "86370ff0-91e0-4d7a-9747-d79064fb4047",
   "metadata": {},
   "outputs": [
    {
     "name": "stdout",
     "output_type": "stream",
     "text": [
      "audi_mediacenter_de.json\n",
      "nissan.json\n",
      "renault.json\n",
      "audi_mediacenter.json\n",
      "toyota.json\n",
      "vda.json\n",
      "ford.json\n",
      "bmwgroup.json\n",
      "peugeot.json\n",
      "media_daimler.json\n",
      "vda_en.json\n",
      "zf.json\n",
      "media_daimler_de.json\n",
      "conti_href.json\n",
      "bmwgroup_en.json\n",
      "conti.json\n",
      "bosch.json\n",
      "daimler.json\n",
      "auto_news.json\n",
      "audi.json\n",
      "renaultgroup.json\n"
     ]
    }
   ],
   "source": [
    "all_data = []\n",
    "for file in files:\n",
    "    if 'json' in file:\n",
    "        try:\n",
    "            print(file)\n",
    "            data = json.load(open('%s/%s'%(path,file)))\n",
    "            all_data.append(data)\n",
    "        except:\n",
    "            pass"
   ]
  },
  {
   "cell_type": "code",
   "execution_count": 5,
   "id": "534d4851-2b69-48d2-b412-ac597decb5b0",
   "metadata": {},
   "outputs": [],
   "source": [
    "from tqdm.notebook import tqdm as tq"
   ]
  },
  {
   "cell_type": "code",
   "execution_count": 6,
   "id": "931289b1-9794-467f-952e-af74ece32e70",
   "metadata": {},
   "outputs": [
    {
     "data": {
      "application/vnd.jupyter.widget-view+json": {
       "model_id": "fd44caf77e48491ca10e310b68bc9c63",
       "version_major": 2,
       "version_minor": 0
      },
      "text/plain": [
       "HBox(children=(FloatProgress(value=0.0, max=11.0), HTML(value='')))"
      ]
     },
     "metadata": {},
     "output_type": "display_data"
    },
    {
     "data": {
      "application/vnd.jupyter.widget-view+json": {
       "model_id": "1dbfbe793a164e0290de4c014f3bbae4",
       "version_major": 2,
       "version_minor": 0
      },
      "text/plain": [
       "HBox(children=(FloatProgress(value=0.0, max=2830.0), HTML(value='')))"
      ]
     },
     "metadata": {},
     "output_type": "display_data"
    },
    {
     "name": "stdout",
     "output_type": "stream",
     "text": [
      "\n"
     ]
    },
    {
     "data": {
      "application/vnd.jupyter.widget-view+json": {
       "model_id": "eb191dd10b7d4231840cec892c6c57e1",
       "version_major": 2,
       "version_minor": 0
      },
      "text/plain": [
       "HBox(children=(FloatProgress(value=0.0, max=376.0), HTML(value='')))"
      ]
     },
     "metadata": {},
     "output_type": "display_data"
    },
    {
     "name": "stdout",
     "output_type": "stream",
     "text": [
      "\n"
     ]
    },
    {
     "data": {
      "application/vnd.jupyter.widget-view+json": {
       "model_id": "f6c97101ec37416b88aa0670bbbe8f94",
       "version_major": 2,
       "version_minor": 0
      },
      "text/plain": [
       "HBox(children=(FloatProgress(value=0.0, max=191.0), HTML(value='')))"
      ]
     },
     "metadata": {},
     "output_type": "display_data"
    },
    {
     "name": "stdout",
     "output_type": "stream",
     "text": [
      "\n"
     ]
    },
    {
     "data": {
      "application/vnd.jupyter.widget-view+json": {
       "model_id": "bc3739b943784bb8b2bf11bef0a0d097",
       "version_major": 2,
       "version_minor": 0
      },
      "text/plain": [
       "HBox(children=(FloatProgress(value=0.0, max=2830.0), HTML(value='')))"
      ]
     },
     "metadata": {},
     "output_type": "display_data"
    },
    {
     "name": "stdout",
     "output_type": "stream",
     "text": [
      "\n"
     ]
    },
    {
     "data": {
      "application/vnd.jupyter.widget-view+json": {
       "model_id": "5f95c1b01c8846439025514b9cfd8d50",
       "version_major": 2,
       "version_minor": 0
      },
      "text/plain": [
       "HBox(children=(FloatProgress(value=0.0, max=112.0), HTML(value='')))"
      ]
     },
     "metadata": {},
     "output_type": "display_data"
    },
    {
     "name": "stdout",
     "output_type": "stream",
     "text": [
      "\n"
     ]
    },
    {
     "data": {
      "application/vnd.jupyter.widget-view+json": {
       "model_id": "8a6b597d17a345f7a8deb0ed873d9578",
       "version_major": 2,
       "version_minor": 0
      },
      "text/plain": [
       "HBox(children=(FloatProgress(value=0.0, max=173.0), HTML(value='')))"
      ]
     },
     "metadata": {},
     "output_type": "display_data"
    },
    {
     "name": "stdout",
     "output_type": "stream",
     "text": [
      "\n"
     ]
    },
    {
     "data": {
      "application/vnd.jupyter.widget-view+json": {
       "model_id": "cd5f114de1194599a32f95a5b596500d",
       "version_major": 2,
       "version_minor": 0
      },
      "text/plain": [
       "HBox(children=(FloatProgress(value=0.0, max=199.0), HTML(value='')))"
      ]
     },
     "metadata": {},
     "output_type": "display_data"
    },
    {
     "name": "stdout",
     "output_type": "stream",
     "text": [
      "\n"
     ]
    },
    {
     "data": {
      "application/vnd.jupyter.widget-view+json": {
       "model_id": "1b31a4aa0e25453585363034762da771",
       "version_major": 2,
       "version_minor": 0
      },
      "text/plain": [
       "HBox(children=(FloatProgress(value=0.0, max=817.0), HTML(value='')))"
      ]
     },
     "metadata": {},
     "output_type": "display_data"
    },
    {
     "name": "stdout",
     "output_type": "stream",
     "text": [
      "\n"
     ]
    },
    {
     "data": {
      "application/vnd.jupyter.widget-view+json": {
       "model_id": "e7a73569a6d34a9999b3ab7b7ca84827",
       "version_major": 2,
       "version_minor": 0
      },
      "text/plain": [
       "HBox(children=(FloatProgress(value=0.0, max=883.0), HTML(value='')))"
      ]
     },
     "metadata": {},
     "output_type": "display_data"
    },
    {
     "name": "stdout",
     "output_type": "stream",
     "text": [
      "\n"
     ]
    },
    {
     "data": {
      "application/vnd.jupyter.widget-view+json": {
       "model_id": "0d9b1da8b33b4285a4e382b23bf132c5",
       "version_major": 2,
       "version_minor": 0
      },
      "text/plain": [
       "HBox(children=(FloatProgress(value=0.0, max=476.0), HTML(value='')))"
      ]
     },
     "metadata": {},
     "output_type": "display_data"
    },
    {
     "name": "stdout",
     "output_type": "stream",
     "text": [
      "\n"
     ]
    },
    {
     "data": {
      "application/vnd.jupyter.widget-view+json": {
       "model_id": "ed9b85aa3d934e5380427997b4509d0a",
       "version_major": 2,
       "version_minor": 0
      },
      "text/plain": [
       "HBox(children=(FloatProgress(value=0.0, max=28.0), HTML(value='')))"
      ]
     },
     "metadata": {},
     "output_type": "display_data"
    },
    {
     "name": "stdout",
     "output_type": "stream",
     "text": [
      "\n",
      "\n"
     ]
    }
   ],
   "source": [
    "scraped = []\n",
    "\n",
    "for data in tq(all_data):\n",
    "    for i in tq(data):\n",
    "        texts = i['text']\n",
    "        for text in texts:\n",
    "            if len(text.split(' ')) > 10:\n",
    "                scraped.append(\n",
    "                    {\n",
    "                        'url': i['url'],\n",
    "                        'text': text.strip()\n",
    "                    }\n",
    "                )"
   ]
  },
  {
   "cell_type": "code",
   "execution_count": 7,
   "id": "053b98ea-4157-4e12-8555-856a47803bcc",
   "metadata": {},
   "outputs": [],
   "source": [
    "import pandas as pd"
   ]
  },
  {
   "cell_type": "code",
   "execution_count": 8,
   "id": "cae16e60-20be-4828-afdf-420d938a5e2b",
   "metadata": {},
   "outputs": [],
   "source": [
    "scraped_df = pd.DataFrame(scraped)"
   ]
  },
  {
   "cell_type": "code",
   "execution_count": 9,
   "id": "7c0c79d6-1cda-4a6c-a0df-5fc62cba5968",
   "metadata": {},
   "outputs": [],
   "source": [
    "import sys\n",
    "sys.path.append('../')\n",
    "from util import util"
   ]
  },
  {
   "cell_type": "code",
   "execution_count": 10,
   "id": "a6b3e36e-4eb5-4846-99ab-a5b263ebb6cf",
   "metadata": {},
   "outputs": [],
   "source": [
    "util.compress_pickle('../../data/other/scraped_df_new', scraped_df)"
   ]
  },
  {
   "cell_type": "code",
   "execution_count": 11,
   "id": "0a967579-c399-437b-8317-64a8f636d9c1",
   "metadata": {},
   "outputs": [
    {
     "data": {
      "text/html": [
       "<div>\n",
       "<style scoped>\n",
       "    .dataframe tbody tr th:only-of-type {\n",
       "        vertical-align: middle;\n",
       "    }\n",
       "\n",
       "    .dataframe tbody tr th {\n",
       "        vertical-align: top;\n",
       "    }\n",
       "\n",
       "    .dataframe thead th {\n",
       "        text-align: right;\n",
       "    }\n",
       "</style>\n",
       "<table border=\"1\" class=\"dataframe\">\n",
       "  <thead>\n",
       "    <tr style=\"text-align: right;\">\n",
       "      <th></th>\n",
       "      <th>url</th>\n",
       "      <th>text</th>\n",
       "    </tr>\n",
       "  </thead>\n",
       "  <tbody>\n",
       "    <tr>\n",
       "      <th>0</th>\n",
       "      <td>https://www.audi-mediacenter.com/de</td>\n",
       "      <td>Die angegebenen Verbrauchs- und Emissionswerte...</td>\n",
       "    </tr>\n",
       "    <tr>\n",
       "      <th>1</th>\n",
       "      <td>https://www.audi-mediacenter.com/de</td>\n",
       "      <td>-Emissionen, typgenehmigt. Ab dem 1. September...</td>\n",
       "    </tr>\n",
       "    <tr>\n",
       "      <th>2</th>\n",
       "      <td>https://www.audi-mediacenter.com/de</td>\n",
       "      <td>- Emissionswerte in vielen Fällen höher als di...</td>\n",
       "    </tr>\n",
       "    <tr>\n",
       "      <th>3</th>\n",
       "      <td>https://www.audi-mediacenter.com/de</td>\n",
       "      <td>Aktuell sind noch die NEFZ-Werte verpflichtend...</td>\n",
       "    </tr>\n",
       "    <tr>\n",
       "      <th>4</th>\n",
       "      <td>https://www.audi-mediacenter.com/de</td>\n",
       "      <td>-Emissionen neuer Personenkraftwagen können de...</td>\n",
       "    </tr>\n",
       "    <tr>\n",
       "      <th>...</th>\n",
       "      <td>...</td>\n",
       "      <td>...</td>\n",
       "    </tr>\n",
       "    <tr>\n",
       "      <th>133727</th>\n",
       "      <td>https://www.renaultgroup.com/news-onair/actual...</td>\n",
       "      <td>Afin de développer la mobilité de demain, nous...</td>\n",
       "    </tr>\n",
       "    <tr>\n",
       "      <th>133728</th>\n",
       "      <td>https://www.renaultgroup.com/news-onair/actual...</td>\n",
       "      <td>Découvrez nos actions en faveur de l’environne...</td>\n",
       "    </tr>\n",
       "    <tr>\n",
       "      <th>133729</th>\n",
       "      <td>https://www.renaultgroup.com/news-onair/actual...</td>\n",
       "      <td>Retrouvez nos publications, résultats et événe...</td>\n",
       "    </tr>\n",
       "    <tr>\n",
       "      <th>133730</th>\n",
       "      <td>https://www.renaultgroup.com/news-onair/actual...</td>\n",
       "      <td>Envie de rejoindre Renault Group ? Découvrez l...</td>\n",
       "    </tr>\n",
       "    <tr>\n",
       "      <th>133731</th>\n",
       "      <td>https://www.renaultgroup.com/news-onair/actual...</td>\n",
       "      <td>Découvrez toute l’actualité et les stories de ...</td>\n",
       "    </tr>\n",
       "  </tbody>\n",
       "</table>\n",
       "<p>133732 rows × 2 columns</p>\n",
       "</div>"
      ],
      "text/plain": [
       "                                                      url  \\\n",
       "0                     https://www.audi-mediacenter.com/de   \n",
       "1                     https://www.audi-mediacenter.com/de   \n",
       "2                     https://www.audi-mediacenter.com/de   \n",
       "3                     https://www.audi-mediacenter.com/de   \n",
       "4                     https://www.audi-mediacenter.com/de   \n",
       "...                                                   ...   \n",
       "133727  https://www.renaultgroup.com/news-onair/actual...   \n",
       "133728  https://www.renaultgroup.com/news-onair/actual...   \n",
       "133729  https://www.renaultgroup.com/news-onair/actual...   \n",
       "133730  https://www.renaultgroup.com/news-onair/actual...   \n",
       "133731  https://www.renaultgroup.com/news-onair/actual...   \n",
       "\n",
       "                                                     text  \n",
       "0       Die angegebenen Verbrauchs- und Emissionswerte...  \n",
       "1       -Emissionen, typgenehmigt. Ab dem 1. September...  \n",
       "2       - Emissionswerte in vielen Fällen höher als di...  \n",
       "3       Aktuell sind noch die NEFZ-Werte verpflichtend...  \n",
       "4       -Emissionen neuer Personenkraftwagen können de...  \n",
       "...                                                   ...  \n",
       "133727  Afin de développer la mobilité de demain, nous...  \n",
       "133728  Découvrez nos actions en faveur de l’environne...  \n",
       "133729  Retrouvez nos publications, résultats et événe...  \n",
       "133730  Envie de rejoindre Renault Group ? Découvrez l...  \n",
       "133731  Découvrez toute l’actualité et les stories de ...  \n",
       "\n",
       "[133732 rows x 2 columns]"
      ]
     },
     "execution_count": 11,
     "metadata": {},
     "output_type": "execute_result"
    }
   ],
   "source": [
    "scraped_df"
   ]
  },
  {
   "cell_type": "code",
   "execution_count": null,
   "id": "ec62dbe6-e8d8-416f-af64-f5cb03ae644c",
   "metadata": {},
   "outputs": [],
   "source": []
  }
 ],
 "metadata": {
  "kernelspec": {
   "display_name": "Python 3",
   "language": "python",
   "name": "python3"
  },
  "language_info": {
   "codemirror_mode": {
    "name": "ipython",
    "version": 3
   },
   "file_extension": ".py",
   "mimetype": "text/x-python",
   "name": "python",
   "nbconvert_exporter": "python",
   "pygments_lexer": "ipython3",
   "version": "3.8.10"
  }
 },
 "nbformat": 4,
 "nbformat_minor": 5
}
