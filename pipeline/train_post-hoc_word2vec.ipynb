{
 "cells": [
  {
   "cell_type": "markdown",
   "metadata": {
    "tags": []
   },
   "source": [
    "## Individual run"
   ]
  },
  {
   "cell_type": "code",
   "execution_count": 2,
   "metadata": {},
   "outputs": [],
   "source": [
    "import pickle"
   ]
  },
  {
   "cell_type": "code",
   "execution_count": 3,
   "metadata": {},
   "outputs": [],
   "source": [
    "import sys\n",
    "sys.path.append('../')\n",
    "from util import corpus, tokenize, util, alignment, word2vec, retrieval"
   ]
  },
  {
   "cell_type": "code",
   "execution_count": 4,
   "metadata": {},
   "outputs": [
    {
     "data": {
      "text/html": [
       "<div>\n",
       "<style scoped>\n",
       "    .dataframe tbody tr th:only-of-type {\n",
       "        vertical-align: middle;\n",
       "    }\n",
       "\n",
       "    .dataframe tbody tr th {\n",
       "        vertical-align: top;\n",
       "    }\n",
       "\n",
       "    .dataframe thead th {\n",
       "        text-align: right;\n",
       "    }\n",
       "</style>\n",
       "<table border=\"1\" class=\"dataframe\">\n",
       "  <thead>\n",
       "    <tr style=\"text-align: right;\">\n",
       "      <th></th>\n",
       "      <th>name</th>\n",
       "      <th>titles</th>\n",
       "      <th>en</th>\n",
       "      <th>de</th>\n",
       "    </tr>\n",
       "  </thead>\n",
       "  <tbody>\n",
       "    <tr>\n",
       "      <th>0</th>\n",
       "      <td>EP03703859NWB1.xml</td>\n",
       "      <td>de\\tMODULARER LEISTUNGSWANDLER MIT FLÜSSIGGEKÜ...</td>\n",
       "      <td>A modular power converter comprising a thermal...</td>\n",
       "      <td>Modularer Leistungswandler, der Folgendes umfa...</td>\n",
       "    </tr>\n",
       "    <tr>\n",
       "      <th>1</th>\n",
       "      <td>EP03703859NWB1.xml</td>\n",
       "      <td>de\\tMODULARER LEISTUNGSWANDLER MIT FLÜSSIGGEKÜ...</td>\n",
       "      <td>The modular power converter of claim 1, wherei...</td>\n",
       "      <td>Modularer Leistungswandler nach Anspruch 1, wo...</td>\n",
       "    </tr>\n",
       "    <tr>\n",
       "      <th>2</th>\n",
       "      <td>EP03703859NWB1.xml</td>\n",
       "      <td>de\\tMODULARER LEISTUNGSWANDLER MIT FLÜSSIGGEKÜ...</td>\n",
       "      <td>The modular power converter of claim 1, wherei...</td>\n",
       "      <td>Modularer Leistungswandler nach Anspruch 1, wo...</td>\n",
       "    </tr>\n",
       "    <tr>\n",
       "      <th>3</th>\n",
       "      <td>EP03703859NWB1.xml</td>\n",
       "      <td>de\\tMODULARER LEISTUNGSWANDLER MIT FLÜSSIGGEKÜ...</td>\n",
       "      <td>The modular power converter of claim 1, wherei...</td>\n",
       "      <td>Modularer Leistungswandler nach Anspruch 1, wo...</td>\n",
       "    </tr>\n",
       "    <tr>\n",
       "      <th>4</th>\n",
       "      <td>EP03703859NWB1.xml</td>\n",
       "      <td>de\\tMODULARER LEISTUNGSWANDLER MIT FLÜSSIGGEKÜ...</td>\n",
       "      <td>The modular power converter of claim 1, wherei...</td>\n",
       "      <td>Modularer Leistungswandler nach Anspruch 1, wo...</td>\n",
       "    </tr>\n",
       "    <tr>\n",
       "      <th>...</th>\n",
       "      <td>...</td>\n",
       "      <td>...</td>\n",
       "      <td>...</td>\n",
       "      <td>...</td>\n",
       "    </tr>\n",
       "    <tr>\n",
       "      <th>545093</th>\n",
       "      <td>EP17000010NWB1.xml</td>\n",
       "      <td>de\\tSTREULICHTBLENDE EINES BILDERFASSUNGSGERÄT...</td>\n",
       "      <td>Lens hood according to Claim 10, characterized...</td>\n",
       "      <td>Streulichtblende nach Anspruch 10, dadurch gek...</td>\n",
       "    </tr>\n",
       "    <tr>\n",
       "      <th>545094</th>\n",
       "      <td>EP17000010NWB1.xml</td>\n",
       "      <td>de\\tSTREULICHTBLENDE EINES BILDERFASSUNGSGERÄT...</td>\n",
       "      <td>Lens hood according to one of Claims 9 to 11, ...</td>\n",
       "      <td>Streulichtblende nach einem der Ansprüche 9 bi...</td>\n",
       "    </tr>\n",
       "    <tr>\n",
       "      <th>545095</th>\n",
       "      <td>EP17000010NWB1.xml</td>\n",
       "      <td>de\\tSTREULICHTBLENDE EINES BILDERFASSUNGSGERÄT...</td>\n",
       "      <td>Lens hood according to one of the preceding cl...</td>\n",
       "      <td>Streulichtblende nach einem der vorherigen Ans...</td>\n",
       "    </tr>\n",
       "    <tr>\n",
       "      <th>545096</th>\n",
       "      <td>EP17000010NWB1.xml</td>\n",
       "      <td>de\\tSTREULICHTBLENDE EINES BILDERFASSUNGSGERÄT...</td>\n",
       "      <td>Lens hood according to one of the preceding cl...</td>\n",
       "      <td>Streulichtblende nach einem der vorherigen Ans...</td>\n",
       "    </tr>\n",
       "    <tr>\n",
       "      <th>545097</th>\n",
       "      <td>EP17000010NWB1.xml</td>\n",
       "      <td>de\\tSTREULICHTBLENDE EINES BILDERFASSUNGSGERÄT...</td>\n",
       "      <td>Lens hood according to one of the preceding cl...</td>\n",
       "      <td>Streulichtblende nach einem der vorherigen Ans...</td>\n",
       "    </tr>\n",
       "  </tbody>\n",
       "</table>\n",
       "<p>545098 rows × 4 columns</p>\n",
       "</div>"
      ],
      "text/plain": [
       "                      name                                             titles  \\\n",
       "0       EP03703859NWB1.xml  de\\tMODULARER LEISTUNGSWANDLER MIT FLÜSSIGGEKÜ...   \n",
       "1       EP03703859NWB1.xml  de\\tMODULARER LEISTUNGSWANDLER MIT FLÜSSIGGEKÜ...   \n",
       "2       EP03703859NWB1.xml  de\\tMODULARER LEISTUNGSWANDLER MIT FLÜSSIGGEKÜ...   \n",
       "3       EP03703859NWB1.xml  de\\tMODULARER LEISTUNGSWANDLER MIT FLÜSSIGGEKÜ...   \n",
       "4       EP03703859NWB1.xml  de\\tMODULARER LEISTUNGSWANDLER MIT FLÜSSIGGEKÜ...   \n",
       "...                    ...                                                ...   \n",
       "545093  EP17000010NWB1.xml  de\\tSTREULICHTBLENDE EINES BILDERFASSUNGSGERÄT...   \n",
       "545094  EP17000010NWB1.xml  de\\tSTREULICHTBLENDE EINES BILDERFASSUNGSGERÄT...   \n",
       "545095  EP17000010NWB1.xml  de\\tSTREULICHTBLENDE EINES BILDERFASSUNGSGERÄT...   \n",
       "545096  EP17000010NWB1.xml  de\\tSTREULICHTBLENDE EINES BILDERFASSUNGSGERÄT...   \n",
       "545097  EP17000010NWB1.xml  de\\tSTREULICHTBLENDE EINES BILDERFASSUNGSGERÄT...   \n",
       "\n",
       "                                                       en  \\\n",
       "0       A modular power converter comprising a thermal...   \n",
       "1       The modular power converter of claim 1, wherei...   \n",
       "2       The modular power converter of claim 1, wherei...   \n",
       "3       The modular power converter of claim 1, wherei...   \n",
       "4       The modular power converter of claim 1, wherei...   \n",
       "...                                                   ...   \n",
       "545093  Lens hood according to Claim 10, characterized...   \n",
       "545094  Lens hood according to one of Claims 9 to 11, ...   \n",
       "545095  Lens hood according to one of the preceding cl...   \n",
       "545096  Lens hood according to one of the preceding cl...   \n",
       "545097  Lens hood according to one of the preceding cl...   \n",
       "\n",
       "                                                       de  \n",
       "0       Modularer Leistungswandler, der Folgendes umfa...  \n",
       "1       Modularer Leistungswandler nach Anspruch 1, wo...  \n",
       "2       Modularer Leistungswandler nach Anspruch 1, wo...  \n",
       "3       Modularer Leistungswandler nach Anspruch 1, wo...  \n",
       "4       Modularer Leistungswandler nach Anspruch 1, wo...  \n",
       "...                                                   ...  \n",
       "545093  Streulichtblende nach Anspruch 10, dadurch gek...  \n",
       "545094  Streulichtblende nach einem der Ansprüche 9 bi...  \n",
       "545095  Streulichtblende nach einem der vorherigen Ans...  \n",
       "545096  Streulichtblende nach einem der vorherigen Ans...  \n",
       "545097  Streulichtblende nach einem der vorherigen Ans...  \n",
       "\n",
       "[545098 rows x 4 columns]"
      ]
     },
     "execution_count": 4,
     "metadata": {},
     "output_type": "execute_result"
    }
   ],
   "source": [
    "df = util.decompress_pickle('../../data/word2vec/epo_en/corpus/epo_10_20_df_wo_pre')\n",
    "df"
   ]
  },
  {
   "cell_type": "code",
   "execution_count": 5,
   "metadata": {},
   "outputs": [
    {
     "data": {
      "text/plain": [
       "'A modular power converter comprising a thermal support 12 for a circuit, the support comprising a substrate having fluid inlet 22 and outlet ports 24 and a circulation path 152 coupled between the inlet and outlet ports, the inlet and outlet ports being configured to transmit a coolant for circulation through the circulation path an interface plate 148 configured to support a power electronics circuit 130, the interface plate being configured for mounting to the support adjacent to the coolant circulation path for extraction of heat from the interface plate during operation anda power electronics circuit configured for power conversion supported on the interface plate anda driver circuit 34 for applying the drive signals to the power electronics circuit, the driver circuit being secured to and cooled by the thermal support wherein the support at least partially defines an electrical reference plane, a mechanical support, and a thermal extraction path for the power electronics circuit.'"
      ]
     },
     "execution_count": 5,
     "metadata": {},
     "output_type": "execute_result"
    }
   ],
   "source": [
    "df.en[0]"
   ]
  },
  {
   "cell_type": "code",
   "execution_count": 6,
   "metadata": {},
   "outputs": [
    {
     "name": "stderr",
     "output_type": "stream",
     "text": [
      "01:47:12: Loading vocab\n",
      "01:47:12: Loading tokens\n",
      "01:47:22: Artefacts in the path: ../../data/word2vec/epo_en/\n",
      "01:47:22: Sentences\n",
      "\tLang\tSize\n",
      "\tEN\t545098\n",
      "\tDE\t545098\n",
      "01:47:22: Vocab\n",
      "\tLang\tSize\n",
      "\tEN\t97354\n",
      "\tDE\t392292\n"
     ]
    }
   ],
   "source": [
    "epo_corpus = corpus.Corpus(name='epo_en', \n",
    "                           doc=df,\n",
    "                           tokenize_corpus=True,\n",
    "                           load_vocab=True,\n",
    "                          load_tokens=True)"
   ]
  },
  {
   "cell_type": "code",
   "execution_count": 7,
   "metadata": {},
   "outputs": [
    {
     "name": "stdout",
     "output_type": "stream",
     "text": [
      "['modular', 'power', 'converter', 'comprising', 'thermal', 'support', 'circuit', 'substrate', 'fluid', 'inlet', 'outlet', 'ports', 'circulation', 'path', 'coupled', 'configured', 'transmit', 'coolant', 'interface', 'plate', 'electronics', 'mounting', 'adjacent', 'extraction', 'heat', 'operation', 'anda', 'conversion', 'supported', 'driver', 'applying', 'drive', 'signals', 'secured', 'cooled', 'wherein', 'least', 'partially', 'defines', 'electrical', 'reference', 'plane', 'mechanical'] \n",
      " ['modularer', 'leistungswandler', 'folgendes', 'umfasst', 'thermischen', 'träger', 'schaltung', 'wobei', 'substrat', 'fluideinlassanschlüssen', 'fluidauslassanschlüssen', 'zirkulationsweg', 'einlass', 'auslassanschlüsse', 'gekoppelt', 'konfiguriert', 'kühlmittel', 'zirkulation', 'durchzulassen', 'grenzflächenplatte', 'leistungselektronikschaltung', 'tragen', 'nähe', 'kühlmittelzirkulationswegs', 'montiert', 'betriebs', 'wärme', 'entnehmen', 'undeine', 'leistungsumwandlung', 'getragen', 'treiberschaltung', 'treibersignale', 'anzulegen', 'befestigt', 'gekühlt', 'wenigstens', 'teilweise', 'elektrische', 'bezugsebene', 'mechanischen', 'wärmeentnahmeweg', 'definiert']\n"
     ]
    }
   ],
   "source": [
    "print(epo_corpus.all_toks_en[0], '\\n', epo_corpus.all_toks_de[0])"
   ]
  },
  {
   "cell_type": "code",
   "execution_count": null,
   "metadata": {},
   "outputs": [],
   "source": [
    "# Build EN model\n",
    "w2v_en = word2vec.Word2Vec(name='epo_en', \n",
    "                       corpus=epo_corpus)\n",
    "w2v_en.aligned_sentences = epo_corpus.all_toks_en\n",
    "w2v_en.train_model(vector_size=300, window=5, min_count=1)\n",
    "w2v_en.build_wv_vocab()"
   ]
  },
  {
   "cell_type": "code",
   "execution_count": 11,
   "metadata": {},
   "outputs": [
    {
     "data": {
      "text/plain": [
       "(545098, 16591)"
      ]
     },
     "execution_count": 11,
     "metadata": {},
     "output_type": "execute_result"
    }
   ],
   "source": [
    "len(epo_corpus.all_toks_en), len(w2v_en.wv_vocab)"
   ]
  },
  {
   "cell_type": "code",
   "execution_count": null,
   "metadata": {},
   "outputs": [],
   "source": [
    "# Build DE model\n",
    "\n",
    "w2v_de = word2vec.Word2Vec(name='epo_de', \n",
    "                       corpus=epo_corpus)\n",
    "w2v_de.aligned_sentences = epo_corpus.all_toks_de\n",
    "w2v_de.train_model(vector_size=300, window=5, min_count=1)\n",
    "w2v_de.build_wv_vocab()"
   ]
  },
  {
   "cell_type": "code",
   "execution_count": 8,
   "metadata": {},
   "outputs": [
    {
     "name": "stderr",
     "output_type": "stream",
     "text": [
      "01:47:26: Fetching contents from path ../../data/word2vec/epo_en/\n",
      "01:47:26: Loading Word2Vec model from path: ../../data/word2vec/epo_en/models/static/03-09-2021-00-54/word2vec.model\n",
      "01:47:26: loading Word2Vec object from ../../data/word2vec/epo_en/models/static/03-09-2021-00-54/word2vec.model\n",
      "01:47:26: loading wv recursively from ../../data/word2vec/epo_en/models/static/03-09-2021-00-54/word2vec.model.wv.* with mmap=None\n",
      "01:47:26: setting ignored attribute cum_table to None\n",
      "01:47:26: Word2Vec lifecycle event {'fname': '../../data/word2vec/epo_en/models/static/03-09-2021-00-54/word2vec.model', 'datetime': '2021-09-03T01:47:26.631831', 'gensim': '4.0.1', 'python': '3.8.8 (default, Apr 13 2021, 19:58:26) \\n[GCC 7.3.0]', 'platform': 'Linux-5.4.0-81-generic-x86_64-with-glibc2.10', 'event': 'loaded'}\n",
      "01:47:26: Building Word2Vec vocab\n"
     ]
    }
   ],
   "source": [
    "# Load EN model\n",
    "\n",
    "w2v_en = word2vec.Word2Vec(name='epo_en', \n",
    "                        corpus=epo_corpus\n",
    "                       )\n",
    "w2v_en.load_model()\n",
    "w2v_en.build_wv_vocab()"
   ]
  },
  {
   "cell_type": "code",
   "execution_count": 9,
   "metadata": {},
   "outputs": [
    {
     "name": "stderr",
     "output_type": "stream",
     "text": [
      "01:47:29: Fetching contents from path ../../data/word2vec/epo_de/\n",
      "01:47:29: Loading Word2Vec model from path: ../../data/word2vec/epo_de/models/static/03-09-2021-00-55/word2vec.model\n",
      "01:47:29: loading Word2Vec object from ../../data/word2vec/epo_de/models/static/03-09-2021-00-55/word2vec.model\n",
      "01:47:29: loading wv recursively from ../../data/word2vec/epo_de/models/static/03-09-2021-00-55/word2vec.model.wv.* with mmap=None\n",
      "01:47:29: loading vectors from ../../data/word2vec/epo_de/models/static/03-09-2021-00-55/word2vec.model.wv.vectors.npy with mmap=None\n",
      "01:47:29: loading syn1neg from ../../data/word2vec/epo_de/models/static/03-09-2021-00-55/word2vec.model.syn1neg.npy with mmap=None\n",
      "01:47:29: setting ignored attribute cum_table to None\n",
      "01:47:30: Word2Vec lifecycle event {'fname': '../../data/word2vec/epo_de/models/static/03-09-2021-00-55/word2vec.model', 'datetime': '2021-09-03T01:47:30.241485', 'gensim': '4.0.1', 'python': '3.8.8 (default, Apr 13 2021, 19:58:26) \\n[GCC 7.3.0]', 'platform': 'Linux-5.4.0-81-generic-x86_64-with-glibc2.10', 'event': 'loaded'}\n",
      "01:47:30: Building Word2Vec vocab\n"
     ]
    }
   ],
   "source": [
    "# Load DE model\n",
    "\n",
    "w2v_de = word2vec.Word2Vec(name='epo_de', \n",
    "                        corpus=epo_corpus\n",
    "                       )\n",
    "w2v_de.load_model()\n",
    "w2v_de.build_wv_vocab()"
   ]
  },
  {
   "cell_type": "markdown",
   "metadata": {},
   "source": [
    "## MUSE to align mono lingual embeddings"
   ]
  },
  {
   "cell_type": "code",
   "execution_count": 15,
   "metadata": {},
   "outputs": [],
   "source": [
    "# Generate emb files to input to MUSE\n",
    "\n",
    "from tqdm.notebook import tqdm as tq\n",
    "\n",
    "def generate_emb_files(w2v):\n",
    "    emb_file = open('%s.emb'%(w2v.name), 'w')\n",
    "    emb_file.write('%d %d\\n' %(len(w2v.wv_vocab), 300))  \n",
    "    for word in tq(w2v.wv_vocab):\n",
    "        # vec = w2v.model.wv[word]\n",
    "        vec = w2v.model.wv[word]\n",
    "        vec_str = ''\n",
    "        for i in vec:\n",
    "            vec_str += str(i) + ' '\n",
    "        emb_file.write(word+ ' ' + vec_str.strip()+ '\\n')               "
   ]
  },
  {
   "cell_type": "code",
   "execution_count": 16,
   "metadata": {},
   "outputs": [
    {
     "data": {
      "application/vnd.jupyter.widget-view+json": {
       "model_id": "d0632c28c65e46f69bbe9a338e267f50",
       "version_major": 2,
       "version_minor": 0
      },
      "text/plain": [
       "HBox(children=(FloatProgress(value=0.0, max=16591.0), HTML(value='')))"
      ]
     },
     "metadata": {},
     "output_type": "display_data"
    },
    {
     "name": "stdout",
     "output_type": "stream",
     "text": [
      "\n"
     ]
    }
   ],
   "source": [
    "generate_emb_files(w2v_en)"
   ]
  },
  {
   "cell_type": "code",
   "execution_count": 17,
   "metadata": {},
   "outputs": [
    {
     "data": {
      "application/vnd.jupyter.widget-view+json": {
       "model_id": "084602dce1e14e00ad3f90bf69a3e5ca",
       "version_major": 2,
       "version_minor": 0
      },
      "text/plain": [
       "HBox(children=(FloatProgress(value=0.0, max=45266.0), HTML(value='')))"
      ]
     },
     "metadata": {},
     "output_type": "display_data"
    },
    {
     "name": "stdout",
     "output_type": "stream",
     "text": [
      "\n"
     ]
    }
   ],
   "source": [
    "generate_emb_files(w2v_de)"
   ]
  },
  {
   "cell_type": "markdown",
   "metadata": {},
   "source": [
    "**Run MUSE and get the shared embeddings**"
   ]
  },
  {
   "cell_type": "code",
   "execution_count": 83,
   "metadata": {},
   "outputs": [],
   "source": [
    "def get_vec_from_txt(path):\n",
    "    # _ = '../../data/word2vec/epo_en/projection/vectors-de.txt'\n",
    "    file = open(path, 'r')\n",
    "\n",
    "    word_vectors = {}\n",
    "    ind = 0\n",
    "    line = file.readline()\n",
    "    while True:\n",
    "        line = file.readline()\n",
    "        if not line:\n",
    "            break\n",
    "\n",
    "        line_split = line.split(' ')\n",
    "        word = line_split[0]\n",
    "        vec = line_split[1:]\n",
    "\n",
    "        vec_float = []\n",
    "        for i in vec:\n",
    "            vec_float.append(float(i))\n",
    "\n",
    "        word_vectors[word] = vec_float\n",
    "\n",
    "        print('ind: %s'%ind, end=\"\\r\")\n",
    "\n",
    "        ind += 1\n",
    "        \n",
    "    file.close()\n",
    "    print()\n",
    "    \n",
    "    return word_vectors"
   ]
  },
  {
   "cell_type": "code",
   "execution_count": 84,
   "metadata": {},
   "outputs": [
    {
     "name": "stdout",
     "output_type": "stream",
     "text": [
      "ind: 16590\n",
      "ind: 45265\n"
     ]
    }
   ],
   "source": [
    "# Get wv from unsup MUSE\n",
    "\n",
    "en_wv_unsup = get_vec_from_txt('../../data/word2vec/epo_en/projection/vectors-en-unsup.txt')\n",
    "de_wv_usnup = get_vec_from_txt('../../data/word2vec/epo_en/projection/vectors-de-unsup.txt')"
   ]
  },
  {
   "cell_type": "code",
   "execution_count": 85,
   "metadata": {},
   "outputs": [
    {
     "data": {
      "text/plain": [
       "(16591, 45266)"
      ]
     },
     "execution_count": 85,
     "metadata": {},
     "output_type": "execute_result"
    }
   ],
   "source": [
    "len(en_wv_unsup), len(de_wv_usnup)"
   ]
  },
  {
   "cell_type": "code",
   "execution_count": 24,
   "metadata": {},
   "outputs": [],
   "source": [
    "# Get wv from sup MUSE\n",
    "\n",
    "en_wv = get_vec_from_txt('../../data/word2vec/epo_en/projection/vectors-en.txt')\n",
    "de_wv = get_vec_from_txt('../../data/word2vec/epo_en/projection/vectors-de.txt')"
   ]
  },
  {
   "cell_type": "markdown",
   "metadata": {
    "tags": []
   },
   "source": [
    "## Projection"
   ]
  },
  {
   "cell_type": "code",
   "execution_count": 14,
   "metadata": {},
   "outputs": [],
   "source": [
    "# Generate tsv files for Tensorflow projector\n",
    "\n",
    "def generate_tsv_files(en_word_vectors, de_word_vectors):\n",
    "    vec_file = open('vectors_epo_new.tsv', 'w')\n",
    "    words_file = open('words_epo_new.tsv', 'w')\n",
    "    \n",
    "    for word in tq(en_word_vectors):\n",
    "        # vec = w2v.model.wv[word]\n",
    "        vec = en_word_vectors[word]\n",
    "        vec_str = ''\n",
    "        for i in vec:\n",
    "            vec_str += str(i) + '\\t'\n",
    "        vec_file.write(vec_str.strip()+ '\\n')\n",
    "        words_file.write(word.strip()+ '\\n')\n",
    "        \n",
    "    for word in tq(de_word_vectors):\n",
    "        # vec = w2v.model.wv[word]\n",
    "        vec = de_word_vectors[word]\n",
    "        vec_str = ''\n",
    "        for i in vec:\n",
    "            vec_str += str(i) + '\\t'\n",
    "        vec_file.write(vec_str.strip()+ '\\n')\n",
    "        words_file.write(word.strip()+ '\\n')\n",
    "        \n",
    "    vec_file.close()\n",
    "    words_file.close()"
   ]
  },
  {
   "cell_type": "code",
   "execution_count": 23,
   "metadata": {},
   "outputs": [
    {
     "data": {
      "application/vnd.jupyter.widget-view+json": {
       "model_id": "681a1a34a5ac4d0b9ad627340142e635",
       "version_major": 2,
       "version_minor": 0
      },
      "text/plain": [
       "HBox(children=(FloatProgress(value=0.0, max=16591.0), HTML(value='')))"
      ]
     },
     "metadata": {},
     "output_type": "display_data"
    },
    {
     "name": "stdout",
     "output_type": "stream",
     "text": [
      "\n"
     ]
    },
    {
     "data": {
      "application/vnd.jupyter.widget-view+json": {
       "model_id": "6f638e68d98b40ebae996a74962027cd",
       "version_major": 2,
       "version_minor": 0
      },
      "text/plain": [
       "HBox(children=(FloatProgress(value=0.0, max=45266.0), HTML(value='')))"
      ]
     },
     "metadata": {},
     "output_type": "display_data"
    },
    {
     "name": "stdout",
     "output_type": "stream",
     "text": [
      "\n"
     ]
    }
   ],
   "source": [
    "generate_tsv_files(en_word_vectors, de_word_vectors)"
   ]
  }
 ],
 "metadata": {
  "kernelspec": {
   "display_name": "Python 3",
   "language": "python",
   "name": "python3"
  },
  "language_info": {
   "codemirror_mode": {
    "name": "ipython",
    "version": 3
   },
   "file_extension": ".py",
   "mimetype": "text/x-python",
   "name": "python",
   "nbconvert_exporter": "python",
   "pygments_lexer": "ipython3",
   "version": "3.8.10"
  }
 },
 "nbformat": 4,
 "nbformat_minor": 4
}
