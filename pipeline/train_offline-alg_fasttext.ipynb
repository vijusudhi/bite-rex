{
 "cells": [
  {
   "cell_type": "markdown",
   "metadata": {
    "tags": []
   },
   "source": [
    "## Individual run"
   ]
  },
  {
   "cell_type": "code",
   "execution_count": 17,
   "metadata": {},
   "outputs": [],
   "source": [
    "import pickle\n",
    "from tqdm.notebook import tqdm as tq\n"
   ]
  },
  {
   "cell_type": "code",
   "execution_count": 2,
   "metadata": {},
   "outputs": [],
   "source": [
    "import sys\n",
    "sys.path.append('../')\n",
    "from util import corpus, tokenize, util, alignment, word2vec, retrieval"
   ]
  },
  {
   "cell_type": "code",
   "execution_count": 3,
   "metadata": {},
   "outputs": [
    {
     "data": {
      "text/html": [
       "<div>\n",
       "<style scoped>\n",
       "    .dataframe tbody tr th:only-of-type {\n",
       "        vertical-align: middle;\n",
       "    }\n",
       "\n",
       "    .dataframe tbody tr th {\n",
       "        vertical-align: top;\n",
       "    }\n",
       "\n",
       "    .dataframe thead th {\n",
       "        text-align: right;\n",
       "    }\n",
       "</style>\n",
       "<table border=\"1\" class=\"dataframe\">\n",
       "  <thead>\n",
       "    <tr style=\"text-align: right;\">\n",
       "      <th></th>\n",
       "      <th>name</th>\n",
       "      <th>titles</th>\n",
       "      <th>en</th>\n",
       "      <th>de</th>\n",
       "    </tr>\n",
       "  </thead>\n",
       "  <tbody>\n",
       "    <tr>\n",
       "      <th>0</th>\n",
       "      <td>EP03703859NWB1.xml</td>\n",
       "      <td>de\\tMODULARER LEISTUNGSWANDLER MIT FLÜSSIGGEKÜ...</td>\n",
       "      <td>A modular power converter comprising : a therm...</td>\n",
       "      <td>Modularer_Leistungswandler , der Folgendes umf...</td>\n",
       "    </tr>\n",
       "    <tr>\n",
       "      <th>1</th>\n",
       "      <td>EP03703859NWB1.xml</td>\n",
       "      <td>de\\tMODULARER LEISTUNGSWANDLER MIT FLÜSSIGGEKÜ...</td>\n",
       "      <td>The modular_power_converter of claim NUM , whe...</td>\n",
       "      <td>Modularer_Leistungswandler nach Anspruch NUM ,...</td>\n",
       "    </tr>\n",
       "    <tr>\n",
       "      <th>2</th>\n",
       "      <td>EP03703859NWB1.xml</td>\n",
       "      <td>de\\tMODULARER LEISTUNGSWANDLER MIT FLÜSSIGGEKÜ...</td>\n",
       "      <td>The modular_power_converter of claim NUM , whe...</td>\n",
       "      <td>Modularer_Leistungswandler nach Anspruch NUM ,...</td>\n",
       "    </tr>\n",
       "    <tr>\n",
       "      <th>3</th>\n",
       "      <td>EP03703859NWB1.xml</td>\n",
       "      <td>de\\tMODULARER LEISTUNGSWANDLER MIT FLÜSSIGGEKÜ...</td>\n",
       "      <td>The modular_power_converter of claim NUM , whe...</td>\n",
       "      <td>Modularer_Leistungswandler nach Anspruch NUM ,...</td>\n",
       "    </tr>\n",
       "    <tr>\n",
       "      <th>4</th>\n",
       "      <td>EP03703859NWB1.xml</td>\n",
       "      <td>de\\tMODULARER LEISTUNGSWANDLER MIT FLÜSSIGGEKÜ...</td>\n",
       "      <td>The modular_power_converter of claim NUM , whe...</td>\n",
       "      <td>Modularer_Leistungswandler nach Anspruch NUM ,...</td>\n",
       "    </tr>\n",
       "    <tr>\n",
       "      <th>...</th>\n",
       "      <td>...</td>\n",
       "      <td>...</td>\n",
       "      <td>...</td>\n",
       "      <td>...</td>\n",
       "    </tr>\n",
       "    <tr>\n",
       "      <th>365019</th>\n",
       "      <td>EP15713208NWB1.xml</td>\n",
       "      <td>de\\tVERFAHREN UND SYSTEME ZUM BESCHLEUNIGTEN H...</td>\n",
       "      <td>A motor vehicle NUM such that it comprises at ...</td>\n",
       "      <td>Kraftfahrzeug , das mindestens einen Computer ...</td>\n",
       "    </tr>\n",
       "    <tr>\n",
       "      <th>365020</th>\n",
       "      <td>EP15713208NWB1.xml</td>\n",
       "      <td>de\\tVERFAHREN UND SYSTEME ZUM BESCHLEUNIGTEN H...</td>\n",
       "      <td>A system for the downloading of data comprisin...</td>\n",
       "      <td>System zum Herunterladen von Daten , das ein H...</td>\n",
       "    </tr>\n",
       "    <tr>\n",
       "      <th>365021</th>\n",
       "      <td>EP16181157NWB1.xml</td>\n",
       "      <td>de\\tFAHRZEUG\\ten\\tVEHICLE\\tfr\\tVÉHICULE\\t</td>\n",
       "      <td>A vehicle NUM comprising a power_reception_dev...</td>\n",
       "      <td>Fahrzeug NUM mit einem Leistungsempfangsgerät ...</td>\n",
       "    </tr>\n",
       "    <tr>\n",
       "      <th>365022</th>\n",
       "      <td>EP16181157NWB1.xml</td>\n",
       "      <td>de\\tFAHRZEUG\\ten\\tVEHICLE\\tfr\\tVÉHICULE\\t</td>\n",
       "      <td>The vehicle NUM according to any one of claims...</td>\n",
       "      <td>Fahrzeug NUM nach einem der Ansprüche NUM bis ...</td>\n",
       "    </tr>\n",
       "    <tr>\n",
       "      <th>365023</th>\n",
       "      <td>EP17000010NWB1.xml</td>\n",
       "      <td>de\\tSTREULICHTBLENDE EINES BILDERFASSUNGSGERÄT...</td>\n",
       "      <td>Lens hood NUM of an image_recording_device arr...</td>\n",
       "      <td>Streulichtblende NUM eines auf der Rückseite e...</td>\n",
       "    </tr>\n",
       "  </tbody>\n",
       "</table>\n",
       "<p>365024 rows × 4 columns</p>\n",
       "</div>"
      ],
      "text/plain": [
       "                      name                                             titles  \\\n",
       "0       EP03703859NWB1.xml  de\\tMODULARER LEISTUNGSWANDLER MIT FLÜSSIGGEKÜ...   \n",
       "1       EP03703859NWB1.xml  de\\tMODULARER LEISTUNGSWANDLER MIT FLÜSSIGGEKÜ...   \n",
       "2       EP03703859NWB1.xml  de\\tMODULARER LEISTUNGSWANDLER MIT FLÜSSIGGEKÜ...   \n",
       "3       EP03703859NWB1.xml  de\\tMODULARER LEISTUNGSWANDLER MIT FLÜSSIGGEKÜ...   \n",
       "4       EP03703859NWB1.xml  de\\tMODULARER LEISTUNGSWANDLER MIT FLÜSSIGGEKÜ...   \n",
       "...                    ...                                                ...   \n",
       "365019  EP15713208NWB1.xml  de\\tVERFAHREN UND SYSTEME ZUM BESCHLEUNIGTEN H...   \n",
       "365020  EP15713208NWB1.xml  de\\tVERFAHREN UND SYSTEME ZUM BESCHLEUNIGTEN H...   \n",
       "365021  EP16181157NWB1.xml          de\\tFAHRZEUG\\ten\\tVEHICLE\\tfr\\tVÉHICULE\\t   \n",
       "365022  EP16181157NWB1.xml          de\\tFAHRZEUG\\ten\\tVEHICLE\\tfr\\tVÉHICULE\\t   \n",
       "365023  EP17000010NWB1.xml  de\\tSTREULICHTBLENDE EINES BILDERFASSUNGSGERÄT...   \n",
       "\n",
       "                                                       en  \\\n",
       "0       A modular power converter comprising : a therm...   \n",
       "1       The modular_power_converter of claim NUM , whe...   \n",
       "2       The modular_power_converter of claim NUM , whe...   \n",
       "3       The modular_power_converter of claim NUM , whe...   \n",
       "4       The modular_power_converter of claim NUM , whe...   \n",
       "...                                                   ...   \n",
       "365019  A motor vehicle NUM such that it comprises at ...   \n",
       "365020  A system for the downloading of data comprisin...   \n",
       "365021  A vehicle NUM comprising a power_reception_dev...   \n",
       "365022  The vehicle NUM according to any one of claims...   \n",
       "365023  Lens hood NUM of an image_recording_device arr...   \n",
       "\n",
       "                                                       de  \n",
       "0       Modularer_Leistungswandler , der Folgendes umf...  \n",
       "1       Modularer_Leistungswandler nach Anspruch NUM ,...  \n",
       "2       Modularer_Leistungswandler nach Anspruch NUM ,...  \n",
       "3       Modularer_Leistungswandler nach Anspruch NUM ,...  \n",
       "4       Modularer_Leistungswandler nach Anspruch NUM ,...  \n",
       "...                                                   ...  \n",
       "365019  Kraftfahrzeug , das mindestens einen Computer ...  \n",
       "365020  System zum Herunterladen von Daten , das ein H...  \n",
       "365021  Fahrzeug NUM mit einem Leistungsempfangsgerät ...  \n",
       "365022  Fahrzeug NUM nach einem der Ansprüche NUM bis ...  \n",
       "365023  Streulichtblende NUM eines auf der Rückseite e...  \n",
       "\n",
       "[365024 rows x 4 columns]"
      ]
     },
     "execution_count": 3,
     "metadata": {},
     "output_type": "execute_result"
    }
   ],
   "source": [
    "# df = util.decompress_pickle('../../data/word2vec/epo/corpus/epo_18_20_df_phrasal')\n",
    "df = util.decompress_pickle('../../data/epo_corpus_all_years/pre_proc/epo_10_20_df_w_ncs')\n",
    "df"
   ]
  },
  {
   "cell_type": "code",
   "execution_count": 4,
   "metadata": {},
   "outputs": [
    {
     "data": {
      "text/plain": [
       "'A modular power converter comprising : a thermal_support NUM for a circuit , the support comprising a substrate having fluid_inlet NUM and outlet ports NUM and a circulation_path NUM coupled between the inlet and outlet ports , the inlet and outlet ports being configured to transmit a coolant for circulation through the circulation_path ; an interface_plate NUM configured to support a power_electronics_circuit NUM , the interface_plate being configured for mounting to the support adjacent to the coolant circulation_path for extraction of heat from the interface_plate during operation ; and a power_electronics_circuit configured for power_conversion supported on the interface_plate ; and a driver_circuit NUM for applying the drive_signals to the power_electronics_circuit , the driver_circuit being secured to and cooled by the thermal_support ; wherein the support at least partially defines an electrical_reference_plane , a mechanical_support , and a thermal_extraction_path for the power_electronics_circuit . '"
      ]
     },
     "execution_count": 4,
     "metadata": {},
     "output_type": "execute_result"
    }
   ],
   "source": [
    "df.en[0]"
   ]
  },
  {
   "cell_type": "code",
   "execution_count": 5,
   "metadata": {},
   "outputs": [
    {
     "name": "stderr",
     "output_type": "stream",
     "text": [
      "10:44:33: Loading vocab\n",
      "10:44:34: Loading tokens\n",
      "10:44:42: Artefacts in the path: ../../data/word2vec/epo/\n",
      "10:44:42: Sentences\n",
      "\tLang\tSize\n",
      "\tEN\t365024\n",
      "\tDE\t365024\n",
      "10:44:42: Vocab\n",
      "\tLang\tSize\n",
      "\tEN\t380934\n",
      "\tDE\t552476\n"
     ]
    }
   ],
   "source": [
    "epo_corpus = corpus.Corpus(name='epo', \n",
    "                           doc=df,\n",
    "                           tokenize_corpus=True,\n",
    "                           load_vocab=True,\n",
    "                           load_tokens=True)"
   ]
  },
  {
   "cell_type": "code",
   "execution_count": 6,
   "metadata": {},
   "outputs": [
    {
     "name": "stderr",
     "output_type": "stream",
     "text": [
      "10:44:42: Fetching alignment dictionary from path ../../data/word2vec/epo/\n"
     ]
    }
   ],
   "source": [
    "algn_dic = alignment.AlignmentDic(name='epo',\n",
    "                                 corpus=epo_corpus,\n",
    "                                 rerun=True)"
   ]
  },
  {
   "cell_type": "code",
   "execution_count": 7,
   "metadata": {},
   "outputs": [
    {
     "name": "stderr",
     "output_type": "stream",
     "text": [
      "10:44:43: Loading translation dictionary from path: ../../data/word2vec/epo/alg/transidx\n"
     ]
    }
   ],
   "source": [
    "algn_dic.load_trans_dic()"
   ]
  },
  {
   "cell_type": "code",
   "execution_count": 8,
   "metadata": {},
   "outputs": [
    {
     "data": {
      "text/plain": [
       "187415"
      ]
     },
     "execution_count": 8,
     "metadata": {},
     "output_type": "execute_result"
    }
   ],
   "source": [
    "len(algn_dic.idx2transidx.keys())"
   ]
  },
  {
   "cell_type": "code",
   "execution_count": 9,
   "metadata": {},
   "outputs": [
    {
     "data": {
      "text/plain": [
       "(187415, 933410)"
      ]
     },
     "execution_count": 9,
     "metadata": {},
     "output_type": "execute_result"
    }
   ],
   "source": [
    "len(algn_dic.idx2transidx), len(epo_corpus.idx2word)"
   ]
  },
  {
   "cell_type": "code",
   "execution_count": 10,
   "metadata": {},
   "outputs": [
    {
     "data": {
      "text/plain": [
       "'fahrzeug'"
      ]
     },
     "execution_count": 10,
     "metadata": {},
     "output_type": "execute_result"
    }
   ],
   "source": [
    "epo_corpus.idx2word[algn_dic.idx2transidx[epo_corpus.word2idx['vehicle']]]"
   ]
  },
  {
   "cell_type": "code",
   "execution_count": 33,
   "metadata": {},
   "outputs": [
    {
     "data": {
      "text/plain": [
       "<module 'util.word2vec' from '../util/word2vec.py'>"
      ]
     },
     "execution_count": 33,
     "metadata": {},
     "output_type": "execute_result"
    }
   ],
   "source": [
    "from imp import reload\n",
    "reload(word2vec)"
   ]
  },
  {
   "cell_type": "code",
   "execution_count": 7,
   "metadata": {},
   "outputs": [
    {
     "name": "stderr",
     "output_type": "stream",
     "text": [
      "00:05:24: Fetching contents from path ../../data/word2vec/epo/\n"
     ]
    }
   ],
   "source": [
    "w2v = word2vec.Word2Vec(name='epo', \n",
    "                        corpus=epo_corpus,\n",
    "                        algn_dic=algn_dic,\n",
    "                        rerun_data=True,\n",
    "                        rerun_train=True,\n",
    "                        remove_underscores=True\n",
    "                       )\n",
    "\n",
    "\n",
    "# w2v = word2vec.Word2Vec(name='epo', \n",
    "#                         corpus=epo_corpus,\n",
    "#                         algn_dic=algn_dic,\n",
    "#                         rerun_data=False,\n",
    "#                         rerun_train=False,\n",
    "#                        )"
   ]
  },
  {
   "cell_type": "code",
   "execution_count": 8,
   "metadata": {},
   "outputs": [
    {
     "name": "stderr",
     "output_type": "stream",
     "text": [
      "00:05:31: Loading train data from path: ../../data/word2vec/epo/train/aligned_sentences\n"
     ]
    }
   ],
   "source": [
    "w2v.load_train_data()"
   ]
  },
  {
   "cell_type": "code",
   "execution_count": 9,
   "metadata": {},
   "outputs": [
    {
     "data": {
      "text/plain": [
       "3136108"
      ]
     },
     "execution_count": 9,
     "metadata": {},
     "output_type": "execute_result"
    }
   ],
   "source": [
    "len(w2v.aligned_sentences)"
   ]
  },
  {
   "cell_type": "code",
   "execution_count": 10,
   "metadata": {},
   "outputs": [
    {
     "data": {
      "application/vnd.jupyter.widget-view+json": {
       "model_id": "27c59800bf0543f69b05a308f4d11ffa",
       "version_major": 2,
       "version_minor": 0
      },
      "text/plain": [
       "HBox(children=(FloatProgress(value=0.0, max=3136108.0), HTML(value='')))"
      ]
     },
     "metadata": {},
     "output_type": "display_data"
    },
    {
     "name": "stdout",
     "output_type": "stream",
     "text": [
      "\n"
     ]
    }
   ],
   "source": [
    "from tqdm.notebook import tqdm as tq\n",
    "\n",
    "wo_ncs_sent = []\n",
    "for sent in tq(w2v.aligned_sentences):\n",
    "    wo_ncs = []\n",
    "    for token in sent:\n",
    "        s = token.split('_')\n",
    "        for _ in s:\n",
    "            wo_ncs.append(_)\n",
    "    wo_ncs_sent.append(wo_ncs)\n",
    "# print(wo_ncs_sent)"
   ]
  },
  {
   "cell_type": "code",
   "execution_count": 11,
   "metadata": {},
   "outputs": [
    {
     "data": {
      "text/plain": [
       "3136108"
      ]
     },
     "execution_count": 11,
     "metadata": {},
     "output_type": "execute_result"
    }
   ],
   "source": [
    "len(wo_ncs_sent)"
   ]
  },
  {
   "cell_type": "code",
   "execution_count": 12,
   "metadata": {},
   "outputs": [
    {
     "data": {
      "text/plain": [
       "6272216"
      ]
     },
     "execution_count": 12,
     "metadata": {},
     "output_type": "execute_result"
    }
   ],
   "source": [
    "train_sent = wo_ncs_sent + w2v.aligned_sentences\n",
    "len(train_sent)"
   ]
  },
  {
   "cell_type": "code",
   "execution_count": 12,
   "metadata": {},
   "outputs": [],
   "source": [
    "from gensim.models import FastText\n",
    "\n",
    "import logging\n",
    "logging.basicConfig(format='%(asctime)s : %(levelname)s : %(message)s', level=logging.INFO)"
   ]
  },
  {
   "cell_type": "code",
   "execution_count": 14,
   "metadata": {},
   "outputs": [
    {
     "name": "stderr",
     "output_type": "stream",
     "text": [
      "00:07:07: FastText lifecycle event {'params': 'FastText(vocab=0, vector_size=300, alpha=0.025)', 'datetime': '2021-09-09T00:07:07.845494', 'gensim': '4.0.1', 'python': '3.8.8 (default, Apr 13 2021, 19:58:26) \\n[GCC 7.3.0]', 'platform': 'Linux-5.4.0-81-generic-x86_64-with-glibc2.10', 'event': 'created'}\n"
     ]
    }
   ],
   "source": [
    "model = FastText(vector_size=300, \n",
    "                 window=5, \n",
    "                 min_count=1, \n",
    "                 sg=1)  # instantiate"
   ]
  },
  {
   "cell_type": "code",
   "execution_count": null,
   "metadata": {},
   "outputs": [],
   "source": [
    "model.build_vocab(train_sent)"
   ]
  },
  {
   "cell_type": "code",
   "execution_count": null,
   "metadata": {},
   "outputs": [],
   "source": [
    "model.train(corpus_iterable=train_sent, \n",
    "            total_examples=len(train_sent), \n",
    "            epochs=5)"
   ]
  },
  {
   "cell_type": "code",
   "execution_count": 17,
   "metadata": {},
   "outputs": [
    {
     "name": "stderr",
     "output_type": "stream",
     "text": [
      "02:31:45: FastText lifecycle event {'fname_or_handle': 'epo_w_ncs_fasttext.model', 'separately': 'None', 'sep_limit': 10485760, 'ignore': frozenset(), 'datetime': '2021-09-09T02:31:45.424358', 'gensim': '4.0.1', 'python': '3.8.8 (default, Apr 13 2021, 19:58:26) \\n[GCC 7.3.0]', 'platform': 'Linux-5.4.0-81-generic-x86_64-with-glibc2.10', 'event': 'saving'}\n",
      "02:31:45: not storing attribute vectors\n",
      "02:31:45: storing np array 'vectors_vocab' to epo_w_ncs_fasttext.model.wv.vectors_vocab.npy\n",
      "02:31:45: storing np array 'vectors_ngrams' to epo_w_ncs_fasttext.model.wv.vectors_ngrams.npy\n",
      "02:31:47: not storing attribute buckets_word\n",
      "02:31:47: storing np array 'syn1neg' to epo_w_ncs_fasttext.model.syn1neg.npy\n",
      "02:31:47: not storing attribute cum_table\n",
      "02:31:47: saved epo_w_ncs_fasttext.model\n"
     ]
    }
   ],
   "source": [
    "model.save('epo_w_ncs_fasttext.model')"
   ]
  },
  {
   "cell_type": "code",
   "execution_count": 13,
   "metadata": {},
   "outputs": [
    {
     "name": "stderr",
     "output_type": "stream",
     "text": [
      "10:45:40: loading FastText object from epo_w_ncs_fasttext.model\n",
      "10:45:40: loading wv recursively from epo_w_ncs_fasttext.model.wv.* with mmap=None\n",
      "10:45:40: loading vectors_vocab from epo_w_ncs_fasttext.model.wv.vectors_vocab.npy with mmap=None\n",
      "10:45:42: loading vectors_ngrams from epo_w_ncs_fasttext.model.wv.vectors_ngrams.npy with mmap=None\n",
      "10:45:46: setting ignored attribute vectors to None\n",
      "10:45:46: setting ignored attribute buckets_word to None\n",
      "10:47:29: loading syn1neg from epo_w_ncs_fasttext.model.syn1neg.npy with mmap=None\n",
      "10:47:30: setting ignored attribute cum_table to None\n",
      "10:47:36: FastText lifecycle event {'fname': 'epo_w_ncs_fasttext.model', 'datetime': '2021-09-09T10:47:36.904825', 'gensim': '4.0.1', 'python': '3.8.8 (default, Apr 13 2021, 19:58:26) \\n[GCC 7.3.0]', 'platform': 'Linux-5.4.0-84-generic-x86_64-with-glibc2.10', 'event': 'loaded'}\n"
     ]
    }
   ],
   "source": [
    "model = FastText.load('epo_w_ncs_fasttext.model')"
   ]
  },
  {
   "cell_type": "code",
   "execution_count": 18,
   "metadata": {},
   "outputs": [
    {
     "data": {
      "application/vnd.jupyter.widget-view+json": {
       "model_id": "c46ca9e811d44333866aa5266849caae",
       "version_major": 2,
       "version_minor": 0
      },
      "text/plain": [
       "HBox(children=(FloatProgress(value=0.0, max=745335.0), HTML(value='')))"
      ]
     },
     "metadata": {},
     "output_type": "display_data"
    },
    {
     "name": "stdout",
     "output_type": "stream",
     "text": [
      "\n"
     ]
    }
   ],
   "source": [
    "# Build vocab\n",
    "wv_vocab = []\n",
    "for idx in tq(range(len(model.wv))):\n",
    "    wv_vocab.append(model.wv.index_to_key[idx])"
   ]
  },
  {
   "cell_type": "code",
   "execution_count": 19,
   "metadata": {},
   "outputs": [
    {
     "data": {
      "text/plain": [
       "745335"
      ]
     },
     "execution_count": 19,
     "metadata": {},
     "output_type": "execute_result"
    }
   ],
   "source": [
    "len(wv_vocab)"
   ]
  },
  {
   "cell_type": "markdown",
   "metadata": {
    "tags": []
   },
   "source": [
    "## Projection"
   ]
  },
  {
   "cell_type": "code",
   "execution_count": 19,
   "metadata": {},
   "outputs": [],
   "source": [
    "from util import projection"
   ]
  },
  {
   "cell_type": "code",
   "execution_count": 20,
   "metadata": {},
   "outputs": [
    {
     "data": {
      "application/vnd.jupyter.widget-view+json": {
       "model_id": "d705301ae9d643e5a30fcf1209daac50",
       "version_major": 2,
       "version_minor": 0
      },
      "text/plain": [
       "HBox(children=(FloatProgress(value=0.0, max=306606.0), HTML(value='')))"
      ]
     },
     "metadata": {},
     "output_type": "display_data"
    },
    {
     "name": "stdout",
     "output_type": "stream",
     "text": [
      "\n",
      "Vectors saved at: vectors_epo.tsv\n",
      "Words saved at: words_epo.tsv\n"
     ]
    }
   ],
   "source": [
    "projection.generate_tsv_files(w2v)"
   ]
  }
 ],
 "metadata": {
  "kernelspec": {
   "display_name": "Python 3",
   "language": "python",
   "name": "python3"
  },
  "language_info": {
   "codemirror_mode": {
    "name": "ipython",
    "version": 3
   },
   "file_extension": ".py",
   "mimetype": "text/x-python",
   "name": "python",
   "nbconvert_exporter": "python",
   "pygments_lexer": "ipython3",
   "version": "3.8.10"
  }
 },
 "nbformat": 4,
 "nbformat_minor": 4
}
