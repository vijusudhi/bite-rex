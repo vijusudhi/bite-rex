{
 "cells": [
  {
   "cell_type": "code",
   "execution_count": 1,
   "metadata": {},
   "outputs": [],
   "source": [
    "from tqdm.notebook import tqdm as tq\n",
    "import re\n",
    "import pandas as pd"
   ]
  },
  {
   "cell_type": "code",
   "execution_count": 2,
   "metadata": {},
   "outputs": [],
   "source": [
    "file = open('../../data/word2vec/epo/alg/epo.actual.ti_best.final', 'r', encoding='utf-8')\n",
    "lines = file.readlines()\n",
    "file.close()"
   ]
  },
  {
   "cell_type": "code",
   "execution_count": 3,
   "metadata": {},
   "outputs": [
    {
     "data": {
      "text/plain": [
       "['a NULL 0.01763\\n',\n",
       " 'power NULL 5.41423e-05\\n',\n",
       " 'converter NULL 9.92301e-05\\n',\n",
       " 'comprising NULL 0.0223538\\n',\n",
       " ': NULL 0.00280401\\n',\n",
       " 'num NULL 0.00288592\\n',\n",
       " 'for NULL 0.00440412\\n',\n",
       " 'circuit NULL 0.000246165\\n',\n",
       " ', NULL 0.0143844\\n',\n",
       " 'the NULL 0.0221879\\n']"
      ]
     },
     "execution_count": 3,
     "metadata": {},
     "output_type": "execute_result"
    }
   ],
   "source": [
    "lines[:10]"
   ]
  },
  {
   "cell_type": "code",
   "execution_count": 4,
   "metadata": {},
   "outputs": [
    {
     "data": {
      "application/vnd.jupyter.widget-view+json": {
       "model_id": "cb8b308a9675448a9cd62fd6ab74232f",
       "version_major": 2,
       "version_minor": 0
      },
      "text/plain": [
       "HBox(children=(FloatProgress(value=0.0, max=1707596.0), HTML(value='')))"
      ]
     },
     "metadata": {},
     "output_type": "display_data"
    },
    {
     "name": "stdout",
     "output_type": "stream",
     "text": [
      "\n"
     ]
    }
   ],
   "source": [
    "src_words = []\n",
    "for line in tq(lines):\n",
    "    s = line.split(' ')\n",
    "    src_words.append(s[0])\n",
    "src_words = list(set(src_words)) "
   ]
  },
  {
   "cell_type": "code",
   "execution_count": 5,
   "metadata": {},
   "outputs": [],
   "source": [
    "d_tgt_prob = {}\n",
    "d_tgt_word = {}\n",
    "for word in src_words:\n",
    "    d_tgt_prob[word] = 0\n",
    "    d_tgt_word[word] = ''"
   ]
  },
  {
   "cell_type": "code",
   "execution_count": 6,
   "metadata": {},
   "outputs": [
    {
     "data": {
      "application/vnd.jupyter.widget-view+json": {
       "model_id": "7b122b0e8b6b403baf9dfc1f38a31fd2",
       "version_major": 2,
       "version_minor": 0
      },
      "text/plain": [
       "HBox(children=(FloatProgress(value=0.0, max=1707596.0), HTML(value='')))"
      ]
     },
     "metadata": {},
     "output_type": "display_data"
    },
    {
     "name": "stdout",
     "output_type": "stream",
     "text": [
      "\n"
     ]
    }
   ],
   "source": [
    "for line in tq(lines):\n",
    "    s = line.split(' ')\n",
    "    # ind = first.index(s[0])\n",
    "    src_word = s[0]\n",
    "    tgt_word = s[1].strip()\n",
    "    tgt_prob = s[2].strip()\n",
    "    if float(d_tgt_prob[src_word]) <= float(tgt_prob):\n",
    "        d_tgt_word[src_word] = tgt_word\n",
    "        d_tgt_prob[src_word] = tgt_prob"
   ]
  },
  {
   "cell_type": "code",
   "execution_count": 7,
   "metadata": {},
   "outputs": [
    {
     "name": "stdout",
     "output_type": "stream",
     "text": [
      "fee_portion manuellen_auswahl 1\n",
      "inner_wall_part innenwandteil 1\n",
      "own_lower_portion eigenen_unteren_abschnitt 1\n",
      "detected_value detektierten_wert 0.217022\n",
      "hollow_motor hohlmotor 1\n",
      "guide_vanes leitschaufeln 1\n",
      "annular_seal_groove dichtnut 0.631212\n",
      "outer_middle_lateral_grooves querrillen 0.640214\n",
      "second_beam_pattern_unit zweite_lichtverteilungseinheit 1\n",
      "desired_angular_position gewünschten_winkelposition 0.938774\n"
     ]
    }
   ],
   "source": [
    "offset = 10\n",
    "for word in src_words[:offset]:\n",
    "    print(word, d_tgt_word[word], d_tgt_prob[word])"
   ]
  },
  {
   "cell_type": "code",
   "execution_count": 11,
   "metadata": {},
   "outputs": [
    {
     "data": {
      "application/vnd.jupyter.widget-view+json": {
       "model_id": "c03e4c841c0043acb37a915c73914376",
       "version_major": 2,
       "version_minor": 0
      },
      "text/plain": [
       "HBox(children=(FloatProgress(value=0.0, max=332534.0), HTML(value='')))"
      ]
     },
     "metadata": {},
     "output_type": "display_data"
    },
    {
     "name": "stdout",
     "output_type": "stream",
     "text": [
      "\n"
     ]
    }
   ],
   "source": [
    "epo_alg_dic = []\n",
    "for word in tq(src_words):\n",
    "    epo_alg_dic.append(\n",
    "        {\n",
    "            'en': word,\n",
    "            'de': d_tgt_word[word],\n",
    "            'prob': d_tgt_prob[word]\n",
    "        }\n",
    "    )"
   ]
  },
  {
   "cell_type": "code",
   "execution_count": 12,
   "metadata": {},
   "outputs": [],
   "source": [
    "epo_alg_dic = pd.DataFrame(epo_alg_dic)"
   ]
  },
  {
   "cell_type": "code",
   "execution_count": 13,
   "metadata": {},
   "outputs": [
    {
     "data": {
      "text/html": [
       "<div>\n",
       "<style scoped>\n",
       "    .dataframe tbody tr th:only-of-type {\n",
       "        vertical-align: middle;\n",
       "    }\n",
       "\n",
       "    .dataframe tbody tr th {\n",
       "        vertical-align: top;\n",
       "    }\n",
       "\n",
       "    .dataframe thead th {\n",
       "        text-align: right;\n",
       "    }\n",
       "</style>\n",
       "<table border=\"1\" class=\"dataframe\">\n",
       "  <thead>\n",
       "    <tr style=\"text-align: right;\">\n",
       "      <th></th>\n",
       "      <th>en</th>\n",
       "      <th>de</th>\n",
       "      <th>prob</th>\n",
       "    </tr>\n",
       "  </thead>\n",
       "  <tbody>\n",
       "    <tr>\n",
       "      <th>0</th>\n",
       "      <td>fee_portion</td>\n",
       "      <td>manuellen_auswahl</td>\n",
       "      <td>1</td>\n",
       "    </tr>\n",
       "    <tr>\n",
       "      <th>1</th>\n",
       "      <td>inner_wall_part</td>\n",
       "      <td>innenwandteil</td>\n",
       "      <td>1</td>\n",
       "    </tr>\n",
       "    <tr>\n",
       "      <th>2</th>\n",
       "      <td>own_lower_portion</td>\n",
       "      <td>eigenen_unteren_abschnitt</td>\n",
       "      <td>1</td>\n",
       "    </tr>\n",
       "    <tr>\n",
       "      <th>3</th>\n",
       "      <td>detected_value</td>\n",
       "      <td>detektierten_wert</td>\n",
       "      <td>0.217022</td>\n",
       "    </tr>\n",
       "    <tr>\n",
       "      <th>4</th>\n",
       "      <td>hollow_motor</td>\n",
       "      <td>hohlmotor</td>\n",
       "      <td>1</td>\n",
       "    </tr>\n",
       "    <tr>\n",
       "      <th>...</th>\n",
       "      <td>...</td>\n",
       "      <td>...</td>\n",
       "      <td>...</td>\n",
       "    </tr>\n",
       "    <tr>\n",
       "      <th>332529</th>\n",
       "      <td>allyltrimethoxysilane</td>\n",
       "      <td>allyltrimethoxysilan</td>\n",
       "      <td>1</td>\n",
       "    </tr>\n",
       "    <tr>\n",
       "      <th>332530</th>\n",
       "      <td>battery_pack_replacement_adapter</td>\n",
       "      <td>batterieblock_wechseladapter</td>\n",
       "      <td>1</td>\n",
       "    </tr>\n",
       "    <tr>\n",
       "      <th>332531</th>\n",
       "      <td>upward_protrusion</td>\n",
       "      <td>vorstehen</td>\n",
       "      <td>1</td>\n",
       "    </tr>\n",
       "    <tr>\n",
       "      <th>332532</th>\n",
       "      <td>slide_end</td>\n",
       "      <td>gleitende</td>\n",
       "      <td>1</td>\n",
       "    </tr>\n",
       "    <tr>\n",
       "      <th>332533</th>\n",
       "      <td>anumnjanumnum</td>\n",
       "      <td>anumnjanumnum</td>\n",
       "      <td>1</td>\n",
       "    </tr>\n",
       "  </tbody>\n",
       "</table>\n",
       "<p>332534 rows × 3 columns</p>\n",
       "</div>"
      ],
      "text/plain": [
       "                                      en                            de  \\\n",
       "0                            fee_portion             manuellen_auswahl   \n",
       "1                        inner_wall_part                 innenwandteil   \n",
       "2                      own_lower_portion     eigenen_unteren_abschnitt   \n",
       "3                         detected_value             detektierten_wert   \n",
       "4                           hollow_motor                     hohlmotor   \n",
       "...                                  ...                           ...   \n",
       "332529             allyltrimethoxysilane          allyltrimethoxysilan   \n",
       "332530  battery_pack_replacement_adapter  batterieblock_wechseladapter   \n",
       "332531                 upward_protrusion                     vorstehen   \n",
       "332532                         slide_end                     gleitende   \n",
       "332533                     anumnjanumnum                 anumnjanumnum   \n",
       "\n",
       "            prob  \n",
       "0              1  \n",
       "1              1  \n",
       "2              1  \n",
       "3       0.217022  \n",
       "4              1  \n",
       "...          ...  \n",
       "332529         1  \n",
       "332530         1  \n",
       "332531         1  \n",
       "332532         1  \n",
       "332533         1  \n",
       "\n",
       "[332534 rows x 3 columns]"
      ]
     },
     "execution_count": 13,
     "metadata": {},
     "output_type": "execute_result"
    }
   ],
   "source": [
    "epo_alg_dic"
   ]
  },
  {
   "cell_type": "code",
   "execution_count": 14,
   "metadata": {},
   "outputs": [
    {
     "name": "stdout",
     "output_type": "stream",
     "text": [
      "vehicle_gross_weight fahrzeugbruttogewicht\n",
      "reference_coil_spring aufhängungsschraubenfeder\n",
      "stitch_feature nahtprägung\n",
      "pneumatic_brake_cylinder pneumatischer\n",
      "motor_supporting_member motorlagerungsteil\n",
      "streaming_synthetic_material volumenstreuenden_kunststoff\n",
      "own_axis eigene_achse\n",
      "hybrid_railroad_vehicle hybrid_schienenfahrzeug\n",
      "zcoordinate z_koordinate\n",
      "backscatter_coupling rückstreukopplung\n",
      "connection_interface anschlussschnittstelle\n",
      "tire_parameter_acquisition_components beschaffungskomponenten\n",
      "non_displaceably unverschieblich\n",
      "roll_forming_stations rollformstationen\n",
      "coupled_trailer angehängten_anhänger\n",
      "flat_tire notlauf\n",
      "fixed_object stationär\n",
      "shortly ,\n",
      "predetermined_group gruppe\n",
      "gas_suspension_system gasfederungssystem\n",
      "passenger_compartment_h fahrgastzelle_h\n",
      "similar_suspension_equipment ähnlichen_aufhängungsvorrichtung\n",
      "juxtaposed_components angeordneten_komponenten\n",
      "second_interior_face_iii zweiten_innenfläche\n",
      "central_mount zentralen_halter\n",
      "respective_master_cylinder_operating_rod entsprechenden_hauptzylinderbetriebsstange\n",
      "capturing_step aufnahmeschritt\n",
      "distance_w abstand_w\n",
      "β_oh_value β_oh_wert\n",
      "positive_control positive_steuerung\n",
      "escape_switch escape\n",
      "required_energy_amount abschätzeinheit\n",
      "hybrid_energy_storage_system hybrides\n",
      "fluid_distribution_device fluidverteilungsvorrichtung\n",
      "organic_polysulphides organischen_polysulfiden\n",
      "reclined_seating_positions geneigten_sitzpositionen\n",
      "ebtb verhältnis_ebtb\n",
      "first_pivot_structure schwenkstruktur\n",
      "downward_tapered_portions verjüngungsteile\n",
      "hemisphere halbkugel\n",
      "first_velocity_transducer geschwindigkeitswandler\n",
      "annular_supporting_insert stützeinsatz\n",
      "first_circuit_switch schaltungsschalter\n",
      "mechanical_steering_lock mechanische_lenkungsverriegelung\n",
      "harmonic_currents harmonischen_strömen\n",
      "closing_means verschließmittel\n",
      "cameras kameras\n",
      "operation_voltage_instructing anweisungsmittel\n",
      "supply_possibility_determination_unit zufuhrmöglichkeit_ermittlungseinheit\n",
      "different_pitches unterschiedlichen_abstände\n",
      "transverse_acceleration_detection_device querbeschleunigungserfassungsvorrichtung\n",
      "amorphous_orientation_factor orientierungsfaktor\n",
      "power_failure_detection_set_value stromausfalldetektionssollwert\n",
      "wireless_traffic_information_transmission_method drahtlosen_übermittlung\n",
      "defective_detected_modules bestimmtes_modul\n",
      "second_main_gear hauptzahnrad\n",
      "first_railroad_vehicle ersten_schienenfahrzeug\n",
      "first_seating_area sitzbereich\n",
      "memory_card_socket speicherkartensockel\n",
      "movement_dynamics_boundary_situation fahrdynamischen_grenzsituation\n",
      "intermediate_voltage_link_assembly spannungszwischenkreiseinrichtung\n",
      "rotatablly drehend\n",
      "rotating_radius drehradius\n",
      "front_back_locking_mechanism bringende\n",
      "u_shaped_bracket bügel\n",
      "thatnum⁢πnum⋅num dassnum⁢πnum⋅num\n",
      "different_viewing_angles verschiedenen_blickwinkeln\n",
      "primary_carriage genannten_primärschlittens\n",
      "stopper_grooves stoppnuten\n",
      "cmin °cmin\n",
      "master_charger_unit hauptladeeinheit\n",
      "first_bevel_gear_stage kegelradstufe\n",
      "median_parts mittleren_teile\n",
      "diagonal_incidence diagonalen_einfallsrichtung\n",
      "degree grad\n",
      "vehicle_operation_state_detecting_unit fahrzeugbetrieb_zustandserfassungseinheit\n",
      "maximum_filter_degree kraftstoffweg\n",
      "psetrst psetrst\n",
      "haptic_navigation_assistance haptischen_navigationsunterstützung\n",
      "selected_load_condition ausgewählte_lastbedingung\n",
      "steering_rudder_angle lenkruderwinkel\n",
      "lower_motion_control unteres_verbindungsglied\n",
      "roller_spacer rollenabstandhalter\n",
      "forward_tilting_posture geneigte_stellung\n",
      "wheel_receiving_surfaces radaufnahmeflächen\n",
      "speed_dependent_torque_profile drehzahlabhängigen_drehmomentverlauf\n",
      "ultimate_disconnection endgültige_abschaltung\n",
      "second_roof_elements schwenkeinrichtungen\n",
      "haptic_renderer haptische_renderer\n",
      "torque_controlling_unit drehmomenterhöhung\n",
      "coils_gcl spulen_gcl\n",
      "fisheye fischaugenbilds\n",
      "aggregates zuschlagstoffen\n",
      "new_vertical_acceleration neue_vertikalbeschleunigung\n",
      "intervening_teeth zwischenzähnen\n",
      "present_day aktueller_tag\n",
      "last_known_vehicle_speed bekannte\n",
      "fluid_therethrough genannte_fluid\n",
      "eliminated_noise_signal_component eliminierten_rauschsignalkomponente\n",
      "close_cross_sectional_shape geschlossene_querschnittsform\n",
      "chamber_portion kammerabschnitt\n",
      "sδθnum θessδθnum\n",
      "compressed_air_source_d druckluftquelle\n",
      "compose zusammengesetztes_bild\n",
      "battery_unit_mounting_apparatus batterieeinheitmontagevorrichtung\n",
      "inner_tracks rollbahn\n",
      "monoethanolamide laurinsäuremonoethanolamid\n",
      "coconut_fibers kokosnussfasern\n",
      "δ⁢ϑʹ δ⁢ϑʹ\n",
      "butyl_rubber_domains butylkautschukdomänen\n",
      "pressure_reducer druckminderer\n",
      "microsystem mikrosystem\n",
      "generation_torque erzeugungsdrehmoment\n",
      "lower_lateral_portion unteren_seitenabschnitt\n",
      "speed_input_signal geschwindigkeitseingangssignals\n",
      "wheel_cylinders radzylindern\n",
      "phase_system stempunkt\n",
      "square_bearing federspeicherbremseaktuator\n",
      "resistance_thermometer e_widerstandsthermometer\n",
      "codetransmitter codegebers\n",
      "majority großteil\n",
      "first_wide_conductor undschrauben\n",
      "release_execution_section freigabeausführungsabschnitt\n",
      "closed_vertical_position geschlossenen_senkrechten_position\n",
      "first_traction traktionsmittel\n",
      "pseudo_hydraulic_reaction pseudohydraulikreaktion\n",
      "other_actuating_unit drehteils\n",
      "corresponding_bracket entsprechende_halterung\n",
      "present_running_position aktuellen_fahrposition\n",
      "thermal_images wärmebilder\n",
      "headrest_arrangement kopfstützenanordnung\n",
      "polysulfide triethoxysilylpropylpolysulfid\n",
      "connected_devices verbundenen_geräten\n",
      "steering_method lenkverfahren\n",
      "depressing_velocity niederdrückgeschwindigkeit\n",
      "fuel_supply_pressure förderdruck\n",
      "asecond zweites_leitersegment\n",
      "counter_stopper_surface gegenstopperfläche\n",
      "pla gplnlcoutplnlnum\n",
      "time_postponement_device zeitaufschubvorrichtung\n",
      "respective_brake_disc jeweilige_bremsscheibe\n",
      "connection_side verbindungsseitenfläche\n",
      "periodic_voltage_signal periodisches_spannungssignal\n",
      "same_power gleiche_leistung\n",
      "base_rubber_layer unterteilkautschukschicht\n",
      "engaged_coupling_dependent_power eingerücktem\n",
      "overwrite überschreiben\n",
      "first_transverse_articulation_axis_a vertikales\n",
      "seat_cushion_side sitzpolsterseite\n",
      "side_obstacle seitenhindernis\n",
      "frame_side_support_structures trägerstrukturen\n",
      "actual_value_z_ist maximalverzögerung_z_max\n",
      "assembled_hose_connections zusammengefügten_schlauchverbindungen\n",
      "damper_system dämpfersystem\n",
      "external_recognition_information externen_erkennungsdaten\n",
      "smaller_specific_deliverable_electric_power kleinere_spezifische_zuführbare_elektrische_energie\n",
      "polymer_light_emitting_display ,\n",
      "list_information_generating_section listeninformationsgenerierungsabschnitt\n",
      "inward_chipper_layer befindlichen_wulstverstärkerschichtende\n",
      "lower_operating_head arbeitskopfs\n",
      "front_areas frontbereiche\n",
      "stinin lenkmechanismus_steinein\n",
      "second_maximum_hydrostatic_pressure zweiten_maximalen_hydrostatischen_druck\n",
      "input_module eingabemodul\n",
      "parking_accuracy einparkgenauigkeit\n",
      "asfl asfl\n",
      "predetermined_forced_off_time erzwungene\n",
      "solvent_free_silicone lösungsmittel_freies_silikon\n",
      "commercial_vehicle_semitrailer sattelauflieger\n",
      "lower_luminance geringeren_luminanz\n",
      "second_wing_axis zweiten_tragflächenachse\n",
      "detecting_module erkennungsmodul\n",
      "flare_front_angle frustokonischen\n",
      "cushioning_leg dämpfungsschenkel\n",
      "end_support_structure endstützstruktur\n",
      "corresponding_energy_absorption_device jeweiligen_vorrichtung\n",
      "high_mobility_vehicle erhöhte_manövrierfähigkeit\n",
      "menu_level bedieneinrichtung\n",
      "calculated_pitch_angles den\n",
      "bottom_vertex unteren_scheitelpunkt\n",
      "gauge_information informationen_messgerätinformationen\n",
      "predetermined_attaching_portion vorbestimmten_befestigungsabschnitt_bildungsteils\n",
      "driving_power_request fahrleistungsanforderung\n",
      "fire_interval zusatzzeichen\n",
      "non_horizontal_stowed_position nicht_horizontalen_verstauten_position\n",
      "numabcdnumenum numabcdnumenum\n",
      "iglnum iglnum\n",
      "second_end_end endbeschlag\n",
      "hydraulic_rotary_actuator hydraulischen_schwenkmotor\n",
      "washer_apparatus waschvorrichtung\n",
      "fluid_distribution_arrangement fluidverteilungsanordnung\n",
      "constant_duty_ratio konstante_tastverhältnis\n",
      "first_power_outputting_section erste_energieausgabeabschnitt\n",
      "articulation_assembly gelenkanordnung\n",
      "power_module_mounting_surface leistungsmodulbefestigungsfläche\n",
      "mounting_accessory_equipment bedarfsweise_montage\n",
      "front_hitching_device vordere_kupplung\n",
      "continuous_reinforcing_fibers endlos\n",
      "pressure_evolution druckentwicklung\n",
      "distinct_locations dass\n"
     ]
    }
   ],
   "source": [
    "start = 500\n",
    "end = 700\n",
    "\n",
    "for en, de in zip(epo_alg_dic.en[start:end],\n",
    "                  epo_alg_dic.de[start:end]):\n",
    "    print(en, de)"
   ]
  },
  {
   "cell_type": "code",
   "execution_count": 17,
   "metadata": {},
   "outputs": [],
   "source": [
    "import sys\n",
    "sys.path.append('../')"
   ]
  },
  {
   "cell_type": "code",
   "execution_count": 18,
   "metadata": {},
   "outputs": [],
   "source": [
    "from util import util"
   ]
  },
  {
   "cell_type": "code",
   "execution_count": 19,
   "metadata": {},
   "outputs": [],
   "source": [
    "util.compress_pickle('../../data/word2vec/epo/alg/epo_alg_dic', epo_alg_dic)"
   ]
  }
 ],
 "metadata": {
  "kernelspec": {
   "display_name": "Python 3",
   "language": "python",
   "name": "python3"
  },
  "language_info": {
   "codemirror_mode": {
    "name": "ipython",
    "version": 3
   },
   "file_extension": ".py",
   "mimetype": "text/x-python",
   "name": "python",
   "nbconvert_exporter": "python",
   "pygments_lexer": "ipython3",
   "version": "3.8.10"
  }
 },
 "nbformat": 4,
 "nbformat_minor": 4
}
