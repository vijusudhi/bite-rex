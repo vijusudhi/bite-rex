{
 "cells": [
  {
   "cell_type": "code",
   "execution_count": 1,
   "id": "444d9024-02fc-432a-8a1b-fa6433faf904",
   "metadata": {},
   "outputs": [],
   "source": [
    "from transformers import BertTokenizer, BertForPreTraining"
   ]
  },
  {
   "cell_type": "code",
   "execution_count": 2,
   "id": "14d9bd9c-0fe8-47ce-87ab-c09737838f49",
   "metadata": {},
   "outputs": [],
   "source": [
    "import torch"
   ]
  },
  {
   "cell_type": "code",
   "execution_count": 3,
   "id": "e86630e7-5dd1-49fb-89eb-e7fcbe777518",
   "metadata": {},
   "outputs": [],
   "source": [
    "from tqdm.notebook import tqdm as tq\n",
    "import pandas as pd"
   ]
  },
  {
   "cell_type": "code",
   "execution_count": 4,
   "id": "d015a329-0e52-43d5-b965-d7636cf1a440",
   "metadata": {},
   "outputs": [],
   "source": [
    "import sys\n",
    "sys.path.append('../')\n",
    "\n",
    "from util import util"
   ]
  },
  {
   "cell_type": "code",
   "execution_count": 5,
   "id": "fff35e4f-900e-475d-b014-556d84805a31",
   "metadata": {},
   "outputs": [
    {
     "name": "stderr",
     "output_type": "stream",
     "text": [
      "Some weights of BertForPreTraining were not initialized from the model checkpoint at bert-base-multilingual-uncased and are newly initialized: ['cls.predictions.decoder.bias']\n",
      "You should probably TRAIN this model on a down-stream task to be able to use it for predictions and inference.\n"
     ]
    }
   ],
   "source": [
    "tokenize = BertTokenizer.from_pretrained('bert-base-multilingual-uncased')\n",
    "model = BertForPreTraining.from_pretrained('bert-base-multilingual-uncased')"
   ]
  },
  {
   "cell_type": "markdown",
   "id": "a9fe5405",
   "metadata": {},
   "source": [
    "## Data"
   ]
  },
  {
   "cell_type": "code",
   "execution_count": 6,
   "id": "37505e9b-7b78-4968-8e56-86c02a2f7b5e",
   "metadata": {},
   "outputs": [
    {
     "data": {
      "text/html": [
       "<div>\n",
       "<style scoped>\n",
       "    .dataframe tbody tr th:only-of-type {\n",
       "        vertical-align: middle;\n",
       "    }\n",
       "\n",
       "    .dataframe tbody tr th {\n",
       "        vertical-align: top;\n",
       "    }\n",
       "\n",
       "    .dataframe thead th {\n",
       "        text-align: right;\n",
       "    }\n",
       "</style>\n",
       "<table border=\"1\" class=\"dataframe\">\n",
       "  <thead>\n",
       "    <tr style=\"text-align: right;\">\n",
       "      <th></th>\n",
       "      <th>name</th>\n",
       "      <th>titles</th>\n",
       "      <th>en</th>\n",
       "      <th>de</th>\n",
       "    </tr>\n",
       "  </thead>\n",
       "  <tbody>\n",
       "    <tr>\n",
       "      <th>0</th>\n",
       "      <td>EP03703859NWB1.xml</td>\n",
       "      <td>de\\tMODULARER LEISTUNGSWANDLER MIT FLÜSSIGGEKÜ...</td>\n",
       "      <td>A modular power converter comprising a thermal...</td>\n",
       "      <td>Modularer Leistungswandler, der Folgendes umfa...</td>\n",
       "    </tr>\n",
       "    <tr>\n",
       "      <th>1</th>\n",
       "      <td>EP03703859NWB1.xml</td>\n",
       "      <td>de\\tMODULARER LEISTUNGSWANDLER MIT FLÜSSIGGEKÜ...</td>\n",
       "      <td>The modular power converter of claim 1, wherei...</td>\n",
       "      <td>Modularer Leistungswandler nach Anspruch 1, wo...</td>\n",
       "    </tr>\n",
       "    <tr>\n",
       "      <th>2</th>\n",
       "      <td>EP03703859NWB1.xml</td>\n",
       "      <td>de\\tMODULARER LEISTUNGSWANDLER MIT FLÜSSIGGEKÜ...</td>\n",
       "      <td>The modular power converter of claim 1, wherei...</td>\n",
       "      <td>Modularer Leistungswandler nach Anspruch 1, wo...</td>\n",
       "    </tr>\n",
       "    <tr>\n",
       "      <th>3</th>\n",
       "      <td>EP03703859NWB1.xml</td>\n",
       "      <td>de\\tMODULARER LEISTUNGSWANDLER MIT FLÜSSIGGEKÜ...</td>\n",
       "      <td>The modular power converter of claim 1, wherei...</td>\n",
       "      <td>Modularer Leistungswandler nach Anspruch 1, wo...</td>\n",
       "    </tr>\n",
       "    <tr>\n",
       "      <th>4</th>\n",
       "      <td>EP03703859NWB1.xml</td>\n",
       "      <td>de\\tMODULARER LEISTUNGSWANDLER MIT FLÜSSIGGEKÜ...</td>\n",
       "      <td>The modular power converter of claim 1, wherei...</td>\n",
       "      <td>Modularer Leistungswandler nach Anspruch 1, wo...</td>\n",
       "    </tr>\n",
       "    <tr>\n",
       "      <th>...</th>\n",
       "      <td>...</td>\n",
       "      <td>...</td>\n",
       "      <td>...</td>\n",
       "      <td>...</td>\n",
       "    </tr>\n",
       "    <tr>\n",
       "      <th>545093</th>\n",
       "      <td>EP17000010NWB1.xml</td>\n",
       "      <td>de\\tSTREULICHTBLENDE EINES BILDERFASSUNGSGERÄT...</td>\n",
       "      <td>Lens hood according to Claim 10, characterized...</td>\n",
       "      <td>Streulichtblende nach Anspruch 10, dadurch gek...</td>\n",
       "    </tr>\n",
       "    <tr>\n",
       "      <th>545094</th>\n",
       "      <td>EP17000010NWB1.xml</td>\n",
       "      <td>de\\tSTREULICHTBLENDE EINES BILDERFASSUNGSGERÄT...</td>\n",
       "      <td>Lens hood according to one of Claims 9 to 11, ...</td>\n",
       "      <td>Streulichtblende nach einem der Ansprüche 9 bi...</td>\n",
       "    </tr>\n",
       "    <tr>\n",
       "      <th>545095</th>\n",
       "      <td>EP17000010NWB1.xml</td>\n",
       "      <td>de\\tSTREULICHTBLENDE EINES BILDERFASSUNGSGERÄT...</td>\n",
       "      <td>Lens hood according to one of the preceding cl...</td>\n",
       "      <td>Streulichtblende nach einem der vorherigen Ans...</td>\n",
       "    </tr>\n",
       "    <tr>\n",
       "      <th>545096</th>\n",
       "      <td>EP17000010NWB1.xml</td>\n",
       "      <td>de\\tSTREULICHTBLENDE EINES BILDERFASSUNGSGERÄT...</td>\n",
       "      <td>Lens hood according to one of the preceding cl...</td>\n",
       "      <td>Streulichtblende nach einem der vorherigen Ans...</td>\n",
       "    </tr>\n",
       "    <tr>\n",
       "      <th>545097</th>\n",
       "      <td>EP17000010NWB1.xml</td>\n",
       "      <td>de\\tSTREULICHTBLENDE EINES BILDERFASSUNGSGERÄT...</td>\n",
       "      <td>Lens hood according to one of the preceding cl...</td>\n",
       "      <td>Streulichtblende nach einem der vorherigen Ans...</td>\n",
       "    </tr>\n",
       "  </tbody>\n",
       "</table>\n",
       "<p>545098 rows × 4 columns</p>\n",
       "</div>"
      ],
      "text/plain": [
       "                      name                                             titles  \\\n",
       "0       EP03703859NWB1.xml  de\\tMODULARER LEISTUNGSWANDLER MIT FLÜSSIGGEKÜ...   \n",
       "1       EP03703859NWB1.xml  de\\tMODULARER LEISTUNGSWANDLER MIT FLÜSSIGGEKÜ...   \n",
       "2       EP03703859NWB1.xml  de\\tMODULARER LEISTUNGSWANDLER MIT FLÜSSIGGEKÜ...   \n",
       "3       EP03703859NWB1.xml  de\\tMODULARER LEISTUNGSWANDLER MIT FLÜSSIGGEKÜ...   \n",
       "4       EP03703859NWB1.xml  de\\tMODULARER LEISTUNGSWANDLER MIT FLÜSSIGGEKÜ...   \n",
       "...                    ...                                                ...   \n",
       "545093  EP17000010NWB1.xml  de\\tSTREULICHTBLENDE EINES BILDERFASSUNGSGERÄT...   \n",
       "545094  EP17000010NWB1.xml  de\\tSTREULICHTBLENDE EINES BILDERFASSUNGSGERÄT...   \n",
       "545095  EP17000010NWB1.xml  de\\tSTREULICHTBLENDE EINES BILDERFASSUNGSGERÄT...   \n",
       "545096  EP17000010NWB1.xml  de\\tSTREULICHTBLENDE EINES BILDERFASSUNGSGERÄT...   \n",
       "545097  EP17000010NWB1.xml  de\\tSTREULICHTBLENDE EINES BILDERFASSUNGSGERÄT...   \n",
       "\n",
       "                                                       en  \\\n",
       "0       A modular power converter comprising a thermal...   \n",
       "1       The modular power converter of claim 1, wherei...   \n",
       "2       The modular power converter of claim 1, wherei...   \n",
       "3       The modular power converter of claim 1, wherei...   \n",
       "4       The modular power converter of claim 1, wherei...   \n",
       "...                                                   ...   \n",
       "545093  Lens hood according to Claim 10, characterized...   \n",
       "545094  Lens hood according to one of Claims 9 to 11, ...   \n",
       "545095  Lens hood according to one of the preceding cl...   \n",
       "545096  Lens hood according to one of the preceding cl...   \n",
       "545097  Lens hood according to one of the preceding cl...   \n",
       "\n",
       "                                                       de  \n",
       "0       Modularer Leistungswandler, der Folgendes umfa...  \n",
       "1       Modularer Leistungswandler nach Anspruch 1, wo...  \n",
       "2       Modularer Leistungswandler nach Anspruch 1, wo...  \n",
       "3       Modularer Leistungswandler nach Anspruch 1, wo...  \n",
       "4       Modularer Leistungswandler nach Anspruch 1, wo...  \n",
       "...                                                   ...  \n",
       "545093  Streulichtblende nach Anspruch 10, dadurch gek...  \n",
       "545094  Streulichtblende nach einem der Ansprüche 9 bi...  \n",
       "545095  Streulichtblende nach einem der vorherigen Ans...  \n",
       "545096  Streulichtblende nach einem der vorherigen Ans...  \n",
       "545097  Streulichtblende nach einem der vorherigen Ans...  \n",
       "\n",
       "[545098 rows x 4 columns]"
      ]
     },
     "execution_count": 6,
     "metadata": {},
     "output_type": "execute_result"
    }
   ],
   "source": [
    "epo_df = util.decompress_pickle('../data/epo_10_20_df_wo_pre')\n",
    "epo_df"
   ]
  },
  {
   "cell_type": "code",
   "execution_count": 7,
   "id": "745bdefe-fcc8-461f-a008-01ed539dd4f4",
   "metadata": {},
   "outputs": [
    {
     "data": {
      "text/plain": [
       "1090196"
      ]
     },
     "execution_count": 7,
     "metadata": {},
     "output_type": "execute_result"
    }
   ],
   "source": [
    "corpus_en = epo_df.en.to_list()\n",
    "corpus_de = epo_df.de.to_list()\n",
    "\n",
    "len(corpus_en + corpus_de)"
   ]
  },
  {
   "cell_type": "code",
   "execution_count": 8,
   "id": "6441bb99-c99f-42b0-9573-1735a1b5981f",
   "metadata": {},
   "outputs": [],
   "source": [
    "def remove_short_claims(en_claims, de_claims):\n",
    "    en_claims_proc, de_claims_proc = [], []\n",
    "    for en, de in zip(en_claims, de_claims):\n",
    "        if len(en.split(' ')) <= 13:\n",
    "            continue\n",
    "        en_claims_proc.append(en)\n",
    "        de_claims_proc.append(de)\n",
    "    return en_claims_proc, de_claims_proc"
   ]
  },
  {
   "cell_type": "code",
   "execution_count": 9,
   "id": "23093d6f-94d8-4ccd-8209-022707c7febf",
   "metadata": {},
   "outputs": [],
   "source": [
    "corpus_en_proc, corpus_de_proc = remove_short_claims(corpus_en, corpus_de)"
   ]
  },
  {
   "cell_type": "code",
   "execution_count": 10,
   "id": "ec0e5bff-e32e-4c08-9169-7f2b5866b389",
   "metadata": {},
   "outputs": [
    {
     "data": {
      "text/plain": [
       "700023"
      ]
     },
     "execution_count": 10,
     "metadata": {},
     "output_type": "execute_result"
    }
   ],
   "source": [
    "corpus_en_proc = list(set(corpus_en_proc))\n",
    "corpus_de_proc = list(set(corpus_de_proc))\n",
    "len(corpus_en_proc+corpus_de_proc)"
   ]
  },
  {
   "cell_type": "code",
   "execution_count": 11,
   "id": "4bf43119-8a1b-4dfd-b07e-c6b2a503c854",
   "metadata": {},
   "outputs": [],
   "source": [
    "bag = corpus_en_proc + corpus_de_proc"
   ]
  },
  {
   "cell_type": "code",
   "execution_count": 12,
   "id": "51182a00-568b-450b-931e-58c9d2541886",
   "metadata": {},
   "outputs": [
    {
     "data": {
      "text/html": [
       "<div>\n",
       "<style scoped>\n",
       "    .dataframe tbody tr th:only-of-type {\n",
       "        vertical-align: middle;\n",
       "    }\n",
       "\n",
       "    .dataframe tbody tr th {\n",
       "        vertical-align: top;\n",
       "    }\n",
       "\n",
       "    .dataframe thead th {\n",
       "        text-align: right;\n",
       "    }\n",
       "</style>\n",
       "<table border=\"1\" class=\"dataframe\">\n",
       "  <thead>\n",
       "    <tr style=\"text-align: right;\">\n",
       "      <th></th>\n",
       "      <th>titles</th>\n",
       "      <th>en</th>\n",
       "      <th>de</th>\n",
       "    </tr>\n",
       "    <tr>\n",
       "      <th>name</th>\n",
       "      <th></th>\n",
       "      <th></th>\n",
       "      <th></th>\n",
       "    </tr>\n",
       "  </thead>\n",
       "  <tbody>\n",
       "    <tr>\n",
       "      <th>EP00100977NWB1.xml</th>\n",
       "      <td>de\\tAnhängekupplung\\ten\\tTrailer coupling\\tfr\\...</td>\n",
       "      <td>Trailer coupling for motor vehicles comprising...</td>\n",
       "      <td>Anhängekupplung für Kraftfahrzeuge umfassend e...</td>\n",
       "    </tr>\n",
       "    <tr>\n",
       "      <th>EP00100987NWB1.xml</th>\n",
       "      <td>de\\tAntriebssystem für Fahrzeuge, insbesondere...</td>\n",
       "      <td>A drive system 1 for vehicles, in particular c...</td>\n",
       "      <td>Antriebssystem 1 für Fahrzeuge, insbesondere N...</td>\n",
       "    </tr>\n",
       "    <tr>\n",
       "      <th>EP00102859NWB1.xml</th>\n",
       "      <td>de\\tZweikreis-Bremsventil für ein Lenkhilfssys...</td>\n",
       "      <td>A pressure balancing valve arrangement 22 comp...</td>\n",
       "      <td>Druckausgleichventilanordnung 22, umfassend ei...</td>\n",
       "    </tr>\n",
       "    <tr>\n",
       "      <th>EP00104159NWB1.xml</th>\n",
       "      <td>de\\tMotorisch angetriebener Fensterheber mit F...</td>\n",
       "      <td>A power window apparatus for an automobile, co...</td>\n",
       "      <td>Fensterhebervorrichtung für ein Automobil, mit...</td>\n",
       "    </tr>\n",
       "    <tr>\n",
       "      <th>EP00104835NWB1.xml</th>\n",
       "      <td>de\\tMotorregelungsystem für ein hybrides Fahrz...</td>\n",
       "      <td>An engine control system for a hybrid vehicle ...</td>\n",
       "      <td>Maschinensteuer Regelsystem für ein Hybridfahr...</td>\n",
       "    </tr>\n",
       "    <tr>\n",
       "      <th>...</th>\n",
       "      <td>...</td>\n",
       "      <td>...</td>\n",
       "      <td>...</td>\n",
       "    </tr>\n",
       "    <tr>\n",
       "      <th>EP99966772NWB1.xml</th>\n",
       "      <td>de\\tSTOSSDÄMPFER\\ten\\tSHOCK ABSORBER\\tfr\\tAMOR...</td>\n",
       "      <td>A shock absorber comprising a first cylinder 1...</td>\n",
       "      <td>Stoßdämpfer, umfassend einen ersten Zylinder 1...</td>\n",
       "    </tr>\n",
       "    <tr>\n",
       "      <th>EP99968940NWB1.xml</th>\n",
       "      <td>de\\tGERÄT UND VERFAHREN ZUM VERHINDERN EINER A...</td>\n",
       "      <td>A system 500 for performing an automatic seque...</td>\n",
       "      <td>Ein System 500 zur Ausführung einer automatisc...</td>\n",
       "    </tr>\n",
       "    <tr>\n",
       "      <th>EP99970064NWB1.xml</th>\n",
       "      <td>de\\tFAHRHILFEVORRICHTUNG UND AUFZEICHNUNGSMEDI...</td>\n",
       "      <td>A driving-operation assist device in a vehicle...</td>\n",
       "      <td>Fahrhilfevorrichtung in einem Fahrzeug, umfass...</td>\n",
       "    </tr>\n",
       "    <tr>\n",
       "      <th>EP99971507NWB1.xml</th>\n",
       "      <td>de\\tFAHRGASTDETECTOR\\ten\\tPASSENGER DETECTOR\\t...</td>\n",
       "      <td>Passenger detector comprising a flexible suppo...</td>\n",
       "      <td>Fahrgastdetektor, umfassend einen flexiblen Tr...</td>\n",
       "    </tr>\n",
       "    <tr>\n",
       "      <th>EP99972987NWB1.xml</th>\n",
       "      <td>de\\tLUFTSACKGASGENERATOR UND LUFTSACKVORRICHTU...</td>\n",
       "      <td>A gas generator for an air bag, comprising a h...</td>\n",
       "      <td>Ein Gasgenerator für einen Airbag, umfassend e...</td>\n",
       "    </tr>\n",
       "  </tbody>\n",
       "</table>\n",
       "<p>52660 rows × 3 columns</p>\n",
       "</div>"
      ],
      "text/plain": [
       "                                                               titles  \\\n",
       "name                                                                    \n",
       "EP00100977NWB1.xml  de\\tAnhängekupplung\\ten\\tTrailer coupling\\tfr\\...   \n",
       "EP00100987NWB1.xml  de\\tAntriebssystem für Fahrzeuge, insbesondere...   \n",
       "EP00102859NWB1.xml  de\\tZweikreis-Bremsventil für ein Lenkhilfssys...   \n",
       "EP00104159NWB1.xml  de\\tMotorisch angetriebener Fensterheber mit F...   \n",
       "EP00104835NWB1.xml  de\\tMotorregelungsystem für ein hybrides Fahrz...   \n",
       "...                                                               ...   \n",
       "EP99966772NWB1.xml  de\\tSTOSSDÄMPFER\\ten\\tSHOCK ABSORBER\\tfr\\tAMOR...   \n",
       "EP99968940NWB1.xml  de\\tGERÄT UND VERFAHREN ZUM VERHINDERN EINER A...   \n",
       "EP99970064NWB1.xml  de\\tFAHRHILFEVORRICHTUNG UND AUFZEICHNUNGSMEDI...   \n",
       "EP99971507NWB1.xml  de\\tFAHRGASTDETECTOR\\ten\\tPASSENGER DETECTOR\\t...   \n",
       "EP99972987NWB1.xml  de\\tLUFTSACKGASGENERATOR UND LUFTSACKVORRICHTU...   \n",
       "\n",
       "                                                                   en  \\\n",
       "name                                                                    \n",
       "EP00100977NWB1.xml  Trailer coupling for motor vehicles comprising...   \n",
       "EP00100987NWB1.xml  A drive system 1 for vehicles, in particular c...   \n",
       "EP00102859NWB1.xml  A pressure balancing valve arrangement 22 comp...   \n",
       "EP00104159NWB1.xml  A power window apparatus for an automobile, co...   \n",
       "EP00104835NWB1.xml  An engine control system for a hybrid vehicle ...   \n",
       "...                                                               ...   \n",
       "EP99966772NWB1.xml  A shock absorber comprising a first cylinder 1...   \n",
       "EP99968940NWB1.xml  A system 500 for performing an automatic seque...   \n",
       "EP99970064NWB1.xml  A driving-operation assist device in a vehicle...   \n",
       "EP99971507NWB1.xml  Passenger detector comprising a flexible suppo...   \n",
       "EP99972987NWB1.xml  A gas generator for an air bag, comprising a h...   \n",
       "\n",
       "                                                                   de  \n",
       "name                                                                   \n",
       "EP00100977NWB1.xml  Anhängekupplung für Kraftfahrzeuge umfassend e...  \n",
       "EP00100987NWB1.xml  Antriebssystem 1 für Fahrzeuge, insbesondere N...  \n",
       "EP00102859NWB1.xml  Druckausgleichventilanordnung 22, umfassend ei...  \n",
       "EP00104159NWB1.xml  Fensterhebervorrichtung für ein Automobil, mit...  \n",
       "EP00104835NWB1.xml  Maschinensteuer Regelsystem für ein Hybridfahr...  \n",
       "...                                                               ...  \n",
       "EP99966772NWB1.xml  Stoßdämpfer, umfassend einen ersten Zylinder 1...  \n",
       "EP99968940NWB1.xml  Ein System 500 zur Ausführung einer automatisc...  \n",
       "EP99970064NWB1.xml  Fahrhilfevorrichtung in einem Fahrzeug, umfass...  \n",
       "EP99971507NWB1.xml  Fahrgastdetektor, umfassend einen flexiblen Tr...  \n",
       "EP99972987NWB1.xml  Ein Gasgenerator für einen Airbag, umfassend e...  \n",
       "\n",
       "[52660 rows x 3 columns]"
      ]
     },
     "execution_count": 12,
     "metadata": {},
     "output_type": "execute_result"
    }
   ],
   "source": [
    "epo_group_df = epo_df.groupby('name')\n",
    "epo_group_df.first()"
   ]
  },
  {
   "cell_type": "code",
   "execution_count": 13,
   "id": "e0ca5da4-8a5d-46fa-9e88-bf01173a2ae9",
   "metadata": {
    "tags": []
   },
   "outputs": [],
   "source": [
    "names_list = list(set(epo_df.name.to_list()))"
   ]
  },
  {
   "cell_type": "code",
   "execution_count": 14,
   "id": "66af7265-5dc5-48b6-bf37-2ee1b71fe060",
   "metadata": {
    "tags": []
   },
   "outputs": [
    {
     "data": {
      "application/vnd.jupyter.widget-view+json": {
       "model_id": "1ce8f121c88e4407939afcc0ea6b5320",
       "version_major": 2,
       "version_minor": 0
      },
      "text/plain": [
       "HBox(children=(FloatProgress(value=0.0, max=52660.0), HTML(value='')))"
      ]
     },
     "metadata": {},
     "output_type": "display_data"
    },
    {
     "name": "stdout",
     "output_type": "stream",
     "text": [
      "\n"
     ]
    },
    {
     "data": {
      "text/html": [
       "<div>\n",
       "<style scoped>\n",
       "    .dataframe tbody tr th:only-of-type {\n",
       "        vertical-align: middle;\n",
       "    }\n",
       "\n",
       "    .dataframe tbody tr th {\n",
       "        vertical-align: top;\n",
       "    }\n",
       "\n",
       "    .dataframe thead th {\n",
       "        text-align: right;\n",
       "    }\n",
       "</style>\n",
       "<table border=\"1\" class=\"dataframe\">\n",
       "  <thead>\n",
       "    <tr style=\"text-align: right;\">\n",
       "      <th></th>\n",
       "      <th>name</th>\n",
       "      <th>en</th>\n",
       "      <th>de</th>\n",
       "    </tr>\n",
       "  </thead>\n",
       "  <tbody>\n",
       "    <tr>\n",
       "      <th>0</th>\n",
       "      <td>EP11010288NWB1.xml</td>\n",
       "      <td>[A charging connector 10 which is to be connec...</td>\n",
       "      <td>[Ein Ladestecker 10, der in einer Montagericht...</td>\n",
       "    </tr>\n",
       "    <tr>\n",
       "      <th>1</th>\n",
       "      <td>EP06818602NWB1.xml</td>\n",
       "      <td>[A method for controlling an electrical system...</td>\n",
       "      <td>[Verfahren zum Steuern eines Bordnetzes eines ...</td>\n",
       "    </tr>\n",
       "    <tr>\n",
       "      <th>2</th>\n",
       "      <td>EP07120057NWB1.xml</td>\n",
       "      <td>[Tensioning device for tensioning a flexible e...</td>\n",
       "      <td>[Spannvorrichtung zum Spannen eines flexiblen ...</td>\n",
       "    </tr>\n",
       "    <tr>\n",
       "      <th>3</th>\n",
       "      <td>EP08863048NWB1.xml</td>\n",
       "      <td>[Wiping system 32 having a fastening tube, by ...</td>\n",
       "      <td>[Wischanlage 32 mit einemdurch das ein Wischer...</td>\n",
       "    </tr>\n",
       "    <tr>\n",
       "      <th>4</th>\n",
       "      <td>EP09014669NWB1.xml</td>\n",
       "      <td>[Connector device 32, in particular for an ele...</td>\n",
       "      <td>[Steckverbindungsvorrichtung 32, insbesondere ...</td>\n",
       "    </tr>\n",
       "    <tr>\n",
       "      <th>...</th>\n",
       "      <td>...</td>\n",
       "      <td>...</td>\n",
       "      <td>...</td>\n",
       "    </tr>\n",
       "    <tr>\n",
       "      <th>52655</th>\n",
       "      <td>EP15775695NWB1.xml</td>\n",
       "      <td>[Pneumatic vehicle tyre of a radial design wit...</td>\n",
       "      <td>[Fahrzeugluftreifen in Radialbauart mit einem ...</td>\n",
       "    </tr>\n",
       "    <tr>\n",
       "      <th>52656</th>\n",
       "      <td>EP17204405NWB1.xml</td>\n",
       "      <td>[Vehicle, comprising  a drive motor 18 arrange...</td>\n",
       "      <td>[Fahrzeug, umfassend  einen in einem Motorraum...</td>\n",
       "    </tr>\n",
       "    <tr>\n",
       "      <th>52657</th>\n",
       "      <td>EP17181629NWB1.xml</td>\n",
       "      <td>[Motor vehicle, with an interior 13 which is b...</td>\n",
       "      <td>[Kraftfahrzeug, mit einem durch eine Bodenstru...</td>\n",
       "    </tr>\n",
       "    <tr>\n",
       "      <th>52658</th>\n",
       "      <td>EP16165359NWB1.xml</td>\n",
       "      <td>[Battery charger, comprising  three inductance...</td>\n",
       "      <td>[Batterieladegerät, aufweisend  drei Induktore...</td>\n",
       "    </tr>\n",
       "    <tr>\n",
       "      <th>52659</th>\n",
       "      <td>EP04006132NWB1.xml</td>\n",
       "      <td>[A driving apparatus comprising a generator-mo...</td>\n",
       "      <td>[Antriebsvorrichtung mit einem Generatormotor ...</td>\n",
       "    </tr>\n",
       "  </tbody>\n",
       "</table>\n",
       "<p>52660 rows × 3 columns</p>\n",
       "</div>"
      ],
      "text/plain": [
       "                     name                                                 en  \\\n",
       "0      EP11010288NWB1.xml  [A charging connector 10 which is to be connec...   \n",
       "1      EP06818602NWB1.xml  [A method for controlling an electrical system...   \n",
       "2      EP07120057NWB1.xml  [Tensioning device for tensioning a flexible e...   \n",
       "3      EP08863048NWB1.xml  [Wiping system 32 having a fastening tube, by ...   \n",
       "4      EP09014669NWB1.xml  [Connector device 32, in particular for an ele...   \n",
       "...                   ...                                                ...   \n",
       "52655  EP15775695NWB1.xml  [Pneumatic vehicle tyre of a radial design wit...   \n",
       "52656  EP17204405NWB1.xml  [Vehicle, comprising  a drive motor 18 arrange...   \n",
       "52657  EP17181629NWB1.xml  [Motor vehicle, with an interior 13 which is b...   \n",
       "52658  EP16165359NWB1.xml  [Battery charger, comprising  three inductance...   \n",
       "52659  EP04006132NWB1.xml  [A driving apparatus comprising a generator-mo...   \n",
       "\n",
       "                                                      de  \n",
       "0      [Ein Ladestecker 10, der in einer Montagericht...  \n",
       "1      [Verfahren zum Steuern eines Bordnetzes eines ...  \n",
       "2      [Spannvorrichtung zum Spannen eines flexiblen ...  \n",
       "3      [Wischanlage 32 mit einemdurch das ein Wischer...  \n",
       "4      [Steckverbindungsvorrichtung 32, insbesondere ...  \n",
       "...                                                  ...  \n",
       "52655  [Fahrzeugluftreifen in Radialbauart mit einem ...  \n",
       "52656  [Fahrzeug, umfassend  einen in einem Motorraum...  \n",
       "52657  [Kraftfahrzeug, mit einem durch eine Bodenstru...  \n",
       "52658  [Batterieladegerät, aufweisend  drei Induktore...  \n",
       "52659  [Antriebsvorrichtung mit einem Generatormotor ...  \n",
       "\n",
       "[52660 rows x 3 columns]"
      ]
     },
     "execution_count": 14,
     "metadata": {},
     "output_type": "execute_result"
    }
   ],
   "source": [
    "epo_filt = []\n",
    "for name in tq(names_list):\n",
    "    en_claims = epo_group_df.get_group(name).en.to_list()\n",
    "    de_claims = epo_group_df.get_group(name).de.to_list()\n",
    "    \n",
    "    \n",
    "    en_claims, de_claims = remove_short_claims(en_claims, de_claims)\n",
    "    \n",
    "    epo_filt.append(\n",
    "        {\n",
    "            'name': name,\n",
    "            'en': en_claims,\n",
    "            'de': de_claims\n",
    "        }\n",
    "    )\n",
    "epo_filt_df = pd.DataFrame(epo_filt)\n",
    "epo_filt_df"
   ]
  },
  {
   "cell_type": "code",
   "execution_count": 15,
   "id": "f3ed14c4-0323-4296-9af3-12b2d2d5e2d7",
   "metadata": {},
   "outputs": [
    {
     "name": "stdout",
     "output_type": "stream",
     "text": [
      "352136 347887\n"
     ]
    }
   ],
   "source": [
    "bag_en = corpus_en_proc\n",
    "bag_en_size = len(bag_en)\n",
    "\n",
    "bag_de = corpus_de_proc\n",
    "bag_de_size = len(bag_de)\n",
    "\n",
    "print(bag_en_size, bag_de_size)"
   ]
  },
  {
   "cell_type": "code",
   "execution_count": 16,
   "id": "701ee5e1-d2ab-448f-9ecd-66919efd3662",
   "metadata": {},
   "outputs": [
    {
     "data": {
      "text/plain": [
       "700023"
      ]
     },
     "execution_count": 16,
     "metadata": {},
     "output_type": "execute_result"
    }
   ],
   "source": [
    "bag_size = len(bag)\n",
    "bag_size"
   ]
  },
  {
   "cell_type": "code",
   "execution_count": 17,
   "id": "bd474ae0-384c-43b9-9831-af8b99a13f70",
   "metadata": {},
   "outputs": [
    {
     "name": "stdout",
     "output_type": "stream",
     "text": [
      "                  name                                                 en  \\\n",
      "10  EP05805437NWB1.xml  [A wiper blade 13, 41, 51, 61, 71, 81 for wipi...   \n",
      "\n",
      "                                                   de  \n",
      "10  [Wischerblatt 13, 41, 51, 61, 71, 81 zum Wisch...  \n"
     ]
    }
   ],
   "source": [
    "print(epo_filt_df.loc[epo_filt_df['name'] == names_list[10]])"
   ]
  },
  {
   "cell_type": "code",
   "execution_count": 56,
   "id": "3230448b-5de6-461d-ba4a-6f08b8cc4040",
   "metadata": {
    "jupyter": {
     "outputs_hidden": true
    }
   },
   "outputs": [
    {
     "data": {
      "application/vnd.jupyter.widget-view+json": {
       "model_id": "fa34cb03e9a8465994237ff21a9d907a",
       "version_major": 2,
       "version_minor": 0
      },
      "text/plain": [
       "HBox(children=(FloatProgress(value=0.0, max=52660.0), HTML(value='')))"
      ]
     },
     "metadata": {},
     "output_type": "display_data"
    },
    {
     "name": "stdout",
     "output_type": "stream",
     "text": [
      "\n"
     ]
    }
   ],
   "source": [
    "import random\n",
    "\n",
    "sentence_a = []\n",
    "sentence_b = []\n",
    "labels = []\n",
    "\n",
    "for name in tq(names_list):\n",
    "    en_list = epo_filt_df.loc[epo_filt_df['name'] == name].en.to_list()[0]\n",
    "    de_list = epo_filt_df.loc[epo_filt_df['name'] == name].de.to_list()[0]\n",
    "    \n",
    "    assert len(en_list) == len(de_list), 'List sizes are not consistent'\n",
    "    num_sentences = len(en_list)\n",
    "    \n",
    "    if num_sentences > 1:\n",
    "        for _ in range(num_sentences):\n",
    "            sent_ind = random.randint(0, num_sentences-2)\n",
    "            \n",
    "            # EN\n",
    "            sentence_a.append(en_list[sent_ind]) \n",
    "            if random.random() > 0.5:\n",
    "                # for 50 % cases, select a random sentence from the list\n",
    "                # label - 1 - IsNotNext\n",
    "                sentence_b.append(bag[random.randint(0, bag_size-1)])\n",
    "                labels.append(1)\n",
    "            else:\n",
    "                # for the other 50 % cases, select the next sentence from the list\n",
    "                # label - 0 - IsNext\n",
    "                # here, give the sentence from the other language in the smae index\n",
    "                sentence_b.append(de_list[sent_ind])\n",
    "                labels.append(0)\n",
    "                \n",
    "                \n",
    "            # DE\n",
    "            sentence_a.append(de_list[sent_ind]) \n",
    "            if random.random() > 0.5:\n",
    "                # for 50 % cases, select a random sentence from the list\n",
    "                # label - 1 - IsNotNext\n",
    "                sentence_b.append(bag[random.randint(0, bag_size-1)])\n",
    "                labels.append(1)\n",
    "            else:\n",
    "                # for the other 50 % cases, select the next sentence from the list\n",
    "                # label - 0 - IsNext\n",
    "                # here, give the sentence from the other language in the smae index                \n",
    "                sentence_b.append(en_list[sent_ind])\n",
    "                labels.append(0)            "
   ]
  },
  {
   "cell_type": "code",
   "execution_count": 57,
   "id": "d88f21af-a128-44cd-affb-3028486a25f8",
   "metadata": {},
   "outputs": [
    {
     "data": {
      "text/plain": [
       "732376"
      ]
     },
     "execution_count": 57,
     "metadata": {},
     "output_type": "execute_result"
    }
   ],
   "source": [
    "len(sentence_a)"
   ]
  },
  {
   "cell_type": "code",
   "execution_count": 58,
   "id": "a643f41b-792d-4a98-a98a-2c401e219c43",
   "metadata": {},
   "outputs": [
    {
     "name": "stdout",
     "output_type": "stream",
     "text": [
      "Label: 1\n",
      "Sentences:\n",
      "A charging connector according to claim 1, wherein the connecting portion 13 includes a power supply terminal 20 for supplying power and the protection cap 30 60 includes at least one separation wall 35 38 extending from a facing surface of the facing wall 30A substantially opposite to the mounting direction MD to separate the power supply terminal 20 from another terminal.\n",
      "Aktives Fahrwerk gemäß Anspruch 3, wobei das Trajektorieentwicklungssystem eine Glättungseinrichtung beinhaltet, um die Profildaten zur Entwicklung des Trajektorieplans zu glätten.\n",
      "-----\n",
      "Label: 0\n",
      "Sentences:\n",
      "Ein Ladestecker nach Anspruch 1, wobei der Anschlussabschnitt 13 zur Stromversorgung einen Stromversorgungsanschluss 20 beinhaltet und wobei die Schutzkappe 30 60 mindestens eine Trennwand 35 38 beinhaltet, die von einer Stirnfläche der Stirnwand 30A im Wesentlichen entgegen der Montagerichtung MD ausgeht, um den Stromversorgungsanschluss 20 von einem anderen Anschluss zu trennen.\n",
      "A charging connector according to claim 1, wherein the connecting portion 13 includes a power supply terminal 20 for supplying power and the protection cap 30 60 includes at least one separation wall 35 38 extending from a facing surface of the facing wall 30A substantially opposite to the mounting direction MD to separate the power supply terminal 20 from another terminal.\n",
      "-----\n",
      "Label: 1\n",
      "Sentences:\n",
      "A charging connector according to claim 2, wherein  the peripheral wall 30B is formed with a pair of mounting grooves 36 substantially facing each other and\n",
      "The air supply system according to any one of claims 1 to 4, wherein   each of the plurality of air outlets 12 comprises a first contact surface 11 and each of the magnetic valves 20 comprises a closing element 22 with a second contact surface 21, wherein   the first contact surface and the second contact surface are correspondingly inclined relative to a central axis 27 of the air outlet opening.\n",
      "-----\n",
      "Label: 1\n",
      "Sentences:\n",
      "Ein Ladestecker nach Anspruch 2, wobei die periphere Wand 30B mit einem Paar von Montagenuten 36 gebildet wird, die einander im Wesentlichen zugewandt sind und die Trennwand 35 entlang des Kabels W verläuft, das zwischen dem Paar von Montagenuten 36 montiert ist.\n",
      "Method according to any one of claims  16, wherein  said increased reference speed vrefdhscschwung a magnitude of the braking force acting in said vehicle is reduced a gear change into a higher gear is carried out in said vehicle a gear change to neutral gear is carried out in said vehicle and a transition to an engine braking of said vehicle is carried out.\n",
      "-----\n",
      "Label: 0\n",
      "Sentences:\n",
      "A charging connector according to any one of the preceding claims, further comprising a lock portion 14A for locking the vehicle-side connector and the connecting portion 13 in a connected state.\n",
      "Ein Ladestecker nach irgendeinem der vorhergehenden Ansprüche, der des Weiteren, zur Verriegelung des fahrzeugseitigen Steckers und des Anschlussabschnitts 13 im verbundenen Zustand, einen Verriegelungsabschnitt 14A umfasst.\n",
      "-----\n",
      "Label: 0\n",
      "Sentences:\n",
      "Ein Ladestecker nach irgendeinem der vorhergehenden Ansprüche, der des Weiteren, zur Verriegelung des fahrzeugseitigen Steckers und des Anschlussabschnitts 13 im verbundenen Zustand, einen Verriegelungsabschnitt 14A umfasst.\n",
      "A charging connector according to any one of the preceding claims, further comprising a lock portion 14A for locking the vehicle-side connector and the connecting portion 13 in a connected state.\n",
      "-----\n",
      "Label: 0\n",
      "Sentences:\n",
      "A charging connector 10 which is to be connected in a mounting direction MD to a vehicle-side connector provided in a vehicle to provide current particularly for charging a battery installed in the vehicle, comprising a case body 11 12 with a connecting portion 13 connectable to the vehicle-side connector a protection cap 30 60 made of an insulating material and mountable on the connecting portion 13 disconnected from the vehicle-side connector and a cable W drawn out from the interior of the case body 11 12 to be connected to a power supply wherein    the protection cap 30 60 is removable from the connecting portion 13 and attachable to the cable W when connecting the connecting portion 13 to the vehicle-side connector, wherein    the protection cap 30 60 includes a facing wall 30A and a peripheral wall 30B extending from the facing wall 30A wherein    when the protection cap 30 is mounted on the charging connector 10, the facing wall 30A is facing and covering the connecting portion 13 and the peripheral wall 30B extends from the facing wall 30A opposite to the mounting direction MD along the outer surface of the connecting portion 13 characterized in that an end edge of the peripheral wall 30B is cut off to form at least one mounting groove 36 and the mounting groove 36 is formed to surround the cable W over more than about half the circumference while being attached to the cable W.\n",
      "Ein Ladestecker 10, der in einer Montagerichtung MD an einen fahrzeugseitigen Stecker anzuschließen ist, der in einem Fahrzeug bereitgestellt wird, um Strom zu liefern insbesondere, um eine Batterie zu laden, die im Fahrzeug installiert ist, und der das Folgende umfasst einen Gehäusekörper 11 12 mit einem Anschlussabschnitt 13, der an einen fahrzeugseitigen Stecker anschließbar ist eine Schutzkappe 30 60, die aus einem isolierenden Material gefertigt ist und die an den vom fahrzeugseitigen Stecker abgekoppelten Anschlussabschnitt 13 montierbar ist und ein Kabel W, das aus dem Innenraum des Gehäusekörpers 11 12 herausgeführt wird drawn out wobei die Schutzkappe 30 60 vom Anschlussabschnitt 13 entfernt werden kann und am Kabel W anfügbar ist, wenn der Anschlussabschnitt 13 an den fahrzeugseitigen Stecker angeschlossen wird, wobei die Schutzkappe 30 60 eine Stirnwand 30A und eine periphere Wand 30B beinhaltet, die von der Stirnwand 30A ausgeht wobei die Schutzkappe 30 auf dem Ladestecker 10 montiert wird, die Stirnwand 30A zum Anschlussabschnitt 13 hin gewandt ist und diesen abdeckt, und die periphere Wand 30B sich ausgehend von der Stirnwand 30A entgegen der Montagerichtung MD entlang der Außenfläche des Anschlussabschnitts 13 erstreckt dadurch gekennzeichnet, dass eine Endkante der peripheren Wand 30B abgetrennt wird, um mindestens eine Montagenut 36 zu bilden und dass die Montagenut 36 gebildet wird, um das Kabel W über mehr als mindestens etwa den halben Umfang zu umgeben, während sie am Kabel W angebracht ist.\n",
      "-----\n",
      "Label: 0\n",
      "Sentences:\n",
      "Ein Ladestecker 10, der in einer Montagerichtung MD an einen fahrzeugseitigen Stecker anzuschließen ist, der in einem Fahrzeug bereitgestellt wird, um Strom zu liefern insbesondere, um eine Batterie zu laden, die im Fahrzeug installiert ist, und der das Folgende umfasst einen Gehäusekörper 11 12 mit einem Anschlussabschnitt 13, der an einen fahrzeugseitigen Stecker anschließbar ist eine Schutzkappe 30 60, die aus einem isolierenden Material gefertigt ist und die an den vom fahrzeugseitigen Stecker abgekoppelten Anschlussabschnitt 13 montierbar ist und ein Kabel W, das aus dem Innenraum des Gehäusekörpers 11 12 herausgeführt wird drawn out wobei die Schutzkappe 30 60 vom Anschlussabschnitt 13 entfernt werden kann und am Kabel W anfügbar ist, wenn der Anschlussabschnitt 13 an den fahrzeugseitigen Stecker angeschlossen wird, wobei die Schutzkappe 30 60 eine Stirnwand 30A und eine periphere Wand 30B beinhaltet, die von der Stirnwand 30A ausgeht wobei die Schutzkappe 30 auf dem Ladestecker 10 montiert wird, die Stirnwand 30A zum Anschlussabschnitt 13 hin gewandt ist und diesen abdeckt, und die periphere Wand 30B sich ausgehend von der Stirnwand 30A entgegen der Montagerichtung MD entlang der Außenfläche des Anschlussabschnitts 13 erstreckt dadurch gekennzeichnet, dass eine Endkante der peripheren Wand 30B abgetrennt wird, um mindestens eine Montagenut 36 zu bilden und dass die Montagenut 36 gebildet wird, um das Kabel W über mehr als mindestens etwa den halben Umfang zu umgeben, während sie am Kabel W angebracht ist.\n",
      "A charging connector 10 which is to be connected in a mounting direction MD to a vehicle-side connector provided in a vehicle to provide current particularly for charging a battery installed in the vehicle, comprising a case body 11 12 with a connecting portion 13 connectable to the vehicle-side connector a protection cap 30 60 made of an insulating material and mountable on the connecting portion 13 disconnected from the vehicle-side connector and a cable W drawn out from the interior of the case body 11 12 to be connected to a power supply wherein    the protection cap 30 60 is removable from the connecting portion 13 and attachable to the cable W when connecting the connecting portion 13 to the vehicle-side connector, wherein    the protection cap 30 60 includes a facing wall 30A and a peripheral wall 30B extending from the facing wall 30A wherein    when the protection cap 30 is mounted on the charging connector 10, the facing wall 30A is facing and covering the connecting portion 13 and the peripheral wall 30B extends from the facing wall 30A opposite to the mounting direction MD along the outer surface of the connecting portion 13 characterized in that an end edge of the peripheral wall 30B is cut off to form at least one mounting groove 36 and the mounting groove 36 is formed to surround the cable W over more than about half the circumference while being attached to the cable W.\n",
      "-----\n",
      "Label: 1\n",
      "Sentences:\n",
      "A charging connector according to any one of the preceding claims, wherein  a dimension of a first side of the peripheral wall 30B along the mounting direction MD is smaller than a dimension of a second side thereof along the mounting direction MD.\n",
      "The vehicle chassis of claim 7 wherein  the number of removable fasteners fixedly operably coupling the frame member 110 to the first member 120 maintain the longitudinal axis 118 of the frame member 110 parallel to the longitudinal axis 138 of the first member 120.\n",
      "-----\n",
      "Label: 0\n",
      "Sentences:\n",
      "Ein Ladestecker nach irgendeinem der vorhergehenden Ansprüche, wobei eine Abmessung einer ersten Seite der peripheren Wand 30B entlang der Montagerichtung MD kleiner als eine Abmessung einer zweiten Seite davon entlang der Montagerichtung MD.\n",
      "A charging connector according to any one of the preceding claims, wherein  a dimension of a first side of the peripheral wall 30B along the mounting direction MD is smaller than a dimension of a second side thereof along the mounting direction MD.\n",
      "-----\n"
     ]
    }
   ],
   "source": [
    "for i in range(10):\n",
    "    print('Label: %d\\nSentences:\\n%s\\n%s\\n-----' %(labels[i],\n",
    "                                                  sentence_a[i],\n",
    "                                                  sentence_b[i])\n",
    "         )"
   ]
  },
  {
   "cell_type": "code",
   "execution_count": 123,
   "id": "eb0bbd14-0e88-49ea-a8c6-f198e2d367a4",
   "metadata": {},
   "outputs": [
    {
     "name": "stdout",
     "output_type": "stream",
     "text": [
      "CPU times: user 31min 33s, sys: 6.87 s, total: 31min 40s\n",
      "Wall time: 31min 40s\n"
     ]
    },
    {
     "data": {
      "text/plain": [
       "dict_keys(['input_ids', 'token_type_ids', 'attention_mask'])"
      ]
     },
     "execution_count": 123,
     "metadata": {},
     "output_type": "execute_result"
    }
   ],
   "source": [
    "# %%time\n",
    "# inputs = tokenize(sentence_a, sentence_b, return_tensors='pt',\n",
    "#                  max_length=512, truncation=True, padding='max_length')\n",
    "# inputs.keys()"
   ]
  },
  {
   "cell_type": "code",
   "execution_count": 124,
   "id": "0be1386e-928a-4eb1-ae40-35056d2b84b1",
   "metadata": {},
   "outputs": [],
   "source": [
    "# inputs['labels'] = torch.LongTensor([labels]).T"
   ]
  },
  {
   "cell_type": "code",
   "execution_count": 125,
   "id": "972c1dcb-c30f-48d4-90f2-e35b7c4cfa84",
   "metadata": {},
   "outputs": [
    {
     "data": {
      "text/plain": [
       "{'input_ids': tensor([[  101, 10144, 94120,  ...,     0,     0,     0],\n",
       "        [  101, 10350, 20736,  ...,     0,     0,     0],\n",
       "        [  101, 10103, 94120,  ...,     0,     0,     0],\n",
       "        ...,\n",
       "        [  101, 48324, 10123,  ...,     0,     0,     0],\n",
       "        [  101,   143, 33714,  ...,     0,     0,     0],\n",
       "        [  101, 48324, 10123,  ...,     0,     0,     0]]), 'token_type_ids': tensor([[0, 0, 0,  ..., 0, 0, 0],\n",
       "        [0, 0, 0,  ..., 0, 0, 0],\n",
       "        [0, 0, 0,  ..., 0, 0, 0],\n",
       "        ...,\n",
       "        [0, 0, 0,  ..., 0, 0, 0],\n",
       "        [0, 0, 0,  ..., 0, 0, 0],\n",
       "        [0, 0, 0,  ..., 0, 0, 0]]), 'attention_mask': tensor([[1, 1, 1,  ..., 0, 0, 0],\n",
       "        [1, 1, 1,  ..., 0, 0, 0],\n",
       "        [1, 1, 1,  ..., 0, 0, 0],\n",
       "        ...,\n",
       "        [1, 1, 1,  ..., 0, 0, 0],\n",
       "        [1, 1, 1,  ..., 0, 0, 0],\n",
       "        [1, 1, 1,  ..., 0, 0, 0]]), 'labels': tensor([[1],\n",
       "        [0],\n",
       "        [1],\n",
       "        ...,\n",
       "        [0],\n",
       "        [0],\n",
       "        [1]])}"
      ]
     },
     "execution_count": 125,
     "metadata": {},
     "output_type": "execute_result"
    }
   ],
   "source": [
    "inputs"
   ]
  },
  {
   "cell_type": "code",
   "execution_count": 126,
   "id": "e8595b2e-8e54-4a0e-b822-0f04fb9ceab9",
   "metadata": {},
   "outputs": [
    {
     "name": "stdout",
     "output_type": "stream",
     "text": [
      "CPU times: user 5min 52s, sys: 2.56 s, total: 5min 54s\n",
      "Wall time: 5min 54s\n"
     ]
    }
   ],
   "source": [
    "%%time\n",
    "util.compress_pickle('../data/inputs_NSP', inputs)"
   ]
  },
  {
   "cell_type": "markdown",
   "id": "8d52e3a3",
   "metadata": {},
   "source": [
    "## Reload"
   ]
  },
  {
   "cell_type": "code",
   "execution_count": 19,
   "id": "abf066fe-3c37-4392-b135-4bbc23c810b6",
   "metadata": {},
   "outputs": [
    {
     "name": "stdout",
     "output_type": "stream",
     "text": [
      "CPU times: user 54.7 s, sys: 3.91 s, total: 58.6 s\n",
      "Wall time: 58.7 s\n"
     ]
    }
   ],
   "source": [
    "%%time\n",
    "inputs = util.decompress_pickle('../data/inputs_NSP')"
   ]
  },
  {
   "cell_type": "code",
   "execution_count": 20,
   "id": "234bcc34-2432-4721-932d-4a60a2b9c5a1",
   "metadata": {},
   "outputs": [
    {
     "data": {
      "text/plain": [
       "torch.Size([732376, 512])"
      ]
     },
     "execution_count": 20,
     "metadata": {},
     "output_type": "execute_result"
    }
   ],
   "source": [
    "inputs['input_ids'].shape"
   ]
  },
  {
   "cell_type": "code",
   "execution_count": 21,
   "id": "d32f117c",
   "metadata": {},
   "outputs": [
    {
     "data": {
      "text/plain": [
       "{'input_ids': tensor([[  101, 10144, 94120,  ...,     0,     0,     0],\n",
       "        [  101, 10350, 20736,  ...,     0,     0,     0],\n",
       "        [  101, 10103, 94120,  ...,     0,     0,     0],\n",
       "        ...,\n",
       "        [  101, 48324, 10123,  ...,     0,     0,     0],\n",
       "        [  101,   143, 33714,  ...,     0,     0,     0],\n",
       "        [  101, 48324, 10123,  ...,     0,     0,     0]]), 'token_type_ids': tensor([[0, 0, 0,  ..., 0, 0, 0],\n",
       "        [0, 0, 0,  ..., 0, 0, 0],\n",
       "        [0, 0, 0,  ..., 0, 0, 0],\n",
       "        ...,\n",
       "        [0, 0, 0,  ..., 0, 0, 0],\n",
       "        [0, 0, 0,  ..., 0, 0, 0],\n",
       "        [0, 0, 0,  ..., 0, 0, 0]]), 'attention_mask': tensor([[1, 1, 1,  ..., 0, 0, 0],\n",
       "        [1, 1, 1,  ..., 0, 0, 0],\n",
       "        [1, 1, 1,  ..., 0, 0, 0],\n",
       "        ...,\n",
       "        [1, 1, 1,  ..., 0, 0, 0],\n",
       "        [1, 1, 1,  ..., 0, 0, 0],\n",
       "        [1, 1, 1,  ..., 0, 0, 0]]), 'labels': tensor([[1],\n",
       "        [0],\n",
       "        [1],\n",
       "        ...,\n",
       "        [0],\n",
       "        [0],\n",
       "        [1]])}"
      ]
     },
     "execution_count": 21,
     "metadata": {},
     "output_type": "execute_result"
    }
   ],
   "source": [
    "inputs"
   ]
  },
  {
   "cell_type": "code",
   "execution_count": 22,
   "id": "05a2d499",
   "metadata": {},
   "outputs": [
    {
     "data": {
      "text/plain": [
       "{'input_ids': tensor([[  101, 10144, 94120,  ...,     0,     0,     0],\n",
       "        [  101, 10350, 20736,  ...,     0,     0,     0],\n",
       "        [  101, 10103, 94120,  ...,     0,     0,     0],\n",
       "        ...,\n",
       "        [  101, 48324, 10123,  ...,     0,     0,     0],\n",
       "        [  101,   143, 33714,  ...,     0,     0,     0],\n",
       "        [  101, 48324, 10123,  ...,     0,     0,     0]]), 'token_type_ids': tensor([[0, 0, 0,  ..., 0, 0, 0],\n",
       "        [0, 0, 0,  ..., 0, 0, 0],\n",
       "        [0, 0, 0,  ..., 0, 0, 0],\n",
       "        ...,\n",
       "        [0, 0, 0,  ..., 0, 0, 0],\n",
       "        [0, 0, 0,  ..., 0, 0, 0],\n",
       "        [0, 0, 0,  ..., 0, 0, 0]]), 'attention_mask': tensor([[1, 1, 1,  ..., 0, 0, 0],\n",
       "        [1, 1, 1,  ..., 0, 0, 0],\n",
       "        [1, 1, 1,  ..., 0, 0, 0],\n",
       "        ...,\n",
       "        [1, 1, 1,  ..., 0, 0, 0],\n",
       "        [1, 1, 1,  ..., 0, 0, 0],\n",
       "        [1, 1, 1,  ..., 0, 0, 0]]), 'labels': tensor([[1],\n",
       "        [0],\n",
       "        [1],\n",
       "        ...,\n",
       "        [0],\n",
       "        [0],\n",
       "        [1]]), 'next_sentence_label': tensor([[1],\n",
       "        [0],\n",
       "        [1],\n",
       "        ...,\n",
       "        [0],\n",
       "        [0],\n",
       "        [1]])}"
      ]
     },
     "execution_count": 22,
     "metadata": {},
     "output_type": "execute_result"
    }
   ],
   "source": [
    "# here, reloaded inputs was created for NSP. labels should be renamed as next_sentence_label\n",
    "inputs['next_sentence_label'] = inputs['labels']\n",
    "inputs"
   ]
  },
  {
   "cell_type": "markdown",
   "id": "7a308896",
   "metadata": {},
   "source": [
    "## MLM"
   ]
  },
  {
   "cell_type": "code",
   "execution_count": 23,
   "id": "3654af12",
   "metadata": {},
   "outputs": [
    {
     "data": {
      "text/plain": [
       "tensor([[  101, 10144, 94120,  ...,     0,     0,     0],\n",
       "        [  101, 10350, 20736,  ...,     0,     0,     0],\n",
       "        [  101, 10103, 94120,  ...,     0,     0,     0],\n",
       "        ...,\n",
       "        [  101, 48324, 10123,  ...,     0,     0,     0],\n",
       "        [  101,   143, 33714,  ...,     0,     0,     0],\n",
       "        [  101, 48324, 10123,  ...,     0,     0,     0]])"
      ]
     },
     "execution_count": 23,
     "metadata": {},
     "output_type": "execute_result"
    }
   ],
   "source": [
    "mask_arr = torch.rand(inputs.input_ids.shape)\n",
    "selection = (mask_arr < 0.15) * (inputs.input_ids != 101) * (inputs.input_ids != 102) * (inputs.input_ids != 0)\n",
    "mask_indices = []\n",
    "for idx in range(len(selection)):\n",
    "    mask_indices.append(\n",
    "        torch.flatten(selection[idx].nonzero()).tolist()\n",
    "    )\n",
    "inputs['labels'] = inputs.input_ids.detach().clone()\n",
    "inputs['labels']"
   ]
  },
  {
   "cell_type": "code",
   "execution_count": 24,
   "id": "faa0a0ba",
   "metadata": {},
   "outputs": [],
   "source": [
    "for i in range(inputs.input_ids.shape[0]):\n",
    "    inputs.input_ids[i, mask_indices[i]] = 103"
   ]
  },
  {
   "cell_type": "code",
   "execution_count": 25,
   "id": "a74808ab",
   "metadata": {},
   "outputs": [
    {
     "data": {
      "text/plain": [
       "{'input_ids': tensor([[  101,   103, 94120,  ...,     0,     0,     0],\n",
       "        [  101, 10350, 20736,  ...,     0,     0,     0],\n",
       "        [  101, 10103, 94120,  ...,     0,     0,     0],\n",
       "        ...,\n",
       "        [  101, 48324, 10123,  ...,     0,     0,     0],\n",
       "        [  101,   143, 33714,  ...,     0,     0,     0],\n",
       "        [  101, 48324, 10123,  ...,     0,     0,     0]]), 'token_type_ids': tensor([[0, 0, 0,  ..., 0, 0, 0],\n",
       "        [0, 0, 0,  ..., 0, 0, 0],\n",
       "        [0, 0, 0,  ..., 0, 0, 0],\n",
       "        ...,\n",
       "        [0, 0, 0,  ..., 0, 0, 0],\n",
       "        [0, 0, 0,  ..., 0, 0, 0],\n",
       "        [0, 0, 0,  ..., 0, 0, 0]]), 'attention_mask': tensor([[1, 1, 1,  ..., 0, 0, 0],\n",
       "        [1, 1, 1,  ..., 0, 0, 0],\n",
       "        [1, 1, 1,  ..., 0, 0, 0],\n",
       "        ...,\n",
       "        [1, 1, 1,  ..., 0, 0, 0],\n",
       "        [1, 1, 1,  ..., 0, 0, 0],\n",
       "        [1, 1, 1,  ..., 0, 0, 0]]), 'labels': tensor([[  101, 10144, 94120,  ...,     0,     0,     0],\n",
       "        [  101, 10350, 20736,  ...,     0,     0,     0],\n",
       "        [  101, 10103, 94120,  ...,     0,     0,     0],\n",
       "        ...,\n",
       "        [  101, 48324, 10123,  ...,     0,     0,     0],\n",
       "        [  101,   143, 33714,  ...,     0,     0,     0],\n",
       "        [  101, 48324, 10123,  ...,     0,     0,     0]]), 'next_sentence_label': tensor([[1],\n",
       "        [0],\n",
       "        [1],\n",
       "        ...,\n",
       "        [0],\n",
       "        [0],\n",
       "        [1]])}"
      ]
     },
     "execution_count": 25,
     "metadata": {},
     "output_type": "execute_result"
    }
   ],
   "source": [
    "inputs"
   ]
  },
  {
   "cell_type": "markdown",
   "id": "2f79b93b-b93e-4492-99a9-916b654dc387",
   "metadata": {},
   "source": [
    "## PyTorch Dataset Class"
   ]
  },
  {
   "cell_type": "code",
   "execution_count": 15,
   "id": "1d02f6a1-351d-4ed0-b292-3424312a8d93",
   "metadata": {},
   "outputs": [],
   "source": [
    "class EpoDataset(torch.utils.data.Dataset):\n",
    "    def __init__(self, encodings):\n",
    "        self.encodings = encodings\n",
    "        \n",
    "    def __len__(self):\n",
    "        return self.encodings.input_ids.shape[0]\n",
    "    \n",
    "    def __getitem__(self, idx):\n",
    "        return {key: tensor[idx] for key, tensor in self.encodings.items()}"
   ]
  },
  {
   "cell_type": "code",
   "execution_count": 16,
   "id": "6faf9a17-7a2a-4551-b1d1-08e6333ad61a",
   "metadata": {},
   "outputs": [],
   "source": [
    "dataset = EpoDataset(encodings=inputs)"
   ]
  },
  {
   "cell_type": "code",
   "execution_count": 17,
   "id": "b56b4699-4fe9-481f-9059-558ed66a7a88",
   "metadata": {},
   "outputs": [],
   "source": [
    "dataloader = torch.utils.data.DataLoader(dataset, \n",
    "                                         batch_size=16,\n",
    "                                         shuffle=True)"
   ]
  },
  {
   "cell_type": "markdown",
   "id": "8029e2e2-728b-4f6b-b4a3-a47a403959cc",
   "metadata": {},
   "source": [
    "## Training loop"
   ]
  },
  {
   "cell_type": "code",
   "execution_count": 18,
   "id": "d92eb679-b597-457b-89c3-46ce5555e2c8",
   "metadata": {},
   "outputs": [
    {
     "data": {
      "text/plain": [
       "device(type='cuda')"
      ]
     },
     "execution_count": 18,
     "metadata": {},
     "output_type": "execute_result"
    }
   ],
   "source": [
    "device = torch.device('cuda') if torch.cuda.is_available() else torch.device('cpu')\n",
    "device"
   ]
  },
  {
   "cell_type": "code",
   "execution_count": 19,
   "id": "1bea97d9",
   "metadata": {},
   "outputs": [],
   "source": [
    "import torch.nn as nn\n",
    "model= nn.DataParallel(model, device_ids = [0, 1])"
   ]
  },
  {
   "cell_type": "code",
   "execution_count": 20,
   "id": "d1e63044-e6cc-410e-bda5-69e6c332dd28",
   "metadata": {},
   "outputs": [
    {
     "data": {
      "text/plain": [
       "DataParallel(\n",
       "  (module): BertForPreTraining(\n",
       "    (bert): BertModel(\n",
       "      (embeddings): BertEmbeddings(\n",
       "        (word_embeddings): Embedding(105879, 768, padding_idx=0)\n",
       "        (position_embeddings): Embedding(512, 768)\n",
       "        (token_type_embeddings): Embedding(2, 768)\n",
       "        (LayerNorm): LayerNorm((768,), eps=1e-12, elementwise_affine=True)\n",
       "        (dropout): Dropout(p=0.1, inplace=False)\n",
       "      )\n",
       "      (encoder): BertEncoder(\n",
       "        (layer): ModuleList(\n",
       "          (0): BertLayer(\n",
       "            (attention): BertAttention(\n",
       "              (self): BertSelfAttention(\n",
       "                (query): Linear(in_features=768, out_features=768, bias=True)\n",
       "                (key): Linear(in_features=768, out_features=768, bias=True)\n",
       "                (value): Linear(in_features=768, out_features=768, bias=True)\n",
       "                (dropout): Dropout(p=0.1, inplace=False)\n",
       "              )\n",
       "              (output): BertSelfOutput(\n",
       "                (dense): Linear(in_features=768, out_features=768, bias=True)\n",
       "                (LayerNorm): LayerNorm((768,), eps=1e-12, elementwise_affine=True)\n",
       "                (dropout): Dropout(p=0.1, inplace=False)\n",
       "              )\n",
       "            )\n",
       "            (intermediate): BertIntermediate(\n",
       "              (dense): Linear(in_features=768, out_features=3072, bias=True)\n",
       "            )\n",
       "            (output): BertOutput(\n",
       "              (dense): Linear(in_features=3072, out_features=768, bias=True)\n",
       "              (LayerNorm): LayerNorm((768,), eps=1e-12, elementwise_affine=True)\n",
       "              (dropout): Dropout(p=0.1, inplace=False)\n",
       "            )\n",
       "          )\n",
       "          (1): BertLayer(\n",
       "            (attention): BertAttention(\n",
       "              (self): BertSelfAttention(\n",
       "                (query): Linear(in_features=768, out_features=768, bias=True)\n",
       "                (key): Linear(in_features=768, out_features=768, bias=True)\n",
       "                (value): Linear(in_features=768, out_features=768, bias=True)\n",
       "                (dropout): Dropout(p=0.1, inplace=False)\n",
       "              )\n",
       "              (output): BertSelfOutput(\n",
       "                (dense): Linear(in_features=768, out_features=768, bias=True)\n",
       "                (LayerNorm): LayerNorm((768,), eps=1e-12, elementwise_affine=True)\n",
       "                (dropout): Dropout(p=0.1, inplace=False)\n",
       "              )\n",
       "            )\n",
       "            (intermediate): BertIntermediate(\n",
       "              (dense): Linear(in_features=768, out_features=3072, bias=True)\n",
       "            )\n",
       "            (output): BertOutput(\n",
       "              (dense): Linear(in_features=3072, out_features=768, bias=True)\n",
       "              (LayerNorm): LayerNorm((768,), eps=1e-12, elementwise_affine=True)\n",
       "              (dropout): Dropout(p=0.1, inplace=False)\n",
       "            )\n",
       "          )\n",
       "          (2): BertLayer(\n",
       "            (attention): BertAttention(\n",
       "              (self): BertSelfAttention(\n",
       "                (query): Linear(in_features=768, out_features=768, bias=True)\n",
       "                (key): Linear(in_features=768, out_features=768, bias=True)\n",
       "                (value): Linear(in_features=768, out_features=768, bias=True)\n",
       "                (dropout): Dropout(p=0.1, inplace=False)\n",
       "              )\n",
       "              (output): BertSelfOutput(\n",
       "                (dense): Linear(in_features=768, out_features=768, bias=True)\n",
       "                (LayerNorm): LayerNorm((768,), eps=1e-12, elementwise_affine=True)\n",
       "                (dropout): Dropout(p=0.1, inplace=False)\n",
       "              )\n",
       "            )\n",
       "            (intermediate): BertIntermediate(\n",
       "              (dense): Linear(in_features=768, out_features=3072, bias=True)\n",
       "            )\n",
       "            (output): BertOutput(\n",
       "              (dense): Linear(in_features=3072, out_features=768, bias=True)\n",
       "              (LayerNorm): LayerNorm((768,), eps=1e-12, elementwise_affine=True)\n",
       "              (dropout): Dropout(p=0.1, inplace=False)\n",
       "            )\n",
       "          )\n",
       "          (3): BertLayer(\n",
       "            (attention): BertAttention(\n",
       "              (self): BertSelfAttention(\n",
       "                (query): Linear(in_features=768, out_features=768, bias=True)\n",
       "                (key): Linear(in_features=768, out_features=768, bias=True)\n",
       "                (value): Linear(in_features=768, out_features=768, bias=True)\n",
       "                (dropout): Dropout(p=0.1, inplace=False)\n",
       "              )\n",
       "              (output): BertSelfOutput(\n",
       "                (dense): Linear(in_features=768, out_features=768, bias=True)\n",
       "                (LayerNorm): LayerNorm((768,), eps=1e-12, elementwise_affine=True)\n",
       "                (dropout): Dropout(p=0.1, inplace=False)\n",
       "              )\n",
       "            )\n",
       "            (intermediate): BertIntermediate(\n",
       "              (dense): Linear(in_features=768, out_features=3072, bias=True)\n",
       "            )\n",
       "            (output): BertOutput(\n",
       "              (dense): Linear(in_features=3072, out_features=768, bias=True)\n",
       "              (LayerNorm): LayerNorm((768,), eps=1e-12, elementwise_affine=True)\n",
       "              (dropout): Dropout(p=0.1, inplace=False)\n",
       "            )\n",
       "          )\n",
       "          (4): BertLayer(\n",
       "            (attention): BertAttention(\n",
       "              (self): BertSelfAttention(\n",
       "                (query): Linear(in_features=768, out_features=768, bias=True)\n",
       "                (key): Linear(in_features=768, out_features=768, bias=True)\n",
       "                (value): Linear(in_features=768, out_features=768, bias=True)\n",
       "                (dropout): Dropout(p=0.1, inplace=False)\n",
       "              )\n",
       "              (output): BertSelfOutput(\n",
       "                (dense): Linear(in_features=768, out_features=768, bias=True)\n",
       "                (LayerNorm): LayerNorm((768,), eps=1e-12, elementwise_affine=True)\n",
       "                (dropout): Dropout(p=0.1, inplace=False)\n",
       "              )\n",
       "            )\n",
       "            (intermediate): BertIntermediate(\n",
       "              (dense): Linear(in_features=768, out_features=3072, bias=True)\n",
       "            )\n",
       "            (output): BertOutput(\n",
       "              (dense): Linear(in_features=3072, out_features=768, bias=True)\n",
       "              (LayerNorm): LayerNorm((768,), eps=1e-12, elementwise_affine=True)\n",
       "              (dropout): Dropout(p=0.1, inplace=False)\n",
       "            )\n",
       "          )\n",
       "          (5): BertLayer(\n",
       "            (attention): BertAttention(\n",
       "              (self): BertSelfAttention(\n",
       "                (query): Linear(in_features=768, out_features=768, bias=True)\n",
       "                (key): Linear(in_features=768, out_features=768, bias=True)\n",
       "                (value): Linear(in_features=768, out_features=768, bias=True)\n",
       "                (dropout): Dropout(p=0.1, inplace=False)\n",
       "              )\n",
       "              (output): BertSelfOutput(\n",
       "                (dense): Linear(in_features=768, out_features=768, bias=True)\n",
       "                (LayerNorm): LayerNorm((768,), eps=1e-12, elementwise_affine=True)\n",
       "                (dropout): Dropout(p=0.1, inplace=False)\n",
       "              )\n",
       "            )\n",
       "            (intermediate): BertIntermediate(\n",
       "              (dense): Linear(in_features=768, out_features=3072, bias=True)\n",
       "            )\n",
       "            (output): BertOutput(\n",
       "              (dense): Linear(in_features=3072, out_features=768, bias=True)\n",
       "              (LayerNorm): LayerNorm((768,), eps=1e-12, elementwise_affine=True)\n",
       "              (dropout): Dropout(p=0.1, inplace=False)\n",
       "            )\n",
       "          )\n",
       "          (6): BertLayer(\n",
       "            (attention): BertAttention(\n",
       "              (self): BertSelfAttention(\n",
       "                (query): Linear(in_features=768, out_features=768, bias=True)\n",
       "                (key): Linear(in_features=768, out_features=768, bias=True)\n",
       "                (value): Linear(in_features=768, out_features=768, bias=True)\n",
       "                (dropout): Dropout(p=0.1, inplace=False)\n",
       "              )\n",
       "              (output): BertSelfOutput(\n",
       "                (dense): Linear(in_features=768, out_features=768, bias=True)\n",
       "                (LayerNorm): LayerNorm((768,), eps=1e-12, elementwise_affine=True)\n",
       "                (dropout): Dropout(p=0.1, inplace=False)\n",
       "              )\n",
       "            )\n",
       "            (intermediate): BertIntermediate(\n",
       "              (dense): Linear(in_features=768, out_features=3072, bias=True)\n",
       "            )\n",
       "            (output): BertOutput(\n",
       "              (dense): Linear(in_features=3072, out_features=768, bias=True)\n",
       "              (LayerNorm): LayerNorm((768,), eps=1e-12, elementwise_affine=True)\n",
       "              (dropout): Dropout(p=0.1, inplace=False)\n",
       "            )\n",
       "          )\n",
       "          (7): BertLayer(\n",
       "            (attention): BertAttention(\n",
       "              (self): BertSelfAttention(\n",
       "                (query): Linear(in_features=768, out_features=768, bias=True)\n",
       "                (key): Linear(in_features=768, out_features=768, bias=True)\n",
       "                (value): Linear(in_features=768, out_features=768, bias=True)\n",
       "                (dropout): Dropout(p=0.1, inplace=False)\n",
       "              )\n",
       "              (output): BertSelfOutput(\n",
       "                (dense): Linear(in_features=768, out_features=768, bias=True)\n",
       "                (LayerNorm): LayerNorm((768,), eps=1e-12, elementwise_affine=True)\n",
       "                (dropout): Dropout(p=0.1, inplace=False)\n",
       "              )\n",
       "            )\n",
       "            (intermediate): BertIntermediate(\n",
       "              (dense): Linear(in_features=768, out_features=3072, bias=True)\n",
       "            )\n",
       "            (output): BertOutput(\n",
       "              (dense): Linear(in_features=3072, out_features=768, bias=True)\n",
       "              (LayerNorm): LayerNorm((768,), eps=1e-12, elementwise_affine=True)\n",
       "              (dropout): Dropout(p=0.1, inplace=False)\n",
       "            )\n",
       "          )\n",
       "          (8): BertLayer(\n",
       "            (attention): BertAttention(\n",
       "              (self): BertSelfAttention(\n",
       "                (query): Linear(in_features=768, out_features=768, bias=True)\n",
       "                (key): Linear(in_features=768, out_features=768, bias=True)\n",
       "                (value): Linear(in_features=768, out_features=768, bias=True)\n",
       "                (dropout): Dropout(p=0.1, inplace=False)\n",
       "              )\n",
       "              (output): BertSelfOutput(\n",
       "                (dense): Linear(in_features=768, out_features=768, bias=True)\n",
       "                (LayerNorm): LayerNorm((768,), eps=1e-12, elementwise_affine=True)\n",
       "                (dropout): Dropout(p=0.1, inplace=False)\n",
       "              )\n",
       "            )\n",
       "            (intermediate): BertIntermediate(\n",
       "              (dense): Linear(in_features=768, out_features=3072, bias=True)\n",
       "            )\n",
       "            (output): BertOutput(\n",
       "              (dense): Linear(in_features=3072, out_features=768, bias=True)\n",
       "              (LayerNorm): LayerNorm((768,), eps=1e-12, elementwise_affine=True)\n",
       "              (dropout): Dropout(p=0.1, inplace=False)\n",
       "            )\n",
       "          )\n",
       "          (9): BertLayer(\n",
       "            (attention): BertAttention(\n",
       "              (self): BertSelfAttention(\n",
       "                (query): Linear(in_features=768, out_features=768, bias=True)\n",
       "                (key): Linear(in_features=768, out_features=768, bias=True)\n",
       "                (value): Linear(in_features=768, out_features=768, bias=True)\n",
       "                (dropout): Dropout(p=0.1, inplace=False)\n",
       "              )\n",
       "              (output): BertSelfOutput(\n",
       "                (dense): Linear(in_features=768, out_features=768, bias=True)\n",
       "                (LayerNorm): LayerNorm((768,), eps=1e-12, elementwise_affine=True)\n",
       "                (dropout): Dropout(p=0.1, inplace=False)\n",
       "              )\n",
       "            )\n",
       "            (intermediate): BertIntermediate(\n",
       "              (dense): Linear(in_features=768, out_features=3072, bias=True)\n",
       "            )\n",
       "            (output): BertOutput(\n",
       "              (dense): Linear(in_features=3072, out_features=768, bias=True)\n",
       "              (LayerNorm): LayerNorm((768,), eps=1e-12, elementwise_affine=True)\n",
       "              (dropout): Dropout(p=0.1, inplace=False)\n",
       "            )\n",
       "          )\n",
       "          (10): BertLayer(\n",
       "            (attention): BertAttention(\n",
       "              (self): BertSelfAttention(\n",
       "                (query): Linear(in_features=768, out_features=768, bias=True)\n",
       "                (key): Linear(in_features=768, out_features=768, bias=True)\n",
       "                (value): Linear(in_features=768, out_features=768, bias=True)\n",
       "                (dropout): Dropout(p=0.1, inplace=False)\n",
       "              )\n",
       "              (output): BertSelfOutput(\n",
       "                (dense): Linear(in_features=768, out_features=768, bias=True)\n",
       "                (LayerNorm): LayerNorm((768,), eps=1e-12, elementwise_affine=True)\n",
       "                (dropout): Dropout(p=0.1, inplace=False)\n",
       "              )\n",
       "            )\n",
       "            (intermediate): BertIntermediate(\n",
       "              (dense): Linear(in_features=768, out_features=3072, bias=True)\n",
       "            )\n",
       "            (output): BertOutput(\n",
       "              (dense): Linear(in_features=3072, out_features=768, bias=True)\n",
       "              (LayerNorm): LayerNorm((768,), eps=1e-12, elementwise_affine=True)\n",
       "              (dropout): Dropout(p=0.1, inplace=False)\n",
       "            )\n",
       "          )\n",
       "          (11): BertLayer(\n",
       "            (attention): BertAttention(\n",
       "              (self): BertSelfAttention(\n",
       "                (query): Linear(in_features=768, out_features=768, bias=True)\n",
       "                (key): Linear(in_features=768, out_features=768, bias=True)\n",
       "                (value): Linear(in_features=768, out_features=768, bias=True)\n",
       "                (dropout): Dropout(p=0.1, inplace=False)\n",
       "              )\n",
       "              (output): BertSelfOutput(\n",
       "                (dense): Linear(in_features=768, out_features=768, bias=True)\n",
       "                (LayerNorm): LayerNorm((768,), eps=1e-12, elementwise_affine=True)\n",
       "                (dropout): Dropout(p=0.1, inplace=False)\n",
       "              )\n",
       "            )\n",
       "            (intermediate): BertIntermediate(\n",
       "              (dense): Linear(in_features=768, out_features=3072, bias=True)\n",
       "            )\n",
       "            (output): BertOutput(\n",
       "              (dense): Linear(in_features=3072, out_features=768, bias=True)\n",
       "              (LayerNorm): LayerNorm((768,), eps=1e-12, elementwise_affine=True)\n",
       "              (dropout): Dropout(p=0.1, inplace=False)\n",
       "            )\n",
       "          )\n",
       "        )\n",
       "      )\n",
       "      (pooler): BertPooler(\n",
       "        (dense): Linear(in_features=768, out_features=768, bias=True)\n",
       "        (activation): Tanh()\n",
       "      )\n",
       "    )\n",
       "    (cls): BertPreTrainingHeads(\n",
       "      (predictions): BertLMPredictionHead(\n",
       "        (transform): BertPredictionHeadTransform(\n",
       "          (dense): Linear(in_features=768, out_features=768, bias=True)\n",
       "          (LayerNorm): LayerNorm((768,), eps=1e-12, elementwise_affine=True)\n",
       "        )\n",
       "        (decoder): Linear(in_features=768, out_features=105879, bias=True)\n",
       "      )\n",
       "      (seq_relationship): Linear(in_features=768, out_features=2, bias=True)\n",
       "    )\n",
       "  )\n",
       ")"
      ]
     },
     "execution_count": 20,
     "metadata": {},
     "output_type": "execute_result"
    }
   ],
   "source": [
    "model.to(device)\n",
    "model.train()"
   ]
  },
  {
   "cell_type": "markdown",
   "id": "d4019a3a-169c-4769-b774-3f59043d4376",
   "metadata": {},
   "source": [
    "**Define optimizer** "
   ]
  },
  {
   "cell_type": "code",
   "execution_count": 21,
   "id": "8e1000d4-24b8-4e82-86cf-f8e3cb4bde43",
   "metadata": {},
   "outputs": [],
   "source": [
    "from transformers import AdamW"
   ]
  },
  {
   "cell_type": "code",
   "execution_count": 22,
   "id": "1551dc4d-1a34-4e8e-afd7-696477bbde4e",
   "metadata": {},
   "outputs": [],
   "source": [
    "optim = AdamW(model.parameters(), lr=1e-5)"
   ]
  },
  {
   "cell_type": "markdown",
   "id": "cb9a14c5-9fb4-40b5-813d-cc49f8ca63c5",
   "metadata": {},
   "source": [
    "**Training loop**"
   ]
  },
  {
   "cell_type": "code",
   "execution_count": 23,
   "id": "09df732d-d518-4f78-bbe6-18ab13f3f0d7",
   "metadata": {},
   "outputs": [],
   "source": [
    "from tqdm import tqdm"
   ]
  },
  {
   "cell_type": "code",
   "execution_count": 24,
   "id": "0b644ae0-c351-45d0-b538-ce2b4d6e6cc9",
   "metadata": {
    "collapsed": true
   },
   "outputs": [
    {
     "name": "stderr",
     "output_type": "stream",
     "text": [
      "  0%|                                                                                | 0/45774 [00:00<?, ?it/s]/home/sudhi/master_thesis_cltr/venv_thesis/lib/python3.8/site-packages/torch/nn/parallel/_functions.py:68: UserWarning: Was asked to gather along dimension 0, but all input tensors were scalars; will instead unsqueeze and return a vector.\n",
      "  warnings.warn('Was asked to gather along dimension 0, but all '\n",
      "Epoch: 0:   0%|                                              | 60/45774 [00:52<11:12:58,  1.13it/s, loss=0.541]\n"
     ]
    },
    {
     "ename": "KeyboardInterrupt",
     "evalue": "",
     "output_type": "error",
     "traceback": [
      "\u001b[0;31m---------------------------------------------------------------------------\u001b[0m",
      "\u001b[0;31mKeyboardInterrupt\u001b[0m                         Traceback (most recent call last)",
      "\u001b[0;32m/tmp/ipykernel_172560/2690341863.py\u001b[0m in \u001b[0;36m<module>\u001b[0;34m\u001b[0m\n\u001b[1;32m     25\u001b[0m \u001b[0;34m\u001b[0m\u001b[0m\n\u001b[1;32m     26\u001b[0m         \u001b[0mloop\u001b[0m\u001b[0;34m.\u001b[0m\u001b[0mset_description\u001b[0m\u001b[0;34m(\u001b[0m\u001b[0;34mf'Epoch: {epoch}'\u001b[0m\u001b[0;34m)\u001b[0m\u001b[0;34m\u001b[0m\u001b[0;34m\u001b[0m\u001b[0m\n\u001b[0;32m---> 27\u001b[0;31m         \u001b[0mloop\u001b[0m\u001b[0;34m.\u001b[0m\u001b[0mset_postfix\u001b[0m\u001b[0;34m(\u001b[0m\u001b[0mloss\u001b[0m\u001b[0;34m=\u001b[0m\u001b[0mloss\u001b[0m\u001b[0;34m.\u001b[0m\u001b[0mitem\u001b[0m\u001b[0;34m(\u001b[0m\u001b[0;34m)\u001b[0m\u001b[0;34m)\u001b[0m\u001b[0;34m\u001b[0m\u001b[0;34m\u001b[0m\u001b[0m\n\u001b[0m",
      "\u001b[0;31mKeyboardInterrupt\u001b[0m: "
     ]
    }
   ],
   "source": [
    "EPOCHS = 2\n",
    "for epoch in range(EPOCHS):\n",
    "    loop = tqdm(dataloader, leave=True)\n",
    "    \n",
    "    for batch in loop:\n",
    "        optim.zero_grad()\n",
    "        \n",
    "        input_ids = batch['input_ids'].to(device)\n",
    "        token_type_ids = batch['token_type_ids'].to(device)\n",
    "        attention_mask = batch['attention_mask'].to(device)\n",
    "        next_sentence_label = batch['next_sentence_label'].to(device)\n",
    "        labels = batch['labels'].to(device)\n",
    "        \n",
    "        output = model(input_ids, \n",
    "                       token_type_ids=token_type_ids,\n",
    "                       attention_mask=attention_mask, \n",
    "                       next_sentence_label=next_sentence_label,\n",
    "                       labels=labels)\n",
    "        \n",
    "        loss = output.loss\n",
    "        loss = loss.mean()\n",
    "        loss.backward()\n",
    "        \n",
    "        optim.step()\n",
    "        \n",
    "        loop.set_description(f'Epoch: {epoch}')\n",
    "        loop.set_postfix(loss=loss.item())"
   ]
  },
  {
   "cell_type": "code",
   "execution_count": null,
   "id": "190475da",
   "metadata": {},
   "outputs": [],
   "source": [
    "torch.save(model, '../data/model_MLM_NSP.pt')"
   ]
  }
 ],
 "metadata": {
  "kernelspec": {
   "display_name": "Python 3",
   "language": "python",
   "name": "python3"
  },
  "language_info": {
   "codemirror_mode": {
    "name": "ipython",
    "version": 3
   },
   "file_extension": ".py",
   "mimetype": "text/x-python",
   "name": "python",
   "nbconvert_exporter": "python",
   "pygments_lexer": "ipython3",
   "version": "3.8.10"
  }
 },
 "nbformat": 4,
 "nbformat_minor": 5
}
