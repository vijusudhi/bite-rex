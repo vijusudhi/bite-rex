{
 "cells": [
  {
   "cell_type": "markdown",
   "metadata": {},
   "source": [
    "## Test data"
   ]
  },
  {
   "cell_type": "code",
   "execution_count": 1,
   "metadata": {},
   "outputs": [
    {
     "name": "stderr",
     "output_type": "stream",
     "text": [
      "[nltk_data] Downloading package stopwords to /home/sudhi/nltk_data...\n",
      "[nltk_data]   Package stopwords is already up-to-date!\n",
      "[nltk_data] Downloading package punkt to /home/sudhi/nltk_data...\n",
      "[nltk_data]   Package punkt is already up-to-date!\n"
     ]
    }
   ],
   "source": [
    "import sys\n",
    "sys.path.append('../')\n",
    "from util import util, corpus, alignment, tokenize\n",
    "\n",
    "from tqdm.notebook import tqdm as tq\n",
    "import pandas as pd\n",
    "\n",
    "import torch\n",
    "import torch.nn.functional as F"
   ]
  },
  {
   "cell_type": "code",
   "execution_count": 2,
   "metadata": {},
   "outputs": [],
   "source": [
    "test_df = util.decompress_pickle('../../data/test/test_df_1000_queries')\n",
    "all_claims_en = util.decompress_pickle('../../data/test/test_en_claims_first_50_queries')\n",
    "all_claims_de = util.decompress_pickle('../../data/test/test_de_claims_first_50_queries')"
   ]
  },
  {
   "cell_type": "code",
   "execution_count": 3,
   "metadata": {},
   "outputs": [
    {
     "data": {
      "text/plain": [
       "Index(['name', 'query_title', 'rel_titles', 'irr_titles', 'own_claims_en',\n",
       "       'own_claims_de', 'rel_claims_en', 'rel_claims_de', 'irr_claims_en',\n",
       "       'irr_claims_de'],\n",
       "      dtype='object')"
      ]
     },
     "execution_count": 3,
     "metadata": {},
     "output_type": "execute_result"
    }
   ],
   "source": [
    "test_small_df = test_df[:50]\n",
    "test_small_df.columns = ['name', 'query_title', 'rel_titles', 'irr_titles', 'own_claims_en',\n",
    "       'own_claims_de', 'rel_claims_en', 'rel_claims_de', 'irr_claims_en',\n",
    "       'irr_claims_de']\n",
    "test_small_df.keys()"
   ]
  },
  {
   "cell_type": "code",
   "execution_count": 4,
   "metadata": {},
   "outputs": [],
   "source": [
    "def remove_short_claims(en_claims, de_claims):\n",
    "    en_claims_proc, de_claims_proc = [], []\n",
    "    for en, de in zip(en_claims, de_claims):\n",
    "        if len(en.split(' ')) <= 13:\n",
    "            continue\n",
    "        en_claims_proc.append(en)\n",
    "        de_claims_proc.append(de)\n",
    "    return en_claims_proc, de_claims_proc"
   ]
  },
  {
   "cell_type": "code",
   "execution_count": 5,
   "metadata": {},
   "outputs": [
    {
     "data": {
      "text/html": [
       "<div>\n",
       "<style scoped>\n",
       "    .dataframe tbody tr th:only-of-type {\n",
       "        vertical-align: middle;\n",
       "    }\n",
       "\n",
       "    .dataframe tbody tr th {\n",
       "        vertical-align: top;\n",
       "    }\n",
       "\n",
       "    .dataframe thead th {\n",
       "        text-align: right;\n",
       "    }\n",
       "</style>\n",
       "<table border=\"1\" class=\"dataframe\">\n",
       "  <thead>\n",
       "    <tr style=\"text-align: right;\">\n",
       "      <th></th>\n",
       "      <th>name</th>\n",
       "      <th>query_title</th>\n",
       "      <th>rel_titles</th>\n",
       "      <th>irr_titles</th>\n",
       "      <th>own_claims_en</th>\n",
       "      <th>own_claims_de</th>\n",
       "      <th>rel_claims_en</th>\n",
       "      <th>rel_claims_de</th>\n",
       "      <th>irr_claims_en</th>\n",
       "      <th>irr_claims_de</th>\n",
       "    </tr>\n",
       "  </thead>\n",
       "  <tbody>\n",
       "    <tr>\n",
       "      <th>0</th>\n",
       "      <td>EP11787853NWB1.xml</td>\n",
       "      <td>Wiper Blade Adapter, In Particular For A Motor...</td>\n",
       "      <td>[Wiper Blade Adapter, In Particular For A Moto...</td>\n",
       "      <td>[Driving Prediction With A Deep Neural Network...</td>\n",
       "      <td>[Wiper blade adapter, in particular for a moto...</td>\n",
       "      <td>[Wischblattadapter, insbesondere für eine Kraf...</td>\n",
       "      <td>[Wiper blade adapter, in particular for a moto...</td>\n",
       "      <td>[Wischblattadapter, insbesondere für eine Kraf...</td>\n",
       "      <td>[Method for assisting a driver to drive a vehi...</td>\n",
       "      <td>[Verfahren zum Unterstützen eines Fahrers beim...</td>\n",
       "    </tr>\n",
       "    <tr>\n",
       "      <th>1</th>\n",
       "      <td>EP14001859NWB1.xml</td>\n",
       "      <td>Method For Producing A Suspension Arm And Susp...</td>\n",
       "      <td>[Method For Producing A Suspension Arm And Sus...</td>\n",
       "      <td>[Caster Indicator, Tolerance Gap Flag, Psi5 In...</td>\n",
       "      <td>[Method for producing a suspension link 1 for ...</td>\n",
       "      <td>[Verfahren zur Herstellung eines Fahrwerkslenk...</td>\n",
       "      <td>[Method for producing a suspension link 1 for ...</td>\n",
       "      <td>[Verfahren zur Herstellung eines Fahrwerkslenk...</td>\n",
       "      <td>[A caster indicator 200 comprising plural leve...</td>\n",
       "      <td>[Rollenanzeige 200, welche Folgendes aufweist ...</td>\n",
       "    </tr>\n",
       "    <tr>\n",
       "      <th>2</th>\n",
       "      <td>EP14189324NWB1.xml</td>\n",
       "      <td>Removable Luggage Box For Storage In A Luggage...</td>\n",
       "      <td>[Removable Luggage Box For Storage In A Luggag...</td>\n",
       "      <td>[Illumination For Detecting Raindrops On A Pan...</td>\n",
       "      <td>[A motor vehicle 1 having a confined space 2 o...</td>\n",
       "      <td>[Kraftfahrzeug 1 mit einem begrenzten Raum 2, ...</td>\n",
       "      <td>[A motor vehicle 1 having a confined space 2 o...</td>\n",
       "      <td>[Kraftfahrzeug 1 mit einem begrenzten Raum 2, ...</td>\n",
       "      <td>[A device for detecting rain on a pane 2 compr...</td>\n",
       "      <td>[Vorrichtung zur Erkennung von Regen auf einer...</td>\n",
       "    </tr>\n",
       "    <tr>\n",
       "      <th>3</th>\n",
       "      <td>EP16725464NWB1.xml</td>\n",
       "      <td>Electrical Steering Column Lock</td>\n",
       "      <td>[Electrical Steering Column Lock, A Steering C...</td>\n",
       "      <td>[Nonwoven Textile Made From Short Fibers, Biax...</td>\n",
       "      <td>[Electrical steering column lock for locking a...</td>\n",
       "      <td>[Elektrisches Lenkradschloss zum Verriegeln un...</td>\n",
       "      <td>[Electrical steering column lock for locking a...</td>\n",
       "      <td>[Elektrisches Lenkradschloss zum Verriegeln un...</td>\n",
       "      <td>[A method of forming a nonwoven material, the ...</td>\n",
       "      <td>[Verfahren zur Herstellung eines Vliesmaterial...</td>\n",
       "    </tr>\n",
       "    <tr>\n",
       "      <th>4</th>\n",
       "      <td>EP16700859NWB1.xml</td>\n",
       "      <td>Hollow Profiled Element Having Depressions</td>\n",
       "      <td>[Hollow Profiled Element Having Depressions]</td>\n",
       "      <td>[Method For Managing The Supply Of Electrical ...</td>\n",
       "      <td>[A hollow profiled element 1, comprising a plu...</td>\n",
       "      <td>[Hohlprofil 1 mit mehreren in einer Längsricht...</td>\n",
       "      <td>[A hollow profiled element 1, comprising a plu...</td>\n",
       "      <td>[Hohlprofil 1 mit mehreren in einer Längsricht...</td>\n",
       "      <td>[A method for managing the supply of electrica...</td>\n",
       "      <td>[Verfahren zur Verwaltung der Stromversorgung ...</td>\n",
       "    </tr>\n",
       "    <tr>\n",
       "      <th>5</th>\n",
       "      <td>EP12798981NWB1.xml</td>\n",
       "      <td>Method And A System For Combined Hydrogen And ...</td>\n",
       "      <td>[Method And A System For Combined Hydrogen And...</td>\n",
       "      <td>[Tolerance Gap Flag, Child Protector Mechanism...</td>\n",
       "      <td>[A method of using a SOFC system 100 for produ...</td>\n",
       "      <td>[Verfahren zur Verwendung eines SOFC-Systems 1...</td>\n",
       "      <td>[A method of using a SOFC system 100 for produ...</td>\n",
       "      <td>[Verfahren zur Verwendung eines SOFC-Systems 1...</td>\n",
       "      <td>[Decorative arrangement 4 for mounting on a su...</td>\n",
       "      <td>[Dekorative Anordnung 4 zur Montage an einem T...</td>\n",
       "    </tr>\n",
       "    <tr>\n",
       "      <th>6</th>\n",
       "      <td>EP14807582NWB1.xml</td>\n",
       "      <td>System And Method For Applying A Lubricating P...</td>\n",
       "      <td>[System And Method For Applying A Lubricating ...</td>\n",
       "      <td>[Child Protector Mechanism, Isolation Systems ...</td>\n",
       "      <td>[A system, comprising a processing station 16b...</td>\n",
       "      <td>[System, umfassend eine Verarbeitungsstation 1...</td>\n",
       "      <td>[A system, comprising a processing station 16b...</td>\n",
       "      <td>[System, umfassend eine Verarbeitungsstation 1...</td>\n",
       "      <td>[A child protector mechanism 10, comprising a ...</td>\n",
       "      <td>[Kindersicherungsmechanismus 10, der Folgendes...</td>\n",
       "    </tr>\n",
       "    <tr>\n",
       "      <th>7</th>\n",
       "      <td>EP16160480NWB1.xml</td>\n",
       "      <td>Thermal Dissipation System Of An Electric Vehicle</td>\n",
       "      <td>[Thermal Dissipation System Of An Electric Veh...</td>\n",
       "      <td>[Ball Joint, Stereo Camera, Fixation Of The Ba...</td>\n",
       "      <td>[A thermal dissipation system suitable for pla...</td>\n",
       "      <td>[Wärmeableitungssystem, geeignet zum Platziere...</td>\n",
       "      <td>[A thermal dissipation system suitable for pla...</td>\n",
       "      <td>[Wärmeableitungssystem, geeignet zum Platziere...</td>\n",
       "      <td>[A ball joint 1b comprising a ball stud 10 tha...</td>\n",
       "      <td>[Kugelgelenk 1b bestehend aus einem Kugelzapfe...</td>\n",
       "    </tr>\n",
       "    <tr>\n",
       "      <th>8</th>\n",
       "      <td>EP13703552NWB1.xml</td>\n",
       "      <td>Method For Producing An Operating Device In A ...</td>\n",
       "      <td>[Method For Producing An Operating Device In A...</td>\n",
       "      <td>[Fixation Of The Bar Of The Security Net, Cast...</td>\n",
       "      <td>[Method for providing an operating apparatus 6...</td>\n",
       "      <td>[Verfahren zum Bereitstellen einer Bedienvorri...</td>\n",
       "      <td>[Method for providing an operating apparatus 6...</td>\n",
       "      <td>[Verfahren zum Bereitstellen einer Bedienvorri...</td>\n",
       "      <td>[A fastening device for a rod 2 of a safety ne...</td>\n",
       "      <td>[Befestigungseinrichtung für eine Stange 2 ein...</td>\n",
       "    </tr>\n",
       "    <tr>\n",
       "      <th>9</th>\n",
       "      <td>EP18200750NWB1.xml</td>\n",
       "      <td>Electric Motor Driven Vehicle</td>\n",
       "      <td>[Electric Motor Driven Vehicle, Electric Vehicle]</td>\n",
       "      <td>[Improved Corrosion Inhibiting Structure, Syst...</td>\n",
       "      <td>[Vehicle driven by an electric motor, comprisi...</td>\n",
       "      <td>[Elektromotorisch angetriebenes Fahrzeug, umfa...</td>\n",
       "      <td>[Vehicle driven by an electric motor, comprisi...</td>\n",
       "      <td>[Elektromotorisch angetriebenes Fahrzeug, umfa...</td>\n",
       "      <td>[A vehicle comprising a metal structure assemb...</td>\n",
       "      <td>[Fahrzeug, das eine Metallstrukturanordnung mi...</td>\n",
       "    </tr>\n",
       "    <tr>\n",
       "      <th>10</th>\n",
       "      <td>EP15906705NWB1.xml</td>\n",
       "      <td>Parking Space Line Detection Method And Device</td>\n",
       "      <td>[Parking Space Line Detection Method And Device]</td>\n",
       "      <td>[Process For The Preparation Of Precipitated S...</td>\n",
       "      <td>[A method of detecting a frame line of a parki...</td>\n",
       "      <td>[Verfahren zum Erkennen einer Rahmenlinie eine...</td>\n",
       "      <td>[A method of detecting a frame line of a parki...</td>\n",
       "      <td>[Verfahren zum Erkennen einer Rahmenlinie eine...</td>\n",
       "      <td>[Precipitated silica, characterized in that a ...</td>\n",
       "      <td>[Fällungskieselsäure, dadurch gekennzeichnet, ...</td>\n",
       "    </tr>\n",
       "    <tr>\n",
       "      <th>11</th>\n",
       "      <td>EP15763843NWB1.xml</td>\n",
       "      <td>Longitudinal Adjustment For A Vehicle Seat And...</td>\n",
       "      <td>[Longitudinal Adjustment For A Vehicle Seat An...</td>\n",
       "      <td>[Solar Sensor, Hollow Profiled Element Having ...</td>\n",
       "      <td>[Longitudinal adjuster 1, 10 of a vehicle seat...</td>\n",
       "      <td>[Längseinsteller 1, 10 eines Fahrzeugsitzes, u...</td>\n",
       "      <td>[Longitudinal adjuster 1, 10 of a vehicle seat...</td>\n",
       "      <td>[Längseinsteller 1, 10 eines Fahrzeugsitzes, u...</td>\n",
       "      <td>[Solar sensor, having  for attaching to a moun...</td>\n",
       "      <td>[Sonnensensor, aufweisend  einen für elektroma...</td>\n",
       "    </tr>\n",
       "    <tr>\n",
       "      <th>12</th>\n",
       "      <td>EP16768429NWB1.xml</td>\n",
       "      <td>Wheel Speed Detecting Device, And Ring To Be D...</td>\n",
       "      <td>[Wheel Speed Detecting Device, And Ring To Be ...</td>\n",
       "      <td>[Method For Reproducing A Section Of An Image,...</td>\n",
       "      <td>[A wheel speed detecting device 23f, 23r inclu...</td>\n",
       "      <td>[Radgeschwindigkeitserfassungsvorrichtung 23f,...</td>\n",
       "      <td>[A wheel speed detecting device 23f, 23r inclu...</td>\n",
       "      <td>[Radgeschwindigkeitserfassungsvorrichtung 23f,...</td>\n",
       "      <td>[Method for updating an image section 104a, 10...</td>\n",
       "      <td>[Verfahren zur Nachführung eines auf einem Mon...</td>\n",
       "    </tr>\n",
       "    <tr>\n",
       "      <th>13</th>\n",
       "      <td>EP17716571NWB1.xml</td>\n",
       "      <td>Railroad Brake System For Railroad Vehicle</td>\n",
       "      <td>[Railroad Brake System For Railroad Vehicle, R...</td>\n",
       "      <td>[Luminous Glass Panel, Method For Reproducing ...</td>\n",
       "      <td>[A rail vehicle braking system for a rail vehi...</td>\n",
       "      <td>[Schienenbremssystem für Schienenfahrzeuge mit...</td>\n",
       "      <td>[A rail vehicle braking system for a rail vehi...</td>\n",
       "      <td>[Schienenbremssystem für Schienenfahrzeuge mit...</td>\n",
       "      <td>[An illuminating or luminous glazing unit comp...</td>\n",
       "      <td>[Leuchtende oder beleuchtende Verglasung, umfa...</td>\n",
       "    </tr>\n",
       "    <tr>\n",
       "      <th>14</th>\n",
       "      <td>EP14175912NWB1.xml</td>\n",
       "      <td>Camera Based Rain Sensor For A Window Pane</td>\n",
       "      <td>[Camera Based Rain Sensor For A Window Pane]</td>\n",
       "      <td>[Motorcycle, Catalyst Composition For Preparin...</td>\n",
       "      <td>[Rain sensor 2, comprising  a camera 6 arrange...</td>\n",
       "      <td>[Regensensor 2, umfassend  eine Kamera 6, die ...</td>\n",
       "      <td>[Rain sensor 2, comprising  a camera 6 arrange...</td>\n",
       "      <td>[Regensensor 2, umfassend  eine Kamera 6, die ...</td>\n",
       "      <td>[Motorcycle 100 provided with a frame 102, two...</td>\n",
       "      <td>[Motorrad 100, welches mit einem Rahmen 102, z...</td>\n",
       "    </tr>\n",
       "    <tr>\n",
       "      <th>15</th>\n",
       "      <td>EP15748878NWB1.xml</td>\n",
       "      <td>Railway Wheel With Brake Discs</td>\n",
       "      <td>[Railway Wheel With Brake Discs]</td>\n",
       "      <td>[Support For A Device, Such As A Display Means...</td>\n",
       "      <td>[A railway wheel with brake disc comprising a ...</td>\n",
       "      <td>[Schienenfahrzeugrad mit Bremsscheibe, Folgend...</td>\n",
       "      <td>[A railway wheel with brake disc comprising a ...</td>\n",
       "      <td>[Schienenfahrzeugrad mit Bremsscheibe, Folgend...</td>\n",
       "      <td>[Support 1 for a device 2, such as a display m...</td>\n",
       "      <td>[Halterung 1 für eine Vorrichtung 2, wie z B. ...</td>\n",
       "    </tr>\n",
       "    <tr>\n",
       "      <th>16</th>\n",
       "      <td>EP15879947NWB1.xml</td>\n",
       "      <td>Parking Assistance Device And Parking Assistan...</td>\n",
       "      <td>[Parking Assistance Device And Parking Assista...</td>\n",
       "      <td>[Receptacle, Dead Stroke Reduction Valve For M...</td>\n",
       "      <td>[A parking assistance device used in a wireles...</td>\n",
       "      <td>[Parkassistenzvorrichtung, die in einem drahtl...</td>\n",
       "      <td>[A parking assistance device used in a wireles...</td>\n",
       "      <td>[Parkassistenzvorrichtung, die in einem drahtl...</td>\n",
       "      <td>[Receiving device for arranging in a motor veh...</td>\n",
       "      <td>[Aufnahmevorrichtung zum Anordnen in einem Kra...</td>\n",
       "    </tr>\n",
       "    <tr>\n",
       "      <th>17</th>\n",
       "      <td>EP11820805NWB1.xml</td>\n",
       "      <td>Crawler Vehicle And Relative Control Method</td>\n",
       "      <td>[Crawler Vehicle And Relative Control Method]</td>\n",
       "      <td>[Battery Module And Battery Pack Comprising Sa...</td>\n",
       "      <td>[A crawler vehicle 1 comprising  a first and s...</td>\n",
       "      <td>[Raupenfahrzeug 1, das umfasst  eine erste und...</td>\n",
       "      <td>[A crawler vehicle 1 comprising  a first and s...</td>\n",
       "      <td>[Raupenfahrzeug 1, das umfasst  eine erste und...</td>\n",
       "      <td>[A battery module 100 comprising a housing 110...</td>\n",
       "      <td>[Batteriemodul 100, umfassend ein Gehäuse 110,...</td>\n",
       "    </tr>\n",
       "    <tr>\n",
       "      <th>18</th>\n",
       "      <td>EP17156085NWB1.xml</td>\n",
       "      <td>Bellows, E.G. The Transition Between Two Vehic...</td>\n",
       "      <td>[Bellows, E.G. The Transition Between Two Vehi...</td>\n",
       "      <td>[Run Flat Support, Wiper Arm, Process For The ...</td>\n",
       "      <td>[A bellows 10 of a canopy roof of passenger bo...</td>\n",
       "      <td>[Balg 10 eines Vordachs einer Fluggasttreppe o...</td>\n",
       "      <td>[A bellows 10 of a canopy roof of passenger bo...</td>\n",
       "      <td>[Balg 10 eines Vordachs einer Fluggasttreppe o...</td>\n",
       "      <td>[Tensionable run-flat tyre support insert 1 fo...</td>\n",
       "      <td>[Verspannbarer Notlaufeinsatz 1 für ein aus ei...</td>\n",
       "    </tr>\n",
       "    <tr>\n",
       "      <th>19</th>\n",
       "      <td>EP16796229NWB1.xml</td>\n",
       "      <td>Pneumatic Tire</td>\n",
       "      <td>[Pneumatic Tire, Pneumatic Tire, Pneumatic Tir...</td>\n",
       "      <td>[Support System For Mobile Devices, Guidance S...</td>\n",
       "      <td>[A pneumatic tire 11 that is structured from a...</td>\n",
       "      <td>[Luftreifen 11, der strukturiert ist aus einer...</td>\n",
       "      <td>[Pneumatic vehicle tyre, in particular for use...</td>\n",
       "      <td>[Fahrzeugluftreifen, insbesondere für den Eins...</td>\n",
       "      <td>[Support system for mobile device, the support...</td>\n",
       "      <td>[Haltesystem für eine mobile Vorrichtung, wobe...</td>\n",
       "    </tr>\n",
       "    <tr>\n",
       "      <th>20</th>\n",
       "      <td>EP12772076NWB1.xml</td>\n",
       "      <td>Locking And Inclination-Adjusting Arrangement,...</td>\n",
       "      <td>[Locking And Inclination-Adjusting Arrangement...</td>\n",
       "      <td>[Emergency Power Source, Caster Indicator, Sys...</td>\n",
       "      <td>[Locking and inclination-adjusting arrangement...</td>\n",
       "      <td>[Verriegelungs und Neigungsverstellanordnung z...</td>\n",
       "      <td>[Locking and inclination-adjusting arrangement...</td>\n",
       "      <td>[Verriegelungs und Neigungsverstellanordnung z...</td>\n",
       "      <td>[An emergency power source comprising a housin...</td>\n",
       "      <td>[Ein Notstromaggregat, umfassend ein Gehäuse, ...</td>\n",
       "    </tr>\n",
       "    <tr>\n",
       "      <th>21</th>\n",
       "      <td>EP16151724NWB1.xml</td>\n",
       "      <td>Draw Bar Coupling With An Actuator</td>\n",
       "      <td>[Draw Bar Coupling With An Actuator]</td>\n",
       "      <td>[Mounting Member, A Vehicle Mounted Bicycle Ca...</td>\n",
       "      <td>[Trailer coupling for a motor vehicle 12, in p...</td>\n",
       "      <td>[Anhängekupplung für ein Kraftfahrzeug 12, ins...</td>\n",
       "      <td>[Trailer coupling for a motor vehicle 12, in p...</td>\n",
       "      <td>[Anhängekupplung für ein Kraftfahrzeug 12, ins...</td>\n",
       "      <td>[A mounting member 2 preferably for trailers 2...</td>\n",
       "      <td>[Montageelement 2, vorzugsweise für Anhänger 2...</td>\n",
       "    </tr>\n",
       "    <tr>\n",
       "      <th>22</th>\n",
       "      <td>EP16001974NWB1.xml</td>\n",
       "      <td>Drying Agent Cartridge</td>\n",
       "      <td>[Drying Agent Cartridge]</td>\n",
       "      <td>[Communication Between Vehicles Of A Platoon, ...</td>\n",
       "      <td>[A drying agent cartridge 1 for detachable fas...</td>\n",
       "      <td>[Trockenmittelpatrone 1 zur lösbaren Befestigu...</td>\n",
       "      <td>[A drying agent cartridge 1 for detachable fas...</td>\n",
       "      <td>[Trockenmittelpatrone 1 zur lösbaren Befestigu...</td>\n",
       "      <td>[A communication system for enabling communica...</td>\n",
       "      <td>[Kommunikationssystem zum Ermöglichen von Komm...</td>\n",
       "    </tr>\n",
       "    <tr>\n",
       "      <th>23</th>\n",
       "      <td>EP15752967NWB1.xml</td>\n",
       "      <td>Method For The At Least Semi-Autonomous Manoeu...</td>\n",
       "      <td>[Method For The At Least Semi-Autonomous Manoe...</td>\n",
       "      <td>[Hybrid Welding Of Thermoplastics, Printed Ins...</td>\n",
       "      <td>[Method for the at least semi-autonomous manoe...</td>\n",
       "      <td>[Verfahren zum zumindest semi-autonomen Manövr...</td>\n",
       "      <td>[Method for the at least semi-autonomous manoe...</td>\n",
       "      <td>[Verfahren zum zumindest semi-autonomen Manövr...</td>\n",
       "      <td>[A process 10 for welding of two separate vehi...</td>\n",
       "      <td>[Verfahren 10 zum Schweißen von zwei separaten...</td>\n",
       "    </tr>\n",
       "    <tr>\n",
       "      <th>24</th>\n",
       "      <td>EP14814012NWB1.xml</td>\n",
       "      <td>Power Seat Slide Device, And Vehicle Seat</td>\n",
       "      <td>[Power Seat Slide Device, And Vehicle Seat]</td>\n",
       "      <td>[Operator Identifying Apparatus, Fixation Of T...</td>\n",
       "      <td>[A power seat slide device 1 which adjusts a p...</td>\n",
       "      <td>[Elektrische Sitzgleitvorrichtung 1, die ein G...</td>\n",
       "      <td>[A power seat slide device 1 which adjusts a p...</td>\n",
       "      <td>[Elektrische Sitzgleitvorrichtung 1, die ein G...</td>\n",
       "      <td>[An operator identifying apparatus 1 for ident...</td>\n",
       "      <td>[Bedieneridentifizierungsvorrichtung 1 zum Ide...</td>\n",
       "    </tr>\n",
       "    <tr>\n",
       "      <th>25</th>\n",
       "      <td>EP18181014NWB1.xml</td>\n",
       "      <td>Display Assembly With An Internal Casing</td>\n",
       "      <td>[Display Assembly With An Internal Casing]</td>\n",
       "      <td>[Driver Consent Management, Receptacle, Air Sp...</td>\n",
       "      <td>[Display assembly 10 for an automotive vehicle...</td>\n",
       "      <td>[Anzeigeanordnung 10 für ein Kraftfahrzeug, di...</td>\n",
       "      <td>[Display assembly 10 for an automotive vehicle...</td>\n",
       "      <td>[Anzeigeanordnung 10 für ein Kraftfahrzeug, di...</td>\n",
       "      <td>[A system 300 for checking consent, comprising...</td>\n",
       "      <td>[System 300 zur Einwilligungsprüfung, das Folg...</td>\n",
       "    </tr>\n",
       "    <tr>\n",
       "      <th>26</th>\n",
       "      <td>EP15753916NWB1.xml</td>\n",
       "      <td>Vehicle Brake System With Electronical Wheel S...</td>\n",
       "      <td>[Vehicle Brake System With Electronical Wheel ...</td>\n",
       "      <td>[Process For The Preparation Of Precipitated S...</td>\n",
       "      <td>[Electronically slip-controllable vehicle brak...</td>\n",
       "      <td>[Elektronisch schlupfregelbare Fahrzeugbremsan...</td>\n",
       "      <td>[Electronically slip-controllable vehicle brak...</td>\n",
       "      <td>[Elektronisch schlupfregelbare Fahrzeugbremsan...</td>\n",
       "      <td>[Precipitated silica, characterized in that a ...</td>\n",
       "      <td>[Fällungskieselsäure, dadurch gekennzeichnet, ...</td>\n",
       "    </tr>\n",
       "    <tr>\n",
       "      <th>27</th>\n",
       "      <td>EP13734831NWB1.xml</td>\n",
       "      <td>Communication System And Communication Method</td>\n",
       "      <td>[Communication System And Communication Method]</td>\n",
       "      <td>[Tire Having Laminated Innerliner With Reinfor...</td>\n",
       "      <td>[A communication system comprising checking me...</td>\n",
       "      <td>[Kommunikationssystem, aufweisend eine Prüfein...</td>\n",
       "      <td>[A communication system comprising checking me...</td>\n",
       "      <td>[Kommunikationssystem, aufweisend eine Prüfein...</td>\n",
       "      <td>[A tire having a circumferential tire tread an...</td>\n",
       "      <td>[Reifen, der eine umfangsgerichtete Reifenlauf...</td>\n",
       "    </tr>\n",
       "    <tr>\n",
       "      <th>28</th>\n",
       "      <td>EP16809053NWB1.xml</td>\n",
       "      <td>Air Spring Connecting Device Seal</td>\n",
       "      <td>[Air Spring Connecting Device Seal]</td>\n",
       "      <td>[Receptacle, Hollow Profiled Element Having De...</td>\n",
       "      <td>[Air spring connecting device 1 for mounting a...</td>\n",
       "      <td>[Luftfederanschlussvorrichtung 1 zur Lagerung ...</td>\n",
       "      <td>[Air spring connecting device 1 for mounting a...</td>\n",
       "      <td>[Luftfederanschlussvorrichtung 1 zur Lagerung ...</td>\n",
       "      <td>[Receiving device for arranging in a motor veh...</td>\n",
       "      <td>[Aufnahmevorrichtung zum Anordnen in einem Kra...</td>\n",
       "    </tr>\n",
       "    <tr>\n",
       "      <th>29</th>\n",
       "      <td>EP13722548NWB1.xml</td>\n",
       "      <td>Tyre For Vehicle Wheels</td>\n",
       "      <td>[Tyre For Vehicle Wheels, Tyre For Vehicle Whe...</td>\n",
       "      <td>[Combined Power Take-Off And Synchronizer Asse...</td>\n",
       "      <td>[A tyre for vehicle wheels, comprising a carca...</td>\n",
       "      <td>[Reifen für Fahrzeugräder, der umfasst eine Ka...</td>\n",
       "      <td>[A tyre for vehicle wheels, comprising a carca...</td>\n",
       "      <td>[Reifen für Fahrzeugräder, der umfasst eine Ka...</td>\n",
       "      <td>[A power train system 10 comprising a source o...</td>\n",
       "      <td>[Antriebsstrangsystem 10, das Folgendes umfass...</td>\n",
       "    </tr>\n",
       "    <tr>\n",
       "      <th>30</th>\n",
       "      <td>EP16805086NWB1.xml</td>\n",
       "      <td>System And Method For Producing Rubber Mixture...</td>\n",
       "      <td>[System And Method For Producing Rubber Mixtur...</td>\n",
       "      <td>[Display With Detachable Screen, Psi5 Interfac...</td>\n",
       "      <td>[A system 10 for producing rubber mixtures hav...</td>\n",
       "      <td>[System 10 zur Herstellung von Kautschukmischu...</td>\n",
       "      <td>[A system 10 for producing rubber mixtures hav...</td>\n",
       "      <td>[System 10 zur Herstellung von Kautschukmischu...</td>\n",
       "      <td>[A display device, comprising a servo body 1 w...</td>\n",
       "      <td>[Anzeigevorrichtung, umfassend einen Servokörp...</td>\n",
       "    </tr>\n",
       "    <tr>\n",
       "      <th>31</th>\n",
       "      <td>EP14832055NWB1.xml</td>\n",
       "      <td>Pneumatic Tire</td>\n",
       "      <td>[Pneumatic Tire, Pneumatic Tire, Pneumatic Tir...</td>\n",
       "      <td>[Support System For Mobile Devices, Guidance S...</td>\n",
       "      <td>[A pneumatic tire 1 comprising a tread portion...</td>\n",
       "      <td>[Luftreifen 1, umfassend einen Laufflächenabsc...</td>\n",
       "      <td>[Pneumatic vehicle tyre, in particular for use...</td>\n",
       "      <td>[Fahrzeugluftreifen, insbesondere für den Eins...</td>\n",
       "      <td>[Support system for mobile device, the support...</td>\n",
       "      <td>[Haltesystem für eine mobile Vorrichtung, wobe...</td>\n",
       "    </tr>\n",
       "    <tr>\n",
       "      <th>32</th>\n",
       "      <td>EP13723001NWB1.xml</td>\n",
       "      <td>Assembly For Forming An Air-Guiding Element Fo...</td>\n",
       "      <td>[Assembly For Forming An Air-Guiding Element F...</td>\n",
       "      <td>[Caster Indicator, Receptacle, Psi5 Interface ...</td>\n",
       "      <td>[An assembly 10 for forming an air-guiding ele...</td>\n",
       "      <td>[Baugruppe 10 zum Bilden eines Luftleitelement...</td>\n",
       "      <td>[An assembly 10 for forming an air-guiding ele...</td>\n",
       "      <td>[Baugruppe 10 zum Bilden eines Luftleitelement...</td>\n",
       "      <td>[A caster indicator 200 comprising plural leve...</td>\n",
       "      <td>[Rollenanzeige 200, welche Folgendes aufweist ...</td>\n",
       "    </tr>\n",
       "    <tr>\n",
       "      <th>33</th>\n",
       "      <td>EP16168112NWB1.xml</td>\n",
       "      <td>Spring Assembly And Method For Manufacturing A...</td>\n",
       "      <td>[Spring Assembly And Method For Manufacturing ...</td>\n",
       "      <td>[Vehicular Display Device With Improved Bright...</td>\n",
       "      <td>[A spring assembly comprising a spring 3 with ...</td>\n",
       "      <td>[Federanordnung umfassend eine Feder 3 mit ein...</td>\n",
       "      <td>[A spring assembly comprising a spring 3 with ...</td>\n",
       "      <td>[Federanordnung umfassend eine Feder 3 mit ein...</td>\n",
       "      <td>[A display device 1 for displaying a virtual i...</td>\n",
       "      <td>[Anzeigevorrichtung 1 zum Anzeigen eines virtu...</td>\n",
       "    </tr>\n",
       "    <tr>\n",
       "      <th>34</th>\n",
       "      <td>EP11835920NWB1.xml</td>\n",
       "      <td>Measurement Device Of Position Of Center Of Gr...</td>\n",
       "      <td>[Measurement Device Of Position Of Center Of G...</td>\n",
       "      <td>[Windscreen Wiper Blade Treatment Process, Wip...</td>\n",
       "      <td>[An apparatus for determining the center of gr...</td>\n",
       "      <td>[Vorrichtung zum Bestimmen des Masseschwerpunk...</td>\n",
       "      <td>[An apparatus for determining the center of gr...</td>\n",
       "      <td>[Vorrichtung zum Bestimmen des Masseschwerpunk...</td>\n",
       "      <td>[A process for treating a windshield wiper bla...</td>\n",
       "      <td>[Behandlungsverfahren für einen Wischergummi e...</td>\n",
       "    </tr>\n",
       "    <tr>\n",
       "      <th>35</th>\n",
       "      <td>EP17747645NWB1.xml</td>\n",
       "      <td>Battery Module And Battery Pack Comprising Same</td>\n",
       "      <td>[Battery Module And Battery Pack Comprising Sa...</td>\n",
       "      <td>[Fixation Of The Bar Of The Security Net, Meth...</td>\n",
       "      <td>[A battery module 100 comprising a housing 110...</td>\n",
       "      <td>[Batteriemodul 100, umfassend ein Gehäuse 110,...</td>\n",
       "      <td>[A battery module 100 comprising a housing 110...</td>\n",
       "      <td>[Batteriemodul 100, umfassend ein Gehäuse 110,...</td>\n",
       "      <td>[A fastening device for a rod 2 of a safety ne...</td>\n",
       "      <td>[Befestigungseinrichtung für eine Stange 2 ein...</td>\n",
       "    </tr>\n",
       "    <tr>\n",
       "      <th>36</th>\n",
       "      <td>EP18200856NWB1.xml</td>\n",
       "      <td>Spoke-Attachment Flange For A Hub For A Bicycl...</td>\n",
       "      <td>[Spoke-Attachment Flange For A Hub For A Bicyc...</td>\n",
       "      <td>[Dump Truck, Driving Prediction With A Deep Ne...</td>\n",
       "      <td>[Spoke-attachment flange 120 for a hub 100 for...</td>\n",
       "      <td>[Speichen-Anbringungsflansch 120 für eine Nabe...</td>\n",
       "      <td>[Spoke-attachment flange 120 for a hub 100 for...</td>\n",
       "      <td>[Speichen-Anbringungsflansch 120 für eine Nabe...</td>\n",
       "      <td>[A dump truck comprising a frame 11 a pluralit...</td>\n",
       "      <td>[Muldenkipper, der Folgendes umfasst ein Fahrg...</td>\n",
       "    </tr>\n",
       "    <tr>\n",
       "      <th>37</th>\n",
       "      <td>EP17164026NWB1.xml</td>\n",
       "      <td>Control Apparatus For Utility Robot</td>\n",
       "      <td>[Control Apparatus For Utility Robot]</td>\n",
       "      <td>[Catalyst Composition For Preparing Conjugated...</td>\n",
       "      <td>[An apparatus for controlling operation of a u...</td>\n",
       "      <td>[Vorrichtung zur Betriebssteuerung eines Nutzf...</td>\n",
       "      <td>[An apparatus for controlling operation of a u...</td>\n",
       "      <td>[Vorrichtung zur Betriebssteuerung eines Nutzf...</td>\n",
       "      <td>[A catalyst composition for preparing a conjug...</td>\n",
       "      <td>[Katalysatorzusammensetzung zur Herstellung ei...</td>\n",
       "    </tr>\n",
       "    <tr>\n",
       "      <th>38</th>\n",
       "      <td>EP11826551NWB1.xml</td>\n",
       "      <td>Construction Machine</td>\n",
       "      <td>[Construction Machine, Operating Device For A ...</td>\n",
       "      <td>[Apparatus, Method And Article For Authenticat...</td>\n",
       "      <td>[A construction machine, comprising a work dev...</td>\n",
       "      <td>[Baumaschine, mit einer Arbeitsvorrichtung, di...</td>\n",
       "      <td>[A construction machine, comprising a work dev...</td>\n",
       "      <td>[Baumaschine, mit einer Arbeitsvorrichtung, di...</td>\n",
       "      <td>[A portable charging device 350 for charging a...</td>\n",
       "      <td>[Tragbare Ladevorrichtung 350 zum Laden einer ...</td>\n",
       "    </tr>\n",
       "    <tr>\n",
       "      <th>39</th>\n",
       "      <td>EP17180294NWB1.xml</td>\n",
       "      <td>Method And Device For Controlling Or Regulatin...</td>\n",
       "      <td>[Method And Device For Controlling Or Regulati...</td>\n",
       "      <td>[Process For The Preparation Of Precipitated S...</td>\n",
       "      <td>[Method for performing open-loop or closed-loo...</td>\n",
       "      <td>[Verfahren zur Steuerung oder Regelung einer F...</td>\n",
       "      <td>[Method for performing open-loop or closed-loo...</td>\n",
       "      <td>[Verfahren zur Steuerung oder Regelung einer F...</td>\n",
       "      <td>[Precipitated silica, characterized in that a ...</td>\n",
       "      <td>[Fällungskieselsäure, dadurch gekennzeichnet, ...</td>\n",
       "    </tr>\n",
       "    <tr>\n",
       "      <th>40</th>\n",
       "      <td>EP16700437NWB1.xml</td>\n",
       "      <td>Vacuum Brake Booster Having A Throttle Control...</td>\n",
       "      <td>[Vacuum Brake Booster Having A Throttle Contro...</td>\n",
       "      <td>[Driving Prediction With A Deep Neural Network...</td>\n",
       "      <td>[Vacuum brake booster 10 for a motor vehicle b...</td>\n",
       "      <td>[Unterdruckbremskraftverstärker 10 für eine Kr...</td>\n",
       "      <td>[Vacuum brake booster 10 for a motor vehicle b...</td>\n",
       "      <td>[Unterdruckbremskraftverstärker 10 für eine Kr...</td>\n",
       "      <td>[Method for assisting a driver to drive a vehi...</td>\n",
       "      <td>[Verfahren zum Unterstützen eines Fahrers beim...</td>\n",
       "    </tr>\n",
       "    <tr>\n",
       "      <th>41</th>\n",
       "      <td>EP16203489NWB1.xml</td>\n",
       "      <td>Motor Vehicle Washer Fluid Distribution Device...</td>\n",
       "      <td>[Motor Vehicle Washer Fluid Distribution Devic...</td>\n",
       "      <td>[Ball Joint, Caster Indicator, Linear Guide, S...</td>\n",
       "      <td>[Washer fluid distribution device 1 comprising...</td>\n",
       "      <td>[Vorrichtung 1 zur Verteilung einer Scheibenwa...</td>\n",
       "      <td>[Washer fluid distribution device 1 comprising...</td>\n",
       "      <td>[Vorrichtung 1 zur Verteilung einer Scheibenwa...</td>\n",
       "      <td>[A ball joint 1b comprising a ball stud 10 tha...</td>\n",
       "      <td>[Kugelgelenk 1b bestehend aus einem Kugelzapfe...</td>\n",
       "    </tr>\n",
       "    <tr>\n",
       "      <th>42</th>\n",
       "      <td>EP17170315NWB1.xml</td>\n",
       "      <td>Tire</td>\n",
       "      <td>[Tire, Tire, Tire, Tire, Tire, Tire, Tire, Tir...</td>\n",
       "      <td>[Biaxially Stretched Laminated Polyester Film,...</td>\n",
       "      <td>[A tire 1 comprising a tread portion 2 having ...</td>\n",
       "      <td>[Reifen 1, umfassend einen Laufflächenabschnit...</td>\n",
       "      <td>[A tire 10110210 comprising a tread portion 1 ...</td>\n",
       "      <td>[Reifen 10 110 210, umfassend einen Lauffläche...</td>\n",
       "      <td>[A biaxially stretched laminated polyester fil...</td>\n",
       "      <td>[Biaxial gestreckte, laminierte Polyesterfolie...</td>\n",
       "    </tr>\n",
       "    <tr>\n",
       "      <th>43</th>\n",
       "      <td>EP10844807NWB1.xml</td>\n",
       "      <td>Shield Actuator For Head Lamp In The Vehicle</td>\n",
       "      <td>[Shield Actuator For Head Lamp In The Vehicle,...</td>\n",
       "      <td>[Method For Reproducing A Section Of An Image,...</td>\n",
       "      <td>[A vehicle head lamp-purpose shield actuator 1...</td>\n",
       "      <td>[Abschrirmungsstellglied 100 im Zusammenhang m...</td>\n",
       "      <td>[A vehicle head lamp-purpose shield actuator 1...</td>\n",
       "      <td>[Abschrirmungsstellglied 100 im Zusammenhang m...</td>\n",
       "      <td>[Method for updating an image section 104a, 10...</td>\n",
       "      <td>[Verfahren zur Nachführung eines auf einem Mon...</td>\n",
       "    </tr>\n",
       "    <tr>\n",
       "      <th>44</th>\n",
       "      <td>EP16754038NWB1.xml</td>\n",
       "      <td>Thermal Sleeve With Self-Retaining Positioning...</td>\n",
       "      <td>[Thermal Sleeve With Self-Retaining Positionin...</td>\n",
       "      <td>[Driver Assistance, Downlight Luminaire, Syste...</td>\n",
       "      <td>[A thermal sleeve 12 for protecting an electro...</td>\n",
       "      <td>[Thermohülse 12 zum Schützen eines mit einem K...</td>\n",
       "      <td>[A thermal sleeve 12 for protecting an electro...</td>\n",
       "      <td>[Thermohülse 12 zum Schützen eines mit einem K...</td>\n",
       "      <td>[A system for support with regard to handling ...</td>\n",
       "      <td>[System zur Unterstützung der Handhabung eines...</td>\n",
       "    </tr>\n",
       "    <tr>\n",
       "      <th>45</th>\n",
       "      <td>EP12857969NWB1.xml</td>\n",
       "      <td>Device And Method For Changing Gears In A Powe...</td>\n",
       "      <td>[Device And Method For Changing Gears In A Pow...</td>\n",
       "      <td>[Child Protector Mechanism, Tolerance Gap Flag...</td>\n",
       "      <td>[A method for changing gear in a power train o...</td>\n",
       "      <td>[Verfahren zum Wechseln eines Gangs in einem A...</td>\n",
       "      <td>[A method for changing gear in a power train o...</td>\n",
       "      <td>[Verfahren zum Wechseln eines Gangs in einem A...</td>\n",
       "      <td>[A child protector mechanism 10, comprising a ...</td>\n",
       "      <td>[Kindersicherungsmechanismus 10, der Folgendes...</td>\n",
       "    </tr>\n",
       "    <tr>\n",
       "      <th>46</th>\n",
       "      <td>EP12844113NWB1.xml</td>\n",
       "      <td>Straddle Electric Vehicle</td>\n",
       "      <td>[Straddle Electric Vehicle]</td>\n",
       "      <td>[Biaxially Stretched Laminated Polyester Film,...</td>\n",
       "      <td>[A straddle electric vehicle 1 comprising an e...</td>\n",
       "      <td>[Elektrisches Grätschsitzfahrzeug 1, das aufwe...</td>\n",
       "      <td>[A straddle electric vehicle 1 comprising an e...</td>\n",
       "      <td>[Elektrisches Grätschsitzfahrzeug 1, das aufwe...</td>\n",
       "      <td>[A biaxially stretched laminated polyester fil...</td>\n",
       "      <td>[Biaxial gestreckte, laminierte Polyesterfolie...</td>\n",
       "    </tr>\n",
       "    <tr>\n",
       "      <th>47</th>\n",
       "      <td>EP17742160NWB1.xml</td>\n",
       "      <td>Electronically Controllable Pneumatic Brake Sy...</td>\n",
       "      <td>[Electronically Controllable Pneumatic Brake S...</td>\n",
       "      <td>[Mounting Member, Caster Indicator, Stereo Cam...</td>\n",
       "      <td>[Electronically controllable pneumatic brake s...</td>\n",
       "      <td>[Elektronisch steuerbares pneumatisches Bremss...</td>\n",
       "      <td>[Electronically controllable pneumatic brake s...</td>\n",
       "      <td>[Elektronisch steuerbares pneumatisches Bremss...</td>\n",
       "      <td>[A mounting member 2 preferably for trailers 2...</td>\n",
       "      <td>[Montageelement 2, vorzugsweise für Anhänger 2...</td>\n",
       "    </tr>\n",
       "    <tr>\n",
       "      <th>48</th>\n",
       "      <td>EP14745603NWB1.xml</td>\n",
       "      <td>Variable Capacity Compressor</td>\n",
       "      <td>[Variable Capacity Compressor]</td>\n",
       "      <td>[Laminated Glass Intermediate Film And Laminat...</td>\n",
       "      <td>[A variable capacity compressor M comprising a...</td>\n",
       "      <td>[Variabler Leistungskompressor M mit einem Lei...</td>\n",
       "      <td>[A variable capacity compressor M comprising a...</td>\n",
       "      <td>[Variabler Leistungskompressor M mit einem Lei...</td>\n",
       "      <td>[An intermediate film for laminated glass havi...</td>\n",
       "      <td>[Zwischenfolie für Verbundglas mit einer Schic...</td>\n",
       "    </tr>\n",
       "    <tr>\n",
       "      <th>49</th>\n",
       "      <td>EP11821625NWB1.xml</td>\n",
       "      <td>Wiper Motor</td>\n",
       "      <td>[Wiper Motor, Wiper Motor]</td>\n",
       "      <td>[Caster Indicator, Guidance System And Method ...</td>\n",
       "      <td>[A wiper motor 10 comprising an electric motor...</td>\n",
       "      <td>[Wischermotor 10, der einen Elektromotor 11 un...</td>\n",
       "      <td>[A wiper motor 21, 31 which subjects a wiper m...</td>\n",
       "      <td>[Wischermotor 21, 31, der ein Wischerelement e...</td>\n",
       "      <td>[A caster indicator 200 comprising plural leve...</td>\n",
       "      <td>[Rollenanzeige 200, welche Folgendes aufweist ...</td>\n",
       "    </tr>\n",
       "  </tbody>\n",
       "</table>\n",
       "</div>"
      ],
      "text/plain": [
       "                  name                                        query_title  \\\n",
       "0   EP11787853NWB1.xml  Wiper Blade Adapter, In Particular For A Motor...   \n",
       "1   EP14001859NWB1.xml  Method For Producing A Suspension Arm And Susp...   \n",
       "2   EP14189324NWB1.xml  Removable Luggage Box For Storage In A Luggage...   \n",
       "3   EP16725464NWB1.xml                    Electrical Steering Column Lock   \n",
       "4   EP16700859NWB1.xml         Hollow Profiled Element Having Depressions   \n",
       "5   EP12798981NWB1.xml  Method And A System For Combined Hydrogen And ...   \n",
       "6   EP14807582NWB1.xml  System And Method For Applying A Lubricating P...   \n",
       "7   EP16160480NWB1.xml  Thermal Dissipation System Of An Electric Vehicle   \n",
       "8   EP13703552NWB1.xml  Method For Producing An Operating Device In A ...   \n",
       "9   EP18200750NWB1.xml                      Electric Motor Driven Vehicle   \n",
       "10  EP15906705NWB1.xml     Parking Space Line Detection Method And Device   \n",
       "11  EP15763843NWB1.xml  Longitudinal Adjustment For A Vehicle Seat And...   \n",
       "12  EP16768429NWB1.xml  Wheel Speed Detecting Device, And Ring To Be D...   \n",
       "13  EP17716571NWB1.xml         Railroad Brake System For Railroad Vehicle   \n",
       "14  EP14175912NWB1.xml         Camera Based Rain Sensor For A Window Pane   \n",
       "15  EP15748878NWB1.xml                     Railway Wheel With Brake Discs   \n",
       "16  EP15879947NWB1.xml  Parking Assistance Device And Parking Assistan...   \n",
       "17  EP11820805NWB1.xml        Crawler Vehicle And Relative Control Method   \n",
       "18  EP17156085NWB1.xml  Bellows, E.G. The Transition Between Two Vehic...   \n",
       "19  EP16796229NWB1.xml                                     Pneumatic Tire   \n",
       "20  EP12772076NWB1.xml  Locking And Inclination-Adjusting Arrangement,...   \n",
       "21  EP16151724NWB1.xml                 Draw Bar Coupling With An Actuator   \n",
       "22  EP16001974NWB1.xml                             Drying Agent Cartridge   \n",
       "23  EP15752967NWB1.xml  Method For The At Least Semi-Autonomous Manoeu...   \n",
       "24  EP14814012NWB1.xml          Power Seat Slide Device, And Vehicle Seat   \n",
       "25  EP18181014NWB1.xml           Display Assembly With An Internal Casing   \n",
       "26  EP15753916NWB1.xml  Vehicle Brake System With Electronical Wheel S...   \n",
       "27  EP13734831NWB1.xml      Communication System And Communication Method   \n",
       "28  EP16809053NWB1.xml                  Air Spring Connecting Device Seal   \n",
       "29  EP13722548NWB1.xml                            Tyre For Vehicle Wheels   \n",
       "30  EP16805086NWB1.xml  System And Method For Producing Rubber Mixture...   \n",
       "31  EP14832055NWB1.xml                                     Pneumatic Tire   \n",
       "32  EP13723001NWB1.xml  Assembly For Forming An Air-Guiding Element Fo...   \n",
       "33  EP16168112NWB1.xml  Spring Assembly And Method For Manufacturing A...   \n",
       "34  EP11835920NWB1.xml  Measurement Device Of Position Of Center Of Gr...   \n",
       "35  EP17747645NWB1.xml    Battery Module And Battery Pack Comprising Same   \n",
       "36  EP18200856NWB1.xml  Spoke-Attachment Flange For A Hub For A Bicycl...   \n",
       "37  EP17164026NWB1.xml                Control Apparatus For Utility Robot   \n",
       "38  EP11826551NWB1.xml                               Construction Machine   \n",
       "39  EP17180294NWB1.xml  Method And Device For Controlling Or Regulatin...   \n",
       "40  EP16700437NWB1.xml  Vacuum Brake Booster Having A Throttle Control...   \n",
       "41  EP16203489NWB1.xml  Motor Vehicle Washer Fluid Distribution Device...   \n",
       "42  EP17170315NWB1.xml                                               Tire   \n",
       "43  EP10844807NWB1.xml       Shield Actuator For Head Lamp In The Vehicle   \n",
       "44  EP16754038NWB1.xml  Thermal Sleeve With Self-Retaining Positioning...   \n",
       "45  EP12857969NWB1.xml  Device And Method For Changing Gears In A Powe...   \n",
       "46  EP12844113NWB1.xml                          Straddle Electric Vehicle   \n",
       "47  EP17742160NWB1.xml  Electronically Controllable Pneumatic Brake Sy...   \n",
       "48  EP14745603NWB1.xml                       Variable Capacity Compressor   \n",
       "49  EP11821625NWB1.xml                                        Wiper Motor   \n",
       "\n",
       "                                           rel_titles  \\\n",
       "0   [Wiper Blade Adapter, In Particular For A Moto...   \n",
       "1   [Method For Producing A Suspension Arm And Sus...   \n",
       "2   [Removable Luggage Box For Storage In A Luggag...   \n",
       "3   [Electrical Steering Column Lock, A Steering C...   \n",
       "4        [Hollow Profiled Element Having Depressions]   \n",
       "5   [Method And A System For Combined Hydrogen And...   \n",
       "6   [System And Method For Applying A Lubricating ...   \n",
       "7   [Thermal Dissipation System Of An Electric Veh...   \n",
       "8   [Method For Producing An Operating Device In A...   \n",
       "9   [Electric Motor Driven Vehicle, Electric Vehicle]   \n",
       "10   [Parking Space Line Detection Method And Device]   \n",
       "11  [Longitudinal Adjustment For A Vehicle Seat An...   \n",
       "12  [Wheel Speed Detecting Device, And Ring To Be ...   \n",
       "13  [Railroad Brake System For Railroad Vehicle, R...   \n",
       "14       [Camera Based Rain Sensor For A Window Pane]   \n",
       "15                   [Railway Wheel With Brake Discs]   \n",
       "16  [Parking Assistance Device And Parking Assista...   \n",
       "17      [Crawler Vehicle And Relative Control Method]   \n",
       "18  [Bellows, E.G. The Transition Between Two Vehi...   \n",
       "19  [Pneumatic Tire, Pneumatic Tire, Pneumatic Tir...   \n",
       "20  [Locking And Inclination-Adjusting Arrangement...   \n",
       "21               [Draw Bar Coupling With An Actuator]   \n",
       "22                           [Drying Agent Cartridge]   \n",
       "23  [Method For The At Least Semi-Autonomous Manoe...   \n",
       "24        [Power Seat Slide Device, And Vehicle Seat]   \n",
       "25         [Display Assembly With An Internal Casing]   \n",
       "26  [Vehicle Brake System With Electronical Wheel ...   \n",
       "27    [Communication System And Communication Method]   \n",
       "28                [Air Spring Connecting Device Seal]   \n",
       "29  [Tyre For Vehicle Wheels, Tyre For Vehicle Whe...   \n",
       "30  [System And Method For Producing Rubber Mixtur...   \n",
       "31  [Pneumatic Tire, Pneumatic Tire, Pneumatic Tir...   \n",
       "32  [Assembly For Forming An Air-Guiding Element F...   \n",
       "33  [Spring Assembly And Method For Manufacturing ...   \n",
       "34  [Measurement Device Of Position Of Center Of G...   \n",
       "35  [Battery Module And Battery Pack Comprising Sa...   \n",
       "36  [Spoke-Attachment Flange For A Hub For A Bicyc...   \n",
       "37              [Control Apparatus For Utility Robot]   \n",
       "38  [Construction Machine, Operating Device For A ...   \n",
       "39  [Method And Device For Controlling Or Regulati...   \n",
       "40  [Vacuum Brake Booster Having A Throttle Contro...   \n",
       "41  [Motor Vehicle Washer Fluid Distribution Devic...   \n",
       "42  [Tire, Tire, Tire, Tire, Tire, Tire, Tire, Tir...   \n",
       "43  [Shield Actuator For Head Lamp In The Vehicle,...   \n",
       "44  [Thermal Sleeve With Self-Retaining Positionin...   \n",
       "45  [Device And Method For Changing Gears In A Pow...   \n",
       "46                        [Straddle Electric Vehicle]   \n",
       "47  [Electronically Controllable Pneumatic Brake S...   \n",
       "48                     [Variable Capacity Compressor]   \n",
       "49                         [Wiper Motor, Wiper Motor]   \n",
       "\n",
       "                                           irr_titles  \\\n",
       "0   [Driving Prediction With A Deep Neural Network...   \n",
       "1   [Caster Indicator, Tolerance Gap Flag, Psi5 In...   \n",
       "2   [Illumination For Detecting Raindrops On A Pan...   \n",
       "3   [Nonwoven Textile Made From Short Fibers, Biax...   \n",
       "4   [Method For Managing The Supply Of Electrical ...   \n",
       "5   [Tolerance Gap Flag, Child Protector Mechanism...   \n",
       "6   [Child Protector Mechanism, Isolation Systems ...   \n",
       "7   [Ball Joint, Stereo Camera, Fixation Of The Ba...   \n",
       "8   [Fixation Of The Bar Of The Security Net, Cast...   \n",
       "9   [Improved Corrosion Inhibiting Structure, Syst...   \n",
       "10  [Process For The Preparation Of Precipitated S...   \n",
       "11  [Solar Sensor, Hollow Profiled Element Having ...   \n",
       "12  [Method For Reproducing A Section Of An Image,...   \n",
       "13  [Luminous Glass Panel, Method For Reproducing ...   \n",
       "14  [Motorcycle, Catalyst Composition For Preparin...   \n",
       "15  [Support For A Device, Such As A Display Means...   \n",
       "16  [Receptacle, Dead Stroke Reduction Valve For M...   \n",
       "17  [Battery Module And Battery Pack Comprising Sa...   \n",
       "18  [Run Flat Support, Wiper Arm, Process For The ...   \n",
       "19  [Support System For Mobile Devices, Guidance S...   \n",
       "20  [Emergency Power Source, Caster Indicator, Sys...   \n",
       "21  [Mounting Member, A Vehicle Mounted Bicycle Ca...   \n",
       "22  [Communication Between Vehicles Of A Platoon, ...   \n",
       "23  [Hybrid Welding Of Thermoplastics, Printed Ins...   \n",
       "24  [Operator Identifying Apparatus, Fixation Of T...   \n",
       "25  [Driver Consent Management, Receptacle, Air Sp...   \n",
       "26  [Process For The Preparation Of Precipitated S...   \n",
       "27  [Tire Having Laminated Innerliner With Reinfor...   \n",
       "28  [Receptacle, Hollow Profiled Element Having De...   \n",
       "29  [Combined Power Take-Off And Synchronizer Asse...   \n",
       "30  [Display With Detachable Screen, Psi5 Interfac...   \n",
       "31  [Support System For Mobile Devices, Guidance S...   \n",
       "32  [Caster Indicator, Receptacle, Psi5 Interface ...   \n",
       "33  [Vehicular Display Device With Improved Bright...   \n",
       "34  [Windscreen Wiper Blade Treatment Process, Wip...   \n",
       "35  [Fixation Of The Bar Of The Security Net, Meth...   \n",
       "36  [Dump Truck, Driving Prediction With A Deep Ne...   \n",
       "37  [Catalyst Composition For Preparing Conjugated...   \n",
       "38  [Apparatus, Method And Article For Authenticat...   \n",
       "39  [Process For The Preparation Of Precipitated S...   \n",
       "40  [Driving Prediction With A Deep Neural Network...   \n",
       "41  [Ball Joint, Caster Indicator, Linear Guide, S...   \n",
       "42  [Biaxially Stretched Laminated Polyester Film,...   \n",
       "43  [Method For Reproducing A Section Of An Image,...   \n",
       "44  [Driver Assistance, Downlight Luminaire, Syste...   \n",
       "45  [Child Protector Mechanism, Tolerance Gap Flag...   \n",
       "46  [Biaxially Stretched Laminated Polyester Film,...   \n",
       "47  [Mounting Member, Caster Indicator, Stereo Cam...   \n",
       "48  [Laminated Glass Intermediate Film And Laminat...   \n",
       "49  [Caster Indicator, Guidance System And Method ...   \n",
       "\n",
       "                                        own_claims_en  \\\n",
       "0   [Wiper blade adapter, in particular for a moto...   \n",
       "1   [Method for producing a suspension link 1 for ...   \n",
       "2   [A motor vehicle 1 having a confined space 2 o...   \n",
       "3   [Electrical steering column lock for locking a...   \n",
       "4   [A hollow profiled element 1, comprising a plu...   \n",
       "5   [A method of using a SOFC system 100 for produ...   \n",
       "6   [A system, comprising a processing station 16b...   \n",
       "7   [A thermal dissipation system suitable for pla...   \n",
       "8   [Method for providing an operating apparatus 6...   \n",
       "9   [Vehicle driven by an electric motor, comprisi...   \n",
       "10  [A method of detecting a frame line of a parki...   \n",
       "11  [Longitudinal adjuster 1, 10 of a vehicle seat...   \n",
       "12  [A wheel speed detecting device 23f, 23r inclu...   \n",
       "13  [A rail vehicle braking system for a rail vehi...   \n",
       "14  [Rain sensor 2, comprising  a camera 6 arrange...   \n",
       "15  [A railway wheel with brake disc comprising a ...   \n",
       "16  [A parking assistance device used in a wireles...   \n",
       "17  [A crawler vehicle 1 comprising  a first and s...   \n",
       "18  [A bellows 10 of a canopy roof of passenger bo...   \n",
       "19  [A pneumatic tire 11 that is structured from a...   \n",
       "20  [Locking and inclination-adjusting arrangement...   \n",
       "21  [Trailer coupling for a motor vehicle 12, in p...   \n",
       "22  [A drying agent cartridge 1 for detachable fas...   \n",
       "23  [Method for the at least semi-autonomous manoe...   \n",
       "24  [A power seat slide device 1 which adjusts a p...   \n",
       "25  [Display assembly 10 for an automotive vehicle...   \n",
       "26  [Electronically slip-controllable vehicle brak...   \n",
       "27  [A communication system comprising checking me...   \n",
       "28  [Air spring connecting device 1 for mounting a...   \n",
       "29  [A tyre for vehicle wheels, comprising a carca...   \n",
       "30  [A system 10 for producing rubber mixtures hav...   \n",
       "31  [A pneumatic tire 1 comprising a tread portion...   \n",
       "32  [An assembly 10 for forming an air-guiding ele...   \n",
       "33  [A spring assembly comprising a spring 3 with ...   \n",
       "34  [An apparatus for determining the center of gr...   \n",
       "35  [A battery module 100 comprising a housing 110...   \n",
       "36  [Spoke-attachment flange 120 for a hub 100 for...   \n",
       "37  [An apparatus for controlling operation of a u...   \n",
       "38  [A construction machine, comprising a work dev...   \n",
       "39  [Method for performing open-loop or closed-loo...   \n",
       "40  [Vacuum brake booster 10 for a motor vehicle b...   \n",
       "41  [Washer fluid distribution device 1 comprising...   \n",
       "42  [A tire 1 comprising a tread portion 2 having ...   \n",
       "43  [A vehicle head lamp-purpose shield actuator 1...   \n",
       "44  [A thermal sleeve 12 for protecting an electro...   \n",
       "45  [A method for changing gear in a power train o...   \n",
       "46  [A straddle electric vehicle 1 comprising an e...   \n",
       "47  [Electronically controllable pneumatic brake s...   \n",
       "48  [A variable capacity compressor M comprising a...   \n",
       "49  [A wiper motor 10 comprising an electric motor...   \n",
       "\n",
       "                                        own_claims_de  \\\n",
       "0   [Wischblattadapter, insbesondere für eine Kraf...   \n",
       "1   [Verfahren zur Herstellung eines Fahrwerkslenk...   \n",
       "2   [Kraftfahrzeug 1 mit einem begrenzten Raum 2, ...   \n",
       "3   [Elektrisches Lenkradschloss zum Verriegeln un...   \n",
       "4   [Hohlprofil 1 mit mehreren in einer Längsricht...   \n",
       "5   [Verfahren zur Verwendung eines SOFC-Systems 1...   \n",
       "6   [System, umfassend eine Verarbeitungsstation 1...   \n",
       "7   [Wärmeableitungssystem, geeignet zum Platziere...   \n",
       "8   [Verfahren zum Bereitstellen einer Bedienvorri...   \n",
       "9   [Elektromotorisch angetriebenes Fahrzeug, umfa...   \n",
       "10  [Verfahren zum Erkennen einer Rahmenlinie eine...   \n",
       "11  [Längseinsteller 1, 10 eines Fahrzeugsitzes, u...   \n",
       "12  [Radgeschwindigkeitserfassungsvorrichtung 23f,...   \n",
       "13  [Schienenbremssystem für Schienenfahrzeuge mit...   \n",
       "14  [Regensensor 2, umfassend  eine Kamera 6, die ...   \n",
       "15  [Schienenfahrzeugrad mit Bremsscheibe, Folgend...   \n",
       "16  [Parkassistenzvorrichtung, die in einem drahtl...   \n",
       "17  [Raupenfahrzeug 1, das umfasst  eine erste und...   \n",
       "18  [Balg 10 eines Vordachs einer Fluggasttreppe o...   \n",
       "19  [Luftreifen 11, der strukturiert ist aus einer...   \n",
       "20  [Verriegelungs und Neigungsverstellanordnung z...   \n",
       "21  [Anhängekupplung für ein Kraftfahrzeug 12, ins...   \n",
       "22  [Trockenmittelpatrone 1 zur lösbaren Befestigu...   \n",
       "23  [Verfahren zum zumindest semi-autonomen Manövr...   \n",
       "24  [Elektrische Sitzgleitvorrichtung 1, die ein G...   \n",
       "25  [Anzeigeanordnung 10 für ein Kraftfahrzeug, di...   \n",
       "26  [Elektronisch schlupfregelbare Fahrzeugbremsan...   \n",
       "27  [Kommunikationssystem, aufweisend eine Prüfein...   \n",
       "28  [Luftfederanschlussvorrichtung 1 zur Lagerung ...   \n",
       "29  [Reifen für Fahrzeugräder, der umfasst eine Ka...   \n",
       "30  [System 10 zur Herstellung von Kautschukmischu...   \n",
       "31  [Luftreifen 1, umfassend einen Laufflächenabsc...   \n",
       "32  [Baugruppe 10 zum Bilden eines Luftleitelement...   \n",
       "33  [Federanordnung umfassend eine Feder 3 mit ein...   \n",
       "34  [Vorrichtung zum Bestimmen des Masseschwerpunk...   \n",
       "35  [Batteriemodul 100, umfassend ein Gehäuse 110,...   \n",
       "36  [Speichen-Anbringungsflansch 120 für eine Nabe...   \n",
       "37  [Vorrichtung zur Betriebssteuerung eines Nutzf...   \n",
       "38  [Baumaschine, mit einer Arbeitsvorrichtung, di...   \n",
       "39  [Verfahren zur Steuerung oder Regelung einer F...   \n",
       "40  [Unterdruckbremskraftverstärker 10 für eine Kr...   \n",
       "41  [Vorrichtung 1 zur Verteilung einer Scheibenwa...   \n",
       "42  [Reifen 1, umfassend einen Laufflächenabschnit...   \n",
       "43  [Abschrirmungsstellglied 100 im Zusammenhang m...   \n",
       "44  [Thermohülse 12 zum Schützen eines mit einem K...   \n",
       "45  [Verfahren zum Wechseln eines Gangs in einem A...   \n",
       "46  [Elektrisches Grätschsitzfahrzeug 1, das aufwe...   \n",
       "47  [Elektronisch steuerbares pneumatisches Bremss...   \n",
       "48  [Variabler Leistungskompressor M mit einem Lei...   \n",
       "49  [Wischermotor 10, der einen Elektromotor 11 un...   \n",
       "\n",
       "                                        rel_claims_en  \\\n",
       "0   [Wiper blade adapter, in particular for a moto...   \n",
       "1   [Method for producing a suspension link 1 for ...   \n",
       "2   [A motor vehicle 1 having a confined space 2 o...   \n",
       "3   [Electrical steering column lock for locking a...   \n",
       "4   [A hollow profiled element 1, comprising a plu...   \n",
       "5   [A method of using a SOFC system 100 for produ...   \n",
       "6   [A system, comprising a processing station 16b...   \n",
       "7   [A thermal dissipation system suitable for pla...   \n",
       "8   [Method for providing an operating apparatus 6...   \n",
       "9   [Vehicle driven by an electric motor, comprisi...   \n",
       "10  [A method of detecting a frame line of a parki...   \n",
       "11  [Longitudinal adjuster 1, 10 of a vehicle seat...   \n",
       "12  [A wheel speed detecting device 23f, 23r inclu...   \n",
       "13  [A rail vehicle braking system for a rail vehi...   \n",
       "14  [Rain sensor 2, comprising  a camera 6 arrange...   \n",
       "15  [A railway wheel with brake disc comprising a ...   \n",
       "16  [A parking assistance device used in a wireles...   \n",
       "17  [A crawler vehicle 1 comprising  a first and s...   \n",
       "18  [A bellows 10 of a canopy roof of passenger bo...   \n",
       "19  [Pneumatic vehicle tyre, in particular for use...   \n",
       "20  [Locking and inclination-adjusting arrangement...   \n",
       "21  [Trailer coupling for a motor vehicle 12, in p...   \n",
       "22  [A drying agent cartridge 1 for detachable fas...   \n",
       "23  [Method for the at least semi-autonomous manoe...   \n",
       "24  [A power seat slide device 1 which adjusts a p...   \n",
       "25  [Display assembly 10 for an automotive vehicle...   \n",
       "26  [Electronically slip-controllable vehicle brak...   \n",
       "27  [A communication system comprising checking me...   \n",
       "28  [Air spring connecting device 1 for mounting a...   \n",
       "29  [A tyre for vehicle wheels, comprising a carca...   \n",
       "30  [A system 10 for producing rubber mixtures hav...   \n",
       "31  [Pneumatic vehicle tyre, in particular for use...   \n",
       "32  [An assembly 10 for forming an air-guiding ele...   \n",
       "33  [A spring assembly comprising a spring 3 with ...   \n",
       "34  [An apparatus for determining the center of gr...   \n",
       "35  [A battery module 100 comprising a housing 110...   \n",
       "36  [Spoke-attachment flange 120 for a hub 100 for...   \n",
       "37  [An apparatus for controlling operation of a u...   \n",
       "38  [A construction machine, comprising a work dev...   \n",
       "39  [Method for performing open-loop or closed-loo...   \n",
       "40  [Vacuum brake booster 10 for a motor vehicle b...   \n",
       "41  [Washer fluid distribution device 1 comprising...   \n",
       "42  [A tire 10110210 comprising a tread portion 1 ...   \n",
       "43  [A vehicle head lamp-purpose shield actuator 1...   \n",
       "44  [A thermal sleeve 12 for protecting an electro...   \n",
       "45  [A method for changing gear in a power train o...   \n",
       "46  [A straddle electric vehicle 1 comprising an e...   \n",
       "47  [Electronically controllable pneumatic brake s...   \n",
       "48  [A variable capacity compressor M comprising a...   \n",
       "49  [A wiper motor 21, 31 which subjects a wiper m...   \n",
       "\n",
       "                                        rel_claims_de  \\\n",
       "0   [Wischblattadapter, insbesondere für eine Kraf...   \n",
       "1   [Verfahren zur Herstellung eines Fahrwerkslenk...   \n",
       "2   [Kraftfahrzeug 1 mit einem begrenzten Raum 2, ...   \n",
       "3   [Elektrisches Lenkradschloss zum Verriegeln un...   \n",
       "4   [Hohlprofil 1 mit mehreren in einer Längsricht...   \n",
       "5   [Verfahren zur Verwendung eines SOFC-Systems 1...   \n",
       "6   [System, umfassend eine Verarbeitungsstation 1...   \n",
       "7   [Wärmeableitungssystem, geeignet zum Platziere...   \n",
       "8   [Verfahren zum Bereitstellen einer Bedienvorri...   \n",
       "9   [Elektromotorisch angetriebenes Fahrzeug, umfa...   \n",
       "10  [Verfahren zum Erkennen einer Rahmenlinie eine...   \n",
       "11  [Längseinsteller 1, 10 eines Fahrzeugsitzes, u...   \n",
       "12  [Radgeschwindigkeitserfassungsvorrichtung 23f,...   \n",
       "13  [Schienenbremssystem für Schienenfahrzeuge mit...   \n",
       "14  [Regensensor 2, umfassend  eine Kamera 6, die ...   \n",
       "15  [Schienenfahrzeugrad mit Bremsscheibe, Folgend...   \n",
       "16  [Parkassistenzvorrichtung, die in einem drahtl...   \n",
       "17  [Raupenfahrzeug 1, das umfasst  eine erste und...   \n",
       "18  [Balg 10 eines Vordachs einer Fluggasttreppe o...   \n",
       "19  [Fahrzeugluftreifen, insbesondere für den Eins...   \n",
       "20  [Verriegelungs und Neigungsverstellanordnung z...   \n",
       "21  [Anhängekupplung für ein Kraftfahrzeug 12, ins...   \n",
       "22  [Trockenmittelpatrone 1 zur lösbaren Befestigu...   \n",
       "23  [Verfahren zum zumindest semi-autonomen Manövr...   \n",
       "24  [Elektrische Sitzgleitvorrichtung 1, die ein G...   \n",
       "25  [Anzeigeanordnung 10 für ein Kraftfahrzeug, di...   \n",
       "26  [Elektronisch schlupfregelbare Fahrzeugbremsan...   \n",
       "27  [Kommunikationssystem, aufweisend eine Prüfein...   \n",
       "28  [Luftfederanschlussvorrichtung 1 zur Lagerung ...   \n",
       "29  [Reifen für Fahrzeugräder, der umfasst eine Ka...   \n",
       "30  [System 10 zur Herstellung von Kautschukmischu...   \n",
       "31  [Fahrzeugluftreifen, insbesondere für den Eins...   \n",
       "32  [Baugruppe 10 zum Bilden eines Luftleitelement...   \n",
       "33  [Federanordnung umfassend eine Feder 3 mit ein...   \n",
       "34  [Vorrichtung zum Bestimmen des Masseschwerpunk...   \n",
       "35  [Batteriemodul 100, umfassend ein Gehäuse 110,...   \n",
       "36  [Speichen-Anbringungsflansch 120 für eine Nabe...   \n",
       "37  [Vorrichtung zur Betriebssteuerung eines Nutzf...   \n",
       "38  [Baumaschine, mit einer Arbeitsvorrichtung, di...   \n",
       "39  [Verfahren zur Steuerung oder Regelung einer F...   \n",
       "40  [Unterdruckbremskraftverstärker 10 für eine Kr...   \n",
       "41  [Vorrichtung 1 zur Verteilung einer Scheibenwa...   \n",
       "42  [Reifen 10 110 210, umfassend einen Lauffläche...   \n",
       "43  [Abschrirmungsstellglied 100 im Zusammenhang m...   \n",
       "44  [Thermohülse 12 zum Schützen eines mit einem K...   \n",
       "45  [Verfahren zum Wechseln eines Gangs in einem A...   \n",
       "46  [Elektrisches Grätschsitzfahrzeug 1, das aufwe...   \n",
       "47  [Elektronisch steuerbares pneumatisches Bremss...   \n",
       "48  [Variabler Leistungskompressor M mit einem Lei...   \n",
       "49  [Wischermotor 21, 31, der ein Wischerelement e...   \n",
       "\n",
       "                                        irr_claims_en  \\\n",
       "0   [Method for assisting a driver to drive a vehi...   \n",
       "1   [A caster indicator 200 comprising plural leve...   \n",
       "2   [A device for detecting rain on a pane 2 compr...   \n",
       "3   [A method of forming a nonwoven material, the ...   \n",
       "4   [A method for managing the supply of electrica...   \n",
       "5   [Decorative arrangement 4 for mounting on a su...   \n",
       "6   [A child protector mechanism 10, comprising a ...   \n",
       "7   [A ball joint 1b comprising a ball stud 10 tha...   \n",
       "8   [A fastening device for a rod 2 of a safety ne...   \n",
       "9   [A vehicle comprising a metal structure assemb...   \n",
       "10  [Precipitated silica, characterized in that a ...   \n",
       "11  [Solar sensor, having  for attaching to a moun...   \n",
       "12  [Method for updating an image section 104a, 10...   \n",
       "13  [An illuminating or luminous glazing unit comp...   \n",
       "14  [Motorcycle 100 provided with a frame 102, two...   \n",
       "15  [Support 1 for a device 2, such as a display m...   \n",
       "16  [Receiving device for arranging in a motor veh...   \n",
       "17  [A battery module 100 comprising a housing 110...   \n",
       "18  [Tensionable run-flat tyre support insert 1 fo...   \n",
       "19  [Support system for mobile device, the support...   \n",
       "20  [An emergency power source comprising a housin...   \n",
       "21  [A mounting member 2 preferably for trailers 2...   \n",
       "22  [A communication system for enabling communica...   \n",
       "23  [A process 10 for welding of two separate vehi...   \n",
       "24  [An operator identifying apparatus 1 for ident...   \n",
       "25  [A system 300 for checking consent, comprising...   \n",
       "26  [Precipitated silica, characterized in that a ...   \n",
       "27  [A tire having a circumferential tire tread an...   \n",
       "28  [Receiving device for arranging in a motor veh...   \n",
       "29  [A power train system 10 comprising a source o...   \n",
       "30  [A display device, comprising a servo body 1 w...   \n",
       "31  [Support system for mobile device, the support...   \n",
       "32  [A caster indicator 200 comprising plural leve...   \n",
       "33  [A display device 1 for displaying a virtual i...   \n",
       "34  [A process for treating a windshield wiper bla...   \n",
       "35  [A fastening device for a rod 2 of a safety ne...   \n",
       "36  [A dump truck comprising a frame 11 a pluralit...   \n",
       "37  [A catalyst composition for preparing a conjug...   \n",
       "38  [A portable charging device 350 for charging a...   \n",
       "39  [Precipitated silica, characterized in that a ...   \n",
       "40  [Method for assisting a driver to drive a vehi...   \n",
       "41  [A ball joint 1b comprising a ball stud 10 tha...   \n",
       "42  [A biaxially stretched laminated polyester fil...   \n",
       "43  [Method for updating an image section 104a, 10...   \n",
       "44  [A system for support with regard to handling ...   \n",
       "45  [A child protector mechanism 10, comprising a ...   \n",
       "46  [A biaxially stretched laminated polyester fil...   \n",
       "47  [A mounting member 2 preferably for trailers 2...   \n",
       "48  [An intermediate film for laminated glass havi...   \n",
       "49  [A caster indicator 200 comprising plural leve...   \n",
       "\n",
       "                                        irr_claims_de  \n",
       "0   [Verfahren zum Unterstützen eines Fahrers beim...  \n",
       "1   [Rollenanzeige 200, welche Folgendes aufweist ...  \n",
       "2   [Vorrichtung zur Erkennung von Regen auf einer...  \n",
       "3   [Verfahren zur Herstellung eines Vliesmaterial...  \n",
       "4   [Verfahren zur Verwaltung der Stromversorgung ...  \n",
       "5   [Dekorative Anordnung 4 zur Montage an einem T...  \n",
       "6   [Kindersicherungsmechanismus 10, der Folgendes...  \n",
       "7   [Kugelgelenk 1b bestehend aus einem Kugelzapfe...  \n",
       "8   [Befestigungseinrichtung für eine Stange 2 ein...  \n",
       "9   [Fahrzeug, das eine Metallstrukturanordnung mi...  \n",
       "10  [Fällungskieselsäure, dadurch gekennzeichnet, ...  \n",
       "11  [Sonnensensor, aufweisend  einen für elektroma...  \n",
       "12  [Verfahren zur Nachführung eines auf einem Mon...  \n",
       "13  [Leuchtende oder beleuchtende Verglasung, umfa...  \n",
       "14  [Motorrad 100, welches mit einem Rahmen 102, z...  \n",
       "15  [Halterung 1 für eine Vorrichtung 2, wie z B. ...  \n",
       "16  [Aufnahmevorrichtung zum Anordnen in einem Kra...  \n",
       "17  [Batteriemodul 100, umfassend ein Gehäuse 110,...  \n",
       "18  [Verspannbarer Notlaufeinsatz 1 für ein aus ei...  \n",
       "19  [Haltesystem für eine mobile Vorrichtung, wobe...  \n",
       "20  [Ein Notstromaggregat, umfassend ein Gehäuse, ...  \n",
       "21  [Montageelement 2, vorzugsweise für Anhänger 2...  \n",
       "22  [Kommunikationssystem zum Ermöglichen von Komm...  \n",
       "23  [Verfahren 10 zum Schweißen von zwei separaten...  \n",
       "24  [Bedieneridentifizierungsvorrichtung 1 zum Ide...  \n",
       "25  [System 300 zur Einwilligungsprüfung, das Folg...  \n",
       "26  [Fällungskieselsäure, dadurch gekennzeichnet, ...  \n",
       "27  [Reifen, der eine umfangsgerichtete Reifenlauf...  \n",
       "28  [Aufnahmevorrichtung zum Anordnen in einem Kra...  \n",
       "29  [Antriebsstrangsystem 10, das Folgendes umfass...  \n",
       "30  [Anzeigevorrichtung, umfassend einen Servokörp...  \n",
       "31  [Haltesystem für eine mobile Vorrichtung, wobe...  \n",
       "32  [Rollenanzeige 200, welche Folgendes aufweist ...  \n",
       "33  [Anzeigevorrichtung 1 zum Anzeigen eines virtu...  \n",
       "34  [Behandlungsverfahren für einen Wischergummi e...  \n",
       "35  [Befestigungseinrichtung für eine Stange 2 ein...  \n",
       "36  [Muldenkipper, der Folgendes umfasst ein Fahrg...  \n",
       "37  [Katalysatorzusammensetzung zur Herstellung ei...  \n",
       "38  [Tragbare Ladevorrichtung 350 zum Laden einer ...  \n",
       "39  [Fällungskieselsäure, dadurch gekennzeichnet, ...  \n",
       "40  [Verfahren zum Unterstützen eines Fahrers beim...  \n",
       "41  [Kugelgelenk 1b bestehend aus einem Kugelzapfe...  \n",
       "42  [Biaxial gestreckte, laminierte Polyesterfolie...  \n",
       "43  [Verfahren zur Nachführung eines auf einem Mon...  \n",
       "44  [System zur Unterstützung der Handhabung eines...  \n",
       "45  [Kindersicherungsmechanismus 10, der Folgendes...  \n",
       "46  [Biaxial gestreckte, laminierte Polyesterfolie...  \n",
       "47  [Montageelement 2, vorzugsweise für Anhänger 2...  \n",
       "48  [Zwischenfolie für Verbundglas mit einer Schic...  \n",
       "49  [Rollenanzeige 200, welche Folgendes aufweist ...  "
      ]
     },
     "execution_count": 5,
     "metadata": {},
     "output_type": "execute_result"
    }
   ],
   "source": [
    "test = []\n",
    "for name, query_title, rel_titles, irr_titles, \\\n",
    "    own_claims_en, own_claims_de, \\\n",
    "    rel_claims_en, rel_claims_de, \\\n",
    "    irr_claims_en, irr_claims_de \\\n",
    "    in zip(test_small_df.name, \\\n",
    "           test_small_df.query_title,\n",
    "           test_small_df.rel_titles,\n",
    "           test_small_df.irr_titles,\n",
    "           test_small_df.own_claims_en,\n",
    "           test_small_df.own_claims_de,\n",
    "           test_small_df.rel_claims_en,\n",
    "           test_small_df.rel_claims_de,\n",
    "           test_small_df.irr_claims_en,\n",
    "           test_small_df.irr_claims_de\n",
    "          ):\n",
    "    own_en, own_de = remove_short_claims(own_claims_en, own_claims_de)\n",
    "    rel_en, rel_de = remove_short_claims(rel_claims_en, rel_claims_de)\n",
    "    irr_en, irr_de = remove_short_claims(irr_claims_en, irr_claims_de)\n",
    "    \n",
    "    test.append(\n",
    "        {\n",
    "            'name':name,\n",
    "            'query_title':query_title,\n",
    "            'rel_titles':rel_titles,\n",
    "            'irr_titles':irr_titles,\n",
    "            'own_claims_en':own_en,\n",
    "            'own_claims_de':own_de,\n",
    "            'rel_claims_en':rel_en,\n",
    "            'rel_claims_de':rel_de,\n",
    "            'irr_claims_en':irr_en,\n",
    "            'irr_claims_de':irr_de          \n",
    "            \n",
    "        }\n",
    "    )\n",
    "    \n",
    "test_final = pd.DataFrame(test)\n",
    "test_final"
   ]
  },
  {
   "cell_type": "code",
   "execution_count": 6,
   "metadata": {},
   "outputs": [],
   "source": [
    "all_claims_en = []\n",
    "all_claims_de = []\n",
    "\n",
    "for query, own_claims_en, own_claims_de, \\\n",
    "    rel_claims_en, rel_claims_de in zip(test_final.query_title,\n",
    "                                        test_final.own_claims_en,\n",
    "                                        test_final.own_claims_de,\n",
    "                                        test_final.rel_claims_en,\n",
    "                                        test_final.rel_claims_de):\n",
    "    all_claims_en.extend(own_claims_en)\n",
    "    all_claims_en.extend(rel_claims_en)\n",
    "    \n",
    "    all_claims_de.extend(own_claims_de)\n",
    "    all_claims_de.extend(rel_claims_de)    "
   ]
  },
  {
   "cell_type": "code",
   "execution_count": 7,
   "metadata": {},
   "outputs": [],
   "source": [
    "def evaluate(encoding, num_ret, en_doc_vectors, de_doc_vectors): \n",
    "    prec_av, recall_av, fscore_av = 0, 0, 0\n",
    "    \n",
    "    for query, own_claims_en, own_claims_de, \\\n",
    "        rel_claims_en, rel_claims_de in zip(test_final.query_title,\n",
    "                                            test_final.own_claims_en,\n",
    "                                            test_final.own_claims_de,\n",
    "                                            test_final.rel_claims_en,\n",
    "                                            test_final.rel_claims_de):\n",
    "        \n",
    "        # print('query', query)\n",
    "        \n",
    "        relevant_claims = own_claims_en + own_claims_de + \\\n",
    "                            rel_claims_en + rel_claims_de\n",
    "        \n",
    "        # num_ret = int(len(relevant_claims)/2)\n",
    "        # num_ret = 50\n",
    "        out_en = get_retrieved_docs_test(\n",
    "                                      encoding=encoding,\n",
    "                                      query=query, \n",
    "                                      num_ret=num_ret, \n",
    "                                      docs=all_claims_en, \n",
    "                                      doc_vectors=en_doc_vectors, \n",
    "                                      lang='en')\n",
    "        \n",
    "        out_de = get_retrieved_docs_test(\n",
    "                                      encoding=encoding,\n",
    "                                      query=query, \n",
    "                                      num_ret=num_ret, \n",
    "                                      docs=all_claims_de, \n",
    "                                      doc_vectors=de_doc_vectors, \n",
    "                                      lang='en')\n",
    "        \n",
    "        retrieved_claims = out_en['docs'] + out_de['docs']\n",
    "        \n",
    "        relevant_retrieved = 0\n",
    "        for claim in relevant_claims:\n",
    "            if claim in retrieved_claims:\n",
    "                relevant_retrieved += 1\n",
    "        \n",
    "        relevant = len(relevant_claims)\n",
    "        retreived = len(retrieved_claims)\n",
    "        \n",
    "        prec = relevant_retrieved/retreived\n",
    "        recall = relevant_retrieved/relevant     \n",
    "    \n",
    "        # print('P: %f R: %f' %(prec, recall))\n",
    "    \n",
    "        prec_av += prec\n",
    "        recall_av += recall\n",
    "        \n",
    "    print('Average:\\tP: %f R: %f' %(prec_av/len(test_small_df.query_title), \n",
    "                                recall_av/len(test_small_df.query_title)))"
   ]
  },
  {
   "cell_type": "markdown",
   "metadata": {},
   "source": [
    "## Define encode function"
   ]
  },
  {
   "cell_type": "code",
   "execution_count": 8,
   "metadata": {},
   "outputs": [],
   "source": [
    "device = torch.device('cuda' if torch.cuda.is_available() else 'cpu')\n",
    "if torch.cuda.is_available():\n",
    "    torch.set_default_tensor_type('torch.cuda.FloatTensor')"
   ]
  },
  {
   "cell_type": "code",
   "execution_count": 9,
   "metadata": {},
   "outputs": [],
   "source": [
    "import numpy as np\n",
    "\n",
    "class Encoding:\n",
    "    def __init__(self, model, vocab=None, \n",
    "                 do_pre_process=False,\n",
    "                 do_noun_chunks=False,\n",
    "                 do_dual_token=False,\n",
    "                 do_dual_embed=False,\n",
    "                 do_avg=False,\n",
    "                 post_hoc_encode=False,\n",
    "                 contextual_encode=False,\n",
    "                 contextual_encode_full=False,\n",
    "                 layers=False\n",
    "                ):\n",
    "        self.model = model\n",
    "        self.vocab = vocab\n",
    "        \n",
    "        self.do_pre_process=do_pre_process\n",
    "        self.do_noun_chunks=do_noun_chunks\n",
    "        self.do_dual_token=do_dual_token\n",
    "        self.do_dual_embed=do_dual_embed\n",
    "        self.do_avg=do_avg\n",
    "        \n",
    "        self.post_hoc_encode=post_hoc_encode\n",
    "        self.contextual_encode=contextual_encode\n",
    "        self.contextual_encode_full=contextual_encode_full\n",
    "        self.layers=layers\n",
    "        \n",
    "    def encode(self, sent, lang=None):\n",
    "        if self.post_hoc_encode:\n",
    "            return self.encode_post_hoc(sent, lang)\n",
    "        elif self.contextual_encode:\n",
    "            return torch.tensor(self.model.encode(sent, show_progress_bar=False))\n",
    "        elif self.contextual_encode_full:\n",
    "            return self.encode_cont(sent)\n",
    "        else:\n",
    "            return self.encode_with_alg(sent, lang)\n",
    "    \n",
    "    def encode_with_alg(self, sent, lang):\n",
    "        pre = sent\n",
    "        if self.do_pre_process:\n",
    "            pre = pre_process_claim(pre, lang=lang)\n",
    "        if self.do_noun_chunks:\n",
    "            pre = find_and_replace_ncs(pre, lang=lang)\n",
    "        if self.do_dual_token:\n",
    "            tokens_pre = tokenize.get_tokens(pre, lang=lang)\n",
    "            tokens_wo_pre = tokenize.get_tokens(sent, lang=lang)\n",
    "            tokens = tokens_pre + tokens_wo_pre\n",
    "        else:\n",
    "            tokens = tokenize.get_tokens(sent, lang=lang)\n",
    "            \n",
    "        if self.do_dual_embed:\n",
    "            word_vectors = [np.asarray(self.model.wv[token] + \\\n",
    "                                       self.model.syn1neg[self.vocab.index(token)]\n",
    "                                      ) \\\n",
    "                            for token in tokens if token in self.vocab]\n",
    "        else:\n",
    "            word_vectors = [np.asarray(self.model.wv[token]) \\\n",
    "                            for token in tokens if token in self.vocab]\n",
    "            \n",
    "        if self.do_avg:\n",
    "            sent_vector = torch.tensor(np.sum(word_vectors, axis=0)/len(tokens))\n",
    "        else:\n",
    "            sent_vector = torch.tensor(np.sum(word_vectors, axis=0))\n",
    "            \n",
    "        if sent_vector.size() == torch.Size([]):\n",
    "            sent_vector = torch.zeros(300)\n",
    "            \n",
    "        return sent_vector\n",
    "    \n",
    "    \n",
    "    def encode_post_hoc(self, sent, lang):\n",
    "        model = self.model[0] if lang=='en' else self.model[1] \n",
    "        vocab = self.vocab[0] if lang=='en' else self.vocab[1]\n",
    "\n",
    "        tokens = tokenize.get_tokens(sent, lang=lang)\n",
    "        word_vectors = [np.asarray(model[token]) for token in tokens \\\n",
    "                        if token in vocab]\n",
    "        \n",
    "        if self.do_avg:\n",
    "            sent_vector = torch.tensor(np.sum(word_vectors, axis=0)/len(word_vectors))\n",
    "        else:\n",
    "            sent_vector = torch.tensor(np.sum(word_vectors, axis=0))    \n",
    "            \n",
    "        if sent_vector.size() == torch.Size([]):\n",
    "            sent_vector = torch.zeros(300)\n",
    "\n",
    "        return sent_vector\n",
    "    \n",
    "    \n",
    "    def encode_cont(self, doc):\n",
    "        with torch.no_grad():\n",
    "            inputs = tokenize(doc, return_tensors='pt',\n",
    "                          max_length=512, truncation=True,\n",
    "                          padding='max_length').to('cuda')\n",
    "            hidden_states = self.model(**inputs, output_hidden_states=True)['hidden_states']\n",
    "\n",
    "            # token_embeddings = hidden_states[-1] #First element of model_output contains all token embeddings\n",
    "            token_embeddings = torch.sum(torch.cat(hidden_states[self.layers[0]:self.layers[1]]), 0).unsqueeze(0)\n",
    "            attention_mask = inputs['attention_mask']\n",
    "            input_mask_expanded = attention_mask.unsqueeze(-1).expand(token_embeddings.size()).float()\n",
    "            sent_vector = torch.sum(token_embeddings * input_mask_expanded, 1) / \\\n",
    "                                    torch.clamp(input_mask_expanded.sum(1), min=1e-9)\n",
    "        return sent_vector[0]"
   ]
  },
  {
   "cell_type": "code",
   "execution_count": 10,
   "metadata": {},
   "outputs": [],
   "source": [
    "def get_retrieved_docs_test(encoding, query, num_ret, docs, doc_vectors, lang=None):\n",
    "    # print('Query', query)\n",
    "    query_vector = encoding.encode(sent=query, lang=lang)\n",
    "\n",
    "    output = F.cosine_similarity(query_vector.unsqueeze(0), doc_vectors, dim=1)\n",
    "    ret_ids = torch.topk(output, num_ret).indices.cpu().numpy()   \n",
    "    \n",
    "    ret_docs = [docs[idx] for idx in ret_ids]\n",
    "    \n",
    "    ret = {\n",
    "            'doc_ids': ret_ids,\n",
    "            'docs': ret_docs\n",
    "        }\n",
    "    \n",
    "    return ret  "
   ]
  },
  {
   "cell_type": "code",
   "execution_count": 11,
   "metadata": {},
   "outputs": [],
   "source": [
    "def vectorize_docs(encoding):\n",
    "    en_doc_vectors = []\n",
    "    for claim in tq(all_claims_en):\n",
    "        en_doc_vectors.append(encoding.encode(claim, lang='en'))\n",
    "        \n",
    "    de_doc_vectors = []\n",
    "    for claim in tq(all_claims_de):\n",
    "        de_doc_vectors.append(encoding.encode(claim, lang='de'))\n",
    "        \n",
    "    en_doc_vectors = torch.stack(en_doc_vectors)\n",
    "    de_doc_vectors = torch.stack(de_doc_vectors)        \n",
    "        \n",
    "    return en_doc_vectors, de_doc_vectors"
   ]
  },
  {
   "cell_type": "code",
   "execution_count": 13,
   "metadata": {},
   "outputs": [],
   "source": [
    "epo_vocab_en = util.decompress_pickle('../../data/epo_vocab/vocab/vocab_en')\n",
    "epo_vocab_de = util.decompress_pickle('../../data/epo_vocab/vocab/vocab_de')"
   ]
  },
  {
   "cell_type": "code",
   "execution_count": 14,
   "metadata": {},
   "outputs": [],
   "source": [
    "algn_dic = util.decompress_pickle('../../data/epo_vocab/algn_dic')\n",
    "# lower case all entries in the dictionary\n",
    "algn_dic.en = algn_dic.en.str.lower()\n",
    "algn_dic.de = algn_dic.de.str.lower()\n",
    "# remove entries not in vocab\n",
    "algn_dic = algn_dic[algn_dic.de.isin(epo_vocab_de)]\n",
    "algn_dic = algn_dic[algn_dic.en.isin(epo_vocab_en)]"
   ]
  },
  {
   "cell_type": "code",
   "execution_count": 15,
   "metadata": {},
   "outputs": [
    {
     "data": {
      "text/html": [
       "<div>\n",
       "<style scoped>\n",
       "    .dataframe tbody tr th:only-of-type {\n",
       "        vertical-align: middle;\n",
       "    }\n",
       "\n",
       "    .dataframe tbody tr th {\n",
       "        vertical-align: top;\n",
       "    }\n",
       "\n",
       "    .dataframe thead th {\n",
       "        text-align: right;\n",
       "    }\n",
       "</style>\n",
       "<table border=\"1\" class=\"dataframe\">\n",
       "  <thead>\n",
       "    <tr style=\"text-align: right;\">\n",
       "      <th></th>\n",
       "      <th>en</th>\n",
       "      <th>de</th>\n",
       "      <th>prob</th>\n",
       "    </tr>\n",
       "  </thead>\n",
       "  <tbody>\n",
       "    <tr>\n",
       "      <th>0</th>\n",
       "      <td>rotating_side_member</td>\n",
       "      <td>rotierenden_seitenelements</td>\n",
       "      <td>1</td>\n",
       "    </tr>\n",
       "    <tr>\n",
       "      <th>1</th>\n",
       "      <td>visible_interface</td>\n",
       "      <td>sichtbare_grenzfläche</td>\n",
       "      <td>1</td>\n",
       "    </tr>\n",
       "    <tr>\n",
       "      <th>2</th>\n",
       "      <td>current_density</td>\n",
       "      <td>stromdichte</td>\n",
       "      <td>1</td>\n",
       "    </tr>\n",
       "    <tr>\n",
       "      <th>4</th>\n",
       "      <td>novolac_epoxy_resin</td>\n",
       "      <td>epoxyharz</td>\n",
       "      <td>0.982917</td>\n",
       "    </tr>\n",
       "    <tr>\n",
       "      <th>6</th>\n",
       "      <td>maximum_charging_voltage</td>\n",
       "      <td>zweite_batteriechemikalie</td>\n",
       "      <td>0.37695</td>\n",
       "    </tr>\n",
       "    <tr>\n",
       "      <th>...</th>\n",
       "      <td>...</td>\n",
       "      <td>...</td>\n",
       "      <td>...</td>\n",
       "    </tr>\n",
       "    <tr>\n",
       "      <th>166896</th>\n",
       "      <td>toughness</td>\n",
       "      <td>zähigkeit</td>\n",
       "      <td>0.666667</td>\n",
       "    </tr>\n",
       "    <tr>\n",
       "      <th>166897</th>\n",
       "      <td>increasing_speed</td>\n",
       "      <td>steigender_geschwindigkeit</td>\n",
       "      <td>0.501577</td>\n",
       "    </tr>\n",
       "    <tr>\n",
       "      <th>166898</th>\n",
       "      <td>corresponding_threshold_value</td>\n",
       "      <td>entsprechenden_schwellwert</td>\n",
       "      <td>0.888865</td>\n",
       "    </tr>\n",
       "    <tr>\n",
       "      <th>166899</th>\n",
       "      <td>loading_site</td>\n",
       "      <td>beladeort</td>\n",
       "      <td>0.666667</td>\n",
       "    </tr>\n",
       "    <tr>\n",
       "      <th>166900</th>\n",
       "      <td>supporting_members</td>\n",
       "      <td>stützbauteile</td>\n",
       "      <td>0.553391</td>\n",
       "    </tr>\n",
       "  </tbody>\n",
       "</table>\n",
       "<p>103356 rows × 3 columns</p>\n",
       "</div>"
      ],
      "text/plain": [
       "                                   en                          de      prob\n",
       "0                rotating_side_member  rotierenden_seitenelements         1\n",
       "1                   visible_interface       sichtbare_grenzfläche         1\n",
       "2                     current_density                 stromdichte         1\n",
       "4                 novolac_epoxy_resin                   epoxyharz  0.982917\n",
       "6            maximum_charging_voltage   zweite_batteriechemikalie   0.37695\n",
       "...                               ...                         ...       ...\n",
       "166896                      toughness                   zähigkeit  0.666667\n",
       "166897               increasing_speed  steigender_geschwindigkeit  0.501577\n",
       "166898  corresponding_threshold_value  entsprechenden_schwellwert  0.888865\n",
       "166899                   loading_site                   beladeort  0.666667\n",
       "166900             supporting_members               stützbauteile  0.553391\n",
       "\n",
       "[103356 rows x 3 columns]"
      ]
     },
     "execution_count": 15,
     "metadata": {},
     "output_type": "execute_result"
    }
   ],
   "source": [
    "algn_dic"
   ]
  },
  {
   "cell_type": "code",
   "execution_count": 16,
   "metadata": {},
   "outputs": [],
   "source": [
    "import re\n",
    "from nltk.corpus import wordnet as wn\n",
    "import spacy\n",
    "from spacy.matcher import Matcher\n",
    "nlp_en = spacy.load(\"en_core_web_lg\")\n",
    "nlp_de = spacy.load(\"de_core_news_lg\")"
   ]
  },
  {
   "cell_type": "code",
   "execution_count": 17,
   "metadata": {},
   "outputs": [],
   "source": [
    "EN_CORR_KEYS = [\\\n",
    "                'and', \n",
    "                'whereas',\n",
    "                'wherein',\n",
    "                'least',\n",
    "                'that',\n",
    "                'by',\n",
    "                'particular',\n",
    "                'there',\n",
    "                'characterized',\n",
    "               ]\n",
    "\n",
    "DE_CORR_KEYS = [\\\n",
    "                'und', \n",
    "                'wohingegen',\n",
    "                'wherein',\n",
    "                'worin',\n",
    "                'dass',\n",
    "                'von',\n",
    "                'characterized',\n",
    "                'gekennzeichnet',\n",
    "                'der'\n",
    "               ]\n"
   ]
  },
  {
   "cell_type": "code",
   "execution_count": 18,
   "metadata": {},
   "outputs": [],
   "source": [
    "def add_space_between_words(key, word):\n",
    "    # correct words starting with key word and no space\n",
    "    corr_word = ''\n",
    "    if re.search(r'^%s'%key, word):\n",
    "        if '-' in word:\n",
    "            corr_word = ''\n",
    "            pass\n",
    "        elif not wn.synsets(word):\n",
    "            corr_word = re.sub(r'^%s'%key, '%s '%key, word)\n",
    "            # print(word, '-->', corr_word)\n",
    "    return corr_word"
   ]
  },
  {
   "cell_type": "code",
   "execution_count": 19,
   "metadata": {},
   "outputs": [
    {
     "data": {
      "application/vnd.jupyter.widget-view+json": {
       "model_id": "f478bc1f9b8e441c90ea21ab44d14783",
       "version_major": 2,
       "version_minor": 0
      },
      "text/plain": [
       "HBox(children=(FloatProgress(value=0.0, max=380934.0), HTML(value='')))"
      ]
     },
     "metadata": {},
     "output_type": "display_data"
    },
    {
     "name": "stdout",
     "output_type": "stream",
     "text": [
      "\n"
     ]
    },
    {
     "data": {
      "application/vnd.jupyter.widget-view+json": {
       "model_id": "ff2350d8b7b443f9990c78f1e36243f6",
       "version_major": 2,
       "version_minor": 0
      },
      "text/plain": [
       "HBox(children=(FloatProgress(value=0.0, max=552476.0), HTML(value='')))"
      ]
     },
     "metadata": {},
     "output_type": "display_data"
    },
    {
     "name": "stdout",
     "output_type": "stream",
     "text": [
      "\n"
     ]
    }
   ],
   "source": [
    "incorrect_words_en = {}\n",
    "for word in tq(epo_vocab_en):\n",
    "    for key in EN_CORR_KEYS:\n",
    "        corr_word = add_space_between_words(key, word)\n",
    "        if corr_word != '':\n",
    "            # print(corr_word)\n",
    "            incorrect_words_en[word] = corr_word\n",
    "            \n",
    "            \n",
    "incorrect_words_de = {}\n",
    "for word in tq(epo_vocab_de):\n",
    "    for key in DE_CORR_KEYS:\n",
    "        corr_word = add_space_between_words(key, word)\n",
    "        if corr_word != '':\n",
    "            incorrect_words_de[word] = corr_word            "
   ]
  },
  {
   "cell_type": "code",
   "execution_count": 20,
   "metadata": {},
   "outputs": [],
   "source": [
    "def pre_process_claim(claim, lang):\n",
    "    # add space between punctuation and the word\n",
    "    # ,wherein --> , wherein\n",
    "    # claim = re.sub(r'([,;./:])([a-zA-Z])', r' \\2', claim)\n",
    "    # claim = re.sub(r'([a-zA-Z])([,;./:])', r'\\1 \\2', claim)\n",
    "\n",
    "    # remove punctuations except for :;\n",
    "    claim = re.sub(r'[!\"#$%&\\()*+/<=>?@\\[\\\\\\\\\\]^_`{|}~]', '', claim)\n",
    "    \n",
    "    c_s = claim.split(' ')\n",
    "    \n",
    "    if lang == 'en':\n",
    "        # replace claims references to [CLAIMS]\n",
    "        # claims 1 to 2 --> [CLAIMS]\n",
    "        # claim = re.sub(r'[c|C]laims\\s\\d{1,}\\s[a-z]{1,}\\s\\d{1,}', '', claim)\n",
    "        # # claim 1 to 2 --> [CLAIMS]\n",
    "        # claim = re.sub(r'[c|C]laim\\s\\d{1,}\\s[a-z]{1,}\\s\\d{1,}', '', claim)\n",
    "        # # claim 1 --> [CLAIMS]\n",
    "        # claim = re.sub(r'[c|C]laim\\s\\d{1,}', '', claim)\n",
    "        # claim = re.sub(r'andan', 'and an', claim)\n",
    "        # claim = re.sub(r'[0-9]{1,}', 'NUM', claim)\n",
    "        for s in c_s:\n",
    "            if s in incorrect_words_en.keys():\n",
    "                # print(s)\n",
    "                claim = re.sub(s, incorrect_words_en[s], claim)\n",
    "\n",
    "    elif lang == 'de':\n",
    "        # replace claims references to [CLAIMS]\n",
    "        # claims 1 to 2 --> [CLAIMS]\n",
    "        # claim = re.sub(r'Anspr[u|ü]ch[e|en]{0,}\\s\\d{1,}\\s[a-z]{1,}\\s\\d{1,}', '', claim)\n",
    "        # # claim 1 to 2 --> [CLAIMS]\n",
    "        # # i = re.sub(r'Ansprüche\\s\\d{1,}\\s[a-z]{1,}\\s\\d{1,}', r'[CLAIMS]', i)\n",
    "        # # i = re.sub(r'Ansprüchen\\s\\d{1,}\\s[a-z]{1,}\\s\\d{1,}', r'[CLAIMS]', i)\n",
    "        # # claim 1 --> [CLAIMS]\n",
    "        # claim = re.sub(r'Anspruch\\s\\d{1,}', '', claim)\n",
    "        \n",
    "        # split compound German words\n",
    "        # claim = doc_split.doc_split(claim)\n",
    "        # claim = re.sub('·', ' ', claim)\n",
    "        \n",
    "        for s in c_s:\n",
    "            if s in incorrect_words_de.keys():\n",
    "                # print(s)\n",
    "                claim = re.sub(s, incorrect_words_de[s], claim)        \n",
    "    \n",
    "    # replace groups of numbers with NUM\n",
    "    # eg. 100, 200 --> NUM\n",
    "    claim = re.sub(r'([0-9]{1,},{1,}\\s{0,})+[0-9]{1,}', 'NUM ', claim)\n",
    "    claim = re.sub(r'([a-zA-Z\\']{0,}[0-9]{1,}[,;:]{1,}\\s{0,})+[a-zA-Z\\']{0,}[0-9]{1,}', 'NUM ', claim)\n",
    "    # replace single number to NUM\n",
    "    # eg. 1 --> NUM\n",
    "    claim = re.sub(r'[0-9]{1,}', 'NUM', claim)        \n",
    "    \n",
    "    # replace contents within parantheses as [ABBRV]\n",
    "    claim = re.sub(r'\\(.+?\\)', '', claim)\n",
    "    \n",
    "    # replace newline characters with space\n",
    "    claim = re.sub(r'\\n', ' ', claim)\n",
    "    \n",
    "    # replace punctuations with space\n",
    "    # claim = re.sub(r'(\\w)([!\"#$%&\\'()*+,-./:;<=>?@\\[\\\\\\\\\\]^_`{|}~])(\\w)', '\\1 \\3', claim)\n",
    "    \n",
    "    claim = re.sub(r'([!\"#$%&\\'()*+,-./:;<=>?@\\[\\\\\\\\\\]^_`{|}~])', r' \\1 ', claim)\n",
    "    \n",
    "    # claim = re.sub(r'([!\"#$%&\\'()*+,-./:;<=>?@\\[\\\\\\\\\\]^`{|}~])', ' ', claim)\n",
    "    claim = re.sub(r'([a-zA-Z])-\\s', r'\\1 -', claim)\n",
    "    claim = re.sub(r'[^a-zA-Z][-\\']', r' ', claim)\n",
    "    \n",
    "    claim = re.sub(r'\\(([a-zA-Z\\s]{0,}NUM[a-zA-Z\\s]{0,})+\\)', 'NUM', claim)\n",
    "    \n",
    "    # replace double spaces with single space\n",
    "    claim = re.sub(r'\\s{1,}', ' ', claim)    \n",
    "    \n",
    "    return claim"
   ]
  },
  {
   "cell_type": "code",
   "execution_count": 21,
   "metadata": {},
   "outputs": [],
   "source": [
    "WORDS_TO_OMIT = ['NUM', 'claim', 'Claim', \n",
    "                'anspr', 'Anspr']\n",
    "def find_and_replace_ncs(claim, lang):    \n",
    "    nlp = nlp_en if lang=='en' else nlp_de\n",
    "    doc = nlp(claim)\n",
    "    for nc in doc.noun_chunks:\n",
    "        comp_ = []\n",
    "        for token in nc:\n",
    "            if token.pos_ not in ['DET', 'ADV', 'NUM', 'CCONJ'] and \\\n",
    "               token.dep_ not in ['poss'] and \\\n",
    "               token.text not in ['said', 'more', 'following', 'comprising'] and \\\n",
    "               not token.is_punct:\n",
    "                comp_.append(token.text)\n",
    "        comp_ = ' '.join(comp_)\n",
    "        comp_ = re.sub(r'(\\s\\s)+', '', comp_)\n",
    "        if comp_:\n",
    "            if len(comp_.split(' ')) > 1:\n",
    "                omit_flag = False\n",
    "                for word in WORDS_TO_OMIT:\n",
    "                    if word in comp_:\n",
    "                        omit_flag = True\n",
    "                        break\n",
    "                if not omit_flag:\n",
    "                    # rep = re.sub('-', '', comp_)\n",
    "                    rep = re.sub(r'\\s{1,}', '_', comp_)\n",
    "                    # print('comp_', comp_)\n",
    "                    claim = re.sub(comp_, rep, claim)\n",
    "    return claim"
   ]
  },
  {
   "cell_type": "markdown",
   "metadata": {},
   "source": [
    "## Define evaluate function"
   ]
  },
  {
   "cell_type": "code",
   "execution_count": 22,
   "metadata": {},
   "outputs": [],
   "source": [
    "def evaluate(encoding, num_ret, en_doc_vectors, de_doc_vectors): \n",
    "    prec_av, recall_av, fscore_av = 0, 0, 0\n",
    "    \n",
    "    for query, own_claims_en, own_claims_de, \\\n",
    "        rel_claims_en, rel_claims_de in zip(test_final.query_title,\n",
    "                                            test_final.own_claims_en,\n",
    "                                            test_final.own_claims_de,\n",
    "                                            test_final.rel_claims_en,\n",
    "                                            test_final.rel_claims_de):\n",
    "        \n",
    "        # print('query', query)\n",
    "        \n",
    "        relevant_claims = own_claims_en + own_claims_de + \\\n",
    "                            rel_claims_en + rel_claims_de\n",
    "        \n",
    "        # num_ret = int(len(relevant_claims)/2)\n",
    "        # num_ret = 50\n",
    "        out_en = get_retrieved_docs_test(\n",
    "                                      encoding=encoding,\n",
    "                                      query=query, \n",
    "                                      num_ret=num_ret, \n",
    "                                      docs=all_claims_en, \n",
    "                                      doc_vectors=en_doc_vectors, \n",
    "                                      lang='en')\n",
    "        \n",
    "        out_de = get_retrieved_docs_test(\n",
    "                                      encoding=encoding,\n",
    "                                      query=query, \n",
    "                                      num_ret=num_ret, \n",
    "                                      docs=all_claims_de, \n",
    "                                      doc_vectors=de_doc_vectors, \n",
    "                                      lang='en')\n",
    "        \n",
    "        retrieved_claims = out_en['docs'] + out_de['docs']\n",
    "        \n",
    "        relevant_retrieved = 0\n",
    "        for claim in relevant_claims:\n",
    "            if claim in retrieved_claims:\n",
    "                relevant_retrieved += 1\n",
    "        \n",
    "        relevant = len(relevant_claims)\n",
    "        retreived = len(retrieved_claims)\n",
    "        \n",
    "        prec = relevant_retrieved/retreived\n",
    "        recall = relevant_retrieved/relevant     \n",
    "    \n",
    "        # print('P: %f R: %f' %(prec, recall))\n",
    "    \n",
    "        prec_av += prec\n",
    "        recall_av += recall\n",
    "    \n",
    "    print('-- CLIR TASK --')\n",
    "    print('P: %f R: %f' %(prec_av/len(test_small_df.query_title), \n",
    "                                recall_av/len(test_small_df.query_title)))"
   ]
  },
  {
   "cell_type": "code",
   "execution_count": 23,
   "metadata": {},
   "outputs": [],
   "source": [
    "def evaluate_sent_similarity(en_doc_vectors, de_doc_vectors):\n",
    "    idx = 0\n",
    "    count_en_de, count_de_en = 0, 0\n",
    "    for en, de, en_vec, de_vec in zip(all_claims_en, \n",
    "                                      all_claims_de,\n",
    "                                      en_doc_vectors,\n",
    "                                      de_doc_vectors):\n",
    "        output_en_de = F.cosine_similarity(en_vec.unsqueeze(0), de_doc_vectors, dim=1)\n",
    "        ret = torch.topk(output_en_de, 1).indices.cpu().numpy()\n",
    "        if idx in ret:\n",
    "            count_en_de += 1\n",
    "            \n",
    "            \n",
    "        output_de_en = F.cosine_similarity(de_vec.unsqueeze(0), en_doc_vectors, dim=1)\n",
    "        ret = torch.topk(output_de_en, 1).indices.cpu().numpy()\n",
    "        if idx in ret:\n",
    "            count_de_en += 1            \n",
    "\n",
    "        idx += 1\n",
    "\n",
    "    print('-- SENTENCE SIMILARITY --')\n",
    "    print('EN - DE Accuracy: %f' %(count_en_de/len(all_claims_en)))\n",
    "    print('DE - EN Accuracy: %f' %(count_de_en/len(all_claims_de)))"
   ]
  },
  {
   "cell_type": "code",
   "execution_count": 24,
   "metadata": {},
   "outputs": [],
   "source": [
    "import re\n",
    "def evaluate_word_similarity(m_type, model, vocab):\n",
    "    if m_type=='word2vec':\n",
    "        sim_fn = model.wv.most_similar\n",
    "    elif m_type=='fasttext':\n",
    "        sim_fn = model.similar_by_word\n",
    "\n",
    "    total_en_de, total_de_en, count_en_de, count_de_en = 0, 0, 0, 0\n",
    "    for en, de in zip(algn_dic.en[:100],\n",
    "                      algn_dic.de[:100]):\n",
    "        en = re.sub('_', ' ', en)\n",
    "        de = re.sub('_', ' ', de)\n",
    "        if en in vocab:\n",
    "            total_en_de += 1\n",
    "            sim_words = sim_fn(en, topn=10)\n",
    "            words = [sw[0] for sw in sim_words]\n",
    "            if de in words:\n",
    "                count_en_de += 1\n",
    "\n",
    "        if de in vocab:\n",
    "            total_de_en += 1\n",
    "            sim_words = sim_fn(de, topn=10)\n",
    "            words = [sw[0] for sw in sim_words]\n",
    "            if en in words:\n",
    "                count_de_en += 1        \n",
    "                \n",
    "    print('-- WORD SIMILARITY --')\n",
    "    print('EN - DE Accuracy:', count_en_de/total_en_de)\n",
    "    print('DE - EN Accuracy:', count_de_en/total_de_en)"
   ]
  },
  {
   "cell_type": "code",
   "execution_count": 25,
   "metadata": {},
   "outputs": [],
   "source": [
    "def get_word_vec():\n",
    "    en_vec = []\n",
    "    for word in algn_dic.en[:100]:\n",
    "        word = re.sub('_', ' ', word)\n",
    "        vec = encoding.encode(word, 'en')\n",
    "        if vec.shape == torch.Size([]):\n",
    "            vec = torch.zeros(300)\n",
    "        en_vec.append(vec)\n",
    "\n",
    "    de_vec = []\n",
    "    for word in algn_dic.de[:100]:\n",
    "        word = re.sub('_', ' ', word)\n",
    "        vec = encoding.encode(word, 'de')\n",
    "        if vec.shape == torch.Size([]):\n",
    "            vec = torch.zeros(300)    \n",
    "        de_vec.append(vec)    \n",
    "\n",
    "    en_vec = torch.stack(en_vec)\n",
    "    de_vec = torch.stack(de_vec)\n",
    "    \n",
    "    return en_vec, de_vec"
   ]
  },
  {
   "cell_type": "code",
   "execution_count": 26,
   "metadata": {},
   "outputs": [],
   "source": [
    "import re\n",
    "def evaluate_word_similarity_post_hoc(encoding):\n",
    "    en_vec, de_vec = get_word_vec()\n",
    "    idx = 0\n",
    "    total_en_de, total_de_en, count_en_de, count_de_en = 0, 0, 0, 0\n",
    "    for en, de, e_vec, d_vec in zip(algn_dic.en[:100],\n",
    "                                      algn_dic.de[:100],\n",
    "                                      en_vec,\n",
    "                                      de_vec\n",
    "                                     ):\n",
    "        en = re.sub('_', ' ', en)\n",
    "        de = re.sub('_', ' ', de)\n",
    "        \n",
    "        output = F.cosine_similarity(e_vec.unsqueeze(0), de_vec, dim=1)\n",
    "        ret_ids = torch.topk(output, 10).indices.cpu().numpy()\n",
    "        if idx in ret_ids:\n",
    "            count_en_de += 1\n",
    "\n",
    "        output = F.cosine_similarity(d_vec.unsqueeze(0), en_vec, dim=1)\n",
    "        ret_ids = torch.topk(output, 10).indices.cpu().numpy() \n",
    "        if idx in ret_ids:\n",
    "            count_de_en += 1\n",
    "            \n",
    "        idx += 1\n",
    "                \n",
    "    print('-- WORD SIMILARITY --')\n",
    "    total_en_de, total_de_en = len(en_vec), len(de_vec)\n",
    "    print('EN - DE Accuracy:', count_en_de/total_en_de)\n",
    "    print('DE - EN Accuracy:', count_de_en/total_de_en)"
   ]
  },
  {
   "cell_type": "markdown",
   "metadata": {
    "tags": []
   },
   "source": [
    "# With alignment"
   ]
  },
  {
   "cell_type": "markdown",
   "metadata": {},
   "source": [
    "## Word2Vec models"
   ]
  },
  {
   "cell_type": "code",
   "execution_count": 27,
   "metadata": {},
   "outputs": [],
   "source": [
    "from gensim.models import Word2Vec as W2V"
   ]
  },
  {
   "cell_type": "code",
   "execution_count": 32,
   "metadata": {},
   "outputs": [
    {
     "name": "stderr",
     "output_type": "stream",
     "text": [
      "11:27:34: loading Word2Vec object from ../../data/word2vec/word2vec.model\n",
      "11:27:34: loading wv recursively from ../../data/word2vec/word2vec.model.wv.* with mmap=None\n",
      "11:27:34: loading vectors from ../../data/word2vec/word2vec.model.wv.vectors.npy with mmap=None\n",
      "11:27:34: loading syn1neg from ../../data/word2vec/word2vec.model.syn1neg.npy with mmap=None\n",
      "11:27:34: setting ignored attribute cum_table to None\n",
      "11:27:36: Word2Vec lifecycle event {'fname': '../../data/word2vec/word2vec.model', 'datetime': '2022-03-08T11:27:36.860523', 'gensim': '4.1.2', 'python': '3.8.10 (default, Nov 26 2021, 20:14:08) \\n[GCC 9.3.0]', 'platform': 'Linux-5.4.0-92-generic-x86_64-with-glibc2.29', 'event': 'loaded'}\n"
     ]
    }
   ],
   "source": [
    "model = W2V.load(\"../../data/word2vec/word2vec.model\")"
   ]
  },
  {
   "cell_type": "code",
   "execution_count": 33,
   "metadata": {},
   "outputs": [
    {
     "data": {
      "text/plain": [
       "306606"
      ]
     },
     "execution_count": 33,
     "metadata": {},
     "output_type": "execute_result"
    }
   ],
   "source": [
    "wv_vocab = []\n",
    "for idx in range(len(model.wv)):\n",
    "    wv_vocab.append(model.wv.index_to_key[idx])\n",
    "wv_vocab = wv_vocab\n",
    "len(wv_vocab)"
   ]
  },
  {
   "cell_type": "code",
   "execution_count": 60,
   "metadata": {
    "collapsed": true
   },
   "outputs": [
    {
     "data": {
      "application/vnd.jupyter.widget-view+json": {
       "model_id": "d38b6bb66280415f8d5797a045c33f2e",
       "version_major": 2,
       "version_minor": 0
      },
      "text/plain": [
       "HBox(children=(FloatProgress(value=0.0, max=1304.0), HTML(value='')))"
      ]
     },
     "metadata": {},
     "output_type": "display_data"
    },
    {
     "name": "stdout",
     "output_type": "stream",
     "text": [
      "\n"
     ]
    },
    {
     "ename": "KeyboardInterrupt",
     "evalue": "",
     "output_type": "error",
     "traceback": [
      "\u001b[0;31m---------------------------------------------------------------------------\u001b[0m",
      "\u001b[0;31mKeyboardInterrupt\u001b[0m                         Traceback (most recent call last)",
      "\u001b[0;32m<ipython-input-60-aabbdabe45f2>\u001b[0m in \u001b[0;36m<module>\u001b[0;34m\u001b[0m\n\u001b[1;32m      7\u001b[0m                    do_avg=True)\n\u001b[1;32m      8\u001b[0m \u001b[0;34m\u001b[0m\u001b[0m\n\u001b[0;32m----> 9\u001b[0;31m \u001b[0men_doc_vectors\u001b[0m\u001b[0;34m,\u001b[0m \u001b[0mde_doc_vectors\u001b[0m \u001b[0;34m=\u001b[0m \u001b[0mvectorize_docs\u001b[0m\u001b[0;34m(\u001b[0m\u001b[0mencoding\u001b[0m\u001b[0;34m=\u001b[0m\u001b[0mencoding\u001b[0m\u001b[0;34m)\u001b[0m\u001b[0;34m\u001b[0m\u001b[0;34m\u001b[0m\u001b[0m\n\u001b[0m\u001b[1;32m     10\u001b[0m \u001b[0;34m\u001b[0m\u001b[0m\n\u001b[1;32m     11\u001b[0m evaluate(\n",
      "\u001b[0;32m<ipython-input-15-55041c6d2f72>\u001b[0m in \u001b[0;36mvectorize_docs\u001b[0;34m(encoding)\u001b[0m\n\u001b[1;32m      2\u001b[0m     \u001b[0men_doc_vectors\u001b[0m \u001b[0;34m=\u001b[0m \u001b[0;34m[\u001b[0m\u001b[0;34m]\u001b[0m\u001b[0;34m\u001b[0m\u001b[0;34m\u001b[0m\u001b[0m\n\u001b[1;32m      3\u001b[0m     \u001b[0;32mfor\u001b[0m \u001b[0mclaim\u001b[0m \u001b[0;32min\u001b[0m \u001b[0mtq\u001b[0m\u001b[0;34m(\u001b[0m\u001b[0mall_claims_en\u001b[0m\u001b[0;34m)\u001b[0m\u001b[0;34m:\u001b[0m\u001b[0;34m\u001b[0m\u001b[0;34m\u001b[0m\u001b[0m\n\u001b[0;32m----> 4\u001b[0;31m         \u001b[0men_doc_vectors\u001b[0m\u001b[0;34m.\u001b[0m\u001b[0mappend\u001b[0m\u001b[0;34m(\u001b[0m\u001b[0mencoding\u001b[0m\u001b[0;34m.\u001b[0m\u001b[0mencode\u001b[0m\u001b[0;34m(\u001b[0m\u001b[0mclaim\u001b[0m\u001b[0;34m,\u001b[0m \u001b[0mlang\u001b[0m\u001b[0;34m=\u001b[0m\u001b[0;34m'en'\u001b[0m\u001b[0;34m)\u001b[0m\u001b[0;34m)\u001b[0m\u001b[0;34m\u001b[0m\u001b[0;34m\u001b[0m\u001b[0m\n\u001b[0m\u001b[1;32m      5\u001b[0m \u001b[0;34m\u001b[0m\u001b[0m\n\u001b[1;32m      6\u001b[0m     \u001b[0mde_doc_vectors\u001b[0m \u001b[0;34m=\u001b[0m \u001b[0;34m[\u001b[0m\u001b[0;34m]\u001b[0m\u001b[0;34m\u001b[0m\u001b[0;34m\u001b[0m\u001b[0m\n",
      "\u001b[0;32m<ipython-input-13-00553723716c>\u001b[0m in \u001b[0;36mencode\u001b[0;34m(self, sent, lang)\u001b[0m\n\u001b[1;32m     35\u001b[0m             \u001b[0;32mreturn\u001b[0m \u001b[0mself\u001b[0m\u001b[0;34m.\u001b[0m\u001b[0mencode_cont\u001b[0m\u001b[0;34m(\u001b[0m\u001b[0msent\u001b[0m\u001b[0;34m)\u001b[0m\u001b[0;34m\u001b[0m\u001b[0;34m\u001b[0m\u001b[0m\n\u001b[1;32m     36\u001b[0m         \u001b[0;32melse\u001b[0m\u001b[0;34m:\u001b[0m\u001b[0;34m\u001b[0m\u001b[0;34m\u001b[0m\u001b[0m\n\u001b[0;32m---> 37\u001b[0;31m             \u001b[0;32mreturn\u001b[0m \u001b[0mself\u001b[0m\u001b[0;34m.\u001b[0m\u001b[0mencode_with_alg\u001b[0m\u001b[0;34m(\u001b[0m\u001b[0msent\u001b[0m\u001b[0;34m,\u001b[0m \u001b[0mlang\u001b[0m\u001b[0;34m)\u001b[0m\u001b[0;34m\u001b[0m\u001b[0;34m\u001b[0m\u001b[0m\n\u001b[0m\u001b[1;32m     38\u001b[0m \u001b[0;34m\u001b[0m\u001b[0m\n\u001b[1;32m     39\u001b[0m     \u001b[0;32mdef\u001b[0m \u001b[0mencode_with_alg\u001b[0m\u001b[0;34m(\u001b[0m\u001b[0mself\u001b[0m\u001b[0;34m,\u001b[0m \u001b[0msent\u001b[0m\u001b[0;34m,\u001b[0m \u001b[0mlang\u001b[0m\u001b[0;34m)\u001b[0m\u001b[0;34m:\u001b[0m\u001b[0;34m\u001b[0m\u001b[0;34m\u001b[0m\u001b[0m\n",
      "\u001b[0;32m<ipython-input-13-00553723716c>\u001b[0m in \u001b[0;36mencode_with_alg\u001b[0;34m(self, sent, lang)\u001b[0m\n\u001b[1;32m     42\u001b[0m             \u001b[0mpre\u001b[0m \u001b[0;34m=\u001b[0m \u001b[0mpre_process_claim\u001b[0m\u001b[0;34m(\u001b[0m\u001b[0mpre\u001b[0m\u001b[0;34m,\u001b[0m \u001b[0mlang\u001b[0m\u001b[0;34m=\u001b[0m\u001b[0mlang\u001b[0m\u001b[0;34m)\u001b[0m\u001b[0;34m\u001b[0m\u001b[0;34m\u001b[0m\u001b[0m\n\u001b[1;32m     43\u001b[0m         \u001b[0;32mif\u001b[0m \u001b[0mself\u001b[0m\u001b[0;34m.\u001b[0m\u001b[0mdo_noun_chunks\u001b[0m\u001b[0;34m:\u001b[0m\u001b[0;34m\u001b[0m\u001b[0;34m\u001b[0m\u001b[0m\n\u001b[0;32m---> 44\u001b[0;31m             \u001b[0mpre\u001b[0m \u001b[0;34m=\u001b[0m \u001b[0mfind_and_replace_ncs\u001b[0m\u001b[0;34m(\u001b[0m\u001b[0mpre\u001b[0m\u001b[0;34m,\u001b[0m \u001b[0mlang\u001b[0m\u001b[0;34m=\u001b[0m\u001b[0mlang\u001b[0m\u001b[0;34m)\u001b[0m\u001b[0;34m\u001b[0m\u001b[0;34m\u001b[0m\u001b[0m\n\u001b[0m\u001b[1;32m     45\u001b[0m         \u001b[0;32mif\u001b[0m \u001b[0mself\u001b[0m\u001b[0;34m.\u001b[0m\u001b[0mdo_dual_token\u001b[0m\u001b[0;34m:\u001b[0m\u001b[0;34m\u001b[0m\u001b[0;34m\u001b[0m\u001b[0m\n\u001b[1;32m     46\u001b[0m             \u001b[0mtokens_pre\u001b[0m \u001b[0;34m=\u001b[0m \u001b[0mtokenize\u001b[0m\u001b[0;34m.\u001b[0m\u001b[0mget_tokens\u001b[0m\u001b[0;34m(\u001b[0m\u001b[0mpre\u001b[0m\u001b[0;34m,\u001b[0m \u001b[0mlang\u001b[0m\u001b[0;34m=\u001b[0m\u001b[0mlang\u001b[0m\u001b[0;34m)\u001b[0m\u001b[0;34m\u001b[0m\u001b[0;34m\u001b[0m\u001b[0m\n",
      "\u001b[0;32m<ipython-input-25-99bd73224428>\u001b[0m in \u001b[0;36mfind_and_replace_ncs\u001b[0;34m(claim, lang)\u001b[0m\n\u001b[1;32m      3\u001b[0m \u001b[0;32mdef\u001b[0m \u001b[0mfind_and_replace_ncs\u001b[0m\u001b[0;34m(\u001b[0m\u001b[0mclaim\u001b[0m\u001b[0;34m,\u001b[0m \u001b[0mlang\u001b[0m\u001b[0;34m)\u001b[0m\u001b[0;34m:\u001b[0m\u001b[0;34m\u001b[0m\u001b[0;34m\u001b[0m\u001b[0m\n\u001b[1;32m      4\u001b[0m     \u001b[0mnlp\u001b[0m \u001b[0;34m=\u001b[0m \u001b[0mnlp_en\u001b[0m \u001b[0;32mif\u001b[0m \u001b[0mlang\u001b[0m\u001b[0;34m==\u001b[0m\u001b[0;34m'en'\u001b[0m \u001b[0;32melse\u001b[0m \u001b[0mnlp_de\u001b[0m\u001b[0;34m\u001b[0m\u001b[0;34m\u001b[0m\u001b[0m\n\u001b[0;32m----> 5\u001b[0;31m     \u001b[0mdoc\u001b[0m \u001b[0;34m=\u001b[0m \u001b[0mnlp\u001b[0m\u001b[0;34m(\u001b[0m\u001b[0mclaim\u001b[0m\u001b[0;34m)\u001b[0m\u001b[0;34m\u001b[0m\u001b[0;34m\u001b[0m\u001b[0m\n\u001b[0m\u001b[1;32m      6\u001b[0m     \u001b[0;32mfor\u001b[0m \u001b[0mnc\u001b[0m \u001b[0;32min\u001b[0m \u001b[0mdoc\u001b[0m\u001b[0;34m.\u001b[0m\u001b[0mnoun_chunks\u001b[0m\u001b[0;34m:\u001b[0m\u001b[0;34m\u001b[0m\u001b[0;34m\u001b[0m\u001b[0m\n\u001b[1;32m      7\u001b[0m         \u001b[0mcomp_\u001b[0m \u001b[0;34m=\u001b[0m \u001b[0;34m[\u001b[0m\u001b[0;34m]\u001b[0m\u001b[0;34m\u001b[0m\u001b[0;34m\u001b[0m\u001b[0m\n",
      "\u001b[0;32m~/.local/lib/python3.8/site-packages/spacy/language.py\u001b[0m in \u001b[0;36m__call__\u001b[0;34m(self, text, disable, component_cfg)\u001b[0m\n\u001b[1;32m   1015\u001b[0m                 \u001b[0merror_handler\u001b[0m \u001b[0;34m=\u001b[0m \u001b[0mproc\u001b[0m\u001b[0;34m.\u001b[0m\u001b[0mget_error_handler\u001b[0m\u001b[0;34m(\u001b[0m\u001b[0;34m)\u001b[0m\u001b[0;34m\u001b[0m\u001b[0;34m\u001b[0m\u001b[0m\n\u001b[1;32m   1016\u001b[0m             \u001b[0;32mtry\u001b[0m\u001b[0;34m:\u001b[0m\u001b[0;34m\u001b[0m\u001b[0;34m\u001b[0m\u001b[0m\n\u001b[0;32m-> 1017\u001b[0;31m                 \u001b[0mdoc\u001b[0m \u001b[0;34m=\u001b[0m \u001b[0mproc\u001b[0m\u001b[0;34m(\u001b[0m\u001b[0mdoc\u001b[0m\u001b[0;34m,\u001b[0m \u001b[0;34m**\u001b[0m\u001b[0mcomponent_cfg\u001b[0m\u001b[0;34m.\u001b[0m\u001b[0mget\u001b[0m\u001b[0;34m(\u001b[0m\u001b[0mname\u001b[0m\u001b[0;34m,\u001b[0m \u001b[0;34m{\u001b[0m\u001b[0;34m}\u001b[0m\u001b[0;34m)\u001b[0m\u001b[0;34m)\u001b[0m  \u001b[0;31m# type: ignore[call-arg]\u001b[0m\u001b[0;34m\u001b[0m\u001b[0;34m\u001b[0m\u001b[0m\n\u001b[0m\u001b[1;32m   1018\u001b[0m             \u001b[0;32mexcept\u001b[0m \u001b[0mKeyError\u001b[0m \u001b[0;32mas\u001b[0m \u001b[0me\u001b[0m\u001b[0;34m:\u001b[0m\u001b[0;34m\u001b[0m\u001b[0;34m\u001b[0m\u001b[0m\n\u001b[1;32m   1019\u001b[0m                 \u001b[0;31m# This typically happens if a component is not initialized\u001b[0m\u001b[0;34m\u001b[0m\u001b[0;34m\u001b[0m\u001b[0;34m\u001b[0m\u001b[0m\n",
      "\u001b[0;32m~/.local/lib/python3.8/site-packages/spacy/pipeline/trainable_pipe.pyx\u001b[0m in \u001b[0;36mspacy.pipeline.trainable_pipe.TrainablePipe.__call__\u001b[0;34m()\u001b[0m\n",
      "\u001b[0;32m~/.local/lib/python3.8/site-packages/spacy/pipeline/transition_parser.pyx\u001b[0m in \u001b[0;36mspacy.pipeline.transition_parser.Parser.predict\u001b[0;34m()\u001b[0m\n",
      "\u001b[0;32m~/.local/lib/python3.8/site-packages/spacy/pipeline/transition_parser.pyx\u001b[0m in \u001b[0;36mspacy.pipeline.transition_parser.Parser.greedy_parse\u001b[0;34m()\u001b[0m\n",
      "\u001b[0;32m~/.local/lib/python3.8/site-packages/thinc/model.py\u001b[0m in \u001b[0;36mpredict\u001b[0;34m(self, X)\u001b[0m\n\u001b[1;32m    313\u001b[0m         \u001b[0monly\u001b[0m \u001b[0mthe\u001b[0m \u001b[0moutput\u001b[0m\u001b[0;34m,\u001b[0m \u001b[0minstead\u001b[0m \u001b[0mof\u001b[0m \u001b[0mthe\u001b[0m\u001b[0;31m \u001b[0m\u001b[0;31m`\u001b[0m\u001b[0;34m(\u001b[0m\u001b[0moutput\u001b[0m\u001b[0;34m,\u001b[0m \u001b[0mcallback\u001b[0m\u001b[0;34m)\u001b[0m\u001b[0;31m`\u001b[0m \u001b[0mtuple\u001b[0m\u001b[0;34m.\u001b[0m\u001b[0;34m\u001b[0m\u001b[0;34m\u001b[0m\u001b[0m\n\u001b[1;32m    314\u001b[0m         \"\"\"\n\u001b[0;32m--> 315\u001b[0;31m         \u001b[0;32mreturn\u001b[0m \u001b[0mself\u001b[0m\u001b[0;34m.\u001b[0m\u001b[0m_func\u001b[0m\u001b[0;34m(\u001b[0m\u001b[0mself\u001b[0m\u001b[0;34m,\u001b[0m \u001b[0mX\u001b[0m\u001b[0;34m,\u001b[0m \u001b[0mis_train\u001b[0m\u001b[0;34m=\u001b[0m\u001b[0;32mFalse\u001b[0m\u001b[0;34m)\u001b[0m\u001b[0;34m[\u001b[0m\u001b[0;36m0\u001b[0m\u001b[0;34m]\u001b[0m\u001b[0;34m\u001b[0m\u001b[0;34m\u001b[0m\u001b[0m\n\u001b[0m\u001b[1;32m    316\u001b[0m \u001b[0;34m\u001b[0m\u001b[0m\n\u001b[1;32m    317\u001b[0m     \u001b[0;32mdef\u001b[0m \u001b[0mfinish_update\u001b[0m\u001b[0;34m(\u001b[0m\u001b[0mself\u001b[0m\u001b[0;34m,\u001b[0m \u001b[0moptimizer\u001b[0m\u001b[0;34m:\u001b[0m \u001b[0mOptimizer\u001b[0m\u001b[0;34m)\u001b[0m \u001b[0;34m->\u001b[0m \u001b[0;32mNone\u001b[0m\u001b[0;34m:\u001b[0m\u001b[0;34m\u001b[0m\u001b[0;34m\u001b[0m\u001b[0m\n",
      "\u001b[0;32m~/.local/lib/python3.8/site-packages/spacy/ml/tb_framework.py\u001b[0m in \u001b[0;36mforward\u001b[0;34m(model, X, is_train)\u001b[0m\n\u001b[1;32m     31\u001b[0m \u001b[0;34m\u001b[0m\u001b[0m\n\u001b[1;32m     32\u001b[0m \u001b[0;32mdef\u001b[0m \u001b[0mforward\u001b[0m\u001b[0;34m(\u001b[0m\u001b[0mmodel\u001b[0m\u001b[0;34m,\u001b[0m \u001b[0mX\u001b[0m\u001b[0;34m,\u001b[0m \u001b[0mis_train\u001b[0m\u001b[0;34m)\u001b[0m\u001b[0;34m:\u001b[0m\u001b[0;34m\u001b[0m\u001b[0;34m\u001b[0m\u001b[0m\n\u001b[0;32m---> 33\u001b[0;31m     step_model = ParserStepModel(\n\u001b[0m\u001b[1;32m     34\u001b[0m         \u001b[0mX\u001b[0m\u001b[0;34m,\u001b[0m\u001b[0;34m\u001b[0m\u001b[0;34m\u001b[0m\u001b[0m\n\u001b[1;32m     35\u001b[0m         \u001b[0mmodel\u001b[0m\u001b[0;34m.\u001b[0m\u001b[0mlayers\u001b[0m\u001b[0;34m,\u001b[0m\u001b[0;34m\u001b[0m\u001b[0;34m\u001b[0m\u001b[0m\n",
      "\u001b[0;32m~/.local/lib/python3.8/site-packages/spacy/ml/parser_model.pyx\u001b[0m in \u001b[0;36mspacy.ml.parser_model.ParserStepModel.__init__\u001b[0;34m()\u001b[0m\n",
      "\u001b[0;32m~/.local/lib/python3.8/site-packages/spacy/ml/parser_model.pyx\u001b[0m in \u001b[0;36mspacy.ml.parser_model.precompute_hiddens.__init__\u001b[0;34m()\u001b[0m\n",
      "\u001b[0;32m~/.local/lib/python3.8/site-packages/thinc/model.py\u001b[0m in \u001b[0;36m__call__\u001b[0;34m(self, X, is_train)\u001b[0m\n\u001b[1;32m    289\u001b[0m         \"\"\"Call the model's `forward` function, returning the output and a\n\u001b[1;32m    290\u001b[0m         callback to compute the gradients via backpropagation.\"\"\"\n\u001b[0;32m--> 291\u001b[0;31m         \u001b[0;32mreturn\u001b[0m \u001b[0mself\u001b[0m\u001b[0;34m.\u001b[0m\u001b[0m_func\u001b[0m\u001b[0;34m(\u001b[0m\u001b[0mself\u001b[0m\u001b[0;34m,\u001b[0m \u001b[0mX\u001b[0m\u001b[0;34m,\u001b[0m \u001b[0mis_train\u001b[0m\u001b[0;34m=\u001b[0m\u001b[0mis_train\u001b[0m\u001b[0;34m)\u001b[0m\u001b[0;34m\u001b[0m\u001b[0;34m\u001b[0m\u001b[0m\n\u001b[0m\u001b[1;32m    292\u001b[0m \u001b[0;34m\u001b[0m\u001b[0m\n\u001b[1;32m    293\u001b[0m     \u001b[0;32mdef\u001b[0m \u001b[0minitialize\u001b[0m\u001b[0;34m(\u001b[0m\u001b[0mself\u001b[0m\u001b[0;34m,\u001b[0m \u001b[0mX\u001b[0m\u001b[0;34m:\u001b[0m \u001b[0mOptional\u001b[0m\u001b[0;34m[\u001b[0m\u001b[0mInT\u001b[0m\u001b[0;34m]\u001b[0m \u001b[0;34m=\u001b[0m \u001b[0;32mNone\u001b[0m\u001b[0;34m,\u001b[0m \u001b[0mY\u001b[0m\u001b[0;34m:\u001b[0m \u001b[0mOptional\u001b[0m\u001b[0;34m[\u001b[0m\u001b[0mOutT\u001b[0m\u001b[0;34m]\u001b[0m \u001b[0;34m=\u001b[0m \u001b[0;32mNone\u001b[0m\u001b[0;34m)\u001b[0m \u001b[0;34m->\u001b[0m \u001b[0;34m\"Model\"\u001b[0m\u001b[0;34m:\u001b[0m\u001b[0;34m\u001b[0m\u001b[0;34m\u001b[0m\u001b[0m\n",
      "\u001b[0;32m~/.local/lib/python3.8/site-packages/spacy/ml/_precomputable_affine.py\u001b[0m in \u001b[0;36mforward\u001b[0;34m(model, X, is_train)\u001b[0m\n\u001b[1;32m     23\u001b[0m     \u001b[0mnI\u001b[0m \u001b[0;34m=\u001b[0m \u001b[0mmodel\u001b[0m\u001b[0;34m.\u001b[0m\u001b[0mget_dim\u001b[0m\u001b[0;34m(\u001b[0m\u001b[0;34m\"nI\"\u001b[0m\u001b[0;34m)\u001b[0m\u001b[0;34m\u001b[0m\u001b[0;34m\u001b[0m\u001b[0m\n\u001b[1;32m     24\u001b[0m     \u001b[0mW\u001b[0m \u001b[0;34m=\u001b[0m \u001b[0mmodel\u001b[0m\u001b[0;34m.\u001b[0m\u001b[0mget_param\u001b[0m\u001b[0;34m(\u001b[0m\u001b[0;34m\"W\"\u001b[0m\u001b[0;34m)\u001b[0m\u001b[0;34m\u001b[0m\u001b[0;34m\u001b[0m\u001b[0m\n\u001b[0;32m---> 25\u001b[0;31m     \u001b[0mYf\u001b[0m \u001b[0;34m=\u001b[0m \u001b[0mmodel\u001b[0m\u001b[0;34m.\u001b[0m\u001b[0mops\u001b[0m\u001b[0;34m.\u001b[0m\u001b[0mgemm\u001b[0m\u001b[0;34m(\u001b[0m\u001b[0mX\u001b[0m\u001b[0;34m,\u001b[0m \u001b[0mW\u001b[0m\u001b[0;34m.\u001b[0m\u001b[0mreshape\u001b[0m\u001b[0;34m(\u001b[0m\u001b[0;34m(\u001b[0m\u001b[0mnF\u001b[0m \u001b[0;34m*\u001b[0m \u001b[0mnO\u001b[0m \u001b[0;34m*\u001b[0m \u001b[0mnP\u001b[0m\u001b[0;34m,\u001b[0m \u001b[0mnI\u001b[0m\u001b[0;34m)\u001b[0m\u001b[0;34m)\u001b[0m\u001b[0;34m,\u001b[0m \u001b[0mtrans2\u001b[0m\u001b[0;34m=\u001b[0m\u001b[0;32mTrue\u001b[0m\u001b[0;34m)\u001b[0m\u001b[0;34m\u001b[0m\u001b[0;34m\u001b[0m\u001b[0m\n\u001b[0m\u001b[1;32m     26\u001b[0m     \u001b[0mYf\u001b[0m \u001b[0;34m=\u001b[0m \u001b[0mYf\u001b[0m\u001b[0;34m.\u001b[0m\u001b[0mreshape\u001b[0m\u001b[0;34m(\u001b[0m\u001b[0;34m(\u001b[0m\u001b[0mYf\u001b[0m\u001b[0;34m.\u001b[0m\u001b[0mshape\u001b[0m\u001b[0;34m[\u001b[0m\u001b[0;36m0\u001b[0m\u001b[0;34m]\u001b[0m\u001b[0;34m,\u001b[0m \u001b[0mnF\u001b[0m\u001b[0;34m,\u001b[0m \u001b[0mnO\u001b[0m\u001b[0;34m,\u001b[0m \u001b[0mnP\u001b[0m\u001b[0;34m)\u001b[0m\u001b[0;34m)\u001b[0m\u001b[0;34m\u001b[0m\u001b[0;34m\u001b[0m\u001b[0m\n\u001b[1;32m     27\u001b[0m     \u001b[0mYf\u001b[0m \u001b[0;34m=\u001b[0m \u001b[0mmodel\u001b[0m\u001b[0;34m.\u001b[0m\u001b[0mops\u001b[0m\u001b[0;34m.\u001b[0m\u001b[0mxp\u001b[0m\u001b[0;34m.\u001b[0m\u001b[0mvstack\u001b[0m\u001b[0;34m(\u001b[0m\u001b[0;34m(\u001b[0m\u001b[0mmodel\u001b[0m\u001b[0;34m.\u001b[0m\u001b[0mget_param\u001b[0m\u001b[0;34m(\u001b[0m\u001b[0;34m\"pad\"\u001b[0m\u001b[0;34m)\u001b[0m\u001b[0;34m,\u001b[0m \u001b[0mYf\u001b[0m\u001b[0;34m)\u001b[0m\u001b[0;34m)\u001b[0m\u001b[0;34m\u001b[0m\u001b[0;34m\u001b[0m\u001b[0m\n",
      "\u001b[0;31mKeyboardInterrupt\u001b[0m: "
     ]
    }
   ],
   "source": [
    "encoding = Encoding(model=model,\n",
    "                   vocab=wv_vocab,\n",
    "                   do_pre_process=True,\n",
    "                   do_noun_chunks=True,\n",
    "                   do_dual_token=True,\n",
    "                   do_dual_embed=True,\n",
    "                   do_avg=True)\n",
    "\n",
    "en_doc_vectors, de_doc_vectors = vectorize_docs(encoding=encoding)\n",
    "\n",
    "evaluate(\n",
    "        encoding=encoding,\n",
    "        num_ret=50,\n",
    "        en_doc_vectors=en_doc_vectors,\n",
    "        de_doc_vectors=de_doc_vectors)\n",
    "\n",
    "\n",
    "evaluate_sent_similarity(en_doc_vectors=en_doc_vectors,\n",
    "                        de_doc_vectors=de_doc_vectors)\n",
    "\n",
    "evaluate_word_similarity(m_type='word2vec',\n",
    "                        model=model,\n",
    "                        vocab=wv_vocab)"
   ]
  },
  {
   "cell_type": "code",
   "execution_count": 91,
   "metadata": {},
   "outputs": [
    {
     "data": {
      "application/vnd.jupyter.widget-view+json": {
       "model_id": "2816bc7322ab4691a5498970ea0756b6",
       "version_major": 2,
       "version_minor": 0
      },
      "text/plain": [
       "HBox(children=(FloatProgress(value=0.0, max=1304.0), HTML(value='')))"
      ]
     },
     "metadata": {},
     "output_type": "display_data"
    },
    {
     "name": "stdout",
     "output_type": "stream",
     "text": [
      "\n"
     ]
    },
    {
     "data": {
      "application/vnd.jupyter.widget-view+json": {
       "model_id": "c1313516268b471aa0901e4e9a5e2ecc",
       "version_major": 2,
       "version_minor": 0
      },
      "text/plain": [
       "HBox(children=(FloatProgress(value=0.0, max=1304.0), HTML(value='')))"
      ]
     },
     "metadata": {},
     "output_type": "display_data"
    },
    {
     "name": "stdout",
     "output_type": "stream",
     "text": [
      "\n",
      "-- CLIR TASK --\n",
      "P: 0.198200 R: 0.519148\n",
      "-- SENTENCE SIMILARITY --\n",
      "EN - DE Accuracy: 0.187883\n",
      "DE - EN Accuracy: 0.271472\n",
      "-- WORD SIMILARITY --\n",
      "EN - DE Accuracy: 0.25\n",
      "DE - EN Accuracy: 0.3333333333333333\n"
     ]
    }
   ],
   "source": [
    "encoding = Encoding(model=model,\n",
    "                   vocab=wv_vocab,\n",
    "                   do_pre_process=True,\n",
    "                   do_noun_chunks=True,\n",
    "                   do_dual_token=True,\n",
    "                   do_dual_embed=True,\n",
    "                   do_avg=False)\n",
    "\n",
    "en_doc_vectors, de_doc_vectors = vectorize_docs(encoding=encoding)\n",
    "\n",
    "evaluate(\n",
    "        encoding=encoding,\n",
    "        num_ret=50,\n",
    "        en_doc_vectors=en_doc_vectors,\n",
    "        de_doc_vectors=de_doc_vectors)\n",
    "\n",
    "\n",
    "evaluate_sent_similarity(en_doc_vectors=en_doc_vectors,\n",
    "                        de_doc_vectors=de_doc_vectors)\n",
    "\n",
    "evaluate_word_similarity(m_type='word2vec',\n",
    "                        model=model,\n",
    "                        vocab=wv_vocab)"
   ]
  },
  {
   "cell_type": "code",
   "execution_count": 92,
   "metadata": {},
   "outputs": [
    {
     "data": {
      "application/vnd.jupyter.widget-view+json": {
       "model_id": "6c2bccb3e8ad44c9b6a231efe4104285",
       "version_major": 2,
       "version_minor": 0
      },
      "text/plain": [
       "HBox(children=(FloatProgress(value=0.0, max=1304.0), HTML(value='')))"
      ]
     },
     "metadata": {},
     "output_type": "display_data"
    },
    {
     "name": "stdout",
     "output_type": "stream",
     "text": [
      "\n"
     ]
    },
    {
     "data": {
      "application/vnd.jupyter.widget-view+json": {
       "model_id": "fc7ba62aa1d2452297cdaf35f87b54b9",
       "version_major": 2,
       "version_minor": 0
      },
      "text/plain": [
       "HBox(children=(FloatProgress(value=0.0, max=1304.0), HTML(value='')))"
      ]
     },
     "metadata": {},
     "output_type": "display_data"
    },
    {
     "name": "stdout",
     "output_type": "stream",
     "text": [
      "\n",
      "-- CLIR TASK --\n",
      "P: 0.198200 R: 0.514256\n",
      "-- SENTENCE SIMILARITY --\n",
      "EN - DE Accuracy: 0.134202\n",
      "DE - EN Accuracy: 0.229294\n",
      "-- WORD SIMILARITY --\n",
      "EN - DE Accuracy: 0.25\n",
      "DE - EN Accuracy: 0.3333333333333333\n"
     ]
    }
   ],
   "source": [
    "encoding = Encoding(model=model,\n",
    "                   vocab=wv_vocab,\n",
    "                   do_pre_process=True,\n",
    "                   do_noun_chunks=True,\n",
    "                   do_dual_token=True,\n",
    "                   do_dual_embed=False,\n",
    "                   do_avg=False)\n",
    "\n",
    "en_doc_vectors, de_doc_vectors = vectorize_docs(encoding=encoding)\n",
    "\n",
    "evaluate(\n",
    "        encoding=encoding,\n",
    "        num_ret=50,\n",
    "        en_doc_vectors=en_doc_vectors,\n",
    "        de_doc_vectors=de_doc_vectors)\n",
    "\n",
    "\n",
    "evaluate_sent_similarity(en_doc_vectors=en_doc_vectors,\n",
    "                        de_doc_vectors=de_doc_vectors)\n",
    "\n",
    "evaluate_word_similarity(m_type='word2vec',\n",
    "                        model=model,\n",
    "                        vocab=wv_vocab)"
   ]
  },
  {
   "cell_type": "code",
   "execution_count": 93,
   "metadata": {},
   "outputs": [
    {
     "data": {
      "application/vnd.jupyter.widget-view+json": {
       "model_id": "87338f4b3c0c417c95a37f2a24810846",
       "version_major": 2,
       "version_minor": 0
      },
      "text/plain": [
       "HBox(children=(FloatProgress(value=0.0, max=1304.0), HTML(value='')))"
      ]
     },
     "metadata": {},
     "output_type": "display_data"
    },
    {
     "name": "stdout",
     "output_type": "stream",
     "text": [
      "\n"
     ]
    },
    {
     "data": {
      "application/vnd.jupyter.widget-view+json": {
       "model_id": "8e7e285843ec41d3ae22619f0453bdbf",
       "version_major": 2,
       "version_minor": 0
      },
      "text/plain": [
       "HBox(children=(FloatProgress(value=0.0, max=1304.0), HTML(value='')))"
      ]
     },
     "metadata": {},
     "output_type": "display_data"
    },
    {
     "name": "stdout",
     "output_type": "stream",
     "text": [
      "\n",
      "-- CLIR TASK --\n",
      "P: 0.177800 R: 0.497271\n",
      "-- SENTENCE SIMILARITY --\n",
      "EN - DE Accuracy: 0.105061\n",
      "DE - EN Accuracy: 0.173313\n",
      "-- WORD SIMILARITY --\n",
      "EN - DE Accuracy: 0.25\n",
      "DE - EN Accuracy: 0.3333333333333333\n"
     ]
    }
   ],
   "source": [
    "encoding = Encoding(model=model,\n",
    "                   vocab=wv_vocab,\n",
    "                   do_pre_process=True,\n",
    "                   do_noun_chunks=True,\n",
    "                   do_dual_token=False,\n",
    "                   do_dual_embed=False,\n",
    "                   do_avg=False)\n",
    "\n",
    "en_doc_vectors, de_doc_vectors = vectorize_docs(encoding=encoding)\n",
    "\n",
    "evaluate(\n",
    "        encoding=encoding,\n",
    "        num_ret=50,\n",
    "        en_doc_vectors=en_doc_vectors,\n",
    "        de_doc_vectors=de_doc_vectors)\n",
    "\n",
    "\n",
    "evaluate_sent_similarity(en_doc_vectors=en_doc_vectors,\n",
    "                        de_doc_vectors=de_doc_vectors)\n",
    "\n",
    "evaluate_word_similarity(m_type='word2vec',\n",
    "                        model=model,\n",
    "                        vocab=wv_vocab)"
   ]
  },
  {
   "cell_type": "code",
   "execution_count": 94,
   "metadata": {},
   "outputs": [
    {
     "data": {
      "application/vnd.jupyter.widget-view+json": {
       "model_id": "449f80dff26c426292e8bbde47dc8359",
       "version_major": 2,
       "version_minor": 0
      },
      "text/plain": [
       "HBox(children=(FloatProgress(value=0.0, max=1304.0), HTML(value='')))"
      ]
     },
     "metadata": {},
     "output_type": "display_data"
    },
    {
     "name": "stdout",
     "output_type": "stream",
     "text": [
      "\n"
     ]
    },
    {
     "data": {
      "application/vnd.jupyter.widget-view+json": {
       "model_id": "c4534793bcf34de8b5731cc0b973b499",
       "version_major": 2,
       "version_minor": 0
      },
      "text/plain": [
       "HBox(children=(FloatProgress(value=0.0, max=1304.0), HTML(value='')))"
      ]
     },
     "metadata": {},
     "output_type": "display_data"
    },
    {
     "name": "stdout",
     "output_type": "stream",
     "text": [
      "\n",
      "-- CLIR TASK --\n",
      "P: 0.177800 R: 0.497271\n",
      "-- SENTENCE SIMILARITY --\n",
      "EN - DE Accuracy: 0.105061\n",
      "DE - EN Accuracy: 0.173313\n",
      "-- WORD SIMILARITY --\n",
      "EN - DE Accuracy: 0.25\n",
      "DE - EN Accuracy: 0.3333333333333333\n"
     ]
    }
   ],
   "source": [
    "encoding = Encoding(model=model,\n",
    "                   vocab=wv_vocab,\n",
    "                   do_pre_process=True,\n",
    "                   do_noun_chunks=False,\n",
    "                   do_dual_token=False,\n",
    "                   do_dual_embed=False,\n",
    "                   do_avg=False)\n",
    "\n",
    "en_doc_vectors, de_doc_vectors = vectorize_docs(encoding=encoding)\n",
    "\n",
    "evaluate(\n",
    "        encoding=encoding,\n",
    "        num_ret=50,\n",
    "        en_doc_vectors=en_doc_vectors,\n",
    "        de_doc_vectors=de_doc_vectors)\n",
    "\n",
    "\n",
    "evaluate_sent_similarity(en_doc_vectors=en_doc_vectors,\n",
    "                        de_doc_vectors=de_doc_vectors)\n",
    "\n",
    "evaluate_word_similarity(m_type='word2vec',\n",
    "                        model=model,\n",
    "                        vocab=wv_vocab)"
   ]
  },
  {
   "cell_type": "code",
   "execution_count": 95,
   "metadata": {},
   "outputs": [
    {
     "data": {
      "application/vnd.jupyter.widget-view+json": {
       "model_id": "9c4c926ab75e403ea9b15422c0d3cb1d",
       "version_major": 2,
       "version_minor": 0
      },
      "text/plain": [
       "HBox(children=(FloatProgress(value=0.0, max=1304.0), HTML(value='')))"
      ]
     },
     "metadata": {},
     "output_type": "display_data"
    },
    {
     "name": "stdout",
     "output_type": "stream",
     "text": [
      "\n"
     ]
    },
    {
     "data": {
      "application/vnd.jupyter.widget-view+json": {
       "model_id": "74c403bdbcaf4494be3fd3620dd8bcd3",
       "version_major": 2,
       "version_minor": 0
      },
      "text/plain": [
       "HBox(children=(FloatProgress(value=0.0, max=1304.0), HTML(value='')))"
      ]
     },
     "metadata": {},
     "output_type": "display_data"
    },
    {
     "name": "stdout",
     "output_type": "stream",
     "text": [
      "\n",
      "-- CLIR TASK --\n",
      "P: 0.177800 R: 0.497271\n",
      "-- SENTENCE SIMILARITY --\n",
      "EN - DE Accuracy: 0.105061\n",
      "DE - EN Accuracy: 0.173313\n",
      "-- WORD SIMILARITY --\n",
      "EN - DE Accuracy: 0.25\n",
      "DE - EN Accuracy: 0.3333333333333333\n"
     ]
    }
   ],
   "source": [
    "encoding = Encoding(model=model,\n",
    "                   vocab=wv_vocab,\n",
    "                   do_pre_process=False,\n",
    "                   do_noun_chunks=False,\n",
    "                   do_dual_token=False,\n",
    "                   do_dual_embed=False,\n",
    "                   do_avg=False)\n",
    "\n",
    "en_doc_vectors, de_doc_vectors = vectorize_docs(encoding=encoding)\n",
    "\n",
    "evaluate(\n",
    "        encoding=encoding,\n",
    "        num_ret=50,\n",
    "        en_doc_vectors=en_doc_vectors,\n",
    "        de_doc_vectors=de_doc_vectors)\n",
    "\n",
    "\n",
    "evaluate_sent_similarity(en_doc_vectors=en_doc_vectors,\n",
    "                        de_doc_vectors=de_doc_vectors)\n",
    "\n",
    "evaluate_word_similarity(m_type='word2vec',\n",
    "                        model=model,\n",
    "                        vocab=wv_vocab)"
   ]
  },
  {
   "cell_type": "markdown",
   "metadata": {},
   "source": [
    "## Fasttext models"
   ]
  },
  {
   "cell_type": "code",
   "execution_count": 74,
   "metadata": {},
   "outputs": [],
   "source": [
    "from gensim.models import FastText"
   ]
  },
  {
   "cell_type": "code",
   "execution_count": 2,
   "metadata": {},
   "outputs": [],
   "source": [
    "import numpy as np"
   ]
  },
  {
   "cell_type": "code",
   "execution_count": 4,
   "metadata": {},
   "outputs": [],
   "source": [
    "model = FastText.load('../../data/fasttext/epo_w_ncs_fasttext.model')"
   ]
  },
  {
   "cell_type": "code",
   "execution_count": 7,
   "metadata": {},
   "outputs": [
    {
     "data": {
      "application/vnd.jupyter.widget-view+json": {
       "model_id": "9dbb1486e2c6449eb469708af80ed5bb",
       "version_major": 2,
       "version_minor": 0
      },
      "text/plain": [
       "HBox(children=(FloatProgress(value=0.0, max=745335.0), HTML(value='')))"
      ]
     },
     "metadata": {},
     "output_type": "display_data"
    },
    {
     "name": "stdout",
     "output_type": "stream",
     "text": [
      "\n"
     ]
    },
    {
     "data": {
      "text/plain": [
       "745335"
      ]
     },
     "execution_count": 7,
     "metadata": {},
     "output_type": "execute_result"
    }
   ],
   "source": [
    "wv_vocab = []\n",
    "for idx in tq(range(len(model.wv))):\n",
    "    wv_vocab.append(model.wv.index_to_key[idx])\n",
    "len(wv_vocab)"
   ]
  },
  {
   "cell_type": "code",
   "execution_count": 36,
   "metadata": {
    "collapsed": true
   },
   "outputs": [
    {
     "data": {
      "application/vnd.jupyter.widget-view+json": {
       "model_id": "7334b5b6a95540308f3dbabb507272f0",
       "version_major": 2,
       "version_minor": 0
      },
      "text/plain": [
       "HBox(children=(FloatProgress(value=0.0, max=1304.0), HTML(value='')))"
      ]
     },
     "metadata": {},
     "output_type": "display_data"
    },
    {
     "name": "stdout",
     "output_type": "stream",
     "text": [
      "\n"
     ]
    },
    {
     "data": {
      "application/vnd.jupyter.widget-view+json": {
       "model_id": "f7f22c66961e4b00be0cd7713784f3cb",
       "version_major": 2,
       "version_minor": 0
      },
      "text/plain": [
       "HBox(children=(FloatProgress(value=0.0, max=1304.0), HTML(value='')))"
      ]
     },
     "metadata": {},
     "output_type": "display_data"
    },
    {
     "name": "stdout",
     "output_type": "stream",
     "text": [
      "\n",
      "-- CLIR TASK --\n",
      "P: 0.212000 R: 0.549574\n",
      "-- SENTENCE SIMILARITY --\n",
      "EN - DE Accuracy: 0.222393\n",
      "DE - EN Accuracy: 0.071319\n"
     ]
    },
    {
     "ename": "AttributeError",
     "evalue": "'DataFrame' object has no attribute 'dic'",
     "output_type": "error",
     "traceback": [
      "\u001b[0;31m---------------------------------------------------------------------------\u001b[0m",
      "\u001b[0;31mAttributeError\u001b[0m                            Traceback (most recent call last)",
      "\u001b[0;32m<ipython-input-36-aabbdabe45f2>\u001b[0m in \u001b[0;36m<module>\u001b[0;34m\u001b[0m\n\u001b[1;32m     19\u001b[0m                         de_doc_vectors=de_doc_vectors)\n\u001b[1;32m     20\u001b[0m \u001b[0;34m\u001b[0m\u001b[0m\n\u001b[0;32m---> 21\u001b[0;31m evaluate_word_similarity(m_type='word2vec',\n\u001b[0m\u001b[1;32m     22\u001b[0m                         \u001b[0mmodel\u001b[0m\u001b[0;34m=\u001b[0m\u001b[0mmodel\u001b[0m\u001b[0;34m,\u001b[0m\u001b[0;34m\u001b[0m\u001b[0;34m\u001b[0m\u001b[0m\n\u001b[1;32m     23\u001b[0m                         vocab=wv_vocab)\n",
      "\u001b[0;32m<ipython-input-31-fded27665ce2>\u001b[0m in \u001b[0;36mevaluate_word_similarity\u001b[0;34m(m_type, model, vocab)\u001b[0m\n\u001b[1;32m      7\u001b[0m \u001b[0;34m\u001b[0m\u001b[0m\n\u001b[1;32m      8\u001b[0m     \u001b[0mtotal_en_de\u001b[0m\u001b[0;34m,\u001b[0m \u001b[0mtotal_de_en\u001b[0m\u001b[0;34m,\u001b[0m \u001b[0mcount_en_de\u001b[0m\u001b[0;34m,\u001b[0m \u001b[0mcount_de_en\u001b[0m \u001b[0;34m=\u001b[0m \u001b[0;36m0\u001b[0m\u001b[0;34m,\u001b[0m \u001b[0;36m0\u001b[0m\u001b[0;34m,\u001b[0m \u001b[0;36m0\u001b[0m\u001b[0;34m,\u001b[0m \u001b[0;36m0\u001b[0m\u001b[0;34m\u001b[0m\u001b[0;34m\u001b[0m\u001b[0m\n\u001b[0;32m----> 9\u001b[0;31m     for en, de in zip(algn_dic.dic.en[:100],\n\u001b[0m\u001b[1;32m     10\u001b[0m                       algn_dic.dic.de[:100]):\n\u001b[1;32m     11\u001b[0m         \u001b[0men\u001b[0m \u001b[0;34m=\u001b[0m \u001b[0mre\u001b[0m\u001b[0;34m.\u001b[0m\u001b[0msub\u001b[0m\u001b[0;34m(\u001b[0m\u001b[0;34m'_'\u001b[0m\u001b[0;34m,\u001b[0m \u001b[0;34m' '\u001b[0m\u001b[0;34m,\u001b[0m \u001b[0men\u001b[0m\u001b[0;34m)\u001b[0m\u001b[0;34m\u001b[0m\u001b[0;34m\u001b[0m\u001b[0m\n",
      "\u001b[0;32m~/.local/lib/python3.8/site-packages/pandas/core/generic.py\u001b[0m in \u001b[0;36m__getattr__\u001b[0;34m(self, name)\u001b[0m\n\u001b[1;32m   5485\u001b[0m         ):\n\u001b[1;32m   5486\u001b[0m             \u001b[0;32mreturn\u001b[0m \u001b[0mself\u001b[0m\u001b[0;34m[\u001b[0m\u001b[0mname\u001b[0m\u001b[0;34m]\u001b[0m\u001b[0;34m\u001b[0m\u001b[0;34m\u001b[0m\u001b[0m\n\u001b[0;32m-> 5487\u001b[0;31m         \u001b[0;32mreturn\u001b[0m \u001b[0mobject\u001b[0m\u001b[0;34m.\u001b[0m\u001b[0m__getattribute__\u001b[0m\u001b[0;34m(\u001b[0m\u001b[0mself\u001b[0m\u001b[0;34m,\u001b[0m \u001b[0mname\u001b[0m\u001b[0;34m)\u001b[0m\u001b[0;34m\u001b[0m\u001b[0;34m\u001b[0m\u001b[0m\n\u001b[0m\u001b[1;32m   5488\u001b[0m \u001b[0;34m\u001b[0m\u001b[0m\n\u001b[1;32m   5489\u001b[0m     \u001b[0;32mdef\u001b[0m \u001b[0m__setattr__\u001b[0m\u001b[0;34m(\u001b[0m\u001b[0mself\u001b[0m\u001b[0;34m,\u001b[0m \u001b[0mname\u001b[0m\u001b[0;34m:\u001b[0m \u001b[0mstr\u001b[0m\u001b[0;34m,\u001b[0m \u001b[0mvalue\u001b[0m\u001b[0;34m)\u001b[0m \u001b[0;34m->\u001b[0m \u001b[0;32mNone\u001b[0m\u001b[0;34m:\u001b[0m\u001b[0;34m\u001b[0m\u001b[0;34m\u001b[0m\u001b[0m\n",
      "\u001b[0;31mAttributeError\u001b[0m: 'DataFrame' object has no attribute 'dic'"
     ]
    }
   ],
   "source": [
    "encoding = Encoding(model=model,\n",
    "                   vocab=wv_vocab,\n",
    "                   do_pre_process=True,\n",
    "                   do_noun_chunks=True,\n",
    "                   do_dual_token=True,\n",
    "                   do_dual_embed=True,\n",
    "                   do_avg=True)\n",
    "\n",
    "en_doc_vectors, de_doc_vectors = vectorize_docs(encoding=encoding)\n",
    "\n",
    "evaluate(\n",
    "        encoding=encoding,\n",
    "        num_ret=50,\n",
    "        en_doc_vectors=en_doc_vectors,\n",
    "        de_doc_vectors=de_doc_vectors)\n",
    "\n",
    "\n",
    "evaluate_sent_similarity(en_doc_vectors=en_doc_vectors,\n",
    "                        de_doc_vectors=de_doc_vectors)\n",
    "\n",
    "evaluate_word_similarity(m_type='word2vec',\n",
    "                        model=model,\n",
    "                        vocab=wv_vocab)"
   ]
  },
  {
   "cell_type": "code",
   "execution_count": 107,
   "metadata": {},
   "outputs": [
    {
     "data": {
      "application/vnd.jupyter.widget-view+json": {
       "model_id": "876435e6e77e4cff86af7457b43f6b19",
       "version_major": 2,
       "version_minor": 0
      },
      "text/plain": [
       "HBox(children=(FloatProgress(value=0.0, max=1304.0), HTML(value='')))"
      ]
     },
     "metadata": {},
     "output_type": "display_data"
    },
    {
     "name": "stdout",
     "output_type": "stream",
     "text": [
      "\n"
     ]
    },
    {
     "data": {
      "application/vnd.jupyter.widget-view+json": {
       "model_id": "d87301c430734614a5d63db3e4ec205d",
       "version_major": 2,
       "version_minor": 0
      },
      "text/plain": [
       "HBox(children=(FloatProgress(value=0.0, max=1304.0), HTML(value='')))"
      ]
     },
     "metadata": {},
     "output_type": "display_data"
    },
    {
     "name": "stdout",
     "output_type": "stream",
     "text": [
      "\n",
      "-- CLIR TASK --\n",
      "P: 0.218000 R: 0.561513\n",
      "-- SENTENCE SIMILARITY --\n",
      "EN - DE Accuracy: 0.226227\n",
      "DE - EN Accuracy: 0.088190\n",
      "-- WORD SIMILARITY --\n",
      "EN - DE Accuracy: 0.11764705882352941\n",
      "DE - EN Accuracy: 0.017857142857142856\n"
     ]
    }
   ],
   "source": [
    "encoding = Encoding(model=model,\n",
    "                   vocab=wv_vocab,\n",
    "                   do_pre_process=True,\n",
    "                   do_noun_chunks=True,\n",
    "                   do_dual_token=True,\n",
    "                   do_dual_embed=True,\n",
    "                   do_avg=False)\n",
    "\n",
    "en_doc_vectors, de_doc_vectors = vectorize_docs(encoding=encoding)\n",
    "\n",
    "evaluate(\n",
    "        encoding=encoding,\n",
    "        num_ret=50,\n",
    "        en_doc_vectors=en_doc_vectors,\n",
    "        de_doc_vectors=de_doc_vectors)\n",
    "\n",
    "\n",
    "evaluate_sent_similarity(en_doc_vectors=en_doc_vectors,\n",
    "                        de_doc_vectors=de_doc_vectors)\n",
    "\n",
    "evaluate_word_similarity(m_type='word2vec',\n",
    "                        model=model,\n",
    "                        vocab=wv_vocab)"
   ]
  },
  {
   "cell_type": "code",
   "execution_count": 108,
   "metadata": {},
   "outputs": [
    {
     "data": {
      "application/vnd.jupyter.widget-view+json": {
       "model_id": "8fc5e65ad5fc40c48d2759806ffd5421",
       "version_major": 2,
       "version_minor": 0
      },
      "text/plain": [
       "HBox(children=(FloatProgress(value=0.0, max=1304.0), HTML(value='')))"
      ]
     },
     "metadata": {},
     "output_type": "display_data"
    },
    {
     "name": "stdout",
     "output_type": "stream",
     "text": [
      "\n"
     ]
    },
    {
     "data": {
      "application/vnd.jupyter.widget-view+json": {
       "model_id": "bfc1d16235424d7aaca344e5f91c9996",
       "version_major": 2,
       "version_minor": 0
      },
      "text/plain": [
       "HBox(children=(FloatProgress(value=0.0, max=1304.0), HTML(value='')))"
      ]
     },
     "metadata": {},
     "output_type": "display_data"
    },
    {
     "name": "stdout",
     "output_type": "stream",
     "text": [
      "\n",
      "-- CLIR TASK --\n",
      "P: 0.207400 R: 0.530817\n",
      "-- SENTENCE SIMILARITY --\n",
      "EN - DE Accuracy: 0.208589\n",
      "DE - EN Accuracy: 0.066718\n",
      "-- WORD SIMILARITY --\n",
      "EN - DE Accuracy: 0.11764705882352941\n",
      "DE - EN Accuracy: 0.017857142857142856\n"
     ]
    }
   ],
   "source": [
    "encoding = Encoding(model=model,\n",
    "                   vocab=wv_vocab,\n",
    "                   do_pre_process=True,\n",
    "                   do_noun_chunks=True,\n",
    "                   do_dual_token=True,\n",
    "                   do_dual_embed=False,\n",
    "                   do_avg=False)\n",
    "\n",
    "en_doc_vectors, de_doc_vectors = vectorize_docs(encoding=encoding)\n",
    "\n",
    "evaluate(\n",
    "        encoding=encoding,\n",
    "        num_ret=50,\n",
    "        en_doc_vectors=en_doc_vectors,\n",
    "        de_doc_vectors=de_doc_vectors)\n",
    "\n",
    "\n",
    "evaluate_sent_similarity(en_doc_vectors=en_doc_vectors,\n",
    "                        de_doc_vectors=de_doc_vectors)\n",
    "\n",
    "evaluate_word_similarity(m_type='word2vec',\n",
    "                        model=model,\n",
    "                        vocab=wv_vocab)"
   ]
  },
  {
   "cell_type": "code",
   "execution_count": 109,
   "metadata": {},
   "outputs": [
    {
     "data": {
      "application/vnd.jupyter.widget-view+json": {
       "model_id": "b53cfe4da88647fcbc522ca2d606e11d",
       "version_major": 2,
       "version_minor": 0
      },
      "text/plain": [
       "HBox(children=(FloatProgress(value=0.0, max=1304.0), HTML(value='')))"
      ]
     },
     "metadata": {},
     "output_type": "display_data"
    },
    {
     "name": "stdout",
     "output_type": "stream",
     "text": [
      "\n"
     ]
    },
    {
     "data": {
      "application/vnd.jupyter.widget-view+json": {
       "model_id": "d90ff06b9d714c0596345a8eb77fbb16",
       "version_major": 2,
       "version_minor": 0
      },
      "text/plain": [
       "HBox(children=(FloatProgress(value=0.0, max=1304.0), HTML(value='')))"
      ]
     },
     "metadata": {},
     "output_type": "display_data"
    },
    {
     "name": "stdout",
     "output_type": "stream",
     "text": [
      "\n",
      "-- CLIR TASK --\n",
      "P: 0.204200 R: 0.526455\n",
      "-- SENTENCE SIMILARITY --\n",
      "EN - DE Accuracy: 0.167945\n",
      "DE - EN Accuracy: 0.065184\n",
      "-- WORD SIMILARITY --\n",
      "EN - DE Accuracy: 0.11764705882352941\n",
      "DE - EN Accuracy: 0.017857142857142856\n"
     ]
    }
   ],
   "source": [
    "encoding = Encoding(model=model,\n",
    "                   vocab=wv_vocab,\n",
    "                   do_pre_process=True,\n",
    "                   do_noun_chunks=True,\n",
    "                   do_dual_token=False,\n",
    "                   do_dual_embed=False,\n",
    "                   do_avg=False)\n",
    "\n",
    "en_doc_vectors, de_doc_vectors = vectorize_docs(encoding=encoding)\n",
    "\n",
    "evaluate(\n",
    "        encoding=encoding,\n",
    "        num_ret=50,\n",
    "        en_doc_vectors=en_doc_vectors,\n",
    "        de_doc_vectors=de_doc_vectors)\n",
    "\n",
    "\n",
    "evaluate_sent_similarity(en_doc_vectors=en_doc_vectors,\n",
    "                        de_doc_vectors=de_doc_vectors)\n",
    "\n",
    "evaluate_word_similarity(m_type='word2vec',\n",
    "                        model=model,\n",
    "                        vocab=wv_vocab)"
   ]
  },
  {
   "cell_type": "code",
   "execution_count": 110,
   "metadata": {},
   "outputs": [
    {
     "data": {
      "application/vnd.jupyter.widget-view+json": {
       "model_id": "6da5ebbd4336490aa701cf498e388137",
       "version_major": 2,
       "version_minor": 0
      },
      "text/plain": [
       "HBox(children=(FloatProgress(value=0.0, max=1304.0), HTML(value='')))"
      ]
     },
     "metadata": {},
     "output_type": "display_data"
    },
    {
     "name": "stdout",
     "output_type": "stream",
     "text": [
      "\n"
     ]
    },
    {
     "data": {
      "application/vnd.jupyter.widget-view+json": {
       "model_id": "3d5a853f76e343ecb30c6aaaf054b9fc",
       "version_major": 2,
       "version_minor": 0
      },
      "text/plain": [
       "HBox(children=(FloatProgress(value=0.0, max=1304.0), HTML(value='')))"
      ]
     },
     "metadata": {},
     "output_type": "display_data"
    },
    {
     "name": "stdout",
     "output_type": "stream",
     "text": [
      "\n",
      "-- CLIR TASK --\n",
      "P: 0.204200 R: 0.526455\n",
      "-- SENTENCE SIMILARITY --\n",
      "EN - DE Accuracy: 0.167945\n",
      "DE - EN Accuracy: 0.065184\n",
      "-- WORD SIMILARITY --\n",
      "EN - DE Accuracy: 0.11764705882352941\n",
      "DE - EN Accuracy: 0.017857142857142856\n"
     ]
    }
   ],
   "source": [
    "encoding = Encoding(model=model,\n",
    "                   vocab=wv_vocab,\n",
    "                   do_pre_process=True,\n",
    "                   do_noun_chunks=False,\n",
    "                   do_dual_token=False,\n",
    "                   do_dual_embed=False,\n",
    "                   do_avg=False)\n",
    "\n",
    "en_doc_vectors, de_doc_vectors = vectorize_docs(encoding=encoding)\n",
    "\n",
    "evaluate(\n",
    "        encoding=encoding,\n",
    "        num_ret=50,\n",
    "        en_doc_vectors=en_doc_vectors,\n",
    "        de_doc_vectors=de_doc_vectors)\n",
    "\n",
    "\n",
    "evaluate_sent_similarity(en_doc_vectors=en_doc_vectors,\n",
    "                        de_doc_vectors=de_doc_vectors)\n",
    "\n",
    "evaluate_word_similarity(m_type='word2vec',\n",
    "                        model=model,\n",
    "                        vocab=wv_vocab)"
   ]
  },
  {
   "cell_type": "code",
   "execution_count": 111,
   "metadata": {},
   "outputs": [
    {
     "data": {
      "application/vnd.jupyter.widget-view+json": {
       "model_id": "be87b6cfa2104499950fe5fc60d32357",
       "version_major": 2,
       "version_minor": 0
      },
      "text/plain": [
       "HBox(children=(FloatProgress(value=0.0, max=1304.0), HTML(value='')))"
      ]
     },
     "metadata": {},
     "output_type": "display_data"
    },
    {
     "name": "stdout",
     "output_type": "stream",
     "text": [
      "\n"
     ]
    },
    {
     "data": {
      "application/vnd.jupyter.widget-view+json": {
       "model_id": "5751d546fe7440679d967d44f9a80731",
       "version_major": 2,
       "version_minor": 0
      },
      "text/plain": [
       "HBox(children=(FloatProgress(value=0.0, max=1304.0), HTML(value='')))"
      ]
     },
     "metadata": {},
     "output_type": "display_data"
    },
    {
     "name": "stdout",
     "output_type": "stream",
     "text": [
      "\n",
      "-- CLIR TASK --\n",
      "P: 0.204200 R: 0.526455\n",
      "-- SENTENCE SIMILARITY --\n",
      "EN - DE Accuracy: 0.167945\n",
      "DE - EN Accuracy: 0.065184\n",
      "-- WORD SIMILARITY --\n",
      "EN - DE Accuracy: 0.11764705882352941\n",
      "DE - EN Accuracy: 0.017857142857142856\n"
     ]
    }
   ],
   "source": [
    "encoding = Encoding(model=model,\n",
    "                   vocab=wv_vocab,\n",
    "                   do_pre_process=False,\n",
    "                   do_noun_chunks=False,\n",
    "                   do_dual_token=False,\n",
    "                   do_dual_embed=False,\n",
    "                   do_avg=False)\n",
    "\n",
    "en_doc_vectors, de_doc_vectors = vectorize_docs(encoding=encoding)\n",
    "\n",
    "evaluate(\n",
    "        encoding=encoding,\n",
    "        num_ret=50,\n",
    "        en_doc_vectors=en_doc_vectors,\n",
    "        de_doc_vectors=de_doc_vectors)\n",
    "\n",
    "\n",
    "evaluate_sent_similarity(en_doc_vectors=en_doc_vectors,\n",
    "                        de_doc_vectors=de_doc_vectors)\n",
    "\n",
    "evaluate_word_similarity(m_type='word2vec',\n",
    "                        model=model,\n",
    "                        vocab=wv_vocab)"
   ]
  },
  {
   "cell_type": "markdown",
   "metadata": {},
   "source": [
    "# Post-hoc alignment"
   ]
  },
  {
   "cell_type": "code",
   "execution_count": 28,
   "metadata": {},
   "outputs": [],
   "source": [
    "def get_vec_from_txt(path):\n",
    "    file = open(path, 'r')\n",
    "\n",
    "    word_vectors = {}\n",
    "    ind = 0\n",
    "    line = file.readline()\n",
    "    while True:\n",
    "        line = file.readline()\n",
    "        if not line:\n",
    "            break\n",
    "\n",
    "        line_split = line.split(' ')\n",
    "        word = line_split[0]\n",
    "        vec = line_split[1:]\n",
    "\n",
    "        vec_float = []\n",
    "        for i in vec:\n",
    "            vec_float.append(float(i))\n",
    "\n",
    "        word_vectors[word] = vec_float\n",
    "\n",
    "        # print('ind: %s'%ind, end=\"\\r\")\n",
    "\n",
    "        ind += 1\n",
    "        \n",
    "    file.close()\n",
    "    print(ind)\n",
    "    \n",
    "    return word_vectors"
   ]
  },
  {
   "cell_type": "markdown",
   "metadata": {},
   "source": [
    "## Word2Vec models"
   ]
  },
  {
   "cell_type": "code",
   "execution_count": 53,
   "metadata": {},
   "outputs": [
    {
     "name": "stdout",
     "output_type": "stream",
     "text": [
      "16591\n",
      "45266\n"
     ]
    }
   ],
   "source": [
    "en_wv_unsup = get_vec_from_txt('../../data/word2vec_post_hoc/vectors-en-unsup.txt')\n",
    "de_wv_unsup = get_vec_from_txt('../../data/word2vec_post_hoc/vectors-de-unsup.txt')"
   ]
  },
  {
   "cell_type": "code",
   "execution_count": 54,
   "metadata": {},
   "outputs": [],
   "source": [
    "en_vocab_unsup = list(en_wv_unsup.keys())\n",
    "de_vocab_unsup = list(de_wv_unsup.keys())"
   ]
  },
  {
   "cell_type": "code",
   "execution_count": 55,
   "metadata": {},
   "outputs": [
    {
     "name": "stdout",
     "output_type": "stream",
     "text": [
      "16591\n",
      "45266\n"
     ]
    }
   ],
   "source": [
    "en_wv_sup = get_vec_from_txt('../../data/word2vec_post_hoc/vectors-en.txt')\n",
    "de_wv_sup = get_vec_from_txt('../../data/word2vec_post_hoc/vectors-de.txt')"
   ]
  },
  {
   "cell_type": "code",
   "execution_count": 56,
   "metadata": {},
   "outputs": [],
   "source": [
    "en_vocab_sup = list(en_wv_sup.keys())\n",
    "de_vocab_sup = list(de_wv_sup.keys())"
   ]
  },
  {
   "cell_type": "code",
   "execution_count": 61,
   "metadata": {},
   "outputs": [
    {
     "data": {
      "application/vnd.jupyter.widget-view+json": {
       "model_id": "075e667a40b842d4a40e049a74f4ff69",
       "version_major": 2,
       "version_minor": 0
      },
      "text/plain": [
       "HBox(children=(FloatProgress(value=0.0, max=1304.0), HTML(value='')))"
      ]
     },
     "metadata": {},
     "output_type": "display_data"
    },
    {
     "name": "stdout",
     "output_type": "stream",
     "text": [
      "\n"
     ]
    },
    {
     "data": {
      "application/vnd.jupyter.widget-view+json": {
       "model_id": "9d9d329677084c9f9d7aded6d4f99859",
       "version_major": 2,
       "version_minor": 0
      },
      "text/plain": [
       "HBox(children=(FloatProgress(value=0.0, max=1304.0), HTML(value='')))"
      ]
     },
     "metadata": {},
     "output_type": "display_data"
    },
    {
     "name": "stdout",
     "output_type": "stream",
     "text": [
      "\n",
      "-- CLIR TASK --\n",
      "P: 0.202000 R: 0.564079\n",
      "-- SENTENCE SIMILARITY --\n",
      "EN - DE Accuracy: 0.207822\n",
      "DE - EN Accuracy: 0.286043\n",
      "-- WORD SIMILARITY --\n",
      "EN - DE Accuracy: 0.63\n",
      "DE - EN Accuracy: 0.64\n"
     ]
    },
    {
     "name": "stderr",
     "output_type": "stream",
     "text": [
      "<ipython-input-13-00553723716c>:78: RuntimeWarning: invalid value encountered in double_scalars\n",
      "  sent_vector = torch.tensor(np.sum(word_vectors, axis=0)/len(word_vectors))\n"
     ]
    }
   ],
   "source": [
    "# SUP, Avg\n",
    "\n",
    "encoding = Encoding(model=[en_wv_sup, de_wv_sup],\n",
    "                   vocab=[en_vocab_sup, de_vocab_sup],\n",
    "                   do_pre_process=False,\n",
    "                   do_noun_chunks=False,\n",
    "                   do_dual_token=False,\n",
    "                   do_dual_embed=False,\n",
    "                   do_avg=True,\n",
    "                   post_hoc_encode=True)\n",
    "\n",
    "en_doc_vectors, de_doc_vectors = vectorize_docs(encoding=encoding)\n",
    "\n",
    "evaluate(\n",
    "        encoding=encoding,\n",
    "        num_ret=50,\n",
    "        en_doc_vectors=en_doc_vectors,\n",
    "        de_doc_vectors=de_doc_vectors)\n",
    "\n",
    "\n",
    "evaluate_sent_similarity(en_doc_vectors=en_doc_vectors,\n",
    "                        de_doc_vectors=de_doc_vectors)\n",
    "\n",
    "evaluate_word_similarity_post_hoc(encoding=encoding)"
   ]
  },
  {
   "cell_type": "code",
   "execution_count": 62,
   "metadata": {},
   "outputs": [
    {
     "data": {
      "application/vnd.jupyter.widget-view+json": {
       "model_id": "1ebe643bd5264b83aba9bea262683220",
       "version_major": 2,
       "version_minor": 0
      },
      "text/plain": [
       "HBox(children=(FloatProgress(value=0.0, max=1304.0), HTML(value='')))"
      ]
     },
     "metadata": {},
     "output_type": "display_data"
    },
    {
     "name": "stdout",
     "output_type": "stream",
     "text": [
      "\n"
     ]
    },
    {
     "data": {
      "application/vnd.jupyter.widget-view+json": {
       "model_id": "bf10f299229743028e53d53136f1f220",
       "version_major": 2,
       "version_minor": 0
      },
      "text/plain": [
       "HBox(children=(FloatProgress(value=0.0, max=1304.0), HTML(value='')))"
      ]
     },
     "metadata": {},
     "output_type": "display_data"
    },
    {
     "name": "stdout",
     "output_type": "stream",
     "text": [
      "\n",
      "-- CLIR TASK --\n",
      "P: 0.202000 R: 0.564079\n",
      "-- SENTENCE SIMILARITY --\n",
      "EN - DE Accuracy: 0.207822\n",
      "DE - EN Accuracy: 0.286043\n",
      "-- WORD SIMILARITY --\n",
      "EN - DE Accuracy: 0.63\n",
      "DE - EN Accuracy: 0.64\n"
     ]
    }
   ],
   "source": [
    "# SUP, Sum\n",
    "\n",
    "encoding = Encoding(model=[en_wv_sup, de_wv_sup],\n",
    "                   vocab=[en_vocab_sup, de_vocab_sup],\n",
    "                   do_pre_process=False,\n",
    "                   do_noun_chunks=False,\n",
    "                   do_dual_token=False,\n",
    "                   do_dual_embed=False,\n",
    "                   do_avg=False,\n",
    "                   post_hoc_encode=True)\n",
    "\n",
    "en_doc_vectors, de_doc_vectors = vectorize_docs(encoding=encoding)\n",
    "\n",
    "evaluate(\n",
    "        encoding=encoding,\n",
    "        num_ret=50,\n",
    "        en_doc_vectors=en_doc_vectors,\n",
    "        de_doc_vectors=de_doc_vectors)\n",
    "\n",
    "\n",
    "evaluate_sent_similarity(en_doc_vectors=en_doc_vectors,\n",
    "                        de_doc_vectors=de_doc_vectors)\n",
    "\n",
    "evaluate_word_similarity_post_hoc(encoding=encoding)"
   ]
  },
  {
   "cell_type": "code",
   "execution_count": 63,
   "metadata": {},
   "outputs": [
    {
     "data": {
      "application/vnd.jupyter.widget-view+json": {
       "model_id": "bb8ab0aecf654b0a8207ced3c4a1d58d",
       "version_major": 2,
       "version_minor": 0
      },
      "text/plain": [
       "HBox(children=(FloatProgress(value=0.0, max=1304.0), HTML(value='')))"
      ]
     },
     "metadata": {},
     "output_type": "display_data"
    },
    {
     "name": "stdout",
     "output_type": "stream",
     "text": [
      "\n"
     ]
    },
    {
     "data": {
      "application/vnd.jupyter.widget-view+json": {
       "model_id": "26b9fe942d27440e8ff29ec426bcf80e",
       "version_major": 2,
       "version_minor": 0
      },
      "text/plain": [
       "HBox(children=(FloatProgress(value=0.0, max=1304.0), HTML(value='')))"
      ]
     },
     "metadata": {},
     "output_type": "display_data"
    },
    {
     "name": "stdout",
     "output_type": "stream",
     "text": [
      "\n",
      "-- CLIR TASK --\n",
      "P: 0.207800 R: 0.593201\n",
      "-- SENTENCE SIMILARITY --\n",
      "EN - DE Accuracy: 0.284509\n",
      "DE - EN Accuracy: 0.338957\n",
      "-- WORD SIMILARITY --\n",
      "EN - DE Accuracy: 0.64\n",
      "DE - EN Accuracy: 0.63\n"
     ]
    },
    {
     "name": "stderr",
     "output_type": "stream",
     "text": [
      "<ipython-input-13-00553723716c>:78: RuntimeWarning: invalid value encountered in double_scalars\n",
      "  sent_vector = torch.tensor(np.sum(word_vectors, axis=0)/len(word_vectors))\n"
     ]
    }
   ],
   "source": [
    "# UNSUP, Avg\n",
    "\n",
    "encoding = Encoding(model=[en_wv_unsup, de_wv_unsup],\n",
    "                   vocab=[en_vocab_unsup, de_vocab_unsup],\n",
    "                   do_pre_process=False,\n",
    "                   do_noun_chunks=False,\n",
    "                   do_dual_token=False,\n",
    "                   do_dual_embed=False,\n",
    "                   do_avg=True,\n",
    "                   post_hoc_encode=True)\n",
    "\n",
    "en_doc_vectors, de_doc_vectors = vectorize_docs(encoding=encoding)\n",
    "\n",
    "evaluate(\n",
    "        encoding=encoding,\n",
    "        num_ret=50,\n",
    "        en_doc_vectors=en_doc_vectors,\n",
    "        de_doc_vectors=de_doc_vectors)\n",
    "\n",
    "\n",
    "evaluate_sent_similarity(en_doc_vectors=en_doc_vectors,\n",
    "                        de_doc_vectors=de_doc_vectors)\n",
    "\n",
    "evaluate_word_similarity_post_hoc(encoding=encoding)"
   ]
  },
  {
   "cell_type": "code",
   "execution_count": 64,
   "metadata": {},
   "outputs": [
    {
     "data": {
      "application/vnd.jupyter.widget-view+json": {
       "model_id": "66a9dbe72aaf4ff3a028929f5094a465",
       "version_major": 2,
       "version_minor": 0
      },
      "text/plain": [
       "HBox(children=(FloatProgress(value=0.0, max=1304.0), HTML(value='')))"
      ]
     },
     "metadata": {},
     "output_type": "display_data"
    },
    {
     "name": "stdout",
     "output_type": "stream",
     "text": [
      "\n"
     ]
    },
    {
     "data": {
      "application/vnd.jupyter.widget-view+json": {
       "model_id": "f5a197ca0bef4279be890a3fa6f27bcb",
       "version_major": 2,
       "version_minor": 0
      },
      "text/plain": [
       "HBox(children=(FloatProgress(value=0.0, max=1304.0), HTML(value='')))"
      ]
     },
     "metadata": {},
     "output_type": "display_data"
    },
    {
     "name": "stdout",
     "output_type": "stream",
     "text": [
      "\n",
      "-- CLIR TASK --\n",
      "P: 0.207800 R: 0.593201\n",
      "-- SENTENCE SIMILARITY --\n",
      "EN - DE Accuracy: 0.284509\n",
      "DE - EN Accuracy: 0.338957\n",
      "-- WORD SIMILARITY --\n",
      "EN - DE Accuracy: 0.64\n",
      "DE - EN Accuracy: 0.63\n"
     ]
    }
   ],
   "source": [
    "# UNSUP, Sum\n",
    "\n",
    "encoding = Encoding(model=[en_wv_unsup, de_wv_unsup],\n",
    "                   vocab=[en_vocab_unsup, de_vocab_unsup],\n",
    "                   do_pre_process=False,\n",
    "                   do_noun_chunks=False,\n",
    "                   do_dual_token=False,\n",
    "                   do_dual_embed=False,\n",
    "                   do_avg=False,\n",
    "                   post_hoc_encode=True)\n",
    "\n",
    "en_doc_vectors, de_doc_vectors = vectorize_docs(encoding=encoding)\n",
    "\n",
    "evaluate(\n",
    "        encoding=encoding,\n",
    "        num_ret=50,\n",
    "        en_doc_vectors=en_doc_vectors,\n",
    "        de_doc_vectors=de_doc_vectors)\n",
    "\n",
    "\n",
    "evaluate_sent_similarity(en_doc_vectors=en_doc_vectors,\n",
    "                        de_doc_vectors=de_doc_vectors)\n",
    "\n",
    "evaluate_word_similarity_post_hoc(encoding=encoding)"
   ]
  },
  {
   "cell_type": "markdown",
   "metadata": {},
   "source": [
    "## FastText models"
   ]
  },
  {
   "cell_type": "code",
   "execution_count": 29,
   "metadata": {},
   "outputs": [
    {
     "name": "stdout",
     "output_type": "stream",
     "text": [
      "97354\n",
      "392292\n"
     ]
    }
   ],
   "source": [
    "# Get wv from sup MUSE\n",
    "\n",
    "en_wv_sup = get_vec_from_txt('../../data/fastText_post_hoc/vectors-en.txt')\n",
    "de_wv_sup = get_vec_from_txt('../../data/fastText_post_hoc/vectors-de.txt')"
   ]
  },
  {
   "cell_type": "code",
   "execution_count": 30,
   "metadata": {},
   "outputs": [],
   "source": [
    "en_vocab_sup = list(en_wv_sup.keys())\n",
    "de_vocab_sup = list(de_wv_sup.keys())"
   ]
  },
  {
   "cell_type": "code",
   "execution_count": 31,
   "metadata": {},
   "outputs": [
    {
     "name": "stdout",
     "output_type": "stream",
     "text": [
      "97354\n",
      "392292\n"
     ]
    }
   ],
   "source": [
    "# Get wv from unsup MUSE\n",
    "\n",
    "en_wv_unsup = get_vec_from_txt('../../data/fastText_post_hoc/vectors-en-unsup.txt')\n",
    "de_wv_unsup = get_vec_from_txt('../../data/fastText_post_hoc/vectors-de-unsup.txt')"
   ]
  },
  {
   "cell_type": "code",
   "execution_count": 32,
   "metadata": {},
   "outputs": [],
   "source": [
    "en_vocab_unsup = list(en_wv_unsup.keys())\n",
    "de_vocab_unsup = list(de_wv_unsup.keys())"
   ]
  },
  {
   "cell_type": "code",
   "execution_count": 69,
   "metadata": {},
   "outputs": [
    {
     "data": {
      "application/vnd.jupyter.widget-view+json": {
       "model_id": "b06b4e4fbd284c47add342893fea5096",
       "version_major": 2,
       "version_minor": 0
      },
      "text/plain": [
       "HBox(children=(FloatProgress(value=0.0, max=1304.0), HTML(value='')))"
      ]
     },
     "metadata": {},
     "output_type": "display_data"
    },
    {
     "name": "stdout",
     "output_type": "stream",
     "text": [
      "\n"
     ]
    },
    {
     "data": {
      "application/vnd.jupyter.widget-view+json": {
       "model_id": "c756fcee88e14a41946175ab1337e43a",
       "version_major": 2,
       "version_minor": 0
      },
      "text/plain": [
       "HBox(children=(FloatProgress(value=0.0, max=1304.0), HTML(value='')))"
      ]
     },
     "metadata": {},
     "output_type": "display_data"
    },
    {
     "name": "stdout",
     "output_type": "stream",
     "text": [
      "\n",
      "-- CLIR TASK --\n",
      "P: 0.198200 R: 0.560173\n",
      "-- SENTENCE SIMILARITY --\n",
      "EN - DE Accuracy: 0.231595\n",
      "DE - EN Accuracy: 0.325153\n"
     ]
    },
    {
     "name": "stderr",
     "output_type": "stream",
     "text": [
      "<ipython-input-13-00553723716c>:78: RuntimeWarning: invalid value encountered in double_scalars\n",
      "  sent_vector = torch.tensor(np.sum(word_vectors, axis=0)/len(word_vectors))\n"
     ]
    },
    {
     "name": "stdout",
     "output_type": "stream",
     "text": [
      "-- WORD SIMILARITY --\n",
      "EN - DE Accuracy: 0.89\n",
      "DE - EN Accuracy: 0.89\n"
     ]
    }
   ],
   "source": [
    "# SUP, Avg\n",
    "\n",
    "encoding = Encoding(model=[en_wv_sup, de_wv_sup],\n",
    "                   vocab=[en_vocab_sup, de_vocab_sup],\n",
    "                   do_pre_process=False,\n",
    "                   do_noun_chunks=False,\n",
    "                   do_dual_token=False,\n",
    "                   do_dual_embed=False,\n",
    "                   do_avg=True,\n",
    "                   post_hoc_encode=True)\n",
    "\n",
    "en_doc_vectors, de_doc_vectors = vectorize_docs(encoding=encoding)\n",
    "\n",
    "evaluate(\n",
    "        encoding=encoding,\n",
    "        num_ret=50,\n",
    "        en_doc_vectors=en_doc_vectors,\n",
    "        de_doc_vectors=de_doc_vectors)\n",
    "\n",
    "\n",
    "evaluate_sent_similarity(en_doc_vectors=en_doc_vectors,\n",
    "                        de_doc_vectors=de_doc_vectors)\n",
    "\n",
    "evaluate_word_similarity_post_hoc(encoding=encoding)"
   ]
  },
  {
   "cell_type": "code",
   "execution_count": 70,
   "metadata": {},
   "outputs": [
    {
     "data": {
      "application/vnd.jupyter.widget-view+json": {
       "model_id": "1d87bf7370f246ffa71a7d7064769115",
       "version_major": 2,
       "version_minor": 0
      },
      "text/plain": [
       "HBox(children=(FloatProgress(value=0.0, max=1304.0), HTML(value='')))"
      ]
     },
     "metadata": {},
     "output_type": "display_data"
    },
    {
     "name": "stdout",
     "output_type": "stream",
     "text": [
      "\n"
     ]
    },
    {
     "data": {
      "application/vnd.jupyter.widget-view+json": {
       "model_id": "e4860d8fc3444e2ebabf61ce0a42ae8b",
       "version_major": 2,
       "version_minor": 0
      },
      "text/plain": [
       "HBox(children=(FloatProgress(value=0.0, max=1304.0), HTML(value='')))"
      ]
     },
     "metadata": {},
     "output_type": "display_data"
    },
    {
     "name": "stdout",
     "output_type": "stream",
     "text": [
      "\n",
      "-- CLIR TASK --\n",
      "P: 0.198200 R: 0.560173\n",
      "-- SENTENCE SIMILARITY --\n",
      "EN - DE Accuracy: 0.231595\n",
      "DE - EN Accuracy: 0.325153\n",
      "-- WORD SIMILARITY --\n",
      "EN - DE Accuracy: 0.89\n",
      "DE - EN Accuracy: 0.89\n"
     ]
    }
   ],
   "source": [
    "# SUP, Sum\n",
    "\n",
    "encoding = Encoding(model=[en_wv_sup, de_wv_sup],\n",
    "                   vocab=[en_vocab_sup, de_vocab_sup],\n",
    "                   do_pre_process=False,\n",
    "                   do_noun_chunks=False,\n",
    "                   do_dual_token=False,\n",
    "                   do_dual_embed=False,\n",
    "                   do_avg=False,\n",
    "                   post_hoc_encode=True)\n",
    "\n",
    "en_doc_vectors, de_doc_vectors = vectorize_docs(encoding=encoding)\n",
    "\n",
    "evaluate(\n",
    "        encoding=encoding,\n",
    "        num_ret=50,\n",
    "        en_doc_vectors=en_doc_vectors,\n",
    "        de_doc_vectors=de_doc_vectors)\n",
    "\n",
    "\n",
    "evaluate_sent_similarity(en_doc_vectors=en_doc_vectors,\n",
    "                        de_doc_vectors=de_doc_vectors)\n",
    "\n",
    "evaluate_word_similarity_post_hoc(encoding=encoding)"
   ]
  },
  {
   "cell_type": "code",
   "execution_count": 33,
   "metadata": {
    "scrolled": true
   },
   "outputs": [
    {
     "data": {
      "application/vnd.jupyter.widget-view+json": {
       "model_id": "25a3928ba0494f0d88f719d269044559",
       "version_major": 2,
       "version_minor": 0
      },
      "text/plain": [
       "HBox(children=(FloatProgress(value=0.0, max=1304.0), HTML(value='')))"
      ]
     },
     "metadata": {},
     "output_type": "display_data"
    },
    {
     "name": "stdout",
     "output_type": "stream",
     "text": [
      "\n"
     ]
    },
    {
     "data": {
      "application/vnd.jupyter.widget-view+json": {
       "model_id": "40be2ec43ece4133bd2cd508e66ecc46",
       "version_major": 2,
       "version_minor": 0
      },
      "text/plain": [
       "HBox(children=(FloatProgress(value=0.0, max=1304.0), HTML(value='')))"
      ]
     },
     "metadata": {},
     "output_type": "display_data"
    },
    {
     "name": "stdout",
     "output_type": "stream",
     "text": [
      "\n"
     ]
    },
    {
     "ename": "KeyboardInterrupt",
     "evalue": "",
     "output_type": "error",
     "traceback": [
      "\u001b[0;31m---------------------------------------------------------------------------\u001b[0m",
      "\u001b[0;31mKeyboardInterrupt\u001b[0m                         Traceback (most recent call last)",
      "\u001b[0;32m<ipython-input-33-26d58a9b67a5>\u001b[0m in \u001b[0;36m<module>\u001b[0;34m\u001b[0m\n\u001b[1;32m     10\u001b[0m                    post_hoc_encode=True)\n\u001b[1;32m     11\u001b[0m \u001b[0;34m\u001b[0m\u001b[0m\n\u001b[0;32m---> 12\u001b[0;31m \u001b[0men_doc_vectors\u001b[0m\u001b[0;34m,\u001b[0m \u001b[0mde_doc_vectors\u001b[0m \u001b[0;34m=\u001b[0m \u001b[0mvectorize_docs\u001b[0m\u001b[0;34m(\u001b[0m\u001b[0mencoding\u001b[0m\u001b[0;34m=\u001b[0m\u001b[0mencoding\u001b[0m\u001b[0;34m)\u001b[0m\u001b[0;34m\u001b[0m\u001b[0;34m\u001b[0m\u001b[0m\n\u001b[0m\u001b[1;32m     13\u001b[0m \u001b[0;34m\u001b[0m\u001b[0m\n\u001b[1;32m     14\u001b[0m evaluate(\n",
      "\u001b[0;32m<ipython-input-11-55041c6d2f72>\u001b[0m in \u001b[0;36mvectorize_docs\u001b[0;34m(encoding)\u001b[0m\n\u001b[1;32m      6\u001b[0m     \u001b[0mde_doc_vectors\u001b[0m \u001b[0;34m=\u001b[0m \u001b[0;34m[\u001b[0m\u001b[0;34m]\u001b[0m\u001b[0;34m\u001b[0m\u001b[0;34m\u001b[0m\u001b[0m\n\u001b[1;32m      7\u001b[0m     \u001b[0;32mfor\u001b[0m \u001b[0mclaim\u001b[0m \u001b[0;32min\u001b[0m \u001b[0mtq\u001b[0m\u001b[0;34m(\u001b[0m\u001b[0mall_claims_de\u001b[0m\u001b[0;34m)\u001b[0m\u001b[0;34m:\u001b[0m\u001b[0;34m\u001b[0m\u001b[0;34m\u001b[0m\u001b[0m\n\u001b[0;32m----> 8\u001b[0;31m         \u001b[0mde_doc_vectors\u001b[0m\u001b[0;34m.\u001b[0m\u001b[0mappend\u001b[0m\u001b[0;34m(\u001b[0m\u001b[0mencoding\u001b[0m\u001b[0;34m.\u001b[0m\u001b[0mencode\u001b[0m\u001b[0;34m(\u001b[0m\u001b[0mclaim\u001b[0m\u001b[0;34m,\u001b[0m \u001b[0mlang\u001b[0m\u001b[0;34m=\u001b[0m\u001b[0;34m'de'\u001b[0m\u001b[0;34m)\u001b[0m\u001b[0;34m)\u001b[0m\u001b[0;34m\u001b[0m\u001b[0;34m\u001b[0m\u001b[0m\n\u001b[0m\u001b[1;32m      9\u001b[0m \u001b[0;34m\u001b[0m\u001b[0m\n\u001b[1;32m     10\u001b[0m     \u001b[0men_doc_vectors\u001b[0m \u001b[0;34m=\u001b[0m \u001b[0mtorch\u001b[0m\u001b[0;34m.\u001b[0m\u001b[0mstack\u001b[0m\u001b[0;34m(\u001b[0m\u001b[0men_doc_vectors\u001b[0m\u001b[0;34m)\u001b[0m\u001b[0;34m\u001b[0m\u001b[0;34m\u001b[0m\u001b[0m\n",
      "\u001b[0;32m<ipython-input-9-62792da10736>\u001b[0m in \u001b[0;36mencode\u001b[0;34m(self, sent, lang)\u001b[0m\n\u001b[1;32m     29\u001b[0m     \u001b[0;32mdef\u001b[0m \u001b[0mencode\u001b[0m\u001b[0;34m(\u001b[0m\u001b[0mself\u001b[0m\u001b[0;34m,\u001b[0m \u001b[0msent\u001b[0m\u001b[0;34m,\u001b[0m \u001b[0mlang\u001b[0m\u001b[0;34m=\u001b[0m\u001b[0;32mNone\u001b[0m\u001b[0;34m)\u001b[0m\u001b[0;34m:\u001b[0m\u001b[0;34m\u001b[0m\u001b[0;34m\u001b[0m\u001b[0m\n\u001b[1;32m     30\u001b[0m         \u001b[0;32mif\u001b[0m \u001b[0mself\u001b[0m\u001b[0;34m.\u001b[0m\u001b[0mpost_hoc_encode\u001b[0m\u001b[0;34m:\u001b[0m\u001b[0;34m\u001b[0m\u001b[0;34m\u001b[0m\u001b[0m\n\u001b[0;32m---> 31\u001b[0;31m             \u001b[0;32mreturn\u001b[0m \u001b[0mself\u001b[0m\u001b[0;34m.\u001b[0m\u001b[0mencode_post_hoc\u001b[0m\u001b[0;34m(\u001b[0m\u001b[0msent\u001b[0m\u001b[0;34m,\u001b[0m \u001b[0mlang\u001b[0m\u001b[0;34m)\u001b[0m\u001b[0;34m\u001b[0m\u001b[0;34m\u001b[0m\u001b[0m\n\u001b[0m\u001b[1;32m     32\u001b[0m         \u001b[0;32melif\u001b[0m \u001b[0mself\u001b[0m\u001b[0;34m.\u001b[0m\u001b[0mcontextual_encode\u001b[0m\u001b[0;34m:\u001b[0m\u001b[0;34m\u001b[0m\u001b[0;34m\u001b[0m\u001b[0m\n\u001b[1;32m     33\u001b[0m             \u001b[0;32mreturn\u001b[0m \u001b[0mtorch\u001b[0m\u001b[0;34m.\u001b[0m\u001b[0mtensor\u001b[0m\u001b[0;34m(\u001b[0m\u001b[0mself\u001b[0m\u001b[0;34m.\u001b[0m\u001b[0mmodel\u001b[0m\u001b[0;34m.\u001b[0m\u001b[0mencode\u001b[0m\u001b[0;34m(\u001b[0m\u001b[0msent\u001b[0m\u001b[0;34m,\u001b[0m \u001b[0mshow_progress_bar\u001b[0m\u001b[0;34m=\u001b[0m\u001b[0;32mFalse\u001b[0m\u001b[0;34m)\u001b[0m\u001b[0;34m)\u001b[0m\u001b[0;34m\u001b[0m\u001b[0;34m\u001b[0m\u001b[0m\n",
      "\u001b[0;32m<ipython-input-9-62792da10736>\u001b[0m in \u001b[0;36mencode_post_hoc\u001b[0;34m(self, sent, lang)\u001b[0m\n\u001b[1;32m     75\u001b[0m \u001b[0;34m\u001b[0m\u001b[0m\n\u001b[1;32m     76\u001b[0m         \u001b[0mtokens\u001b[0m \u001b[0;34m=\u001b[0m \u001b[0mtokenize\u001b[0m\u001b[0;34m.\u001b[0m\u001b[0mget_tokens\u001b[0m\u001b[0;34m(\u001b[0m\u001b[0msent\u001b[0m\u001b[0;34m,\u001b[0m \u001b[0mlang\u001b[0m\u001b[0;34m=\u001b[0m\u001b[0mlang\u001b[0m\u001b[0;34m)\u001b[0m\u001b[0;34m\u001b[0m\u001b[0;34m\u001b[0m\u001b[0m\n\u001b[0;32m---> 77\u001b[0;31m         word_vectors = [np.asarray(model[token]) for token in tokens \\\n\u001b[0m\u001b[1;32m     78\u001b[0m                         if token in vocab]\n\u001b[1;32m     79\u001b[0m \u001b[0;34m\u001b[0m\u001b[0m\n",
      "\u001b[0;32m<ipython-input-9-62792da10736>\u001b[0m in \u001b[0;36m<listcomp>\u001b[0;34m(.0)\u001b[0m\n\u001b[1;32m     76\u001b[0m         \u001b[0mtokens\u001b[0m \u001b[0;34m=\u001b[0m \u001b[0mtokenize\u001b[0m\u001b[0;34m.\u001b[0m\u001b[0mget_tokens\u001b[0m\u001b[0;34m(\u001b[0m\u001b[0msent\u001b[0m\u001b[0;34m,\u001b[0m \u001b[0mlang\u001b[0m\u001b[0;34m=\u001b[0m\u001b[0mlang\u001b[0m\u001b[0;34m)\u001b[0m\u001b[0;34m\u001b[0m\u001b[0;34m\u001b[0m\u001b[0m\n\u001b[1;32m     77\u001b[0m         word_vectors = [np.asarray(model[token]) for token in tokens \\\n\u001b[0;32m---> 78\u001b[0;31m                         if token in vocab]\n\u001b[0m\u001b[1;32m     79\u001b[0m \u001b[0;34m\u001b[0m\u001b[0m\n\u001b[1;32m     80\u001b[0m         \u001b[0;32mif\u001b[0m \u001b[0mself\u001b[0m\u001b[0;34m.\u001b[0m\u001b[0mdo_avg\u001b[0m\u001b[0;34m:\u001b[0m\u001b[0;34m\u001b[0m\u001b[0;34m\u001b[0m\u001b[0m\n",
      "\u001b[0;31mKeyboardInterrupt\u001b[0m: "
     ]
    }
   ],
   "source": [
    "# UNSUP, Avg\n",
    "\n",
    "encoding = Encoding(model=[en_wv_unsup, de_wv_unsup],\n",
    "                   vocab=[en_vocab_unsup, de_vocab_unsup],\n",
    "                   do_pre_process=False,\n",
    "                   do_noun_chunks=False,\n",
    "                   do_dual_token=False,\n",
    "                   do_dual_embed=False,\n",
    "                   do_avg=True,\n",
    "                   post_hoc_encode=True)\n",
    "\n",
    "en_doc_vectors, de_doc_vectors = vectorize_docs(encoding=encoding)\n",
    "\n",
    "evaluate(\n",
    "        encoding=encoding,\n",
    "        num_ret=50,\n",
    "        en_doc_vectors=en_doc_vectors,\n",
    "        de_doc_vectors=de_doc_vectors)\n",
    "\n",
    "\n",
    "evaluate_sent_similarity(en_doc_vectors=en_doc_vectors,\n",
    "                        de_doc_vectors=de_doc_vectors)\n",
    "\n",
    "evaluate_word_similarity_post_hoc(encoding=encoding)"
   ]
  },
  {
   "cell_type": "code",
   "execution_count": 72,
   "metadata": {},
   "outputs": [
    {
     "data": {
      "application/vnd.jupyter.widget-view+json": {
       "model_id": "f062d84e028640dd871e228f2b341269",
       "version_major": 2,
       "version_minor": 0
      },
      "text/plain": [
       "HBox(children=(FloatProgress(value=0.0, max=1304.0), HTML(value='')))"
      ]
     },
     "metadata": {},
     "output_type": "display_data"
    },
    {
     "name": "stdout",
     "output_type": "stream",
     "text": [
      "\n"
     ]
    },
    {
     "data": {
      "application/vnd.jupyter.widget-view+json": {
       "model_id": "d34a2bbc216b4d8cbe5ca642c437e532",
       "version_major": 2,
       "version_minor": 0
      },
      "text/plain": [
       "HBox(children=(FloatProgress(value=0.0, max=1304.0), HTML(value='')))"
      ]
     },
     "metadata": {},
     "output_type": "display_data"
    },
    {
     "name": "stdout",
     "output_type": "stream",
     "text": [
      "\n",
      "-- CLIR TASK --\n",
      "P: 0.207600 R: 0.587086\n",
      "-- SENTENCE SIMILARITY --\n",
      "EN - DE Accuracy: 0.291411\n",
      "DE - EN Accuracy: 0.360429\n",
      "-- WORD SIMILARITY --\n",
      "EN - DE Accuracy: 0.9\n",
      "DE - EN Accuracy: 0.89\n"
     ]
    }
   ],
   "source": [
    "# UNSUP, Sum\n",
    "\n",
    "encoding = Encoding(model=[en_wv_unsup, de_wv_unsup],\n",
    "                   vocab=[en_vocab_unsup, de_vocab_unsup],\n",
    "                   do_pre_process=False,\n",
    "                   do_noun_chunks=False,\n",
    "                   do_dual_token=False,\n",
    "                   do_dual_embed=False,\n",
    "                   do_avg=False,\n",
    "                   post_hoc_encode=True)\n",
    "\n",
    "en_doc_vectors, de_doc_vectors = vectorize_docs(encoding=encoding)\n",
    "\n",
    "evaluate(\n",
    "        encoding=encoding,\n",
    "        num_ret=50,\n",
    "        en_doc_vectors=en_doc_vectors,\n",
    "        de_doc_vectors=de_doc_vectors)\n",
    "\n",
    "\n",
    "evaluate_sent_similarity(en_doc_vectors=en_doc_vectors,\n",
    "                        de_doc_vectors=de_doc_vectors)\n",
    "\n",
    "evaluate_word_similarity_post_hoc(encoding=encoding)"
   ]
  },
  {
   "cell_type": "markdown",
   "metadata": {},
   "source": [
    "# Contextual"
   ]
  },
  {
   "cell_type": "markdown",
   "metadata": {},
   "source": [
    "## SentenceBERT"
   ]
  },
  {
   "cell_type": "code",
   "execution_count": 251,
   "metadata": {},
   "outputs": [],
   "source": [
    "from sentence_transformers import SentenceTransformer"
   ]
  },
  {
   "cell_type": "code",
   "execution_count": 9,
   "metadata": {},
   "outputs": [],
   "source": [
    "model = SentenceTransformer('../../../sentence-transformers/examples/training/multilingual/output/make-multilingual-sys-2021-09-17_16-10-50/')"
   ]
  },
  {
   "cell_type": "code",
   "execution_count": 73,
   "metadata": {},
   "outputs": [],
   "source": [
    "encoding = Encoding(model=model,\n",
    "                   contextual_encode=True)"
   ]
  },
  {
   "cell_type": "code",
   "execution_count": 52,
   "metadata": {},
   "outputs": [
    {
     "data": {
      "application/vnd.jupyter.widget-view+json": {
       "model_id": "c60920e9b19a4c368eba160aa52e3535",
       "version_major": 2,
       "version_minor": 0
      },
      "text/plain": [
       "HBox(children=(FloatProgress(value=0.0, max=1304.0), HTML(value='')))"
      ]
     },
     "metadata": {},
     "output_type": "display_data"
    },
    {
     "name": "stdout",
     "output_type": "stream",
     "text": [
      "\n"
     ]
    },
    {
     "data": {
      "application/vnd.jupyter.widget-view+json": {
       "model_id": "8c9326adaa9a49609c716886c545a62f",
       "version_major": 2,
       "version_minor": 0
      },
      "text/plain": [
       "HBox(children=(FloatProgress(value=0.0, max=1304.0), HTML(value='')))"
      ]
     },
     "metadata": {},
     "output_type": "display_data"
    },
    {
     "name": "stdout",
     "output_type": "stream",
     "text": [
      "\n"
     ]
    }
   ],
   "source": [
    "en_doc_vectors, de_doc_vectors = vectorize_docs(encoding=encoding)"
   ]
  },
  {
   "cell_type": "code",
   "execution_count": 53,
   "metadata": {},
   "outputs": [
    {
     "name": "stdout",
     "output_type": "stream",
     "text": [
      "-- CLIR TASK --\n",
      "P: 0.242400 R: 0.715028\n"
     ]
    }
   ],
   "source": [
    "evaluate(\n",
    "        encoding=encoding,\n",
    "        num_ret=50,\n",
    "        en_doc_vectors=en_doc_vectors,\n",
    "        de_doc_vectors=de_doc_vectors)"
   ]
  },
  {
   "cell_type": "code",
   "execution_count": 55,
   "metadata": {},
   "outputs": [
    {
     "name": "stdout",
     "output_type": "stream",
     "text": [
      "-- SENTENCE SIMILARITY --\n",
      "EN - DE Accuracy: 0.525307\n",
      "DE - EN Accuracy: 0.520706\n"
     ]
    }
   ],
   "source": [
    "evaluate_sent_similarity(en_doc_vectors=en_doc_vectors,\n",
    "                        de_doc_vectors=de_doc_vectors)"
   ]
  },
  {
   "cell_type": "code",
   "execution_count": 74,
   "metadata": {},
   "outputs": [
    {
     "name": "stdout",
     "output_type": "stream",
     "text": [
      "-- WORD SIMILARITY --\n",
      "EN - DE Accuracy: 0.86\n",
      "DE - EN Accuracy: 0.87\n"
     ]
    }
   ],
   "source": [
    "evaluate_word_similarity_post_hoc(encoding=encoding)"
   ]
  },
  {
   "cell_type": "markdown",
   "metadata": {},
   "source": [
    "## Pre-Trained MLP + NSP"
   ]
  },
  {
   "cell_type": "code",
   "execution_count": 39,
   "metadata": {},
   "outputs": [],
   "source": [
    "from transformers import BertTokenizer\n",
    "import torch\n",
    "import numpy as np"
   ]
  },
  {
   "cell_type": "code",
   "execution_count": 40,
   "metadata": {},
   "outputs": [],
   "source": [
    "import sys\n",
    "sys.path.append('../')\n",
    "from util import util, corpus, alignment\n",
    "\n",
    "from tqdm.notebook import tqdm as tq\n",
    "import pandas as pd\n",
    "\n",
    "import torch\n",
    "import torch.nn.functional as F"
   ]
  },
  {
   "cell_type": "code",
   "execution_count": 41,
   "metadata": {
    "tags": []
   },
   "outputs": [
    {
     "data": {
      "text/plain": [
       "BertForPreTraining(\n",
       "  (bert): BertModel(\n",
       "    (embeddings): BertEmbeddings(\n",
       "      (word_embeddings): Embedding(105879, 768, padding_idx=0)\n",
       "      (position_embeddings): Embedding(512, 768)\n",
       "      (token_type_embeddings): Embedding(2, 768)\n",
       "      (LayerNorm): LayerNorm((768,), eps=1e-12, elementwise_affine=True)\n",
       "      (dropout): Dropout(p=0.1, inplace=False)\n",
       "    )\n",
       "    (encoder): BertEncoder(\n",
       "      (layer): ModuleList(\n",
       "        (0): BertLayer(\n",
       "          (attention): BertAttention(\n",
       "            (self): BertSelfAttention(\n",
       "              (query): Linear(in_features=768, out_features=768, bias=True)\n",
       "              (key): Linear(in_features=768, out_features=768, bias=True)\n",
       "              (value): Linear(in_features=768, out_features=768, bias=True)\n",
       "              (dropout): Dropout(p=0.1, inplace=False)\n",
       "            )\n",
       "            (output): BertSelfOutput(\n",
       "              (dense): Linear(in_features=768, out_features=768, bias=True)\n",
       "              (LayerNorm): LayerNorm((768,), eps=1e-12, elementwise_affine=True)\n",
       "              (dropout): Dropout(p=0.1, inplace=False)\n",
       "            )\n",
       "          )\n",
       "          (intermediate): BertIntermediate(\n",
       "            (dense): Linear(in_features=768, out_features=3072, bias=True)\n",
       "          )\n",
       "          (output): BertOutput(\n",
       "            (dense): Linear(in_features=3072, out_features=768, bias=True)\n",
       "            (LayerNorm): LayerNorm((768,), eps=1e-12, elementwise_affine=True)\n",
       "            (dropout): Dropout(p=0.1, inplace=False)\n",
       "          )\n",
       "        )\n",
       "        (1): BertLayer(\n",
       "          (attention): BertAttention(\n",
       "            (self): BertSelfAttention(\n",
       "              (query): Linear(in_features=768, out_features=768, bias=True)\n",
       "              (key): Linear(in_features=768, out_features=768, bias=True)\n",
       "              (value): Linear(in_features=768, out_features=768, bias=True)\n",
       "              (dropout): Dropout(p=0.1, inplace=False)\n",
       "            )\n",
       "            (output): BertSelfOutput(\n",
       "              (dense): Linear(in_features=768, out_features=768, bias=True)\n",
       "              (LayerNorm): LayerNorm((768,), eps=1e-12, elementwise_affine=True)\n",
       "              (dropout): Dropout(p=0.1, inplace=False)\n",
       "            )\n",
       "          )\n",
       "          (intermediate): BertIntermediate(\n",
       "            (dense): Linear(in_features=768, out_features=3072, bias=True)\n",
       "          )\n",
       "          (output): BertOutput(\n",
       "            (dense): Linear(in_features=3072, out_features=768, bias=True)\n",
       "            (LayerNorm): LayerNorm((768,), eps=1e-12, elementwise_affine=True)\n",
       "            (dropout): Dropout(p=0.1, inplace=False)\n",
       "          )\n",
       "        )\n",
       "        (2): BertLayer(\n",
       "          (attention): BertAttention(\n",
       "            (self): BertSelfAttention(\n",
       "              (query): Linear(in_features=768, out_features=768, bias=True)\n",
       "              (key): Linear(in_features=768, out_features=768, bias=True)\n",
       "              (value): Linear(in_features=768, out_features=768, bias=True)\n",
       "              (dropout): Dropout(p=0.1, inplace=False)\n",
       "            )\n",
       "            (output): BertSelfOutput(\n",
       "              (dense): Linear(in_features=768, out_features=768, bias=True)\n",
       "              (LayerNorm): LayerNorm((768,), eps=1e-12, elementwise_affine=True)\n",
       "              (dropout): Dropout(p=0.1, inplace=False)\n",
       "            )\n",
       "          )\n",
       "          (intermediate): BertIntermediate(\n",
       "            (dense): Linear(in_features=768, out_features=3072, bias=True)\n",
       "          )\n",
       "          (output): BertOutput(\n",
       "            (dense): Linear(in_features=3072, out_features=768, bias=True)\n",
       "            (LayerNorm): LayerNorm((768,), eps=1e-12, elementwise_affine=True)\n",
       "            (dropout): Dropout(p=0.1, inplace=False)\n",
       "          )\n",
       "        )\n",
       "        (3): BertLayer(\n",
       "          (attention): BertAttention(\n",
       "            (self): BertSelfAttention(\n",
       "              (query): Linear(in_features=768, out_features=768, bias=True)\n",
       "              (key): Linear(in_features=768, out_features=768, bias=True)\n",
       "              (value): Linear(in_features=768, out_features=768, bias=True)\n",
       "              (dropout): Dropout(p=0.1, inplace=False)\n",
       "            )\n",
       "            (output): BertSelfOutput(\n",
       "              (dense): Linear(in_features=768, out_features=768, bias=True)\n",
       "              (LayerNorm): LayerNorm((768,), eps=1e-12, elementwise_affine=True)\n",
       "              (dropout): Dropout(p=0.1, inplace=False)\n",
       "            )\n",
       "          )\n",
       "          (intermediate): BertIntermediate(\n",
       "            (dense): Linear(in_features=768, out_features=3072, bias=True)\n",
       "          )\n",
       "          (output): BertOutput(\n",
       "            (dense): Linear(in_features=3072, out_features=768, bias=True)\n",
       "            (LayerNorm): LayerNorm((768,), eps=1e-12, elementwise_affine=True)\n",
       "            (dropout): Dropout(p=0.1, inplace=False)\n",
       "          )\n",
       "        )\n",
       "        (4): BertLayer(\n",
       "          (attention): BertAttention(\n",
       "            (self): BertSelfAttention(\n",
       "              (query): Linear(in_features=768, out_features=768, bias=True)\n",
       "              (key): Linear(in_features=768, out_features=768, bias=True)\n",
       "              (value): Linear(in_features=768, out_features=768, bias=True)\n",
       "              (dropout): Dropout(p=0.1, inplace=False)\n",
       "            )\n",
       "            (output): BertSelfOutput(\n",
       "              (dense): Linear(in_features=768, out_features=768, bias=True)\n",
       "              (LayerNorm): LayerNorm((768,), eps=1e-12, elementwise_affine=True)\n",
       "              (dropout): Dropout(p=0.1, inplace=False)\n",
       "            )\n",
       "          )\n",
       "          (intermediate): BertIntermediate(\n",
       "            (dense): Linear(in_features=768, out_features=3072, bias=True)\n",
       "          )\n",
       "          (output): BertOutput(\n",
       "            (dense): Linear(in_features=3072, out_features=768, bias=True)\n",
       "            (LayerNorm): LayerNorm((768,), eps=1e-12, elementwise_affine=True)\n",
       "            (dropout): Dropout(p=0.1, inplace=False)\n",
       "          )\n",
       "        )\n",
       "        (5): BertLayer(\n",
       "          (attention): BertAttention(\n",
       "            (self): BertSelfAttention(\n",
       "              (query): Linear(in_features=768, out_features=768, bias=True)\n",
       "              (key): Linear(in_features=768, out_features=768, bias=True)\n",
       "              (value): Linear(in_features=768, out_features=768, bias=True)\n",
       "              (dropout): Dropout(p=0.1, inplace=False)\n",
       "            )\n",
       "            (output): BertSelfOutput(\n",
       "              (dense): Linear(in_features=768, out_features=768, bias=True)\n",
       "              (LayerNorm): LayerNorm((768,), eps=1e-12, elementwise_affine=True)\n",
       "              (dropout): Dropout(p=0.1, inplace=False)\n",
       "            )\n",
       "          )\n",
       "          (intermediate): BertIntermediate(\n",
       "            (dense): Linear(in_features=768, out_features=3072, bias=True)\n",
       "          )\n",
       "          (output): BertOutput(\n",
       "            (dense): Linear(in_features=3072, out_features=768, bias=True)\n",
       "            (LayerNorm): LayerNorm((768,), eps=1e-12, elementwise_affine=True)\n",
       "            (dropout): Dropout(p=0.1, inplace=False)\n",
       "          )\n",
       "        )\n",
       "        (6): BertLayer(\n",
       "          (attention): BertAttention(\n",
       "            (self): BertSelfAttention(\n",
       "              (query): Linear(in_features=768, out_features=768, bias=True)\n",
       "              (key): Linear(in_features=768, out_features=768, bias=True)\n",
       "              (value): Linear(in_features=768, out_features=768, bias=True)\n",
       "              (dropout): Dropout(p=0.1, inplace=False)\n",
       "            )\n",
       "            (output): BertSelfOutput(\n",
       "              (dense): Linear(in_features=768, out_features=768, bias=True)\n",
       "              (LayerNorm): LayerNorm((768,), eps=1e-12, elementwise_affine=True)\n",
       "              (dropout): Dropout(p=0.1, inplace=False)\n",
       "            )\n",
       "          )\n",
       "          (intermediate): BertIntermediate(\n",
       "            (dense): Linear(in_features=768, out_features=3072, bias=True)\n",
       "          )\n",
       "          (output): BertOutput(\n",
       "            (dense): Linear(in_features=3072, out_features=768, bias=True)\n",
       "            (LayerNorm): LayerNorm((768,), eps=1e-12, elementwise_affine=True)\n",
       "            (dropout): Dropout(p=0.1, inplace=False)\n",
       "          )\n",
       "        )\n",
       "        (7): BertLayer(\n",
       "          (attention): BertAttention(\n",
       "            (self): BertSelfAttention(\n",
       "              (query): Linear(in_features=768, out_features=768, bias=True)\n",
       "              (key): Linear(in_features=768, out_features=768, bias=True)\n",
       "              (value): Linear(in_features=768, out_features=768, bias=True)\n",
       "              (dropout): Dropout(p=0.1, inplace=False)\n",
       "            )\n",
       "            (output): BertSelfOutput(\n",
       "              (dense): Linear(in_features=768, out_features=768, bias=True)\n",
       "              (LayerNorm): LayerNorm((768,), eps=1e-12, elementwise_affine=True)\n",
       "              (dropout): Dropout(p=0.1, inplace=False)\n",
       "            )\n",
       "          )\n",
       "          (intermediate): BertIntermediate(\n",
       "            (dense): Linear(in_features=768, out_features=3072, bias=True)\n",
       "          )\n",
       "          (output): BertOutput(\n",
       "            (dense): Linear(in_features=3072, out_features=768, bias=True)\n",
       "            (LayerNorm): LayerNorm((768,), eps=1e-12, elementwise_affine=True)\n",
       "            (dropout): Dropout(p=0.1, inplace=False)\n",
       "          )\n",
       "        )\n",
       "        (8): BertLayer(\n",
       "          (attention): BertAttention(\n",
       "            (self): BertSelfAttention(\n",
       "              (query): Linear(in_features=768, out_features=768, bias=True)\n",
       "              (key): Linear(in_features=768, out_features=768, bias=True)\n",
       "              (value): Linear(in_features=768, out_features=768, bias=True)\n",
       "              (dropout): Dropout(p=0.1, inplace=False)\n",
       "            )\n",
       "            (output): BertSelfOutput(\n",
       "              (dense): Linear(in_features=768, out_features=768, bias=True)\n",
       "              (LayerNorm): LayerNorm((768,), eps=1e-12, elementwise_affine=True)\n",
       "              (dropout): Dropout(p=0.1, inplace=False)\n",
       "            )\n",
       "          )\n",
       "          (intermediate): BertIntermediate(\n",
       "            (dense): Linear(in_features=768, out_features=3072, bias=True)\n",
       "          )\n",
       "          (output): BertOutput(\n",
       "            (dense): Linear(in_features=3072, out_features=768, bias=True)\n",
       "            (LayerNorm): LayerNorm((768,), eps=1e-12, elementwise_affine=True)\n",
       "            (dropout): Dropout(p=0.1, inplace=False)\n",
       "          )\n",
       "        )\n",
       "        (9): BertLayer(\n",
       "          (attention): BertAttention(\n",
       "            (self): BertSelfAttention(\n",
       "              (query): Linear(in_features=768, out_features=768, bias=True)\n",
       "              (key): Linear(in_features=768, out_features=768, bias=True)\n",
       "              (value): Linear(in_features=768, out_features=768, bias=True)\n",
       "              (dropout): Dropout(p=0.1, inplace=False)\n",
       "            )\n",
       "            (output): BertSelfOutput(\n",
       "              (dense): Linear(in_features=768, out_features=768, bias=True)\n",
       "              (LayerNorm): LayerNorm((768,), eps=1e-12, elementwise_affine=True)\n",
       "              (dropout): Dropout(p=0.1, inplace=False)\n",
       "            )\n",
       "          )\n",
       "          (intermediate): BertIntermediate(\n",
       "            (dense): Linear(in_features=768, out_features=3072, bias=True)\n",
       "          )\n",
       "          (output): BertOutput(\n",
       "            (dense): Linear(in_features=3072, out_features=768, bias=True)\n",
       "            (LayerNorm): LayerNorm((768,), eps=1e-12, elementwise_affine=True)\n",
       "            (dropout): Dropout(p=0.1, inplace=False)\n",
       "          )\n",
       "        )\n",
       "        (10): BertLayer(\n",
       "          (attention): BertAttention(\n",
       "            (self): BertSelfAttention(\n",
       "              (query): Linear(in_features=768, out_features=768, bias=True)\n",
       "              (key): Linear(in_features=768, out_features=768, bias=True)\n",
       "              (value): Linear(in_features=768, out_features=768, bias=True)\n",
       "              (dropout): Dropout(p=0.1, inplace=False)\n",
       "            )\n",
       "            (output): BertSelfOutput(\n",
       "              (dense): Linear(in_features=768, out_features=768, bias=True)\n",
       "              (LayerNorm): LayerNorm((768,), eps=1e-12, elementwise_affine=True)\n",
       "              (dropout): Dropout(p=0.1, inplace=False)\n",
       "            )\n",
       "          )\n",
       "          (intermediate): BertIntermediate(\n",
       "            (dense): Linear(in_features=768, out_features=3072, bias=True)\n",
       "          )\n",
       "          (output): BertOutput(\n",
       "            (dense): Linear(in_features=3072, out_features=768, bias=True)\n",
       "            (LayerNorm): LayerNorm((768,), eps=1e-12, elementwise_affine=True)\n",
       "            (dropout): Dropout(p=0.1, inplace=False)\n",
       "          )\n",
       "        )\n",
       "        (11): BertLayer(\n",
       "          (attention): BertAttention(\n",
       "            (self): BertSelfAttention(\n",
       "              (query): Linear(in_features=768, out_features=768, bias=True)\n",
       "              (key): Linear(in_features=768, out_features=768, bias=True)\n",
       "              (value): Linear(in_features=768, out_features=768, bias=True)\n",
       "              (dropout): Dropout(p=0.1, inplace=False)\n",
       "            )\n",
       "            (output): BertSelfOutput(\n",
       "              (dense): Linear(in_features=768, out_features=768, bias=True)\n",
       "              (LayerNorm): LayerNorm((768,), eps=1e-12, elementwise_affine=True)\n",
       "              (dropout): Dropout(p=0.1, inplace=False)\n",
       "            )\n",
       "          )\n",
       "          (intermediate): BertIntermediate(\n",
       "            (dense): Linear(in_features=768, out_features=3072, bias=True)\n",
       "          )\n",
       "          (output): BertOutput(\n",
       "            (dense): Linear(in_features=3072, out_features=768, bias=True)\n",
       "            (LayerNorm): LayerNorm((768,), eps=1e-12, elementwise_affine=True)\n",
       "            (dropout): Dropout(p=0.1, inplace=False)\n",
       "          )\n",
       "        )\n",
       "      )\n",
       "    )\n",
       "    (pooler): BertPooler(\n",
       "      (dense): Linear(in_features=768, out_features=768, bias=True)\n",
       "      (activation): Tanh()\n",
       "    )\n",
       "  )\n",
       "  (cls): BertPreTrainingHeads(\n",
       "    (predictions): BertLMPredictionHead(\n",
       "      (transform): BertPredictionHeadTransform(\n",
       "        (dense): Linear(in_features=768, out_features=768, bias=True)\n",
       "        (LayerNorm): LayerNorm((768,), eps=1e-12, elementwise_affine=True)\n",
       "      )\n",
       "      (decoder): Linear(in_features=768, out_features=105879, bias=True)\n",
       "    )\n",
       "    (seq_relationship): Linear(in_features=768, out_features=2, bias=True)\n",
       "  )\n",
       ")"
      ]
     },
     "execution_count": 41,
     "metadata": {},
     "output_type": "execute_result"
    }
   ],
   "source": [
    "tokenizer = BertTokenizer.from_pretrained('bert-base-multilingual-uncased')\n",
    "model = torch.load('../Sentence-BERT/data/model_MLM_NSP.pt').module\n",
    "model.eval()"
   ]
  },
  {
   "cell_type": "code",
   "execution_count": 51,
   "metadata": {},
   "outputs": [],
   "source": [
    "def get_preds(query, docs, num_ret):\n",
    "    preds = []\n",
    "    for doc in tq(docs):\n",
    "        with torch.no_grad():\n",
    "            inputs = tokenizer(query, doc, return_tensors='pt',\n",
    "                          max_length=512, padding=True, truncation=True).to('cuda')\n",
    "            output = model(**inputs)\n",
    "            pred = output.seq_relationship_logits.detach().cpu().numpy()[0]\n",
    "            preds.append(pred)\n",
    "            \n",
    "    pred_isnext = [pred[0] for pred in preds]\n",
    "    return get_top_k(pred_isnext, docs, num_ret)            \n",
    "\n",
    "def get_top_k(preds, docs, num_ret):\n",
    "    ind = np.argsort(preds)[-num_ret:][::-1]\n",
    "    return [docs[i] for i in ind]"
   ]
  },
  {
   "cell_type": "code",
   "execution_count": 185,
   "metadata": {},
   "outputs": [
    {
     "name": "stdout",
     "output_type": "stream",
     "text": [
      "With layer 0\n"
     ]
    },
    {
     "data": {
      "application/vnd.jupyter.widget-view+json": {
       "model_id": "a6461001b17a4cc9acdaa885df2eb90e",
       "version_major": 2,
       "version_minor": 0
      },
      "text/plain": [
       "HBox(children=(FloatProgress(value=0.0, max=1304.0), HTML(value='')))"
      ]
     },
     "metadata": {},
     "output_type": "display_data"
    },
    {
     "name": "stdout",
     "output_type": "stream",
     "text": [
      "\n"
     ]
    },
    {
     "data": {
      "application/vnd.jupyter.widget-view+json": {
       "model_id": "dd8c24cbd821437c86cd8bb95e3776e5",
       "version_major": 2,
       "version_minor": 0
      },
      "text/plain": [
       "HBox(children=(FloatProgress(value=0.0, max=1304.0), HTML(value='')))"
      ]
     },
     "metadata": {},
     "output_type": "display_data"
    },
    {
     "name": "stdout",
     "output_type": "stream",
     "text": [
      "\n",
      "-- CLIR TASK --\n",
      "P: 0.097600 R: 0.262247\n",
      "-- SENTENCE SIMILARITY --\n",
      "EN - DE Accuracy: 0.079755\n",
      "DE - EN Accuracy: 0.178681\n",
      "-- WORD SIMILARITY --\n",
      "EN - DE Accuracy: 0.42\n",
      "DE - EN Accuracy: 0.58\n",
      "------------\n",
      "With layer 1\n"
     ]
    },
    {
     "data": {
      "application/vnd.jupyter.widget-view+json": {
       "model_id": "919e79d9653b47939d58dc4377cdf292",
       "version_major": 2,
       "version_minor": 0
      },
      "text/plain": [
       "HBox(children=(FloatProgress(value=0.0, max=1304.0), HTML(value='')))"
      ]
     },
     "metadata": {},
     "output_type": "display_data"
    },
    {
     "name": "stdout",
     "output_type": "stream",
     "text": [
      "\n"
     ]
    },
    {
     "data": {
      "application/vnd.jupyter.widget-view+json": {
       "model_id": "e03569edf79c4a5381eaa43465d33d87",
       "version_major": 2,
       "version_minor": 0
      },
      "text/plain": [
       "HBox(children=(FloatProgress(value=0.0, max=1304.0), HTML(value='')))"
      ]
     },
     "metadata": {},
     "output_type": "display_data"
    },
    {
     "name": "stdout",
     "output_type": "stream",
     "text": [
      "\n",
      "-- CLIR TASK --\n",
      "P: 0.114800 R: 0.292507\n",
      "-- SENTENCE SIMILARITY --\n",
      "EN - DE Accuracy: 0.195552\n",
      "DE - EN Accuracy: 0.252301\n",
      "-- WORD SIMILARITY --\n",
      "EN - DE Accuracy: 0.55\n",
      "DE - EN Accuracy: 0.69\n",
      "------------\n",
      "With layer 2\n"
     ]
    },
    {
     "data": {
      "application/vnd.jupyter.widget-view+json": {
       "model_id": "2d4e45af4c064d1eab9653969656b2be",
       "version_major": 2,
       "version_minor": 0
      },
      "text/plain": [
       "HBox(children=(FloatProgress(value=0.0, max=1304.0), HTML(value='')))"
      ]
     },
     "metadata": {},
     "output_type": "display_data"
    },
    {
     "name": "stdout",
     "output_type": "stream",
     "text": [
      "\n"
     ]
    },
    {
     "data": {
      "application/vnd.jupyter.widget-view+json": {
       "model_id": "498a4871539e45379b8a855878697cf0",
       "version_major": 2,
       "version_minor": 0
      },
      "text/plain": [
       "HBox(children=(FloatProgress(value=0.0, max=1304.0), HTML(value='')))"
      ]
     },
     "metadata": {},
     "output_type": "display_data"
    },
    {
     "name": "stdout",
     "output_type": "stream",
     "text": [
      "\n",
      "-- CLIR TASK --\n",
      "P: 0.109600 R: 0.275316\n",
      "-- SENTENCE SIMILARITY --\n",
      "EN - DE Accuracy: 0.281442\n",
      "DE - EN Accuracy: 0.328988\n",
      "-- WORD SIMILARITY --\n",
      "EN - DE Accuracy: 0.53\n",
      "DE - EN Accuracy: 0.72\n",
      "------------\n",
      "With layer 3\n"
     ]
    },
    {
     "data": {
      "application/vnd.jupyter.widget-view+json": {
       "model_id": "e15c4a08a4a945b7ab61d8c5ce929375",
       "version_major": 2,
       "version_minor": 0
      },
      "text/plain": [
       "HBox(children=(FloatProgress(value=0.0, max=1304.0), HTML(value='')))"
      ]
     },
     "metadata": {},
     "output_type": "display_data"
    },
    {
     "name": "stdout",
     "output_type": "stream",
     "text": [
      "\n"
     ]
    },
    {
     "data": {
      "application/vnd.jupyter.widget-view+json": {
       "model_id": "0a5cc4c781d64a31a885887158f452d8",
       "version_major": 2,
       "version_minor": 0
      },
      "text/plain": [
       "HBox(children=(FloatProgress(value=0.0, max=1304.0), HTML(value='')))"
      ]
     },
     "metadata": {},
     "output_type": "display_data"
    },
    {
     "name": "stdout",
     "output_type": "stream",
     "text": [
      "\n",
      "-- CLIR TASK --\n",
      "P: 0.101600 R: 0.241315\n",
      "-- SENTENCE SIMILARITY --\n",
      "EN - DE Accuracy: 0.369632\n",
      "DE - EN Accuracy: 0.378067\n",
      "-- WORD SIMILARITY --\n",
      "EN - DE Accuracy: 0.64\n",
      "DE - EN Accuracy: 0.72\n",
      "------------\n",
      "With layer 4\n"
     ]
    },
    {
     "data": {
      "application/vnd.jupyter.widget-view+json": {
       "model_id": "76b19a875dc74b93a652ef4c7dfe603c",
       "version_major": 2,
       "version_minor": 0
      },
      "text/plain": [
       "HBox(children=(FloatProgress(value=0.0, max=1304.0), HTML(value='')))"
      ]
     },
     "metadata": {},
     "output_type": "display_data"
    },
    {
     "name": "stdout",
     "output_type": "stream",
     "text": [
      "\n"
     ]
    },
    {
     "data": {
      "application/vnd.jupyter.widget-view+json": {
       "model_id": "ad995d6fbb404689ae04ca048b7f41b3",
       "version_major": 2,
       "version_minor": 0
      },
      "text/plain": [
       "HBox(children=(FloatProgress(value=0.0, max=1304.0), HTML(value='')))"
      ]
     },
     "metadata": {},
     "output_type": "display_data"
    },
    {
     "name": "stdout",
     "output_type": "stream",
     "text": [
      "\n",
      "-- CLIR TASK --\n",
      "P: 0.090600 R: 0.205464\n",
      "-- SENTENCE SIMILARITY --\n",
      "EN - DE Accuracy: 0.400307\n",
      "DE - EN Accuracy: 0.414877\n",
      "-- WORD SIMILARITY --\n",
      "EN - DE Accuracy: 0.66\n",
      "DE - EN Accuracy: 0.69\n",
      "------------\n",
      "With layer 5\n"
     ]
    },
    {
     "data": {
      "application/vnd.jupyter.widget-view+json": {
       "model_id": "cbfd381a8a0a450aa94ce3daa72749fc",
       "version_major": 2,
       "version_minor": 0
      },
      "text/plain": [
       "HBox(children=(FloatProgress(value=0.0, max=1304.0), HTML(value='')))"
      ]
     },
     "metadata": {},
     "output_type": "display_data"
    },
    {
     "name": "stdout",
     "output_type": "stream",
     "text": [
      "\n"
     ]
    },
    {
     "data": {
      "application/vnd.jupyter.widget-view+json": {
       "model_id": "15b1f0ecf83a42d0aba7728e05288545",
       "version_major": 2,
       "version_minor": 0
      },
      "text/plain": [
       "HBox(children=(FloatProgress(value=0.0, max=1304.0), HTML(value='')))"
      ]
     },
     "metadata": {},
     "output_type": "display_data"
    },
    {
     "name": "stdout",
     "output_type": "stream",
     "text": [
      "\n",
      "-- CLIR TASK --\n",
      "P: 0.084400 R: 0.195896\n",
      "-- SENTENCE SIMILARITY --\n",
      "EN - DE Accuracy: 0.438650\n",
      "DE - EN Accuracy: 0.447086\n",
      "-- WORD SIMILARITY --\n",
      "EN - DE Accuracy: 0.75\n",
      "DE - EN Accuracy: 0.77\n",
      "------------\n",
      "With layer 6\n"
     ]
    },
    {
     "data": {
      "application/vnd.jupyter.widget-view+json": {
       "model_id": "a8c2df30f8494860aac36d1e5d8039ec",
       "version_major": 2,
       "version_minor": 0
      },
      "text/plain": [
       "HBox(children=(FloatProgress(value=0.0, max=1304.0), HTML(value='')))"
      ]
     },
     "metadata": {},
     "output_type": "display_data"
    },
    {
     "name": "stdout",
     "output_type": "stream",
     "text": [
      "\n"
     ]
    },
    {
     "data": {
      "application/vnd.jupyter.widget-view+json": {
       "model_id": "2b84c96140304ef4abc6d8e42295891c",
       "version_major": 2,
       "version_minor": 0
      },
      "text/plain": [
       "HBox(children=(FloatProgress(value=0.0, max=1304.0), HTML(value='')))"
      ]
     },
     "metadata": {},
     "output_type": "display_data"
    },
    {
     "name": "stdout",
     "output_type": "stream",
     "text": [
      "\n",
      "-- CLIR TASK --\n",
      "P: 0.076800 R: 0.173076\n",
      "-- SENTENCE SIMILARITY --\n",
      "EN - DE Accuracy: 0.448620\n",
      "DE - EN Accuracy: 0.455521\n",
      "-- WORD SIMILARITY --\n",
      "EN - DE Accuracy: 0.73\n",
      "DE - EN Accuracy: 0.73\n",
      "------------\n",
      "With layer 7\n"
     ]
    },
    {
     "data": {
      "application/vnd.jupyter.widget-view+json": {
       "model_id": "a470dd4d82004bda97c06bb09a2cbb86",
       "version_major": 2,
       "version_minor": 0
      },
      "text/plain": [
       "HBox(children=(FloatProgress(value=0.0, max=1304.0), HTML(value='')))"
      ]
     },
     "metadata": {},
     "output_type": "display_data"
    },
    {
     "name": "stdout",
     "output_type": "stream",
     "text": [
      "\n"
     ]
    },
    {
     "data": {
      "application/vnd.jupyter.widget-view+json": {
       "model_id": "20394b018a0644d182b958ef4940b567",
       "version_major": 2,
       "version_minor": 0
      },
      "text/plain": [
       "HBox(children=(FloatProgress(value=0.0, max=1304.0), HTML(value='')))"
      ]
     },
     "metadata": {},
     "output_type": "display_data"
    },
    {
     "name": "stdout",
     "output_type": "stream",
     "text": [
      "\n",
      "-- CLIR TASK --\n",
      "P: 0.077800 R: 0.174624\n",
      "-- SENTENCE SIMILARITY --\n",
      "EN - DE Accuracy: 0.463190\n",
      "DE - EN Accuracy: 0.480061\n",
      "-- WORD SIMILARITY --\n",
      "EN - DE Accuracy: 0.79\n",
      "DE - EN Accuracy: 0.73\n",
      "------------\n",
      "With layer 8\n"
     ]
    },
    {
     "data": {
      "application/vnd.jupyter.widget-view+json": {
       "model_id": "efdec931ad7d4d758c9471659bfe9eed",
       "version_major": 2,
       "version_minor": 0
      },
      "text/plain": [
       "HBox(children=(FloatProgress(value=0.0, max=1304.0), HTML(value='')))"
      ]
     },
     "metadata": {},
     "output_type": "display_data"
    },
    {
     "name": "stdout",
     "output_type": "stream",
     "text": [
      "\n"
     ]
    },
    {
     "data": {
      "application/vnd.jupyter.widget-view+json": {
       "model_id": "f5b093a83dfa4a85b3d2792822188689",
       "version_major": 2,
       "version_minor": 0
      },
      "text/plain": [
       "HBox(children=(FloatProgress(value=0.0, max=1304.0), HTML(value='')))"
      ]
     },
     "metadata": {},
     "output_type": "display_data"
    },
    {
     "name": "stdout",
     "output_type": "stream",
     "text": [
      "\n",
      "-- CLIR TASK --\n",
      "P: 0.076400 R: 0.176232\n",
      "-- SENTENCE SIMILARITY --\n",
      "EN - DE Accuracy: 0.465491\n",
      "DE - EN Accuracy: 0.473926\n",
      "-- WORD SIMILARITY --\n",
      "EN - DE Accuracy: 0.77\n",
      "DE - EN Accuracy: 0.71\n",
      "------------\n",
      "With layer 9\n"
     ]
    },
    {
     "data": {
      "application/vnd.jupyter.widget-view+json": {
       "model_id": "40be47ab51834d1c965e17e67896ce6d",
       "version_major": 2,
       "version_minor": 0
      },
      "text/plain": [
       "HBox(children=(FloatProgress(value=0.0, max=1304.0), HTML(value='')))"
      ]
     },
     "metadata": {},
     "output_type": "display_data"
    },
    {
     "name": "stdout",
     "output_type": "stream",
     "text": [
      "\n"
     ]
    },
    {
     "data": {
      "application/vnd.jupyter.widget-view+json": {
       "model_id": "723f24a48f044586ac6a8aeaaedc5f12",
       "version_major": 2,
       "version_minor": 0
      },
      "text/plain": [
       "HBox(children=(FloatProgress(value=0.0, max=1304.0), HTML(value='')))"
      ]
     },
     "metadata": {},
     "output_type": "display_data"
    },
    {
     "name": "stdout",
     "output_type": "stream",
     "text": [
      "\n",
      "-- CLIR TASK --\n",
      "P: 0.077000 R: 0.185745\n",
      "-- SENTENCE SIMILARITY --\n",
      "EN - DE Accuracy: 0.453988\n",
      "DE - EN Accuracy: 0.464724\n",
      "-- WORD SIMILARITY --\n",
      "EN - DE Accuracy: 0.78\n",
      "DE - EN Accuracy: 0.76\n",
      "------------\n",
      "With layer 10\n"
     ]
    },
    {
     "data": {
      "application/vnd.jupyter.widget-view+json": {
       "model_id": "46b85a42cfda46329e78ed3bcaea44dd",
       "version_major": 2,
       "version_minor": 0
      },
      "text/plain": [
       "HBox(children=(FloatProgress(value=0.0, max=1304.0), HTML(value='')))"
      ]
     },
     "metadata": {},
     "output_type": "display_data"
    },
    {
     "name": "stdout",
     "output_type": "stream",
     "text": [
      "\n"
     ]
    },
    {
     "data": {
      "application/vnd.jupyter.widget-view+json": {
       "model_id": "4042d22b6fa6473498bf446cdfd1ee39",
       "version_major": 2,
       "version_minor": 0
      },
      "text/plain": [
       "HBox(children=(FloatProgress(value=0.0, max=1304.0), HTML(value='')))"
      ]
     },
     "metadata": {},
     "output_type": "display_data"
    },
    {
     "name": "stdout",
     "output_type": "stream",
     "text": [
      "\n",
      "-- CLIR TASK --\n",
      "P: 0.074000 R: 0.178583\n",
      "-- SENTENCE SIMILARITY --\n",
      "EN - DE Accuracy: 0.451687\n",
      "DE - EN Accuracy: 0.467791\n",
      "-- WORD SIMILARITY --\n",
      "EN - DE Accuracy: 0.73\n",
      "DE - EN Accuracy: 0.76\n",
      "------------\n",
      "With layer 11\n"
     ]
    },
    {
     "data": {
      "application/vnd.jupyter.widget-view+json": {
       "model_id": "085c82f1e31546a8893dc860fca81ef3",
       "version_major": 2,
       "version_minor": 0
      },
      "text/plain": [
       "HBox(children=(FloatProgress(value=0.0, max=1304.0), HTML(value='')))"
      ]
     },
     "metadata": {},
     "output_type": "display_data"
    },
    {
     "name": "stdout",
     "output_type": "stream",
     "text": [
      "\n"
     ]
    },
    {
     "data": {
      "application/vnd.jupyter.widget-view+json": {
       "model_id": "dcd71ab03ca545199b952690d5fbd308",
       "version_major": 2,
       "version_minor": 0
      },
      "text/plain": [
       "HBox(children=(FloatProgress(value=0.0, max=1304.0), HTML(value='')))"
      ]
     },
     "metadata": {},
     "output_type": "display_data"
    },
    {
     "name": "stdout",
     "output_type": "stream",
     "text": [
      "\n",
      "-- CLIR TASK --\n",
      "P: 0.083000 R: 0.194953\n",
      "-- SENTENCE SIMILARITY --\n",
      "EN - DE Accuracy: 0.451687\n",
      "DE - EN Accuracy: 0.454755\n",
      "-- WORD SIMILARITY --\n",
      "EN - DE Accuracy: 0.8\n",
      "DE - EN Accuracy: 0.75\n",
      "------------\n"
     ]
    }
   ],
   "source": [
    "for i in range(12):\n",
    "    print('With layer', i)\n",
    "    encoding = Encoding(model=model,\n",
    "                        contextual_encode_full=True,\n",
    "                        layers=(i,i+1))\n",
    "    en_doc_vectors, de_doc_vectors = vectorize_docs(encoding=encoding)\n",
    "    evaluate(\n",
    "            encoding=encoding,\n",
    "            num_ret=50,\n",
    "            en_doc_vectors=en_doc_vectors,\n",
    "            de_doc_vectors=de_doc_vectors)\n",
    "\n",
    "    evaluate_sent_similarity(en_doc_vectors=en_doc_vectors,\n",
    "                            de_doc_vectors=de_doc_vectors)\n",
    "\n",
    "\n",
    "    evaluate_word_similarity_post_hoc(encoding=encoding)\n",
    "    print('------------')"
   ]
  },
  {
   "cell_type": "code",
   "execution_count": 68,
   "metadata": {},
   "outputs": [
    {
     "name": "stdout",
     "output_type": "stream",
     "text": [
      "With last 1 layer(s): [-1:13]\n"
     ]
    },
    {
     "data": {
      "application/vnd.jupyter.widget-view+json": {
       "model_id": "90218ceee7764b799b8ef3b69f61410d",
       "version_major": 2,
       "version_minor": 0
      },
      "text/plain": [
       "HBox(children=(FloatProgress(value=0.0, max=1304.0), HTML(value='')))"
      ]
     },
     "metadata": {},
     "output_type": "display_data"
    },
    {
     "name": "stdout",
     "output_type": "stream",
     "text": [
      "\n"
     ]
    },
    {
     "data": {
      "application/vnd.jupyter.widget-view+json": {
       "model_id": "4cfc1a0bf5a3410d998d1378b003cb14",
       "version_major": 2,
       "version_minor": 0
      },
      "text/plain": [
       "HBox(children=(FloatProgress(value=0.0, max=1304.0), HTML(value='')))"
      ]
     },
     "metadata": {},
     "output_type": "display_data"
    },
    {
     "name": "stdout",
     "output_type": "stream",
     "text": [
      "\n",
      "-- CLIR TASK --\n",
      "P: 0.136600 R: 0.363035\n",
      "-- SENTENCE SIMILARITY --\n",
      "EN - DE Accuracy: 0.461656\n",
      "DE - EN Accuracy: 0.445552\n",
      "-- WORD SIMILARITY --\n",
      "EN - DE Accuracy: 0.8\n",
      "DE - EN Accuracy: 0.78\n",
      "With last 2 layer(s): [-2:13]\n"
     ]
    },
    {
     "data": {
      "application/vnd.jupyter.widget-view+json": {
       "model_id": "efda35adffc24fb4b37e5f7eb2e5c8ac",
       "version_major": 2,
       "version_minor": 0
      },
      "text/plain": [
       "HBox(children=(FloatProgress(value=0.0, max=1304.0), HTML(value='')))"
      ]
     },
     "metadata": {},
     "output_type": "display_data"
    },
    {
     "name": "stdout",
     "output_type": "stream",
     "text": [
      "\n"
     ]
    },
    {
     "data": {
      "application/vnd.jupyter.widget-view+json": {
       "model_id": "a412e19a7dfb474c87e2172c9deb586c",
       "version_major": 2,
       "version_minor": 0
      },
      "text/plain": [
       "HBox(children=(FloatProgress(value=0.0, max=1304.0), HTML(value='')))"
      ]
     },
     "metadata": {},
     "output_type": "display_data"
    },
    {
     "name": "stdout",
     "output_type": "stream",
     "text": [
      "\n",
      "-- CLIR TASK --\n",
      "P: 0.103000 R: 0.251624\n",
      "-- SENTENCE SIMILARITY --\n",
      "EN - DE Accuracy: 0.453988\n",
      "DE - EN Accuracy: 0.466258\n",
      "-- WORD SIMILARITY --\n",
      "EN - DE Accuracy: 0.78\n",
      "DE - EN Accuracy: 0.79\n",
      "With last 3 layer(s): [-3:13]\n"
     ]
    },
    {
     "data": {
      "application/vnd.jupyter.widget-view+json": {
       "model_id": "42cc2bf280134433ab53c377a9afb6a6",
       "version_major": 2,
       "version_minor": 0
      },
      "text/plain": [
       "HBox(children=(FloatProgress(value=0.0, max=1304.0), HTML(value='')))"
      ]
     },
     "metadata": {},
     "output_type": "display_data"
    },
    {
     "name": "stdout",
     "output_type": "stream",
     "text": [
      "\n"
     ]
    },
    {
     "data": {
      "application/vnd.jupyter.widget-view+json": {
       "model_id": "32a4bca315f549f489777e9b82b1f287",
       "version_major": 2,
       "version_minor": 0
      },
      "text/plain": [
       "HBox(children=(FloatProgress(value=0.0, max=1304.0), HTML(value='')))"
      ]
     },
     "metadata": {},
     "output_type": "display_data"
    },
    {
     "name": "stdout",
     "output_type": "stream",
     "text": [
      "\n",
      "-- CLIR TASK --\n",
      "P: 0.087200 R: 0.214749\n",
      "-- SENTENCE SIMILARITY --\n",
      "EN - DE Accuracy: 0.452454\n",
      "DE - EN Accuracy: 0.470092\n",
      "-- WORD SIMILARITY --\n",
      "EN - DE Accuracy: 0.84\n",
      "DE - EN Accuracy: 0.78\n",
      "With last 4 layer(s): [-4:13]\n"
     ]
    },
    {
     "data": {
      "application/vnd.jupyter.widget-view+json": {
       "model_id": "d6984f00db7645dd9f11b10f4a7b97e3",
       "version_major": 2,
       "version_minor": 0
      },
      "text/plain": [
       "HBox(children=(FloatProgress(value=0.0, max=1304.0), HTML(value='')))"
      ]
     },
     "metadata": {},
     "output_type": "display_data"
    },
    {
     "name": "stdout",
     "output_type": "stream",
     "text": [
      "\n"
     ]
    },
    {
     "data": {
      "application/vnd.jupyter.widget-view+json": {
       "model_id": "c4a9db6b1e4640329532b5eab54e49bb",
       "version_major": 2,
       "version_minor": 0
      },
      "text/plain": [
       "HBox(children=(FloatProgress(value=0.0, max=1304.0), HTML(value='')))"
      ]
     },
     "metadata": {},
     "output_type": "display_data"
    },
    {
     "name": "stdout",
     "output_type": "stream",
     "text": [
      "\n",
      "-- CLIR TASK --\n",
      "P: 0.095200 R: 0.224138\n",
      "-- SENTENCE SIMILARITY --\n",
      "EN - DE Accuracy: 0.464724\n",
      "DE - EN Accuracy: 0.479294\n",
      "-- WORD SIMILARITY --\n",
      "EN - DE Accuracy: 0.81\n",
      "DE - EN Accuracy: 0.81\n",
      "With last 5 layer(s): [-5:13]\n"
     ]
    },
    {
     "data": {
      "application/vnd.jupyter.widget-view+json": {
       "model_id": "8c5ab6075ed340c1ac261c6c55be0fa5",
       "version_major": 2,
       "version_minor": 0
      },
      "text/plain": [
       "HBox(children=(FloatProgress(value=0.0, max=1304.0), HTML(value='')))"
      ]
     },
     "metadata": {},
     "output_type": "display_data"
    },
    {
     "name": "stdout",
     "output_type": "stream",
     "text": [
      "\n"
     ]
    },
    {
     "data": {
      "application/vnd.jupyter.widget-view+json": {
       "model_id": "aba0edd6da1f4cb3a94c9e557a2f1de5",
       "version_major": 2,
       "version_minor": 0
      },
      "text/plain": [
       "HBox(children=(FloatProgress(value=0.0, max=1304.0), HTML(value='')))"
      ]
     },
     "metadata": {},
     "output_type": "display_data"
    },
    {
     "name": "stdout",
     "output_type": "stream",
     "text": [
      "\n",
      "-- CLIR TASK --\n",
      "P: 0.086600 R: 0.203280\n",
      "-- SENTENCE SIMILARITY --\n",
      "EN - DE Accuracy: 0.474693\n",
      "DE - EN Accuracy: 0.472393\n",
      "-- WORD SIMILARITY --\n",
      "EN - DE Accuracy: 0.8\n",
      "DE - EN Accuracy: 0.74\n",
      "With last 6 layer(s): [-6:13]\n"
     ]
    },
    {
     "data": {
      "application/vnd.jupyter.widget-view+json": {
       "model_id": "58552e6c21714bb3b96b1563b08e36d6",
       "version_major": 2,
       "version_minor": 0
      },
      "text/plain": [
       "HBox(children=(FloatProgress(value=0.0, max=1304.0), HTML(value='')))"
      ]
     },
     "metadata": {},
     "output_type": "display_data"
    },
    {
     "name": "stdout",
     "output_type": "stream",
     "text": [
      "\n"
     ]
    },
    {
     "data": {
      "application/vnd.jupyter.widget-view+json": {
       "model_id": "752a9cd1139b4ebc9e485e4edaed168a",
       "version_major": 2,
       "version_minor": 0
      },
      "text/plain": [
       "HBox(children=(FloatProgress(value=0.0, max=1304.0), HTML(value='')))"
      ]
     },
     "metadata": {},
     "output_type": "display_data"
    },
    {
     "name": "stdout",
     "output_type": "stream",
     "text": [
      "\n",
      "-- CLIR TASK --\n",
      "P: 0.085200 R: 0.195101\n",
      "-- SENTENCE SIMILARITY --\n",
      "EN - DE Accuracy: 0.458589\n",
      "DE - EN Accuracy: 0.467791\n",
      "-- WORD SIMILARITY --\n",
      "EN - DE Accuracy: 0.8\n",
      "DE - EN Accuracy: 0.81\n",
      "With last 7 layer(s): [-7:13]\n"
     ]
    },
    {
     "data": {
      "application/vnd.jupyter.widget-view+json": {
       "model_id": "14d56834cba34385b5604c13f9d2120d",
       "version_major": 2,
       "version_minor": 0
      },
      "text/plain": [
       "HBox(children=(FloatProgress(value=0.0, max=1304.0), HTML(value='')))"
      ]
     },
     "metadata": {},
     "output_type": "display_data"
    },
    {
     "name": "stdout",
     "output_type": "stream",
     "text": [
      "\n"
     ]
    },
    {
     "data": {
      "application/vnd.jupyter.widget-view+json": {
       "model_id": "477d11dad2fb40aba2c7c51134c1a48b",
       "version_major": 2,
       "version_minor": 0
      },
      "text/plain": [
       "HBox(children=(FloatProgress(value=0.0, max=1304.0), HTML(value='')))"
      ]
     },
     "metadata": {},
     "output_type": "display_data"
    },
    {
     "name": "stdout",
     "output_type": "stream",
     "text": [
      "\n",
      "-- CLIR TASK --\n",
      "P: 0.083600 R: 0.197670\n",
      "-- SENTENCE SIMILARITY --\n",
      "EN - DE Accuracy: 0.473926\n",
      "DE - EN Accuracy: 0.472393\n",
      "-- WORD SIMILARITY --\n",
      "EN - DE Accuracy: 0.81\n",
      "DE - EN Accuracy: 0.76\n",
      "With last 8 layer(s): [-8:13]\n"
     ]
    },
    {
     "data": {
      "application/vnd.jupyter.widget-view+json": {
       "model_id": "703d6cae68eb4276aacbd19f49438f55",
       "version_major": 2,
       "version_minor": 0
      },
      "text/plain": [
       "HBox(children=(FloatProgress(value=0.0, max=1304.0), HTML(value='')))"
      ]
     },
     "metadata": {},
     "output_type": "display_data"
    },
    {
     "name": "stdout",
     "output_type": "stream",
     "text": [
      "\n"
     ]
    },
    {
     "data": {
      "application/vnd.jupyter.widget-view+json": {
       "model_id": "73eab27495784a4c91640a886b34ef1c",
       "version_major": 2,
       "version_minor": 0
      },
      "text/plain": [
       "HBox(children=(FloatProgress(value=0.0, max=1304.0), HTML(value='')))"
      ]
     },
     "metadata": {},
     "output_type": "display_data"
    },
    {
     "name": "stdout",
     "output_type": "stream",
     "text": [
      "\n",
      "-- CLIR TASK --\n",
      "P: 0.087400 R: 0.198312\n",
      "-- SENTENCE SIMILARITY --\n",
      "EN - DE Accuracy: 0.456288\n",
      "DE - EN Accuracy: 0.474693\n",
      "-- WORD SIMILARITY --\n",
      "EN - DE Accuracy: 0.76\n",
      "DE - EN Accuracy: 0.74\n",
      "With last 9 layer(s): [-9:13]\n"
     ]
    },
    {
     "data": {
      "application/vnd.jupyter.widget-view+json": {
       "model_id": "36d528407fd247e3b89d914770b646f8",
       "version_major": 2,
       "version_minor": 0
      },
      "text/plain": [
       "HBox(children=(FloatProgress(value=0.0, max=1304.0), HTML(value='')))"
      ]
     },
     "metadata": {},
     "output_type": "display_data"
    },
    {
     "name": "stdout",
     "output_type": "stream",
     "text": [
      "\n"
     ]
    },
    {
     "data": {
      "application/vnd.jupyter.widget-view+json": {
       "model_id": "692f3da1b06149558fefcbb779a12d4e",
       "version_major": 2,
       "version_minor": 0
      },
      "text/plain": [
       "HBox(children=(FloatProgress(value=0.0, max=1304.0), HTML(value='')))"
      ]
     },
     "metadata": {},
     "output_type": "display_data"
    },
    {
     "name": "stdout",
     "output_type": "stream",
     "text": [
      "\n",
      "-- CLIR TASK --\n",
      "P: 0.084800 R: 0.206069\n",
      "-- SENTENCE SIMILARITY --\n",
      "EN - DE Accuracy: 0.454755\n",
      "DE - EN Accuracy: 0.465491\n",
      "-- WORD SIMILARITY --\n",
      "EN - DE Accuracy: 0.78\n",
      "DE - EN Accuracy: 0.8\n",
      "With last 10 layer(s): [-10:13]\n"
     ]
    },
    {
     "data": {
      "application/vnd.jupyter.widget-view+json": {
       "model_id": "96a8b75cfbbf432a96301f1b7cf109a3",
       "version_major": 2,
       "version_minor": 0
      },
      "text/plain": [
       "HBox(children=(FloatProgress(value=0.0, max=1304.0), HTML(value='')))"
      ]
     },
     "metadata": {},
     "output_type": "display_data"
    },
    {
     "name": "stdout",
     "output_type": "stream",
     "text": [
      "\n"
     ]
    },
    {
     "data": {
      "application/vnd.jupyter.widget-view+json": {
       "model_id": "31c36b724f594bdb9c098e6b6f136059",
       "version_major": 2,
       "version_minor": 0
      },
      "text/plain": [
       "HBox(children=(FloatProgress(value=0.0, max=1304.0), HTML(value='')))"
      ]
     },
     "metadata": {},
     "output_type": "display_data"
    },
    {
     "name": "stdout",
     "output_type": "stream",
     "text": [
      "\n",
      "-- CLIR TASK --\n",
      "P: 0.089400 R: 0.208039\n",
      "-- SENTENCE SIMILARITY --\n",
      "EN - DE Accuracy: 0.460123\n",
      "DE - EN Accuracy: 0.475460\n",
      "-- WORD SIMILARITY --\n",
      "EN - DE Accuracy: 0.78\n",
      "DE - EN Accuracy: 0.76\n",
      "With last 11 layer(s): [-11:13]\n"
     ]
    },
    {
     "data": {
      "application/vnd.jupyter.widget-view+json": {
       "model_id": "bdc8f28b14f04a62a53f796e031065b2",
       "version_major": 2,
       "version_minor": 0
      },
      "text/plain": [
       "HBox(children=(FloatProgress(value=0.0, max=1304.0), HTML(value='')))"
      ]
     },
     "metadata": {},
     "output_type": "display_data"
    },
    {
     "name": "stdout",
     "output_type": "stream",
     "text": [
      "\n"
     ]
    },
    {
     "data": {
      "application/vnd.jupyter.widget-view+json": {
       "model_id": "3367d6beb8a94cba8a0fc03bde743ecc",
       "version_major": 2,
       "version_minor": 0
      },
      "text/plain": [
       "HBox(children=(FloatProgress(value=0.0, max=1304.0), HTML(value='')))"
      ]
     },
     "metadata": {},
     "output_type": "display_data"
    },
    {
     "name": "stdout",
     "output_type": "stream",
     "text": [
      "\n",
      "-- CLIR TASK --\n",
      "P: 0.089800 R: 0.213063\n",
      "-- SENTENCE SIMILARITY --\n",
      "EN - DE Accuracy: 0.447853\n",
      "DE - EN Accuracy: 0.467025\n",
      "-- WORD SIMILARITY --\n",
      "EN - DE Accuracy: 0.76\n",
      "DE - EN Accuracy: 0.77\n",
      "With last 12 layer(s): [-12:13]\n"
     ]
    },
    {
     "data": {
      "application/vnd.jupyter.widget-view+json": {
       "model_id": "e9206f0a6395475181a781c82ac729ed",
       "version_major": 2,
       "version_minor": 0
      },
      "text/plain": [
       "HBox(children=(FloatProgress(value=0.0, max=1304.0), HTML(value='')))"
      ]
     },
     "metadata": {},
     "output_type": "display_data"
    },
    {
     "name": "stdout",
     "output_type": "stream",
     "text": [
      "\n"
     ]
    },
    {
     "data": {
      "application/vnd.jupyter.widget-view+json": {
       "model_id": "2938fa8ab29f4dada4ac1c472070ec7d",
       "version_major": 2,
       "version_minor": 0
      },
      "text/plain": [
       "HBox(children=(FloatProgress(value=0.0, max=1304.0), HTML(value='')))"
      ]
     },
     "metadata": {},
     "output_type": "display_data"
    },
    {
     "name": "stdout",
     "output_type": "stream",
     "text": [
      "\n",
      "-- CLIR TASK --\n",
      "P: 0.092000 R: 0.213057\n",
      "-- SENTENCE SIMILARITY --\n",
      "EN - DE Accuracy: 0.455521\n",
      "DE - EN Accuracy: 0.458589\n",
      "-- WORD SIMILARITY --\n",
      "EN - DE Accuracy: 0.77\n",
      "DE - EN Accuracy: 0.77\n",
      "With last 13 layer(s): [-13:13]\n"
     ]
    },
    {
     "data": {
      "application/vnd.jupyter.widget-view+json": {
       "model_id": "9f0b085f8748459b9ecabb59c45f8792",
       "version_major": 2,
       "version_minor": 0
      },
      "text/plain": [
       "HBox(children=(FloatProgress(value=0.0, max=1304.0), HTML(value='')))"
      ]
     },
     "metadata": {},
     "output_type": "display_data"
    },
    {
     "name": "stdout",
     "output_type": "stream",
     "text": [
      "\n"
     ]
    },
    {
     "data": {
      "application/vnd.jupyter.widget-view+json": {
       "model_id": "55c9ee9009c644aaa6c665dd9e046198",
       "version_major": 2,
       "version_minor": 0
      },
      "text/plain": [
       "HBox(children=(FloatProgress(value=0.0, max=1304.0), HTML(value='')))"
      ]
     },
     "metadata": {},
     "output_type": "display_data"
    },
    {
     "name": "stdout",
     "output_type": "stream",
     "text": [
      "\n",
      "-- CLIR TASK --\n",
      "P: 0.089400 R: 0.213343\n",
      "-- SENTENCE SIMILARITY --\n",
      "EN - DE Accuracy: 0.457822\n",
      "DE - EN Accuracy: 0.462423\n",
      "-- WORD SIMILARITY --\n",
      "EN - DE Accuracy: 0.76\n",
      "DE - EN Accuracy: 0.76\n"
     ]
    }
   ],
   "source": [
    "for i in range(1, 14):\n",
    "    print('With last %d layer(s): [-%d:13]' %(i,i))\n",
    "    encoding = Encoding(model=model,\n",
    "                        contextual_encode_full=True,\n",
    "                        layers=(-i,13))\n",
    "    en_doc_vectors, de_doc_vectors = vectorize_docs(encoding=encoding)\n",
    "    evaluate(\n",
    "            encoding=encoding,\n",
    "            num_ret=50,\n",
    "            en_doc_vectors=en_doc_vectors,\n",
    "            de_doc_vectors=de_doc_vectors)\n",
    "\n",
    "    evaluate_sent_similarity(en_doc_vectors=en_doc_vectors,\n",
    "                            de_doc_vectors=de_doc_vectors)\n",
    "\n",
    "\n",
    "    evaluate_word_similarity_post_hoc(encoding=encoding)"
   ]
  },
  {
   "cell_type": "code",
   "execution_count": 32,
   "metadata": {},
   "outputs": [],
   "source": [
    "def evaluate_cont_pre(num_ret, en_docs, de_docs): \n",
    "    prec_av, recall_av, fscore_av = 0, 0, 0\n",
    "    \n",
    "    for query, own_claims_en, own_claims_de, \\\n",
    "        rel_claims_en, rel_claims_de in zip(tq(test_final.query_title),\n",
    "                                            test_final.own_claims_en,\n",
    "                                            test_final.own_claims_de,\n",
    "                                            test_final.rel_claims_en,\n",
    "                                            test_final.rel_claims_de):\n",
    "                \n",
    "        relevant_claims = own_claims_en + own_claims_de + \\\n",
    "                            rel_claims_en + rel_claims_de\n",
    "        \n",
    "        out_en = get_preds(query, en_docs, num_ret)\n",
    "        out_de = get_preds(query, de_docs, num_ret)\n",
    "        \n",
    "        retrieved_claims = out_en + out_de\n",
    "        \n",
    "        relevant_retrieved = 0\n",
    "        for claim in relevant_claims:\n",
    "            if claim in retrieved_claims:\n",
    "                relevant_retrieved += 1\n",
    "        \n",
    "        relevant = len(relevant_claims)\n",
    "        retreived = len(retrieved_claims)\n",
    "        \n",
    "        prec = relevant_retrieved/retreived\n",
    "        recall = relevant_retrieved/relevant     \n",
    "    \n",
    "        # print('P: %f R: %f' %(prec, recall))\n",
    "    \n",
    "        prec_av += prec\n",
    "        recall_av += recall\n",
    "    \n",
    "    print('-- CLIR TASK --')\n",
    "    print('P: %f R: %f' %(prec_av/len(test_small_df.query_title), \n",
    "                                recall_av/len(test_small_df.query_title)))"
   ]
  },
  {
   "cell_type": "code",
   "execution_count": 41,
   "metadata": {},
   "outputs": [
    {
     "data": {
      "application/vnd.jupyter.widget-view+json": {
       "model_id": "d834cf0229bd411b88e6c4ff8836ea8c",
       "version_major": 2,
       "version_minor": 0
      },
      "text/plain": [
       "HBox(children=(FloatProgress(value=0.0, max=50.0), HTML(value='')))"
      ]
     },
     "metadata": {},
     "output_type": "display_data"
    },
    {
     "data": {
      "application/vnd.jupyter.widget-view+json": {
       "model_id": "38861be2ad4241db89c374937052e9f4",
       "version_major": 2,
       "version_minor": 0
      },
      "text/plain": [
       "HBox(children=(FloatProgress(value=0.0, max=1304.0), HTML(value='')))"
      ]
     },
     "metadata": {},
     "output_type": "display_data"
    },
    {
     "name": "stdout",
     "output_type": "stream",
     "text": [
      "\n"
     ]
    },
    {
     "data": {
      "application/vnd.jupyter.widget-view+json": {
       "model_id": "eb4c79e4ceb84232878da0062d7d22ff",
       "version_major": 2,
       "version_minor": 0
      },
      "text/plain": [
       "HBox(children=(FloatProgress(value=0.0, max=1304.0), HTML(value='')))"
      ]
     },
     "metadata": {},
     "output_type": "display_data"
    },
    {
     "name": "stdout",
     "output_type": "stream",
     "text": [
      "\n"
     ]
    },
    {
     "data": {
      "application/vnd.jupyter.widget-view+json": {
       "model_id": "faa046c497c64cf5a5114167baddff02",
       "version_major": 2,
       "version_minor": 0
      },
      "text/plain": [
       "HBox(children=(FloatProgress(value=0.0, max=1304.0), HTML(value='')))"
      ]
     },
     "metadata": {},
     "output_type": "display_data"
    },
    {
     "name": "stdout",
     "output_type": "stream",
     "text": [
      "\n"
     ]
    },
    {
     "data": {
      "application/vnd.jupyter.widget-view+json": {
       "model_id": "c1f16b50a94346bc8035ab8a630aa0c4",
       "version_major": 2,
       "version_minor": 0
      },
      "text/plain": [
       "HBox(children=(FloatProgress(value=0.0, max=1304.0), HTML(value='')))"
      ]
     },
     "metadata": {},
     "output_type": "display_data"
    },
    {
     "name": "stdout",
     "output_type": "stream",
     "text": [
      "\n"
     ]
    },
    {
     "data": {
      "application/vnd.jupyter.widget-view+json": {
       "model_id": "3d24432a678a411c9403ec7ec4dbf8f9",
       "version_major": 2,
       "version_minor": 0
      },
      "text/plain": [
       "HBox(children=(FloatProgress(value=0.0, max=1304.0), HTML(value='')))"
      ]
     },
     "metadata": {},
     "output_type": "display_data"
    },
    {
     "name": "stdout",
     "output_type": "stream",
     "text": [
      "\n"
     ]
    },
    {
     "data": {
      "application/vnd.jupyter.widget-view+json": {
       "model_id": "09088fba4b2c43b798251fd1921e07de",
       "version_major": 2,
       "version_minor": 0
      },
      "text/plain": [
       "HBox(children=(FloatProgress(value=0.0, max=1304.0), HTML(value='')))"
      ]
     },
     "metadata": {},
     "output_type": "display_data"
    },
    {
     "name": "stdout",
     "output_type": "stream",
     "text": [
      "\n"
     ]
    },
    {
     "data": {
      "application/vnd.jupyter.widget-view+json": {
       "model_id": "8f22f882a72f4f828b3e6c5db6e34422",
       "version_major": 2,
       "version_minor": 0
      },
      "text/plain": [
       "HBox(children=(FloatProgress(value=0.0, max=1304.0), HTML(value='')))"
      ]
     },
     "metadata": {},
     "output_type": "display_data"
    },
    {
     "name": "stdout",
     "output_type": "stream",
     "text": [
      "\n"
     ]
    },
    {
     "data": {
      "application/vnd.jupyter.widget-view+json": {
       "model_id": "f8b245e0208d473b91e63befa398997f",
       "version_major": 2,
       "version_minor": 0
      },
      "text/plain": [
       "HBox(children=(FloatProgress(value=0.0, max=1304.0), HTML(value='')))"
      ]
     },
     "metadata": {},
     "output_type": "display_data"
    },
    {
     "name": "stdout",
     "output_type": "stream",
     "text": [
      "\n"
     ]
    },
    {
     "data": {
      "application/vnd.jupyter.widget-view+json": {
       "model_id": "cd2a27ed0a42486b8d764da75ba07d59",
       "version_major": 2,
       "version_minor": 0
      },
      "text/plain": [
       "HBox(children=(FloatProgress(value=0.0, max=1304.0), HTML(value='')))"
      ]
     },
     "metadata": {},
     "output_type": "display_data"
    },
    {
     "name": "stdout",
     "output_type": "stream",
     "text": [
      "\n"
     ]
    },
    {
     "data": {
      "application/vnd.jupyter.widget-view+json": {
       "model_id": "c1f65ea2b59b4b3fb050f0fbc5c2e4e7",
       "version_major": 2,
       "version_minor": 0
      },
      "text/plain": [
       "HBox(children=(FloatProgress(value=0.0, max=1304.0), HTML(value='')))"
      ]
     },
     "metadata": {},
     "output_type": "display_data"
    },
    {
     "name": "stdout",
     "output_type": "stream",
     "text": [
      "\n"
     ]
    },
    {
     "data": {
      "application/vnd.jupyter.widget-view+json": {
       "model_id": "14f9a45d4f0c44129595f69028b4ddbb",
       "version_major": 2,
       "version_minor": 0
      },
      "text/plain": [
       "HBox(children=(FloatProgress(value=0.0, max=1304.0), HTML(value='')))"
      ]
     },
     "metadata": {},
     "output_type": "display_data"
    },
    {
     "name": "stdout",
     "output_type": "stream",
     "text": [
      "\n"
     ]
    },
    {
     "data": {
      "application/vnd.jupyter.widget-view+json": {
       "model_id": "a6dee430e7d14d95bcdf8c61c48abcd8",
       "version_major": 2,
       "version_minor": 0
      },
      "text/plain": [
       "HBox(children=(FloatProgress(value=0.0, max=1304.0), HTML(value='')))"
      ]
     },
     "metadata": {},
     "output_type": "display_data"
    },
    {
     "name": "stdout",
     "output_type": "stream",
     "text": [
      "\n"
     ]
    },
    {
     "data": {
      "application/vnd.jupyter.widget-view+json": {
       "model_id": "543396b07066436b9cadcb4efeeddd4c",
       "version_major": 2,
       "version_minor": 0
      },
      "text/plain": [
       "HBox(children=(FloatProgress(value=0.0, max=1304.0), HTML(value='')))"
      ]
     },
     "metadata": {},
     "output_type": "display_data"
    },
    {
     "name": "stdout",
     "output_type": "stream",
     "text": [
      "\n"
     ]
    },
    {
     "data": {
      "application/vnd.jupyter.widget-view+json": {
       "model_id": "2b00d522c0914c059adb69e78ba6c509",
       "version_major": 2,
       "version_minor": 0
      },
      "text/plain": [
       "HBox(children=(FloatProgress(value=0.0, max=1304.0), HTML(value='')))"
      ]
     },
     "metadata": {},
     "output_type": "display_data"
    },
    {
     "name": "stdout",
     "output_type": "stream",
     "text": [
      "\n"
     ]
    },
    {
     "data": {
      "application/vnd.jupyter.widget-view+json": {
       "model_id": "133a624eba5145aba314f682970c804b",
       "version_major": 2,
       "version_minor": 0
      },
      "text/plain": [
       "HBox(children=(FloatProgress(value=0.0, max=1304.0), HTML(value='')))"
      ]
     },
     "metadata": {},
     "output_type": "display_data"
    },
    {
     "name": "stdout",
     "output_type": "stream",
     "text": [
      "\n"
     ]
    },
    {
     "data": {
      "application/vnd.jupyter.widget-view+json": {
       "model_id": "068d7d9433b6423ea5aa61fa89539be0",
       "version_major": 2,
       "version_minor": 0
      },
      "text/plain": [
       "HBox(children=(FloatProgress(value=0.0, max=1304.0), HTML(value='')))"
      ]
     },
     "metadata": {},
     "output_type": "display_data"
    },
    {
     "name": "stdout",
     "output_type": "stream",
     "text": [
      "\n"
     ]
    },
    {
     "data": {
      "application/vnd.jupyter.widget-view+json": {
       "model_id": "a23990c27d124cc09a0c795b6079a774",
       "version_major": 2,
       "version_minor": 0
      },
      "text/plain": [
       "HBox(children=(FloatProgress(value=0.0, max=1304.0), HTML(value='')))"
      ]
     },
     "metadata": {},
     "output_type": "display_data"
    },
    {
     "name": "stdout",
     "output_type": "stream",
     "text": [
      "\n"
     ]
    },
    {
     "data": {
      "application/vnd.jupyter.widget-view+json": {
       "model_id": "d4fe5f0d24ed4082af68befc4f91662b",
       "version_major": 2,
       "version_minor": 0
      },
      "text/plain": [
       "HBox(children=(FloatProgress(value=0.0, max=1304.0), HTML(value='')))"
      ]
     },
     "metadata": {},
     "output_type": "display_data"
    },
    {
     "name": "stdout",
     "output_type": "stream",
     "text": [
      "\n"
     ]
    },
    {
     "data": {
      "application/vnd.jupyter.widget-view+json": {
       "model_id": "df61200fcc43429a8b52992ae392cab2",
       "version_major": 2,
       "version_minor": 0
      },
      "text/plain": [
       "HBox(children=(FloatProgress(value=0.0, max=1304.0), HTML(value='')))"
      ]
     },
     "metadata": {},
     "output_type": "display_data"
    },
    {
     "name": "stdout",
     "output_type": "stream",
     "text": [
      "\n"
     ]
    },
    {
     "data": {
      "application/vnd.jupyter.widget-view+json": {
       "model_id": "8526afa2db584520bc1847666c11cd9d",
       "version_major": 2,
       "version_minor": 0
      },
      "text/plain": [
       "HBox(children=(FloatProgress(value=0.0, max=1304.0), HTML(value='')))"
      ]
     },
     "metadata": {},
     "output_type": "display_data"
    },
    {
     "name": "stdout",
     "output_type": "stream",
     "text": [
      "\n"
     ]
    },
    {
     "data": {
      "application/vnd.jupyter.widget-view+json": {
       "model_id": "0ca61b1010f34f9e9635ae8cf65b799b",
       "version_major": 2,
       "version_minor": 0
      },
      "text/plain": [
       "HBox(children=(FloatProgress(value=0.0, max=1304.0), HTML(value='')))"
      ]
     },
     "metadata": {},
     "output_type": "display_data"
    },
    {
     "name": "stdout",
     "output_type": "stream",
     "text": [
      "\n"
     ]
    },
    {
     "data": {
      "application/vnd.jupyter.widget-view+json": {
       "model_id": "c672253ddec542fa9811a99841f5635d",
       "version_major": 2,
       "version_minor": 0
      },
      "text/plain": [
       "HBox(children=(FloatProgress(value=0.0, max=1304.0), HTML(value='')))"
      ]
     },
     "metadata": {},
     "output_type": "display_data"
    },
    {
     "name": "stdout",
     "output_type": "stream",
     "text": [
      "\n"
     ]
    },
    {
     "data": {
      "application/vnd.jupyter.widget-view+json": {
       "model_id": "b7a9c501c2514b67a0d6d88a8dfc398f",
       "version_major": 2,
       "version_minor": 0
      },
      "text/plain": [
       "HBox(children=(FloatProgress(value=0.0, max=1304.0), HTML(value='')))"
      ]
     },
     "metadata": {},
     "output_type": "display_data"
    },
    {
     "name": "stdout",
     "output_type": "stream",
     "text": [
      "\n"
     ]
    },
    {
     "data": {
      "application/vnd.jupyter.widget-view+json": {
       "model_id": "0f3c1aebc2d64e97a2d2636ca58292ef",
       "version_major": 2,
       "version_minor": 0
      },
      "text/plain": [
       "HBox(children=(FloatProgress(value=0.0, max=1304.0), HTML(value='')))"
      ]
     },
     "metadata": {},
     "output_type": "display_data"
    },
    {
     "name": "stdout",
     "output_type": "stream",
     "text": [
      "\n"
     ]
    },
    {
     "data": {
      "application/vnd.jupyter.widget-view+json": {
       "model_id": "f24583e6bb16444da4bb7c6271589e30",
       "version_major": 2,
       "version_minor": 0
      },
      "text/plain": [
       "HBox(children=(FloatProgress(value=0.0, max=1304.0), HTML(value='')))"
      ]
     },
     "metadata": {},
     "output_type": "display_data"
    },
    {
     "name": "stdout",
     "output_type": "stream",
     "text": [
      "\n"
     ]
    },
    {
     "data": {
      "application/vnd.jupyter.widget-view+json": {
       "model_id": "eb4bd25e4ffc447b8f6fdf9b9d1f2739",
       "version_major": 2,
       "version_minor": 0
      },
      "text/plain": [
       "HBox(children=(FloatProgress(value=0.0, max=1304.0), HTML(value='')))"
      ]
     },
     "metadata": {},
     "output_type": "display_data"
    },
    {
     "name": "stdout",
     "output_type": "stream",
     "text": [
      "\n"
     ]
    },
    {
     "data": {
      "application/vnd.jupyter.widget-view+json": {
       "model_id": "272346f29e2a450386d2b29ade25b7b5",
       "version_major": 2,
       "version_minor": 0
      },
      "text/plain": [
       "HBox(children=(FloatProgress(value=0.0, max=1304.0), HTML(value='')))"
      ]
     },
     "metadata": {},
     "output_type": "display_data"
    },
    {
     "name": "stdout",
     "output_type": "stream",
     "text": [
      "\n"
     ]
    },
    {
     "data": {
      "application/vnd.jupyter.widget-view+json": {
       "model_id": "ddc9bb5e4cb8439ba00b1b4daf76d144",
       "version_major": 2,
       "version_minor": 0
      },
      "text/plain": [
       "HBox(children=(FloatProgress(value=0.0, max=1304.0), HTML(value='')))"
      ]
     },
     "metadata": {},
     "output_type": "display_data"
    },
    {
     "name": "stdout",
     "output_type": "stream",
     "text": [
      "\n"
     ]
    },
    {
     "data": {
      "application/vnd.jupyter.widget-view+json": {
       "model_id": "b092274f6c614f0e9d2732e6557e7bef",
       "version_major": 2,
       "version_minor": 0
      },
      "text/plain": [
       "HBox(children=(FloatProgress(value=0.0, max=1304.0), HTML(value='')))"
      ]
     },
     "metadata": {},
     "output_type": "display_data"
    },
    {
     "name": "stdout",
     "output_type": "stream",
     "text": [
      "\n"
     ]
    },
    {
     "data": {
      "application/vnd.jupyter.widget-view+json": {
       "model_id": "896e2ef613f9431a8be8054de34f2e87",
       "version_major": 2,
       "version_minor": 0
      },
      "text/plain": [
       "HBox(children=(FloatProgress(value=0.0, max=1304.0), HTML(value='')))"
      ]
     },
     "metadata": {},
     "output_type": "display_data"
    },
    {
     "name": "stdout",
     "output_type": "stream",
     "text": [
      "\n"
     ]
    },
    {
     "data": {
      "application/vnd.jupyter.widget-view+json": {
       "model_id": "4848d2e84b9b4d8ca66e24ab4704896b",
       "version_major": 2,
       "version_minor": 0
      },
      "text/plain": [
       "HBox(children=(FloatProgress(value=0.0, max=1304.0), HTML(value='')))"
      ]
     },
     "metadata": {},
     "output_type": "display_data"
    },
    {
     "name": "stdout",
     "output_type": "stream",
     "text": [
      "\n"
     ]
    },
    {
     "data": {
      "application/vnd.jupyter.widget-view+json": {
       "model_id": "2ec04d3fc3e94eb698f40282205574f1",
       "version_major": 2,
       "version_minor": 0
      },
      "text/plain": [
       "HBox(children=(FloatProgress(value=0.0, max=1304.0), HTML(value='')))"
      ]
     },
     "metadata": {},
     "output_type": "display_data"
    },
    {
     "name": "stdout",
     "output_type": "stream",
     "text": [
      "\n"
     ]
    },
    {
     "data": {
      "application/vnd.jupyter.widget-view+json": {
       "model_id": "7141ada5a3af4da996e288ab57b1f3e9",
       "version_major": 2,
       "version_minor": 0
      },
      "text/plain": [
       "HBox(children=(FloatProgress(value=0.0, max=1304.0), HTML(value='')))"
      ]
     },
     "metadata": {},
     "output_type": "display_data"
    },
    {
     "name": "stdout",
     "output_type": "stream",
     "text": [
      "\n"
     ]
    },
    {
     "data": {
      "application/vnd.jupyter.widget-view+json": {
       "model_id": "f312c2d768cd4aeaa0780cca0040d8c5",
       "version_major": 2,
       "version_minor": 0
      },
      "text/plain": [
       "HBox(children=(FloatProgress(value=0.0, max=1304.0), HTML(value='')))"
      ]
     },
     "metadata": {},
     "output_type": "display_data"
    },
    {
     "name": "stdout",
     "output_type": "stream",
     "text": [
      "\n"
     ]
    },
    {
     "data": {
      "application/vnd.jupyter.widget-view+json": {
       "model_id": "1e4c4d9fe93545629746da43c725cdc7",
       "version_major": 2,
       "version_minor": 0
      },
      "text/plain": [
       "HBox(children=(FloatProgress(value=0.0, max=1304.0), HTML(value='')))"
      ]
     },
     "metadata": {},
     "output_type": "display_data"
    },
    {
     "name": "stdout",
     "output_type": "stream",
     "text": [
      "\n"
     ]
    },
    {
     "data": {
      "application/vnd.jupyter.widget-view+json": {
       "model_id": "6358a19fca864475bc3c35e5f0bdfc61",
       "version_major": 2,
       "version_minor": 0
      },
      "text/plain": [
       "HBox(children=(FloatProgress(value=0.0, max=1304.0), HTML(value='')))"
      ]
     },
     "metadata": {},
     "output_type": "display_data"
    },
    {
     "name": "stdout",
     "output_type": "stream",
     "text": [
      "\n"
     ]
    },
    {
     "data": {
      "application/vnd.jupyter.widget-view+json": {
       "model_id": "99c13bf8c1664e64b050153c388cd327",
       "version_major": 2,
       "version_minor": 0
      },
      "text/plain": [
       "HBox(children=(FloatProgress(value=0.0, max=1304.0), HTML(value='')))"
      ]
     },
     "metadata": {},
     "output_type": "display_data"
    },
    {
     "name": "stdout",
     "output_type": "stream",
     "text": [
      "\n"
     ]
    },
    {
     "data": {
      "application/vnd.jupyter.widget-view+json": {
       "model_id": "8a78d46b68bf47a7b77549c32093de0a",
       "version_major": 2,
       "version_minor": 0
      },
      "text/plain": [
       "HBox(children=(FloatProgress(value=0.0, max=1304.0), HTML(value='')))"
      ]
     },
     "metadata": {},
     "output_type": "display_data"
    },
    {
     "name": "stdout",
     "output_type": "stream",
     "text": [
      "\n"
     ]
    },
    {
     "data": {
      "application/vnd.jupyter.widget-view+json": {
       "model_id": "e364a0309e074c989aeca51c8c464112",
       "version_major": 2,
       "version_minor": 0
      },
      "text/plain": [
       "HBox(children=(FloatProgress(value=0.0, max=1304.0), HTML(value='')))"
      ]
     },
     "metadata": {},
     "output_type": "display_data"
    },
    {
     "name": "stdout",
     "output_type": "stream",
     "text": [
      "\n"
     ]
    },
    {
     "data": {
      "application/vnd.jupyter.widget-view+json": {
       "model_id": "6be26578263a432793c322271316dd43",
       "version_major": 2,
       "version_minor": 0
      },
      "text/plain": [
       "HBox(children=(FloatProgress(value=0.0, max=1304.0), HTML(value='')))"
      ]
     },
     "metadata": {},
     "output_type": "display_data"
    },
    {
     "name": "stdout",
     "output_type": "stream",
     "text": [
      "\n"
     ]
    },
    {
     "data": {
      "application/vnd.jupyter.widget-view+json": {
       "model_id": "7f393cd294584977a518d00623232bda",
       "version_major": 2,
       "version_minor": 0
      },
      "text/plain": [
       "HBox(children=(FloatProgress(value=0.0, max=1304.0), HTML(value='')))"
      ]
     },
     "metadata": {},
     "output_type": "display_data"
    },
    {
     "name": "stdout",
     "output_type": "stream",
     "text": [
      "\n"
     ]
    },
    {
     "data": {
      "application/vnd.jupyter.widget-view+json": {
       "model_id": "6d70bb97517e42a287bd808f57d33d6f",
       "version_major": 2,
       "version_minor": 0
      },
      "text/plain": [
       "HBox(children=(FloatProgress(value=0.0, max=1304.0), HTML(value='')))"
      ]
     },
     "metadata": {},
     "output_type": "display_data"
    },
    {
     "name": "stdout",
     "output_type": "stream",
     "text": [
      "\n"
     ]
    },
    {
     "data": {
      "application/vnd.jupyter.widget-view+json": {
       "model_id": "c229ecc86929432ca4196a0beb664ffe",
       "version_major": 2,
       "version_minor": 0
      },
      "text/plain": [
       "HBox(children=(FloatProgress(value=0.0, max=1304.0), HTML(value='')))"
      ]
     },
     "metadata": {},
     "output_type": "display_data"
    },
    {
     "name": "stdout",
     "output_type": "stream",
     "text": [
      "\n"
     ]
    },
    {
     "data": {
      "application/vnd.jupyter.widget-view+json": {
       "model_id": "b4c855491aa341cd8b1bef81ee02dd96",
       "version_major": 2,
       "version_minor": 0
      },
      "text/plain": [
       "HBox(children=(FloatProgress(value=0.0, max=1304.0), HTML(value='')))"
      ]
     },
     "metadata": {},
     "output_type": "display_data"
    },
    {
     "name": "stdout",
     "output_type": "stream",
     "text": [
      "\n"
     ]
    },
    {
     "data": {
      "application/vnd.jupyter.widget-view+json": {
       "model_id": "31f7ab73899242f2b31d72a1b583fc12",
       "version_major": 2,
       "version_minor": 0
      },
      "text/plain": [
       "HBox(children=(FloatProgress(value=0.0, max=1304.0), HTML(value='')))"
      ]
     },
     "metadata": {},
     "output_type": "display_data"
    },
    {
     "name": "stdout",
     "output_type": "stream",
     "text": [
      "\n"
     ]
    },
    {
     "data": {
      "application/vnd.jupyter.widget-view+json": {
       "model_id": "4c26a0a5ee4142269bbd534458dadba5",
       "version_major": 2,
       "version_minor": 0
      },
      "text/plain": [
       "HBox(children=(FloatProgress(value=0.0, max=1304.0), HTML(value='')))"
      ]
     },
     "metadata": {},
     "output_type": "display_data"
    },
    {
     "name": "stdout",
     "output_type": "stream",
     "text": [
      "\n"
     ]
    },
    {
     "data": {
      "application/vnd.jupyter.widget-view+json": {
       "model_id": "cff639662cad4e1095cb9ba17249c99b",
       "version_major": 2,
       "version_minor": 0
      },
      "text/plain": [
       "HBox(children=(FloatProgress(value=0.0, max=1304.0), HTML(value='')))"
      ]
     },
     "metadata": {},
     "output_type": "display_data"
    },
    {
     "name": "stdout",
     "output_type": "stream",
     "text": [
      "\n"
     ]
    },
    {
     "data": {
      "application/vnd.jupyter.widget-view+json": {
       "model_id": "6cf1b6c82f6244a3b6af9fcf05a03c9b",
       "version_major": 2,
       "version_minor": 0
      },
      "text/plain": [
       "HBox(children=(FloatProgress(value=0.0, max=1304.0), HTML(value='')))"
      ]
     },
     "metadata": {},
     "output_type": "display_data"
    },
    {
     "name": "stdout",
     "output_type": "stream",
     "text": [
      "\n"
     ]
    },
    {
     "data": {
      "application/vnd.jupyter.widget-view+json": {
       "model_id": "1a141bbc52c94f14bfefd13a923e52a5",
       "version_major": 2,
       "version_minor": 0
      },
      "text/plain": [
       "HBox(children=(FloatProgress(value=0.0, max=1304.0), HTML(value='')))"
      ]
     },
     "metadata": {},
     "output_type": "display_data"
    },
    {
     "name": "stdout",
     "output_type": "stream",
     "text": [
      "\n"
     ]
    },
    {
     "data": {
      "application/vnd.jupyter.widget-view+json": {
       "model_id": "6d9289bcd0064dc3a3d2a5190f9a29dc",
       "version_major": 2,
       "version_minor": 0
      },
      "text/plain": [
       "HBox(children=(FloatProgress(value=0.0, max=1304.0), HTML(value='')))"
      ]
     },
     "metadata": {},
     "output_type": "display_data"
    },
    {
     "name": "stdout",
     "output_type": "stream",
     "text": [
      "\n"
     ]
    },
    {
     "data": {
      "application/vnd.jupyter.widget-view+json": {
       "model_id": "a8a6722c81b340dbbc31646225a19008",
       "version_major": 2,
       "version_minor": 0
      },
      "text/plain": [
       "HBox(children=(FloatProgress(value=0.0, max=1304.0), HTML(value='')))"
      ]
     },
     "metadata": {},
     "output_type": "display_data"
    },
    {
     "name": "stdout",
     "output_type": "stream",
     "text": [
      "\n"
     ]
    },
    {
     "data": {
      "application/vnd.jupyter.widget-view+json": {
       "model_id": "c680ac30f3b644e6b82a2bebc6483326",
       "version_major": 2,
       "version_minor": 0
      },
      "text/plain": [
       "HBox(children=(FloatProgress(value=0.0, max=1304.0), HTML(value='')))"
      ]
     },
     "metadata": {},
     "output_type": "display_data"
    },
    {
     "name": "stdout",
     "output_type": "stream",
     "text": [
      "\n"
     ]
    },
    {
     "data": {
      "application/vnd.jupyter.widget-view+json": {
       "model_id": "679b1bed4ca74d09a9275b48f72b91a9",
       "version_major": 2,
       "version_minor": 0
      },
      "text/plain": [
       "HBox(children=(FloatProgress(value=0.0, max=1304.0), HTML(value='')))"
      ]
     },
     "metadata": {},
     "output_type": "display_data"
    },
    {
     "name": "stdout",
     "output_type": "stream",
     "text": [
      "\n"
     ]
    },
    {
     "data": {
      "application/vnd.jupyter.widget-view+json": {
       "model_id": "a41a705a649d400ca9721bfb6b3062e7",
       "version_major": 2,
       "version_minor": 0
      },
      "text/plain": [
       "HBox(children=(FloatProgress(value=0.0, max=1304.0), HTML(value='')))"
      ]
     },
     "metadata": {},
     "output_type": "display_data"
    },
    {
     "name": "stdout",
     "output_type": "stream",
     "text": [
      "\n"
     ]
    },
    {
     "data": {
      "application/vnd.jupyter.widget-view+json": {
       "model_id": "e7a530168af34f559bd46f61e4e58dc0",
       "version_major": 2,
       "version_minor": 0
      },
      "text/plain": [
       "HBox(children=(FloatProgress(value=0.0, max=1304.0), HTML(value='')))"
      ]
     },
     "metadata": {},
     "output_type": "display_data"
    },
    {
     "name": "stdout",
     "output_type": "stream",
     "text": [
      "\n"
     ]
    },
    {
     "data": {
      "application/vnd.jupyter.widget-view+json": {
       "model_id": "bc8dc45f1b8447b3992cac69d24df83d",
       "version_major": 2,
       "version_minor": 0
      },
      "text/plain": [
       "HBox(children=(FloatProgress(value=0.0, max=1304.0), HTML(value='')))"
      ]
     },
     "metadata": {},
     "output_type": "display_data"
    },
    {
     "name": "stdout",
     "output_type": "stream",
     "text": [
      "\n"
     ]
    },
    {
     "data": {
      "application/vnd.jupyter.widget-view+json": {
       "model_id": "58059f41d7f741daafe0564e58958084",
       "version_major": 2,
       "version_minor": 0
      },
      "text/plain": [
       "HBox(children=(FloatProgress(value=0.0, max=1304.0), HTML(value='')))"
      ]
     },
     "metadata": {},
     "output_type": "display_data"
    },
    {
     "name": "stdout",
     "output_type": "stream",
     "text": [
      "\n"
     ]
    },
    {
     "data": {
      "application/vnd.jupyter.widget-view+json": {
       "model_id": "2791a8a58c0c478a8a2952c65b91b808",
       "version_major": 2,
       "version_minor": 0
      },
      "text/plain": [
       "HBox(children=(FloatProgress(value=0.0, max=1304.0), HTML(value='')))"
      ]
     },
     "metadata": {},
     "output_type": "display_data"
    },
    {
     "name": "stdout",
     "output_type": "stream",
     "text": [
      "\n"
     ]
    },
    {
     "data": {
      "application/vnd.jupyter.widget-view+json": {
       "model_id": "3fa4a6f20ba249f9a46739bc792303ce",
       "version_major": 2,
       "version_minor": 0
      },
      "text/plain": [
       "HBox(children=(FloatProgress(value=0.0, max=1304.0), HTML(value='')))"
      ]
     },
     "metadata": {},
     "output_type": "display_data"
    },
    {
     "name": "stdout",
     "output_type": "stream",
     "text": [
      "\n"
     ]
    },
    {
     "data": {
      "application/vnd.jupyter.widget-view+json": {
       "model_id": "371f06706bb74a968902c5f2a5b37650",
       "version_major": 2,
       "version_minor": 0
      },
      "text/plain": [
       "HBox(children=(FloatProgress(value=0.0, max=1304.0), HTML(value='')))"
      ]
     },
     "metadata": {},
     "output_type": "display_data"
    },
    {
     "name": "stdout",
     "output_type": "stream",
     "text": [
      "\n"
     ]
    },
    {
     "data": {
      "application/vnd.jupyter.widget-view+json": {
       "model_id": "86535156efee44b68ab68918c2aa59a1",
       "version_major": 2,
       "version_minor": 0
      },
      "text/plain": [
       "HBox(children=(FloatProgress(value=0.0, max=1304.0), HTML(value='')))"
      ]
     },
     "metadata": {},
     "output_type": "display_data"
    },
    {
     "name": "stdout",
     "output_type": "stream",
     "text": [
      "\n"
     ]
    },
    {
     "data": {
      "application/vnd.jupyter.widget-view+json": {
       "model_id": "331c27b23216474d94b95f3aa0b10281",
       "version_major": 2,
       "version_minor": 0
      },
      "text/plain": [
       "HBox(children=(FloatProgress(value=0.0, max=1304.0), HTML(value='')))"
      ]
     },
     "metadata": {},
     "output_type": "display_data"
    },
    {
     "name": "stdout",
     "output_type": "stream",
     "text": [
      "\n"
     ]
    },
    {
     "data": {
      "application/vnd.jupyter.widget-view+json": {
       "model_id": "1cb703bb55a94dba8d0fe06686cc6b75",
       "version_major": 2,
       "version_minor": 0
      },
      "text/plain": [
       "HBox(children=(FloatProgress(value=0.0, max=1304.0), HTML(value='')))"
      ]
     },
     "metadata": {},
     "output_type": "display_data"
    },
    {
     "name": "stdout",
     "output_type": "stream",
     "text": [
      "\n"
     ]
    },
    {
     "data": {
      "application/vnd.jupyter.widget-view+json": {
       "model_id": "9e24ffaca8e34a1d9ad81ad2a43ae9d0",
       "version_major": 2,
       "version_minor": 0
      },
      "text/plain": [
       "HBox(children=(FloatProgress(value=0.0, max=1304.0), HTML(value='')))"
      ]
     },
     "metadata": {},
     "output_type": "display_data"
    },
    {
     "name": "stdout",
     "output_type": "stream",
     "text": [
      "\n"
     ]
    },
    {
     "data": {
      "application/vnd.jupyter.widget-view+json": {
       "model_id": "1225e54e50d346009f25fb514cdbbc5f",
       "version_major": 2,
       "version_minor": 0
      },
      "text/plain": [
       "HBox(children=(FloatProgress(value=0.0, max=1304.0), HTML(value='')))"
      ]
     },
     "metadata": {},
     "output_type": "display_data"
    },
    {
     "name": "stdout",
     "output_type": "stream",
     "text": [
      "\n"
     ]
    },
    {
     "data": {
      "application/vnd.jupyter.widget-view+json": {
       "model_id": "3b687e67f17649db9c48ffbec02f075b",
       "version_major": 2,
       "version_minor": 0
      },
      "text/plain": [
       "HBox(children=(FloatProgress(value=0.0, max=1304.0), HTML(value='')))"
      ]
     },
     "metadata": {},
     "output_type": "display_data"
    },
    {
     "name": "stdout",
     "output_type": "stream",
     "text": [
      "\n"
     ]
    },
    {
     "data": {
      "application/vnd.jupyter.widget-view+json": {
       "model_id": "1d8b0d5d47344a6db584334f6bd0b0d8",
       "version_major": 2,
       "version_minor": 0
      },
      "text/plain": [
       "HBox(children=(FloatProgress(value=0.0, max=1304.0), HTML(value='')))"
      ]
     },
     "metadata": {},
     "output_type": "display_data"
    },
    {
     "name": "stdout",
     "output_type": "stream",
     "text": [
      "\n"
     ]
    },
    {
     "data": {
      "application/vnd.jupyter.widget-view+json": {
       "model_id": "198f9541ffb2475bb194bb68a035a1c8",
       "version_major": 2,
       "version_minor": 0
      },
      "text/plain": [
       "HBox(children=(FloatProgress(value=0.0, max=1304.0), HTML(value='')))"
      ]
     },
     "metadata": {},
     "output_type": "display_data"
    },
    {
     "name": "stdout",
     "output_type": "stream",
     "text": [
      "\n"
     ]
    },
    {
     "data": {
      "application/vnd.jupyter.widget-view+json": {
       "model_id": "21eb2734b4834546ba508adc83bc2a92",
       "version_major": 2,
       "version_minor": 0
      },
      "text/plain": [
       "HBox(children=(FloatProgress(value=0.0, max=1304.0), HTML(value='')))"
      ]
     },
     "metadata": {},
     "output_type": "display_data"
    },
    {
     "name": "stdout",
     "output_type": "stream",
     "text": [
      "\n"
     ]
    },
    {
     "data": {
      "application/vnd.jupyter.widget-view+json": {
       "model_id": "451108f4646648c4a228243209ac0f7e",
       "version_major": 2,
       "version_minor": 0
      },
      "text/plain": [
       "HBox(children=(FloatProgress(value=0.0, max=1304.0), HTML(value='')))"
      ]
     },
     "metadata": {},
     "output_type": "display_data"
    },
    {
     "name": "stdout",
     "output_type": "stream",
     "text": [
      "\n"
     ]
    },
    {
     "data": {
      "application/vnd.jupyter.widget-view+json": {
       "model_id": "8e804d55b05c47f1a544791f0cae3611",
       "version_major": 2,
       "version_minor": 0
      },
      "text/plain": [
       "HBox(children=(FloatProgress(value=0.0, max=1304.0), HTML(value='')))"
      ]
     },
     "metadata": {},
     "output_type": "display_data"
    },
    {
     "name": "stdout",
     "output_type": "stream",
     "text": [
      "\n"
     ]
    },
    {
     "data": {
      "application/vnd.jupyter.widget-view+json": {
       "model_id": "575e49bf77124e0283abf95f68fed232",
       "version_major": 2,
       "version_minor": 0
      },
      "text/plain": [
       "HBox(children=(FloatProgress(value=0.0, max=1304.0), HTML(value='')))"
      ]
     },
     "metadata": {},
     "output_type": "display_data"
    },
    {
     "name": "stdout",
     "output_type": "stream",
     "text": [
      "\n"
     ]
    },
    {
     "data": {
      "application/vnd.jupyter.widget-view+json": {
       "model_id": "9e8d9682c893493586040db72e8d04d5",
       "version_major": 2,
       "version_minor": 0
      },
      "text/plain": [
       "HBox(children=(FloatProgress(value=0.0, max=1304.0), HTML(value='')))"
      ]
     },
     "metadata": {},
     "output_type": "display_data"
    },
    {
     "name": "stdout",
     "output_type": "stream",
     "text": [
      "\n"
     ]
    },
    {
     "data": {
      "application/vnd.jupyter.widget-view+json": {
       "model_id": "62cba2a80b3e4503b8aa31c01683cdbd",
       "version_major": 2,
       "version_minor": 0
      },
      "text/plain": [
       "HBox(children=(FloatProgress(value=0.0, max=1304.0), HTML(value='')))"
      ]
     },
     "metadata": {},
     "output_type": "display_data"
    },
    {
     "name": "stdout",
     "output_type": "stream",
     "text": [
      "\n"
     ]
    },
    {
     "data": {
      "application/vnd.jupyter.widget-view+json": {
       "model_id": "70dd4b960b1a429885549b95c93e3829",
       "version_major": 2,
       "version_minor": 0
      },
      "text/plain": [
       "HBox(children=(FloatProgress(value=0.0, max=1304.0), HTML(value='')))"
      ]
     },
     "metadata": {},
     "output_type": "display_data"
    },
    {
     "name": "stdout",
     "output_type": "stream",
     "text": [
      "\n"
     ]
    },
    {
     "data": {
      "application/vnd.jupyter.widget-view+json": {
       "model_id": "ab6021f8d062471190a7e124d09f4574",
       "version_major": 2,
       "version_minor": 0
      },
      "text/plain": [
       "HBox(children=(FloatProgress(value=0.0, max=1304.0), HTML(value='')))"
      ]
     },
     "metadata": {},
     "output_type": "display_data"
    },
    {
     "name": "stdout",
     "output_type": "stream",
     "text": [
      "\n"
     ]
    },
    {
     "data": {
      "application/vnd.jupyter.widget-view+json": {
       "model_id": "955b7cc0a7ae4a059834e0af292136e8",
       "version_major": 2,
       "version_minor": 0
      },
      "text/plain": [
       "HBox(children=(FloatProgress(value=0.0, max=1304.0), HTML(value='')))"
      ]
     },
     "metadata": {},
     "output_type": "display_data"
    },
    {
     "name": "stdout",
     "output_type": "stream",
     "text": [
      "\n"
     ]
    },
    {
     "data": {
      "application/vnd.jupyter.widget-view+json": {
       "model_id": "d85268899a294953838e36a3aed5f773",
       "version_major": 2,
       "version_minor": 0
      },
      "text/plain": [
       "HBox(children=(FloatProgress(value=0.0, max=1304.0), HTML(value='')))"
      ]
     },
     "metadata": {},
     "output_type": "display_data"
    },
    {
     "name": "stdout",
     "output_type": "stream",
     "text": [
      "\n"
     ]
    },
    {
     "data": {
      "application/vnd.jupyter.widget-view+json": {
       "model_id": "7cf9cadce8d24f4086f6a3d1f607f051",
       "version_major": 2,
       "version_minor": 0
      },
      "text/plain": [
       "HBox(children=(FloatProgress(value=0.0, max=1304.0), HTML(value='')))"
      ]
     },
     "metadata": {},
     "output_type": "display_data"
    },
    {
     "name": "stdout",
     "output_type": "stream",
     "text": [
      "\n"
     ]
    },
    {
     "data": {
      "application/vnd.jupyter.widget-view+json": {
       "model_id": "41e887126c6744a8a8efbab32af30ddb",
       "version_major": 2,
       "version_minor": 0
      },
      "text/plain": [
       "HBox(children=(FloatProgress(value=0.0, max=1304.0), HTML(value='')))"
      ]
     },
     "metadata": {},
     "output_type": "display_data"
    },
    {
     "name": "stdout",
     "output_type": "stream",
     "text": [
      "\n"
     ]
    },
    {
     "data": {
      "application/vnd.jupyter.widget-view+json": {
       "model_id": "d069977044314bdda48334cc938b2c2e",
       "version_major": 2,
       "version_minor": 0
      },
      "text/plain": [
       "HBox(children=(FloatProgress(value=0.0, max=1304.0), HTML(value='')))"
      ]
     },
     "metadata": {},
     "output_type": "display_data"
    },
    {
     "name": "stdout",
     "output_type": "stream",
     "text": [
      "\n"
     ]
    },
    {
     "data": {
      "application/vnd.jupyter.widget-view+json": {
       "model_id": "183e8e4b5d914504b1d7ce1952a3bc81",
       "version_major": 2,
       "version_minor": 0
      },
      "text/plain": [
       "HBox(children=(FloatProgress(value=0.0, max=1304.0), HTML(value='')))"
      ]
     },
     "metadata": {},
     "output_type": "display_data"
    },
    {
     "name": "stdout",
     "output_type": "stream",
     "text": [
      "\n"
     ]
    },
    {
     "data": {
      "application/vnd.jupyter.widget-view+json": {
       "model_id": "5010e837aa6d4c6a914a0445e649147a",
       "version_major": 2,
       "version_minor": 0
      },
      "text/plain": [
       "HBox(children=(FloatProgress(value=0.0, max=1304.0), HTML(value='')))"
      ]
     },
     "metadata": {},
     "output_type": "display_data"
    },
    {
     "name": "stdout",
     "output_type": "stream",
     "text": [
      "\n"
     ]
    },
    {
     "data": {
      "application/vnd.jupyter.widget-view+json": {
       "model_id": "ac12301048944e3ea62fedd8823da3f2",
       "version_major": 2,
       "version_minor": 0
      },
      "text/plain": [
       "HBox(children=(FloatProgress(value=0.0, max=1304.0), HTML(value='')))"
      ]
     },
     "metadata": {},
     "output_type": "display_data"
    },
    {
     "name": "stdout",
     "output_type": "stream",
     "text": [
      "\n"
     ]
    },
    {
     "data": {
      "application/vnd.jupyter.widget-view+json": {
       "model_id": "e38a7722fdbe4134b20326b7bc78771b",
       "version_major": 2,
       "version_minor": 0
      },
      "text/plain": [
       "HBox(children=(FloatProgress(value=0.0, max=1304.0), HTML(value='')))"
      ]
     },
     "metadata": {},
     "output_type": "display_data"
    },
    {
     "name": "stdout",
     "output_type": "stream",
     "text": [
      "\n"
     ]
    },
    {
     "data": {
      "application/vnd.jupyter.widget-view+json": {
       "model_id": "ce968d3b79294bc9b59164c51f9015d5",
       "version_major": 2,
       "version_minor": 0
      },
      "text/plain": [
       "HBox(children=(FloatProgress(value=0.0, max=1304.0), HTML(value='')))"
      ]
     },
     "metadata": {},
     "output_type": "display_data"
    },
    {
     "name": "stdout",
     "output_type": "stream",
     "text": [
      "\n"
     ]
    },
    {
     "data": {
      "application/vnd.jupyter.widget-view+json": {
       "model_id": "0be1320c0bdf44328c9df69609cb1ad7",
       "version_major": 2,
       "version_minor": 0
      },
      "text/plain": [
       "HBox(children=(FloatProgress(value=0.0, max=1304.0), HTML(value='')))"
      ]
     },
     "metadata": {},
     "output_type": "display_data"
    },
    {
     "name": "stdout",
     "output_type": "stream",
     "text": [
      "\n"
     ]
    },
    {
     "data": {
      "application/vnd.jupyter.widget-view+json": {
       "model_id": "3b06c2684ba0465c811c9bb5d75522b4",
       "version_major": 2,
       "version_minor": 0
      },
      "text/plain": [
       "HBox(children=(FloatProgress(value=0.0, max=1304.0), HTML(value='')))"
      ]
     },
     "metadata": {},
     "output_type": "display_data"
    },
    {
     "name": "stdout",
     "output_type": "stream",
     "text": [
      "\n"
     ]
    },
    {
     "data": {
      "application/vnd.jupyter.widget-view+json": {
       "model_id": "db3658fb6e794903b49a65512bee2499",
       "version_major": 2,
       "version_minor": 0
      },
      "text/plain": [
       "HBox(children=(FloatProgress(value=0.0, max=1304.0), HTML(value='')))"
      ]
     },
     "metadata": {},
     "output_type": "display_data"
    },
    {
     "name": "stdout",
     "output_type": "stream",
     "text": [
      "\n"
     ]
    },
    {
     "data": {
      "application/vnd.jupyter.widget-view+json": {
       "model_id": "a71a8783b590483187a1d8271ff0499f",
       "version_major": 2,
       "version_minor": 0
      },
      "text/plain": [
       "HBox(children=(FloatProgress(value=0.0, max=1304.0), HTML(value='')))"
      ]
     },
     "metadata": {},
     "output_type": "display_data"
    },
    {
     "name": "stdout",
     "output_type": "stream",
     "text": [
      "\n"
     ]
    },
    {
     "data": {
      "application/vnd.jupyter.widget-view+json": {
       "model_id": "be6a01fd408d40b2bd1e63747ed11d94",
       "version_major": 2,
       "version_minor": 0
      },
      "text/plain": [
       "HBox(children=(FloatProgress(value=0.0, max=1304.0), HTML(value='')))"
      ]
     },
     "metadata": {},
     "output_type": "display_data"
    },
    {
     "name": "stdout",
     "output_type": "stream",
     "text": [
      "\n"
     ]
    },
    {
     "data": {
      "application/vnd.jupyter.widget-view+json": {
       "model_id": "bbc316fae5ac4ea5a0c71f41d24b26d0",
       "version_major": 2,
       "version_minor": 0
      },
      "text/plain": [
       "HBox(children=(FloatProgress(value=0.0, max=1304.0), HTML(value='')))"
      ]
     },
     "metadata": {},
     "output_type": "display_data"
    },
    {
     "name": "stdout",
     "output_type": "stream",
     "text": [
      "\n"
     ]
    },
    {
     "data": {
      "application/vnd.jupyter.widget-view+json": {
       "model_id": "33693f7cfb774cd9bf4b830b088941de",
       "version_major": 2,
       "version_minor": 0
      },
      "text/plain": [
       "HBox(children=(FloatProgress(value=0.0, max=1304.0), HTML(value='')))"
      ]
     },
     "metadata": {},
     "output_type": "display_data"
    },
    {
     "name": "stdout",
     "output_type": "stream",
     "text": [
      "\n"
     ]
    },
    {
     "data": {
      "application/vnd.jupyter.widget-view+json": {
       "model_id": "f310348bda774cff80261eb9f4597b24",
       "version_major": 2,
       "version_minor": 0
      },
      "text/plain": [
       "HBox(children=(FloatProgress(value=0.0, max=1304.0), HTML(value='')))"
      ]
     },
     "metadata": {},
     "output_type": "display_data"
    },
    {
     "name": "stdout",
     "output_type": "stream",
     "text": [
      "\n"
     ]
    },
    {
     "data": {
      "application/vnd.jupyter.widget-view+json": {
       "model_id": "a9b6b0d8f5b84172907c203aa34b881f",
       "version_major": 2,
       "version_minor": 0
      },
      "text/plain": [
       "HBox(children=(FloatProgress(value=0.0, max=1304.0), HTML(value='')))"
      ]
     },
     "metadata": {},
     "output_type": "display_data"
    },
    {
     "name": "stdout",
     "output_type": "stream",
     "text": [
      "\n"
     ]
    },
    {
     "data": {
      "application/vnd.jupyter.widget-view+json": {
       "model_id": "5df1730facfb47fcb86099a9576fc144",
       "version_major": 2,
       "version_minor": 0
      },
      "text/plain": [
       "HBox(children=(FloatProgress(value=0.0, max=1304.0), HTML(value='')))"
      ]
     },
     "metadata": {},
     "output_type": "display_data"
    },
    {
     "name": "stdout",
     "output_type": "stream",
     "text": [
      "\n"
     ]
    },
    {
     "data": {
      "application/vnd.jupyter.widget-view+json": {
       "model_id": "e85a2d6c060a40b4a899019d313fa6e9",
       "version_major": 2,
       "version_minor": 0
      },
      "text/plain": [
       "HBox(children=(FloatProgress(value=0.0, max=1304.0), HTML(value='')))"
      ]
     },
     "metadata": {},
     "output_type": "display_data"
    },
    {
     "name": "stdout",
     "output_type": "stream",
     "text": [
      "\n"
     ]
    },
    {
     "data": {
      "application/vnd.jupyter.widget-view+json": {
       "model_id": "6c918787c4b5422a9b860b8b3d1babf0",
       "version_major": 2,
       "version_minor": 0
      },
      "text/plain": [
       "HBox(children=(FloatProgress(value=0.0, max=1304.0), HTML(value='')))"
      ]
     },
     "metadata": {},
     "output_type": "display_data"
    },
    {
     "name": "stdout",
     "output_type": "stream",
     "text": [
      "\n"
     ]
    },
    {
     "data": {
      "application/vnd.jupyter.widget-view+json": {
       "model_id": "21e47e27ca4e4d51ad5e1bfe6408dfe3",
       "version_major": 2,
       "version_minor": 0
      },
      "text/plain": [
       "HBox(children=(FloatProgress(value=0.0, max=1304.0), HTML(value='')))"
      ]
     },
     "metadata": {},
     "output_type": "display_data"
    },
    {
     "name": "stdout",
     "output_type": "stream",
     "text": [
      "\n"
     ]
    },
    {
     "data": {
      "application/vnd.jupyter.widget-view+json": {
       "model_id": "2d09a9fd7bf44687a0c9394859672dff",
       "version_major": 2,
       "version_minor": 0
      },
      "text/plain": [
       "HBox(children=(FloatProgress(value=0.0, max=1304.0), HTML(value='')))"
      ]
     },
     "metadata": {},
     "output_type": "display_data"
    },
    {
     "name": "stdout",
     "output_type": "stream",
     "text": [
      "\n",
      "\n",
      "-- CLIR TASK --\n",
      "P: 0.244800 R: 0.737299\n"
     ]
    }
   ],
   "source": [
    "evaluate_cont_pre(num_ret=50, en_docs=all_claims_en, de_docs=all_claims_de)"
   ]
  },
  {
   "cell_type": "code",
   "execution_count": 65,
   "metadata": {},
   "outputs": [],
   "source": [
    "def evaluate_sent_similarity_cont_pre():\n",
    "    idx = 0\n",
    "    count_en_de, count_de_en = 0, 0\n",
    "    for en, de in zip(tq(all_claims_en[:2]), all_claims_de[:2]):\n",
    "        output_en_de = get_preds(en, all_claims_de, 1)\n",
    "        if output_en_de == de:\n",
    "            count_en_de += 1\n",
    "             \n",
    "        output_de_en = get_preds(de, all_claims_en, 1)\n",
    "        if output_de_en == en:\n",
    "            count_de_en += 1            \n",
    "\n",
    "        idx += 1\n",
    "\n",
    "    print('-- SENTENCE SIMILARITY --')\n",
    "    print('EN - DE Accuracy: %f' %(count_en_de/len(all_claims_en)))\n",
    "    print('DE - EN Accuracy: %f' %(count_de_en/len(all_claims_de)))"
   ]
  },
  {
   "cell_type": "code",
   "execution_count": 66,
   "metadata": {},
   "outputs": [
    {
     "data": {
      "application/vnd.jupyter.widget-view+json": {
       "model_id": "ae94dfd7209b47f4b844c308d2f91882",
       "version_major": 2,
       "version_minor": 0
      },
      "text/plain": [
       "HBox(children=(FloatProgress(value=0.0, max=2.0), HTML(value='')))"
      ]
     },
     "metadata": {},
     "output_type": "display_data"
    },
    {
     "name": "stdout",
     "output_type": "stream",
     "text": [
      "\n",
      "-- SENTENCE SIMILARITY --\n",
      "EN - DE Accuracy: 0.000000\n",
      "DE - EN Accuracy: 0.000000\n"
     ]
    }
   ],
   "source": [
    "evaluate_sent_similarity_cont_pre()"
   ]
  },
  {
   "cell_type": "code",
   "execution_count": 81,
   "metadata": {},
   "outputs": [],
   "source": [
    "def evaluate_word_similarity_cont_pre():\n",
    "    idx = 0\n",
    "    count_en_de, count_de_en = 0, 0\n",
    "    for en, de in zip(tq(algn_dic.en[:100]),\n",
    "                      algn_dic.de[:100],\n",
    "                      ):\n",
    "        en = re.sub('_', ' ', en)\n",
    "        de = re.sub('_', ' ', de)\n",
    "        \n",
    "        output_en_de = get_preds(en, [re.sub('_', ' ', x) for x in algn_dic.de[:100]], 10)\n",
    "        if de in output_en_de:\n",
    "            count_en_de += 1\n",
    "\n",
    "        output_de_en = get_preds(de, [re.sub('_', ' ', x) for x in algn_dic.en[:100]], 10)\n",
    "        if en in output_de_en:\n",
    "            count_de_en += 1\n",
    "            \n",
    "        idx += 1\n",
    "                \n",
    "    print('-- WORD SIMILARITY --')\n",
    "    print('EN - DE Accuracy:', count_en_de/idx)\n",
    "    print('DE - EN Accuracy:', count_de_en/idx)"
   ]
  },
  {
   "cell_type": "code",
   "execution_count": 82,
   "metadata": {},
   "outputs": [
    {
     "data": {
      "application/vnd.jupyter.widget-view+json": {
       "model_id": "6bf0ff3a477b44b8804dd3d2c818ed9b",
       "version_major": 2,
       "version_minor": 0
      },
      "text/plain": [
       "HBox(children=(FloatProgress(value=0.0), HTML(value='')))"
      ]
     },
     "metadata": {},
     "output_type": "display_data"
    },
    {
     "name": "stdout",
     "output_type": "stream",
     "text": [
      "\n",
      "-- WORD SIMILARITY --\n",
      "EN - DE Accuracy: 0.88\n",
      "DE - EN Accuracy: 0.9\n"
     ]
    }
   ],
   "source": [
    "evaluate_word_similarity_cont_pre()"
   ]
  },
  {
   "cell_type": "markdown",
   "metadata": {},
   "source": [
    "## Static baseline"
   ]
  },
  {
   "cell_type": "code",
   "execution_count": null,
   "metadata": {},
   "outputs": [],
   "source": [
    "from gensim.models import KeyedVectors"
   ]
  },
  {
   "cell_type": "code",
   "execution_count": null,
   "metadata": {},
   "outputs": [],
   "source": [
    "en_vectors = KeyedVectors.load_word2vec_format('../../../resources/test/fasttext_pre-trained/wiki.en.align.vec', \n",
    "                                               binary=False)  # C text format\n",
    "\n",
    "de_vectors = KeyedVectors.load_word2vec_format('../../../resources/test/fasttext_pre-trained/wiki.de.align.vec', \n",
    "                                               binary=False)  # C text format"
   ]
  },
  {
   "cell_type": "code",
   "execution_count": null,
   "metadata": {},
   "outputs": [],
   "source": [
    "en_vocab = []\n",
    "for i in tq(range(len(en_vectors))):\n",
    "    en_vocab.append(en_vectors.index_to_key[i])\n",
    "    \n",
    "de_vocab = []\n",
    "for i in tq(range(len(de_vectors))):\n",
    "    de_vocab.append(de_vectors.index_to_key[i])"
   ]
  },
  {
   "cell_type": "code",
   "execution_count": null,
   "metadata": {},
   "outputs": [],
   "source": [
    "import numpy as np\n",
    "import torch\n",
    "\n",
    "def encode(sent, lang):\n",
    "    \n",
    "    model = en_vectors if lang=='en' else de_vectors\n",
    "    vocab = en_vocab if lang=='en' else de_vocab\n",
    "    \n",
    "    device = torch.device('cuda' if torch.cuda.is_available() else 'cpu')\n",
    "    if torch.cuda.is_available():\n",
    "        torch.set_default_tensor_type('torch.cuda.FloatTensor')\n",
    "    \n",
    "    # TODO: vector dimension is hardcoded. Change that.\n",
    "    # sent_vector = torch.zeros([300], dtype=torch.float32, device=device)\n",
    "    \n",
    "    tokens = tokenize.get_tokens(sent, lang=lang)\n",
    "    # tokens = sent.split(' ')\n",
    "    word_vectors = [np.asarray(model[token]) for token in tokens if token in vocab]\n",
    "    sent_vector = torch.tensor(np.sum(word_vectors, axis=0))\n",
    "    \n",
    "\n",
    "    return sent_vector"
   ]
  },
  {
   "cell_type": "code",
   "execution_count": null,
   "metadata": {},
   "outputs": [],
   "source": [
    "en_doc_vectors = []\n",
    "for claim in tq(all_claims_en):\n",
    "    en_doc_vectors.append(encode(claim, lang='en'))"
   ]
  },
  {
   "cell_type": "code",
   "execution_count": null,
   "metadata": {},
   "outputs": [],
   "source": [
    "de_doc_vectors = []\n",
    "for claim in tq(all_claims_de):\n",
    "    de_doc_vectors.append(encode(claim, lang='de'))"
   ]
  },
  {
   "cell_type": "code",
   "execution_count": null,
   "metadata": {},
   "outputs": [],
   "source": [
    "en_doc_vectors = torch.stack(en_doc_vectors)\n",
    "de_doc_vectors = torch.stack(de_doc_vectors)"
   ]
  },
  {
   "cell_type": "code",
   "execution_count": null,
   "metadata": {},
   "outputs": [],
   "source": [
    "evaluate()"
   ]
  },
  {
   "cell_type": "markdown",
   "metadata": {},
   "source": [
    "## Contextual baseline"
   ]
  },
  {
   "cell_type": "code",
   "execution_count": 252,
   "metadata": {},
   "outputs": [
    {
     "name": "stderr",
     "output_type": "stream",
     "text": [
      "20:24:16: Load pretrained SentenceTransformer: paraphrase-multilingual-mpnet-base-v2\n",
      "20:24:17: Lock 140416906847952 acquired on /home/sudhi/.cache/torch/sentence_transformers/sentence-transformers__paraphrase-multilingual-mpnet-base-v2.fa41ae18c0ef9289595fcf78757446e10ed6a492/.gitattributes.lock\n"
     ]
    },
    {
     "data": {
      "application/vnd.jupyter.widget-view+json": {
       "model_id": "d5ccd7797a6441c39ad420e78e663d30",
       "version_major": 2,
       "version_minor": 0
      },
      "text/plain": [
       "HBox(children=(FloatProgress(value=0.0, description='Downloading', max=690.0, style=ProgressStyle(description_…"
      ]
     },
     "metadata": {},
     "output_type": "display_data"
    },
    {
     "name": "stderr",
     "output_type": "stream",
     "text": [
      "20:24:18: Lock 140416906847952 released on /home/sudhi/.cache/torch/sentence_transformers/sentence-transformers__paraphrase-multilingual-mpnet-base-v2.fa41ae18c0ef9289595fcf78757446e10ed6a492/.gitattributes.lock\n"
     ]
    },
    {
     "name": "stdout",
     "output_type": "stream",
     "text": [
      "\n"
     ]
    },
    {
     "name": "stderr",
     "output_type": "stream",
     "text": [
      "20:24:18: Lock 140416906849584 acquired on /home/sudhi/.cache/torch/sentence_transformers/sentence-transformers__paraphrase-multilingual-mpnet-base-v2.fa41ae18c0ef9289595fcf78757446e10ed6a492/README.md.lock\n"
     ]
    },
    {
     "data": {
      "application/vnd.jupyter.widget-view+json": {
       "model_id": "7d6887bdad0540239fe7205ef38ca3e5",
       "version_major": 2,
       "version_minor": 0
      },
      "text/plain": [
       "HBox(children=(FloatProgress(value=0.0, description='Downloading', max=3769.0, style=ProgressStyle(description…"
      ]
     },
     "metadata": {},
     "output_type": "display_data"
    },
    {
     "name": "stderr",
     "output_type": "stream",
     "text": [
      "20:24:19: Lock 140416906849584 released on /home/sudhi/.cache/torch/sentence_transformers/sentence-transformers__paraphrase-multilingual-mpnet-base-v2.fa41ae18c0ef9289595fcf78757446e10ed6a492/README.md.lock\n"
     ]
    },
    {
     "name": "stdout",
     "output_type": "stream",
     "text": [
      "\n"
     ]
    },
    {
     "name": "stderr",
     "output_type": "stream",
     "text": [
      "20:24:19: Lock 140416906849584 acquired on /home/sudhi/.cache/torch/sentence_transformers/sentence-transformers__paraphrase-multilingual-mpnet-base-v2.fa41ae18c0ef9289595fcf78757446e10ed6a492/config.json.lock\n"
     ]
    },
    {
     "data": {
      "application/vnd.jupyter.widget-view+json": {
       "model_id": "301cf413402e48529f418794c5e15bd8",
       "version_major": 2,
       "version_minor": 0
      },
      "text/plain": [
       "HBox(children=(FloatProgress(value=0.0, description='Downloading', max=723.0, style=ProgressStyle(description_…"
      ]
     },
     "metadata": {},
     "output_type": "display_data"
    },
    {
     "name": "stderr",
     "output_type": "stream",
     "text": [
      "20:24:20: Lock 140416906849584 released on /home/sudhi/.cache/torch/sentence_transformers/sentence-transformers__paraphrase-multilingual-mpnet-base-v2.fa41ae18c0ef9289595fcf78757446e10ed6a492/config.json.lock\n"
     ]
    },
    {
     "name": "stdout",
     "output_type": "stream",
     "text": [
      "\n"
     ]
    },
    {
     "name": "stderr",
     "output_type": "stream",
     "text": [
      "20:24:20: Lock 140416906913056 acquired on /home/sudhi/.cache/torch/sentence_transformers/sentence-transformers__paraphrase-multilingual-mpnet-base-v2.fa41ae18c0ef9289595fcf78757446e10ed6a492/config_sentence_transformers.json.lock\n"
     ]
    },
    {
     "data": {
      "application/vnd.jupyter.widget-view+json": {
       "model_id": "34701349087e4c9ebead3c852d311158",
       "version_major": 2,
       "version_minor": 0
      },
      "text/plain": [
       "HBox(children=(FloatProgress(value=0.0, description='Downloading', max=122.0, style=ProgressStyle(description_…"
      ]
     },
     "metadata": {},
     "output_type": "display_data"
    },
    {
     "name": "stderr",
     "output_type": "stream",
     "text": [
      "20:24:20: Lock 140416906913056 released on /home/sudhi/.cache/torch/sentence_transformers/sentence-transformers__paraphrase-multilingual-mpnet-base-v2.fa41ae18c0ef9289595fcf78757446e10ed6a492/config_sentence_transformers.json.lock\n"
     ]
    },
    {
     "name": "stdout",
     "output_type": "stream",
     "text": [
      "\n"
     ]
    },
    {
     "name": "stderr",
     "output_type": "stream",
     "text": [
      "20:24:21: Lock 140418544313584 acquired on /home/sudhi/.cache/torch/sentence_transformers/sentence-transformers__paraphrase-multilingual-mpnet-base-v2.fa41ae18c0ef9289595fcf78757446e10ed6a492/modules.json.lock\n"
     ]
    },
    {
     "data": {
      "application/vnd.jupyter.widget-view+json": {
       "model_id": "ceb62a9f15584778b16ec95bf918d318",
       "version_major": 2,
       "version_minor": 0
      },
      "text/plain": [
       "HBox(children=(FloatProgress(value=0.0, description='Downloading', max=229.0, style=ProgressStyle(description_…"
      ]
     },
     "metadata": {},
     "output_type": "display_data"
    },
    {
     "name": "stderr",
     "output_type": "stream",
     "text": [
      "20:24:21: Lock 140418544313584 released on /home/sudhi/.cache/torch/sentence_transformers/sentence-transformers__paraphrase-multilingual-mpnet-base-v2.fa41ae18c0ef9289595fcf78757446e10ed6a492/modules.json.lock\n"
     ]
    },
    {
     "name": "stdout",
     "output_type": "stream",
     "text": [
      "\n"
     ]
    },
    {
     "name": "stderr",
     "output_type": "stream",
     "text": [
      "20:24:22: Lock 140416906847952 acquired on /home/sudhi/.cache/torch/sentence_transformers/sentence-transformers__paraphrase-multilingual-mpnet-base-v2.fa41ae18c0ef9289595fcf78757446e10ed6a492/pytorch_model.bin.lock\n"
     ]
    },
    {
     "data": {
      "application/vnd.jupyter.widget-view+json": {
       "model_id": "eb7f77c900e846f1a262535d7bfe72d7",
       "version_major": 2,
       "version_minor": 0
      },
      "text/plain": [
       "HBox(children=(FloatProgress(value=0.0, description='Downloading', max=1112253233.0, style=ProgressStyle(descr…"
      ]
     },
     "metadata": {},
     "output_type": "display_data"
    },
    {
     "name": "stderr",
     "output_type": "stream",
     "text": [
      "20:24:34: Lock 140416906847952 released on /home/sudhi/.cache/torch/sentence_transformers/sentence-transformers__paraphrase-multilingual-mpnet-base-v2.fa41ae18c0ef9289595fcf78757446e10ed6a492/pytorch_model.bin.lock\n"
     ]
    },
    {
     "name": "stdout",
     "output_type": "stream",
     "text": [
      "\n"
     ]
    },
    {
     "name": "stderr",
     "output_type": "stream",
     "text": [
      "20:24:34: Lock 140416906913056 acquired on /home/sudhi/.cache/torch/sentence_transformers/sentence-transformers__paraphrase-multilingual-mpnet-base-v2.fa41ae18c0ef9289595fcf78757446e10ed6a492/sentence_bert_config.json.lock\n"
     ]
    },
    {
     "data": {
      "application/vnd.jupyter.widget-view+json": {
       "model_id": "b4899d47844446ed81b5a8e436b6e6ff",
       "version_major": 2,
       "version_minor": 0
      },
      "text/plain": [
       "HBox(children=(FloatProgress(value=0.0, description='Downloading', max=53.0, style=ProgressStyle(description_w…"
      ]
     },
     "metadata": {},
     "output_type": "display_data"
    },
    {
     "name": "stderr",
     "output_type": "stream",
     "text": [
      "20:24:35: Lock 140416906913056 released on /home/sudhi/.cache/torch/sentence_transformers/sentence-transformers__paraphrase-multilingual-mpnet-base-v2.fa41ae18c0ef9289595fcf78757446e10ed6a492/sentence_bert_config.json.lock\n"
     ]
    },
    {
     "name": "stdout",
     "output_type": "stream",
     "text": [
      "\n"
     ]
    },
    {
     "name": "stderr",
     "output_type": "stream",
     "text": [
      "20:24:35: Lock 140416906697744 acquired on /home/sudhi/.cache/torch/sentence_transformers/sentence-transformers__paraphrase-multilingual-mpnet-base-v2.fa41ae18c0ef9289595fcf78757446e10ed6a492/sentencepiece.bpe.model.lock\n"
     ]
    },
    {
     "data": {
      "application/vnd.jupyter.widget-view+json": {
       "model_id": "4411111d3df644d1a35b7ddae007a0cf",
       "version_major": 2,
       "version_minor": 0
      },
      "text/plain": [
       "HBox(children=(FloatProgress(value=0.0, description='Downloading', max=5069051.0, style=ProgressStyle(descript…"
      ]
     },
     "metadata": {},
     "output_type": "display_data"
    },
    {
     "name": "stderr",
     "output_type": "stream",
     "text": [
      "20:24:35: Lock 140416906697744 released on /home/sudhi/.cache/torch/sentence_transformers/sentence-transformers__paraphrase-multilingual-mpnet-base-v2.fa41ae18c0ef9289595fcf78757446e10ed6a492/sentencepiece.bpe.model.lock\n"
     ]
    },
    {
     "name": "stdout",
     "output_type": "stream",
     "text": [
      "\n"
     ]
    },
    {
     "name": "stderr",
     "output_type": "stream",
     "text": [
      "20:24:36: Lock 140416906697744 acquired on /home/sudhi/.cache/torch/sentence_transformers/sentence-transformers__paraphrase-multilingual-mpnet-base-v2.fa41ae18c0ef9289595fcf78757446e10ed6a492/special_tokens_map.json.lock\n"
     ]
    },
    {
     "data": {
      "application/vnd.jupyter.widget-view+json": {
       "model_id": "343396aa54c3480a99efd8a37808c43f",
       "version_major": 2,
       "version_minor": 0
      },
      "text/plain": [
       "HBox(children=(FloatProgress(value=0.0, description='Downloading', max=239.0, style=ProgressStyle(description_…"
      ]
     },
     "metadata": {},
     "output_type": "display_data"
    },
    {
     "name": "stderr",
     "output_type": "stream",
     "text": [
      "20:24:36: Lock 140416906697744 released on /home/sudhi/.cache/torch/sentence_transformers/sentence-transformers__paraphrase-multilingual-mpnet-base-v2.fa41ae18c0ef9289595fcf78757446e10ed6a492/special_tokens_map.json.lock\n"
     ]
    },
    {
     "name": "stdout",
     "output_type": "stream",
     "text": [
      "\n"
     ]
    },
    {
     "name": "stderr",
     "output_type": "stream",
     "text": [
      "20:24:37: Lock 140416906697744 acquired on /home/sudhi/.cache/torch/sentence_transformers/sentence-transformers__paraphrase-multilingual-mpnet-base-v2.fa41ae18c0ef9289595fcf78757446e10ed6a492/tokenizer.json.lock\n"
     ]
    },
    {
     "data": {
      "application/vnd.jupyter.widget-view+json": {
       "model_id": "dd0d4a8e16dd419e8d6e65f86cdf8bbf",
       "version_major": 2,
       "version_minor": 0
      },
      "text/plain": [
       "HBox(children=(FloatProgress(value=0.0, description='Downloading', max=9081518.0, style=ProgressStyle(descript…"
      ]
     },
     "metadata": {},
     "output_type": "display_data"
    },
    {
     "name": "stderr",
     "output_type": "stream",
     "text": [
      "20:24:38: Lock 140416906697744 released on /home/sudhi/.cache/torch/sentence_transformers/sentence-transformers__paraphrase-multilingual-mpnet-base-v2.fa41ae18c0ef9289595fcf78757446e10ed6a492/tokenizer.json.lock\n"
     ]
    },
    {
     "name": "stdout",
     "output_type": "stream",
     "text": [
      "\n"
     ]
    },
    {
     "name": "stderr",
     "output_type": "stream",
     "text": [
      "20:24:39: Lock 140418544362736 acquired on /home/sudhi/.cache/torch/sentence_transformers/sentence-transformers__paraphrase-multilingual-mpnet-base-v2.fa41ae18c0ef9289595fcf78757446e10ed6a492/tokenizer_config.json.lock\n"
     ]
    },
    {
     "data": {
      "application/vnd.jupyter.widget-view+json": {
       "model_id": "39036a1e288849ccafe9c76b7c44c11f",
       "version_major": 2,
       "version_minor": 0
      },
      "text/plain": [
       "HBox(children=(FloatProgress(value=0.0, description='Downloading', max=402.0, style=ProgressStyle(description_…"
      ]
     },
     "metadata": {},
     "output_type": "display_data"
    },
    {
     "name": "stderr",
     "output_type": "stream",
     "text": [
      "20:24:39: Lock 140418544362736 released on /home/sudhi/.cache/torch/sentence_transformers/sentence-transformers__paraphrase-multilingual-mpnet-base-v2.fa41ae18c0ef9289595fcf78757446e10ed6a492/tokenizer_config.json.lock\n"
     ]
    },
    {
     "name": "stdout",
     "output_type": "stream",
     "text": [
      "\n"
     ]
    },
    {
     "name": "stderr",
     "output_type": "stream",
     "text": [
      "20:24:40: Lock 140416905948512 acquired on /home/sudhi/.cache/torch/sentence_transformers/sentence-transformers__paraphrase-multilingual-mpnet-base-v2.fa41ae18c0ef9289595fcf78757446e10ed6a492/1_Pooling/config.json.lock\n"
     ]
    },
    {
     "data": {
      "application/vnd.jupyter.widget-view+json": {
       "model_id": "088fbd67759d49b7bece251b2eb7dad8",
       "version_major": 2,
       "version_minor": 0
      },
      "text/plain": [
       "HBox(children=(FloatProgress(value=0.0, description='Downloading', max=190.0, style=ProgressStyle(description_…"
      ]
     },
     "metadata": {},
     "output_type": "display_data"
    },
    {
     "name": "stderr",
     "output_type": "stream",
     "text": [
      "20:24:40: Lock 140416905948512 released on /home/sudhi/.cache/torch/sentence_transformers/sentence-transformers__paraphrase-multilingual-mpnet-base-v2.fa41ae18c0ef9289595fcf78757446e10ed6a492/1_Pooling/config.json.lock\n"
     ]
    },
    {
     "name": "stdout",
     "output_type": "stream",
     "text": [
      "\n"
     ]
    },
    {
     "name": "stderr",
     "output_type": "stream",
     "text": [
      "20:24:43: Use pytorch device: cuda\n"
     ]
    }
   ],
   "source": [
    "model = SentenceTransformer('paraphrase-multilingual-mpnet-base-v2')"
   ]
  },
  {
   "cell_type": "code",
   "execution_count": 77,
   "metadata": {},
   "outputs": [
    {
     "data": {
      "application/vnd.jupyter.widget-view+json": {
       "model_id": "c8aba8f2294a46a78c6eae04b3a25b4e",
       "version_major": 2,
       "version_minor": 0
      },
      "text/plain": [
       "HBox(children=(FloatProgress(value=0.0, max=1304.0), HTML(value='')))"
      ]
     },
     "metadata": {},
     "output_type": "display_data"
    },
    {
     "name": "stdout",
     "output_type": "stream",
     "text": [
      "\n"
     ]
    },
    {
     "data": {
      "application/vnd.jupyter.widget-view+json": {
       "model_id": "2dd003e3083d4170b61b5038df8c812e",
       "version_major": 2,
       "version_minor": 0
      },
      "text/plain": [
       "HBox(children=(FloatProgress(value=0.0, max=1304.0), HTML(value='')))"
      ]
     },
     "metadata": {},
     "output_type": "display_data"
    },
    {
     "name": "stdout",
     "output_type": "stream",
     "text": [
      "\n",
      "-- CLIR TASK --\n",
      "P: 0.205600 R: 0.637138\n",
      "-- SENTENCE SIMILARITY --\n",
      "EN - DE Accuracy: 0.419479\n",
      "DE - EN Accuracy: 0.462423\n",
      "-- WORD SIMILARITY --\n",
      "EN - DE Accuracy: 0.85\n",
      "DE - EN Accuracy: 0.8\n"
     ]
    }
   ],
   "source": [
    "encoding = Encoding(model=model,\n",
    "                   contextual_encode=True)\n",
    "\n",
    "en_doc_vectors, de_doc_vectors = vectorize_docs(encoding=encoding)\n",
    "\n",
    "evaluate(\n",
    "        encoding=encoding,\n",
    "        num_ret=50,\n",
    "        en_doc_vectors=en_doc_vectors,\n",
    "        de_doc_vectors=de_doc_vectors)\n",
    "\n",
    "\n",
    "evaluate_sent_similarity(en_doc_vectors=en_doc_vectors,\n",
    "                        de_doc_vectors=de_doc_vectors)\n",
    "\n",
    "\n",
    "evaluate_word_similarity_post_hoc(encoding=encoding)"
   ]
  }
 ],
 "metadata": {
  "kernelspec": {
   "display_name": "Python 3",
   "language": "python",
   "name": "python3"
  },
  "language_info": {
   "codemirror_mode": {
    "name": "ipython",
    "version": 3
   },
   "file_extension": ".py",
   "mimetype": "text/x-python",
   "name": "python",
   "nbconvert_exporter": "python",
   "pygments_lexer": "ipython3",
   "version": "3.8.10"
  },
  "toc": {
   "base_numbering": 1,
   "nav_menu": {},
   "number_sections": true,
   "sideBar": true,
   "skip_h1_title": false,
   "title_cell": "Table of Contents",
   "title_sidebar": "Contents",
   "toc_cell": false,
   "toc_position": {},
   "toc_section_display": true,
   "toc_window_display": false
  },
  "varInspector": {
   "cols": {
    "lenName": 16,
    "lenType": 16,
    "lenVar": 40
   },
   "kernels_config": {
    "python": {
     "delete_cmd_postfix": "",
     "delete_cmd_prefix": "del ",
     "library": "var_list.py",
     "varRefreshCmd": "print(var_dic_list())"
    },
    "r": {
     "delete_cmd_postfix": ") ",
     "delete_cmd_prefix": "rm(",
     "library": "var_list.r",
     "varRefreshCmd": "cat(var_dic_list()) "
    }
   },
   "types_to_exclude": [
    "module",
    "function",
    "builtin_function_or_method",
    "instance",
    "_Feature"
   ],
   "window_display": false
  }
 },
 "nbformat": 4,
 "nbformat_minor": 4
}
